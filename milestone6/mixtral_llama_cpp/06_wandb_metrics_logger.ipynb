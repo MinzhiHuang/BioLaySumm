{
 "cells": [
  {
   "cell_type": "markdown",
   "id": "2726d66d-2042-4487-9df1-4cc4c37d9340",
   "metadata": {},
   "source": [
    "# Weights and Biases Logger"
   ]
  },
  {
   "cell_type": "markdown",
   "id": "da52c9d6-f40b-4d6f-b08a-8a8f2b609cb7",
   "metadata": {},
   "source": [
    "This notebook logs the evaluation metrics of dev set and test set on every model."
   ]
  },
  {
   "cell_type": "code",
   "execution_count": 1,
   "id": "5d2a1998-477f-4aa3-a363-a6424719f86c",
   "metadata": {},
   "outputs": [],
   "source": [
    "import pandas as pd\n",
    "import wandb\n",
    "from configparser import ConfigParser"
   ]
  },
  {
   "cell_type": "markdown",
   "id": "a3cd2aca-c4c0-4b2d-ab91-b61a59fe7a24",
   "metadata": {},
   "source": [
    ".cfg file is a config file that store your personal api key\n",
    "The format inside the file looks like this:\n",
    "```\n",
    "[<YOUR_API_KEY_NAME>]\n",
    "auth_key: <HERE_IS_YOUR_API_KEY>\n",
    "```\n",
    ".gitignore is set on .cfg"
   ]
  },
  {
   "cell_type": "code",
   "execution_count": 3,
   "id": "cad0fe0a-b298-480d-ab64-c695a140d139",
   "metadata": {},
   "outputs": [],
   "source": [
    "parser = ConfigParser()\n",
    "_ = parser.read(\"../../notebook.cfg\")\n",
    "wandb_api_auth_key = parser.get(\"wandb_api_key\", \"auth_key\")"
   ]
  },
  {
   "cell_type": "code",
   "execution_count": 4,
   "id": "3506cc42-3991-41f8-b73b-b3eee898614d",
   "metadata": {},
   "outputs": [
    {
     "name": "stderr",
     "output_type": "stream",
     "text": [
      "\u001b[34m\u001b[1mwandb\u001b[0m: Currently logged in as: \u001b[33mhaydenchiush\u001b[0m. Use \u001b[1m`wandb login --relogin`\u001b[0m to force relogin\n",
      "\u001b[34m\u001b[1mwandb\u001b[0m: \u001b[33mWARNING\u001b[0m If you're specifying your api key in code, ensure this code is not shared publicly.\n",
      "\u001b[34m\u001b[1mwandb\u001b[0m: \u001b[33mWARNING\u001b[0m Consider setting the WANDB_API_KEY environment variable, or running `wandb login` from the command line.\n",
      "\u001b[34m\u001b[1mwandb\u001b[0m: Appending key for api.wandb.ai to your netrc file: /Users/haydenchiu/.netrc\n"
     ]
    },
    {
     "data": {
      "text/plain": [
       "True"
      ]
     },
     "execution_count": 4,
     "metadata": {},
     "output_type": "execute_result"
    }
   ],
   "source": [
    "wandb.login(key=wandb_api_auth_key)"
   ]
  },
  {
   "cell_type": "markdown",
   "id": "954524a1-7b35-4a26-bd27-65bc331b26e8",
   "metadata": {},
   "source": [
    "# Validation set"
   ]
  },
  {
   "cell_type": "code",
   "execution_count": 10,
   "id": "05e153f5-7818-455c-a488-93a9a9919122",
   "metadata": {},
   "outputs": [],
   "source": [
    "PROJECT_NAME = 'BioLaySumm2024'# wandb project name\n",
    "ENTITY = 'bossy_beaver' #change to your wandb team name\n",
    "PATH_TO_VAL_METRICS = './Proxy_val_Results'\n",
    "VAL_METRICS_FILES = ['elife_scores.txt', 'plos_scores.txt', 'scores.txt']"
   ]
  },
  {
   "cell_type": "code",
   "execution_count": 11,
   "id": "c28dc2f0-699e-42c9-b3be-5709ec52d8ab",
   "metadata": {},
   "outputs": [],
   "source": [
    "# For example we can use these parameters to define our metrics\n",
    "# file = 'elife_scores.txt'\n",
    "# data_src = 'eLife_dev'\n",
    "# sample_portion = 0.1\n",
    "# name = 'dummy_baseline'\n",
    "# tags = ['baseline']"
   ]
  },
  {
   "cell_type": "code",
   "execution_count": 12,
   "id": "a02c6cc9-c50c-46cc-8d92-5e320b89fb9f",
   "metadata": {},
   "outputs": [],
   "source": [
    "# Initialize WandB\n",
    "def wandb_log_eval_metrics(file, data_src, sample_portion, name, tags, job_type='eval', project='BioLaySumm2024', entity='bossy_beaver'):\n",
    "    run_config = {'data_src':data_src, 'sample_portion':sample_portion}\n",
    "    run = wandb.init(project=PROJECT_NAME, entity=ENTITY, \n",
    "                     job_type=job_type, tags=tags, name=name)\n",
    "    \n",
    "    # Open the file in read mode\n",
    "    with open(PATH_TO_VAL_METRICS + \"/\" + file, 'r') as file:\n",
    "        \n",
    "        lines = file.readlines()\n",
    "    \n",
    "    # Create an empty dictionary to store the metrics\n",
    "    metrics = {}\n",
    "    \n",
    "    # Iterate over each line\n",
    "    for line in lines:\n",
    "        # Split the line into key and value using ':' as the delimiter\n",
    "        key, value = line.strip().split(': ')\n",
    "        # Store the key-value pair in the dictionary\n",
    "        metrics[key] = float(value)\n",
    "    print(metrics)\n",
    "    \n",
    "    # Log metrics to WandB\n",
    "    run.log(metrics)\n",
    "    \n",
    "    # Finish WandB run\n",
    "    run.finish()\n"
   ]
  },
  {
   "cell_type": "code",
   "execution_count": 22,
   "id": "35650cd6-50f2-4bc5-b90f-8527ccf01b48",
   "metadata": {},
   "outputs": [
    {
     "name": "stderr",
     "output_type": "stream",
     "text": [
      "\u001b[34m\u001b[1mwandb\u001b[0m: Currently logged in as: \u001b[33mhaydenchiush\u001b[0m (\u001b[33mbossy_beaver\u001b[0m). Use \u001b[1m`wandb login --relogin`\u001b[0m to force relogin\n"
     ]
    },
    {
     "data": {
      "text/html": [
       "wandb version 0.16.4 is available!  To upgrade, please run:\n",
       " $ pip install wandb --upgrade"
      ],
      "text/plain": [
       "<IPython.core.display.HTML object>"
      ]
     },
     "metadata": {},
     "output_type": "display_data"
    },
    {
     "data": {
      "text/html": [
       "Tracking run with wandb version 0.16.3"
      ],
      "text/plain": [
       "<IPython.core.display.HTML object>"
      ]
     },
     "metadata": {},
     "output_type": "display_data"
    },
    {
     "data": {
      "text/html": [
       "Run data is saved locally in <code>/Users/haydenchiu/MDS-CL/BioLaySumm2024/COLX_531_bossy_beaver/milestone2/wandb/run-20240316_180321-kqrw4l9l</code>"
      ],
      "text/plain": [
       "<IPython.core.display.HTML object>"
      ]
     },
     "metadata": {},
     "output_type": "display_data"
    },
    {
     "data": {
      "text/html": [
       "Syncing run <strong><a href='https://wandb.ai/bossy_beaver/BioLaySumm2024/runs/kqrw4l9l' target=\"_blank\">elife_dummy_baseline</a></strong> to <a href='https://wandb.ai/bossy_beaver/BioLaySumm2024' target=\"_blank\">Weights & Biases</a> (<a href='https://wandb.me/run' target=\"_blank\">docs</a>)<br/>"
      ],
      "text/plain": [
       "<IPython.core.display.HTML object>"
      ]
     },
     "metadata": {},
     "output_type": "display_data"
    },
    {
     "data": {
      "text/html": [
       " View project at <a href='https://wandb.ai/bossy_beaver/BioLaySumm2024' target=\"_blank\">https://wandb.ai/bossy_beaver/BioLaySumm2024</a>"
      ],
      "text/plain": [
       "<IPython.core.display.HTML object>"
      ]
     },
     "metadata": {},
     "output_type": "display_data"
    },
    {
     "data": {
      "text/html": [
       " View run at <a href='https://wandb.ai/bossy_beaver/BioLaySumm2024/runs/kqrw4l9l' target=\"_blank\">https://wandb.ai/bossy_beaver/BioLaySumm2024/runs/kqrw4l9l</a>"
      ],
      "text/plain": [
       "<IPython.core.display.HTML object>"
      ]
     },
     "metadata": {},
     "output_type": "display_data"
    },
    {
     "name": "stdout",
     "output_type": "stream",
     "text": [
      "{'ROUGE1': 0.32312883506775875, 'ROUGE2': 0.065595999095099, 'ROUGEL': 0.3008124655909614, 'BERTScore': 0.8375861893097559, 'FKGL': 15.133333333333335, 'DCRS': 11.590416666666664, 'CLI': 16.845416666666665, 'LENS': 39.63814759728811, 'AlignScore': 0.9943027173479398, 'SummaC': 0.9525209615627924}\n"
     ]
    },
    {
     "data": {
      "application/vnd.jupyter.widget-view+json": {
       "model_id": "",
       "version_major": 2,
       "version_minor": 0
      },
      "text/plain": [
       "VBox(children=(Label(value='0.001 MB of 0.001 MB uploaded\\r'), FloatProgress(value=1.0, max=1.0)))"
      ]
     },
     "metadata": {},
     "output_type": "display_data"
    },
    {
     "data": {
      "text/html": [
       "<style>\n",
       "    table.wandb td:nth-child(1) { padding: 0 10px; text-align: left ; width: auto;} td:nth-child(2) {text-align: left ; width: 100%}\n",
       "    .wandb-row { display: flex; flex-direction: row; flex-wrap: wrap; justify-content: flex-start; width: 100% }\n",
       "    .wandb-col { display: flex; flex-direction: column; flex-basis: 100%; flex: 1; padding: 10px; }\n",
       "    </style>\n",
       "<div class=\"wandb-row\"><div class=\"wandb-col\"><h3>Run history:</h3><br/><table class=\"wandb\"><tr><td>AlignScore</td><td>▁</td></tr><tr><td>BERTScore</td><td>▁</td></tr><tr><td>CLI</td><td>▁</td></tr><tr><td>DCRS</td><td>▁</td></tr><tr><td>FKGL</td><td>▁</td></tr><tr><td>LENS</td><td>▁</td></tr><tr><td>ROUGE1</td><td>▁</td></tr><tr><td>ROUGE2</td><td>▁</td></tr><tr><td>ROUGEL</td><td>▁</td></tr><tr><td>SummaC</td><td>▁</td></tr></table><br/></div><div class=\"wandb-col\"><h3>Run summary:</h3><br/><table class=\"wandb\"><tr><td>AlignScore</td><td>0.9943</td></tr><tr><td>BERTScore</td><td>0.83759</td></tr><tr><td>CLI</td><td>16.84542</td></tr><tr><td>DCRS</td><td>11.59042</td></tr><tr><td>FKGL</td><td>15.13333</td></tr><tr><td>LENS</td><td>39.63815</td></tr><tr><td>ROUGE1</td><td>0.32313</td></tr><tr><td>ROUGE2</td><td>0.0656</td></tr><tr><td>ROUGEL</td><td>0.30081</td></tr><tr><td>SummaC</td><td>0.95252</td></tr></table><br/></div></div>"
      ],
      "text/plain": [
       "<IPython.core.display.HTML object>"
      ]
     },
     "metadata": {},
     "output_type": "display_data"
    },
    {
     "data": {
      "text/html": [
       " View run <strong style=\"color:#cdcd00\">elife_dummy_baseline</strong> at: <a href='https://wandb.ai/bossy_beaver/BioLaySumm2024/runs/kqrw4l9l' target=\"_blank\">https://wandb.ai/bossy_beaver/BioLaySumm2024/runs/kqrw4l9l</a><br/> View job at <a href='https://wandb.ai/bossy_beaver/BioLaySumm2024/jobs/QXJ0aWZhY3RDb2xsZWN0aW9uOjE0OTU3NTEzNA==/version_details/v0' target=\"_blank\">https://wandb.ai/bossy_beaver/BioLaySumm2024/jobs/QXJ0aWZhY3RDb2xsZWN0aW9uOjE0OTU3NTEzNA==/version_details/v0</a><br/>Synced 6 W&B file(s), 0 media file(s), 0 artifact file(s) and 0 other file(s)"
      ],
      "text/plain": [
       "<IPython.core.display.HTML object>"
      ]
     },
     "metadata": {},
     "output_type": "display_data"
    },
    {
     "data": {
      "text/html": [
       "Find logs at: <code>./wandb/run-20240316_180321-kqrw4l9l/logs</code>"
      ],
      "text/plain": [
       "<IPython.core.display.HTML object>"
      ]
     },
     "metadata": {},
     "output_type": "display_data"
    }
   ],
   "source": [
    "# eLife dummy baseline on 10% dev set\n",
    "wandb_log_eval_metrics(file='elife_scores.txt', data_src='eLife_dev', sample_portion=0.1, \n",
    "                       name='elife_dummy_baseline', tags=['baseline'])"
   ]
  },
  {
   "cell_type": "code",
   "execution_count": 23,
   "id": "9e4da8e6-5095-4cfd-96a3-49a46e537fab",
   "metadata": {},
   "outputs": [
    {
     "data": {
      "text/html": [
       "wandb version 0.16.4 is available!  To upgrade, please run:\n",
       " $ pip install wandb --upgrade"
      ],
      "text/plain": [
       "<IPython.core.display.HTML object>"
      ]
     },
     "metadata": {},
     "output_type": "display_data"
    },
    {
     "data": {
      "text/html": [
       "Tracking run with wandb version 0.16.3"
      ],
      "text/plain": [
       "<IPython.core.display.HTML object>"
      ]
     },
     "metadata": {},
     "output_type": "display_data"
    },
    {
     "data": {
      "text/html": [
       "Run data is saved locally in <code>/Users/haydenchiu/MDS-CL/BioLaySumm2024/COLX_531_bossy_beaver/milestone2/wandb/run-20240316_180339-559am2mj</code>"
      ],
      "text/plain": [
       "<IPython.core.display.HTML object>"
      ]
     },
     "metadata": {},
     "output_type": "display_data"
    },
    {
     "data": {
      "text/html": [
       "Syncing run <strong><a href='https://wandb.ai/bossy_beaver/BioLaySumm2024/runs/559am2mj' target=\"_blank\">plos_dummy_baseline</a></strong> to <a href='https://wandb.ai/bossy_beaver/BioLaySumm2024' target=\"_blank\">Weights & Biases</a> (<a href='https://wandb.me/run' target=\"_blank\">docs</a>)<br/>"
      ],
      "text/plain": [
       "<IPython.core.display.HTML object>"
      ]
     },
     "metadata": {},
     "output_type": "display_data"
    },
    {
     "data": {
      "text/html": [
       " View project at <a href='https://wandb.ai/bossy_beaver/BioLaySumm2024' target=\"_blank\">https://wandb.ai/bossy_beaver/BioLaySumm2024</a>"
      ],
      "text/plain": [
       "<IPython.core.display.HTML object>"
      ]
     },
     "metadata": {},
     "output_type": "display_data"
    },
    {
     "data": {
      "text/html": [
       " View run at <a href='https://wandb.ai/bossy_beaver/BioLaySumm2024/runs/559am2mj' target=\"_blank\">https://wandb.ai/bossy_beaver/BioLaySumm2024/runs/559am2mj</a>"
      ],
      "text/plain": [
       "<IPython.core.display.HTML object>"
      ]
     },
     "metadata": {},
     "output_type": "display_data"
    },
    {
     "name": "stdout",
     "output_type": "stream",
     "text": [
      "{'ROUGE1': 0.5125303136128874, 'ROUGE2': 0.21055582506879417, 'ROUGEL': 0.4767545280909615, 'BERTScore': 0.8725961204888164, 'FKGL': 14.94927536231884, 'DCRS': 10.976449275362318, 'CLI': 16.293840579710146, 'LENS': 38.619040578940265, 'AlignScore': 0.9880770807680876, 'SummaC': 0.9578714357770007}\n"
     ]
    },
    {
     "data": {
      "application/vnd.jupyter.widget-view+json": {
       "model_id": "",
       "version_major": 2,
       "version_minor": 0
      },
      "text/plain": [
       "VBox(children=(Label(value='0.001 MB of 0.001 MB uploaded\\r'), FloatProgress(value=1.0, max=1.0)))"
      ]
     },
     "metadata": {},
     "output_type": "display_data"
    },
    {
     "data": {
      "text/html": [
       "<style>\n",
       "    table.wandb td:nth-child(1) { padding: 0 10px; text-align: left ; width: auto;} td:nth-child(2) {text-align: left ; width: 100%}\n",
       "    .wandb-row { display: flex; flex-direction: row; flex-wrap: wrap; justify-content: flex-start; width: 100% }\n",
       "    .wandb-col { display: flex; flex-direction: column; flex-basis: 100%; flex: 1; padding: 10px; }\n",
       "    </style>\n",
       "<div class=\"wandb-row\"><div class=\"wandb-col\"><h3>Run history:</h3><br/><table class=\"wandb\"><tr><td>AlignScore</td><td>▁</td></tr><tr><td>BERTScore</td><td>▁</td></tr><tr><td>CLI</td><td>▁</td></tr><tr><td>DCRS</td><td>▁</td></tr><tr><td>FKGL</td><td>▁</td></tr><tr><td>LENS</td><td>▁</td></tr><tr><td>ROUGE1</td><td>▁</td></tr><tr><td>ROUGE2</td><td>▁</td></tr><tr><td>ROUGEL</td><td>▁</td></tr><tr><td>SummaC</td><td>▁</td></tr></table><br/></div><div class=\"wandb-col\"><h3>Run summary:</h3><br/><table class=\"wandb\"><tr><td>AlignScore</td><td>0.98808</td></tr><tr><td>BERTScore</td><td>0.8726</td></tr><tr><td>CLI</td><td>16.29384</td></tr><tr><td>DCRS</td><td>10.97645</td></tr><tr><td>FKGL</td><td>14.94928</td></tr><tr><td>LENS</td><td>38.61904</td></tr><tr><td>ROUGE1</td><td>0.51253</td></tr><tr><td>ROUGE2</td><td>0.21056</td></tr><tr><td>ROUGEL</td><td>0.47675</td></tr><tr><td>SummaC</td><td>0.95787</td></tr></table><br/></div></div>"
      ],
      "text/plain": [
       "<IPython.core.display.HTML object>"
      ]
     },
     "metadata": {},
     "output_type": "display_data"
    },
    {
     "data": {
      "text/html": [
       " View run <strong style=\"color:#cdcd00\">plos_dummy_baseline</strong> at: <a href='https://wandb.ai/bossy_beaver/BioLaySumm2024/runs/559am2mj' target=\"_blank\">https://wandb.ai/bossy_beaver/BioLaySumm2024/runs/559am2mj</a><br/> View job at <a href='https://wandb.ai/bossy_beaver/BioLaySumm2024/jobs/QXJ0aWZhY3RDb2xsZWN0aW9uOjE0OTU3NTEzNA==/version_details/v0' target=\"_blank\">https://wandb.ai/bossy_beaver/BioLaySumm2024/jobs/QXJ0aWZhY3RDb2xsZWN0aW9uOjE0OTU3NTEzNA==/version_details/v0</a><br/>Synced 6 W&B file(s), 0 media file(s), 0 artifact file(s) and 0 other file(s)"
      ],
      "text/plain": [
       "<IPython.core.display.HTML object>"
      ]
     },
     "metadata": {},
     "output_type": "display_data"
    },
    {
     "data": {
      "text/html": [
       "Find logs at: <code>./wandb/run-20240316_180339-559am2mj/logs</code>"
      ],
      "text/plain": [
       "<IPython.core.display.HTML object>"
      ]
     },
     "metadata": {},
     "output_type": "display_data"
    }
   ],
   "source": [
    "# PLOS dummy baseline on 10% dev set\n",
    "wandb_log_eval_metrics(file='plos_scores.txt', data_src='PLOS_dev', sample_portion=0.1, \n",
    "                       name='plos_dummy_baseline', tags=['baseline'])"
   ]
  },
  {
   "cell_type": "code",
   "execution_count": 24,
   "id": "8f92be47-2400-45df-b9b9-a14dad0ce772",
   "metadata": {},
   "outputs": [
    {
     "data": {
      "text/html": [
       "wandb version 0.16.4 is available!  To upgrade, please run:\n",
       " $ pip install wandb --upgrade"
      ],
      "text/plain": [
       "<IPython.core.display.HTML object>"
      ]
     },
     "metadata": {},
     "output_type": "display_data"
    },
    {
     "data": {
      "text/html": [
       "Tracking run with wandb version 0.16.3"
      ],
      "text/plain": [
       "<IPython.core.display.HTML object>"
      ]
     },
     "metadata": {},
     "output_type": "display_data"
    },
    {
     "data": {
      "text/html": [
       "Run data is saved locally in <code>/Users/haydenchiu/MDS-CL/BioLaySumm2024/COLX_531_bossy_beaver/milestone2/wandb/run-20240316_180533-wyn0doir</code>"
      ],
      "text/plain": [
       "<IPython.core.display.HTML object>"
      ]
     },
     "metadata": {},
     "output_type": "display_data"
    },
    {
     "data": {
      "text/html": [
       "Syncing run <strong><a href='https://wandb.ai/bossy_beaver/BioLaySumm2024/runs/wyn0doir' target=\"_blank\">dummy_baseline</a></strong> to <a href='https://wandb.ai/bossy_beaver/BioLaySumm2024' target=\"_blank\">Weights & Biases</a> (<a href='https://wandb.me/run' target=\"_blank\">docs</a>)<br/>"
      ],
      "text/plain": [
       "<IPython.core.display.HTML object>"
      ]
     },
     "metadata": {},
     "output_type": "display_data"
    },
    {
     "data": {
      "text/html": [
       " View project at <a href='https://wandb.ai/bossy_beaver/BioLaySumm2024' target=\"_blank\">https://wandb.ai/bossy_beaver/BioLaySumm2024</a>"
      ],
      "text/plain": [
       "<IPython.core.display.HTML object>"
      ]
     },
     "metadata": {},
     "output_type": "display_data"
    },
    {
     "data": {
      "text/html": [
       " View run at <a href='https://wandb.ai/bossy_beaver/BioLaySumm2024/runs/wyn0doir' target=\"_blank\">https://wandb.ai/bossy_beaver/BioLaySumm2024/runs/wyn0doir</a>"
      ],
      "text/plain": [
       "<IPython.core.display.HTML object>"
      ]
     },
     "metadata": {},
     "output_type": "display_data"
    },
    {
     "name": "stdout",
     "output_type": "stream",
     "text": [
      "{'ROUGE1': 0.4178295743403231, 'ROUGE2': 0.13807591208194658, 'ROUGEL': 0.3887834968409615, 'BERTScore': 0.8550911548992861, 'FKGL': 15.041304347826088, 'DCRS': 11.283432971014491, 'CLI': 16.569628623188407, 'LENS': 39.128594088114184, 'AlignScore': 0.9911898990580137, 'SummaC': 0.9551961986698966}\n"
     ]
    },
    {
     "data": {
      "application/vnd.jupyter.widget-view+json": {
       "model_id": "",
       "version_major": 2,
       "version_minor": 0
      },
      "text/plain": [
       "VBox(children=(Label(value='0.001 MB of 0.001 MB uploaded\\r'), FloatProgress(value=1.0, max=1.0)))"
      ]
     },
     "metadata": {},
     "output_type": "display_data"
    },
    {
     "data": {
      "text/html": [
       "<style>\n",
       "    table.wandb td:nth-child(1) { padding: 0 10px; text-align: left ; width: auto;} td:nth-child(2) {text-align: left ; width: 100%}\n",
       "    .wandb-row { display: flex; flex-direction: row; flex-wrap: wrap; justify-content: flex-start; width: 100% }\n",
       "    .wandb-col { display: flex; flex-direction: column; flex-basis: 100%; flex: 1; padding: 10px; }\n",
       "    </style>\n",
       "<div class=\"wandb-row\"><div class=\"wandb-col\"><h3>Run history:</h3><br/><table class=\"wandb\"><tr><td>AlignScore</td><td>▁</td></tr><tr><td>BERTScore</td><td>▁</td></tr><tr><td>CLI</td><td>▁</td></tr><tr><td>DCRS</td><td>▁</td></tr><tr><td>FKGL</td><td>▁</td></tr><tr><td>LENS</td><td>▁</td></tr><tr><td>ROUGE1</td><td>▁</td></tr><tr><td>ROUGE2</td><td>▁</td></tr><tr><td>ROUGEL</td><td>▁</td></tr><tr><td>SummaC</td><td>▁</td></tr></table><br/></div><div class=\"wandb-col\"><h3>Run summary:</h3><br/><table class=\"wandb\"><tr><td>AlignScore</td><td>0.99119</td></tr><tr><td>BERTScore</td><td>0.85509</td></tr><tr><td>CLI</td><td>16.56963</td></tr><tr><td>DCRS</td><td>11.28343</td></tr><tr><td>FKGL</td><td>15.0413</td></tr><tr><td>LENS</td><td>39.12859</td></tr><tr><td>ROUGE1</td><td>0.41783</td></tr><tr><td>ROUGE2</td><td>0.13808</td></tr><tr><td>ROUGEL</td><td>0.38878</td></tr><tr><td>SummaC</td><td>0.9552</td></tr></table><br/></div></div>"
      ],
      "text/plain": [
       "<IPython.core.display.HTML object>"
      ]
     },
     "metadata": {},
     "output_type": "display_data"
    },
    {
     "data": {
      "text/html": [
       " View run <strong style=\"color:#cdcd00\">dummy_baseline</strong> at: <a href='https://wandb.ai/bossy_beaver/BioLaySumm2024/runs/wyn0doir' target=\"_blank\">https://wandb.ai/bossy_beaver/BioLaySumm2024/runs/wyn0doir</a><br/> View job at <a href='https://wandb.ai/bossy_beaver/BioLaySumm2024/jobs/QXJ0aWZhY3RDb2xsZWN0aW9uOjE0OTU3NTEzNA==/version_details/v0' target=\"_blank\">https://wandb.ai/bossy_beaver/BioLaySumm2024/jobs/QXJ0aWZhY3RDb2xsZWN0aW9uOjE0OTU3NTEzNA==/version_details/v0</a><br/>Synced 6 W&B file(s), 0 media file(s), 0 artifact file(s) and 0 other file(s)"
      ],
      "text/plain": [
       "<IPython.core.display.HTML object>"
      ]
     },
     "metadata": {},
     "output_type": "display_data"
    },
    {
     "data": {
      "text/html": [
       "Find logs at: <code>./wandb/run-20240316_180533-wyn0doir/logs</code>"
      ],
      "text/plain": [
       "<IPython.core.display.HTML object>"
      ]
     },
     "metadata": {},
     "output_type": "display_data"
    }
   ],
   "source": [
    "# Combined dummy baseline on 10% dev set\n",
    "wandb_log_eval_metrics(file='scores.txt', data_src='combined_dev', sample_portion=0.1, \n",
    "                       name='dummy_baseline', tags=['baseline', 'combined'])"
   ]
  },
  {
   "cell_type": "markdown",
   "id": "31c2e11f-d863-4519-af98-3bc47ec67c67",
   "metadata": {},
   "source": [
    "# Test Set"
   ]
  },
  {
   "cell_type": "code",
   "execution_count": 13,
   "id": "46495332-82d0-43e4-8b15-076d8bbb3d5e",
   "metadata": {},
   "outputs": [],
   "source": [
    "PATH_TO_VAL_METRICS = './data/scores/scoring_result'\n",
    "TEST_METRICS_FILES = ['elife_scores.txt', 'plos_scores.txt', 'scores.txt']"
   ]
  },
  {
   "cell_type": "code",
   "execution_count": 14,
   "id": "2aeaf294-c7a7-4d19-a9e4-ed526cf3d87c",
   "metadata": {},
   "outputs": [
    {
     "name": "stderr",
     "output_type": "stream",
     "text": [
      "\u001b[34m\u001b[1mwandb\u001b[0m: Currently logged in as: \u001b[33mhaydenchiush\u001b[0m (\u001b[33mbossy_beaver\u001b[0m). Use \u001b[1m`wandb login --relogin`\u001b[0m to force relogin\n"
     ]
    },
    {
     "data": {
      "text/html": [
       "wandb version 0.16.6 is available!  To upgrade, please run:\n",
       " $ pip install wandb --upgrade"
      ],
      "text/plain": [
       "<IPython.core.display.HTML object>"
      ]
     },
     "metadata": {},
     "output_type": "display_data"
    },
    {
     "data": {
      "text/html": [
       "Tracking run with wandb version 0.16.3"
      ],
      "text/plain": [
       "<IPython.core.display.HTML object>"
      ]
     },
     "metadata": {},
     "output_type": "display_data"
    },
    {
     "data": {
      "text/html": [
       "Run data is saved locally in <code>/Users/haydenchiu/MDS-CL/BioLaySumm2024/COLX_531_bossy_beaver/milestone6/mixtral_llama_cpp/wandb/run-20240415_171158-g2ubbmfk</code>"
      ],
      "text/plain": [
       "<IPython.core.display.HTML object>"
      ]
     },
     "metadata": {},
     "output_type": "display_data"
    },
    {
     "data": {
      "text/html": [
       "Syncing run <strong><a href='https://wandb.ai/bossy_beaver/BioLaySumm2024/runs/g2ubbmfk' target=\"_blank\">elife_mixtral_tot_test</a></strong> to <a href='https://wandb.ai/bossy_beaver/BioLaySumm2024' target=\"_blank\">Weights & Biases</a> (<a href='https://wandb.me/run' target=\"_blank\">docs</a>)<br/>"
      ],
      "text/plain": [
       "<IPython.core.display.HTML object>"
      ]
     },
     "metadata": {},
     "output_type": "display_data"
    },
    {
     "data": {
      "text/html": [
       " View project at <a href='https://wandb.ai/bossy_beaver/BioLaySumm2024' target=\"_blank\">https://wandb.ai/bossy_beaver/BioLaySumm2024</a>"
      ],
      "text/plain": [
       "<IPython.core.display.HTML object>"
      ]
     },
     "metadata": {},
     "output_type": "display_data"
    },
    {
     "data": {
      "text/html": [
       " View run at <a href='https://wandb.ai/bossy_beaver/BioLaySumm2024/runs/g2ubbmfk' target=\"_blank\">https://wandb.ai/bossy_beaver/BioLaySumm2024/runs/g2ubbmfk</a>"
      ],
      "text/plain": [
       "<IPython.core.display.HTML object>"
      ]
     },
     "metadata": {},
     "output_type": "display_data"
    },
    {
     "name": "stdout",
     "output_type": "stream",
     "text": [
      "{'ROUGE1': 0.4425931080994125, 'ROUGE2': 0.10160663478728887, 'ROUGEL': 0.40545993723056156, 'BERTScore': 0.8398589647152055, 'FKGL': 14.361971830985917, 'DCRS': 10.352957746478873, 'CLI': 16.54338028169014, 'LENS': 63.42497698785683, 'AlignScore': 0.757516194817046, 'SummaC': 0.5766379052484539}\n"
     ]
    },
    {
     "data": {
      "application/vnd.jupyter.widget-view+json": {
       "model_id": "",
       "version_major": 2,
       "version_minor": 0
      },
      "text/plain": [
       "VBox(children=(Label(value='0.001 MB of 0.001 MB uploaded\\r'), FloatProgress(value=1.0, max=1.0)))"
      ]
     },
     "metadata": {},
     "output_type": "display_data"
    },
    {
     "data": {
      "text/html": [
       "<style>\n",
       "    table.wandb td:nth-child(1) { padding: 0 10px; text-align: left ; width: auto;} td:nth-child(2) {text-align: left ; width: 100%}\n",
       "    .wandb-row { display: flex; flex-direction: row; flex-wrap: wrap; justify-content: flex-start; width: 100% }\n",
       "    .wandb-col { display: flex; flex-direction: column; flex-basis: 100%; flex: 1; padding: 10px; }\n",
       "    </style>\n",
       "<div class=\"wandb-row\"><div class=\"wandb-col\"><h3>Run history:</h3><br/><table class=\"wandb\"><tr><td>AlignScore</td><td>▁</td></tr><tr><td>BERTScore</td><td>▁</td></tr><tr><td>CLI</td><td>▁</td></tr><tr><td>DCRS</td><td>▁</td></tr><tr><td>FKGL</td><td>▁</td></tr><tr><td>LENS</td><td>▁</td></tr><tr><td>ROUGE1</td><td>▁</td></tr><tr><td>ROUGE2</td><td>▁</td></tr><tr><td>ROUGEL</td><td>▁</td></tr><tr><td>SummaC</td><td>▁</td></tr></table><br/></div><div class=\"wandb-col\"><h3>Run summary:</h3><br/><table class=\"wandb\"><tr><td>AlignScore</td><td>0.75752</td></tr><tr><td>BERTScore</td><td>0.83986</td></tr><tr><td>CLI</td><td>16.54338</td></tr><tr><td>DCRS</td><td>10.35296</td></tr><tr><td>FKGL</td><td>14.36197</td></tr><tr><td>LENS</td><td>63.42498</td></tr><tr><td>ROUGE1</td><td>0.44259</td></tr><tr><td>ROUGE2</td><td>0.10161</td></tr><tr><td>ROUGEL</td><td>0.40546</td></tr><tr><td>SummaC</td><td>0.57664</td></tr></table><br/></div></div>"
      ],
      "text/plain": [
       "<IPython.core.display.HTML object>"
      ]
     },
     "metadata": {},
     "output_type": "display_data"
    },
    {
     "data": {
      "text/html": [
       " View run <strong style=\"color:#cdcd00\">elife_mixtral_tot_test</strong> at: <a href='https://wandb.ai/bossy_beaver/BioLaySumm2024/runs/g2ubbmfk' target=\"_blank\">https://wandb.ai/bossy_beaver/BioLaySumm2024/runs/g2ubbmfk</a><br/> View job at <a href='https://wandb.ai/bossy_beaver/BioLaySumm2024/jobs/QXJ0aWZhY3RDb2xsZWN0aW9uOjE2MzAyNjEyMw==/version_details/v0' target=\"_blank\">https://wandb.ai/bossy_beaver/BioLaySumm2024/jobs/QXJ0aWZhY3RDb2xsZWN0aW9uOjE2MzAyNjEyMw==/version_details/v0</a><br/>Synced 6 W&B file(s), 0 media file(s), 2 artifact file(s) and 0 other file(s)"
      ],
      "text/plain": [
       "<IPython.core.display.HTML object>"
      ]
     },
     "metadata": {},
     "output_type": "display_data"
    },
    {
     "data": {
      "text/html": [
       "Find logs at: <code>./wandb/run-20240415_171158-g2ubbmfk/logs</code>"
      ],
      "text/plain": [
       "<IPython.core.display.HTML object>"
      ]
     },
     "metadata": {},
     "output_type": "display_data"
    }
   ],
   "source": [
    "# elife dummy baseline on test set\n",
    "wandb_log_eval_metrics(file='elife_scores.txt', data_src='eLife_test', sample_portion=1, \n",
    "                       name='elife_mixtral_tot_test', tags=['milestone6','test','mixtral_8x7B','4-bit','train_of_thought'])"
   ]
  },
  {
   "cell_type": "code",
   "execution_count": 15,
   "id": "5b0dccf5-4198-4790-adaa-03bab3f0d91f",
   "metadata": {},
   "outputs": [
    {
     "data": {
      "text/html": [
       "wandb version 0.16.6 is available!  To upgrade, please run:\n",
       " $ pip install wandb --upgrade"
      ],
      "text/plain": [
       "<IPython.core.display.HTML object>"
      ]
     },
     "metadata": {},
     "output_type": "display_data"
    },
    {
     "data": {
      "text/html": [
       "Tracking run with wandb version 0.16.3"
      ],
      "text/plain": [
       "<IPython.core.display.HTML object>"
      ]
     },
     "metadata": {},
     "output_type": "display_data"
    },
    {
     "data": {
      "text/html": [
       "Run data is saved locally in <code>/Users/haydenchiu/MDS-CL/BioLaySumm2024/COLX_531_bossy_beaver/milestone6/mixtral_llama_cpp/wandb/run-20240415_171232-5dl5f0wp</code>"
      ],
      "text/plain": [
       "<IPython.core.display.HTML object>"
      ]
     },
     "metadata": {},
     "output_type": "display_data"
    },
    {
     "data": {
      "text/html": [
       "Syncing run <strong><a href='https://wandb.ai/bossy_beaver/BioLaySumm2024/runs/5dl5f0wp' target=\"_blank\">plos_mixtral_tot_test</a></strong> to <a href='https://wandb.ai/bossy_beaver/BioLaySumm2024' target=\"_blank\">Weights & Biases</a> (<a href='https://wandb.me/run' target=\"_blank\">docs</a>)<br/>"
      ],
      "text/plain": [
       "<IPython.core.display.HTML object>"
      ]
     },
     "metadata": {},
     "output_type": "display_data"
    },
    {
     "data": {
      "text/html": [
       " View project at <a href='https://wandb.ai/bossy_beaver/BioLaySumm2024' target=\"_blank\">https://wandb.ai/bossy_beaver/BioLaySumm2024</a>"
      ],
      "text/plain": [
       "<IPython.core.display.HTML object>"
      ]
     },
     "metadata": {},
     "output_type": "display_data"
    },
    {
     "data": {
      "text/html": [
       " View run at <a href='https://wandb.ai/bossy_beaver/BioLaySumm2024/runs/5dl5f0wp' target=\"_blank\">https://wandb.ai/bossy_beaver/BioLaySumm2024/runs/5dl5f0wp</a>"
      ],
      "text/plain": [
       "<IPython.core.display.HTML object>"
      ]
     },
     "metadata": {},
     "output_type": "display_data"
    },
    {
     "name": "stdout",
     "output_type": "stream",
     "text": [
      "{'ROUGE1': 0.41757900834429124, 'ROUGE2': 0.13639125926488382, 'ROUGEL': 0.38143811561150187, 'BERTScore': 0.8536000835223937, 'FKGL': 13.499295774647887, 'DCRS': 10.309647887323946, 'CLI': 15.867957746478874, 'LENS': 63.888943618717285, 'AlignScore': 0.7414850959895363, 'SummaC': 0.6068648966685147}\n"
     ]
    },
    {
     "data": {
      "application/vnd.jupyter.widget-view+json": {
       "model_id": "",
       "version_major": 2,
       "version_minor": 0
      },
      "text/plain": [
       "VBox(children=(Label(value='0.001 MB of 0.001 MB uploaded\\r'), FloatProgress(value=1.0, max=1.0)))"
      ]
     },
     "metadata": {},
     "output_type": "display_data"
    },
    {
     "data": {
      "text/html": [
       "<style>\n",
       "    table.wandb td:nth-child(1) { padding: 0 10px; text-align: left ; width: auto;} td:nth-child(2) {text-align: left ; width: 100%}\n",
       "    .wandb-row { display: flex; flex-direction: row; flex-wrap: wrap; justify-content: flex-start; width: 100% }\n",
       "    .wandb-col { display: flex; flex-direction: column; flex-basis: 100%; flex: 1; padding: 10px; }\n",
       "    </style>\n",
       "<div class=\"wandb-row\"><div class=\"wandb-col\"><h3>Run history:</h3><br/><table class=\"wandb\"><tr><td>AlignScore</td><td>▁</td></tr><tr><td>BERTScore</td><td>▁</td></tr><tr><td>CLI</td><td>▁</td></tr><tr><td>DCRS</td><td>▁</td></tr><tr><td>FKGL</td><td>▁</td></tr><tr><td>LENS</td><td>▁</td></tr><tr><td>ROUGE1</td><td>▁</td></tr><tr><td>ROUGE2</td><td>▁</td></tr><tr><td>ROUGEL</td><td>▁</td></tr><tr><td>SummaC</td><td>▁</td></tr></table><br/></div><div class=\"wandb-col\"><h3>Run summary:</h3><br/><table class=\"wandb\"><tr><td>AlignScore</td><td>0.74149</td></tr><tr><td>BERTScore</td><td>0.8536</td></tr><tr><td>CLI</td><td>15.86796</td></tr><tr><td>DCRS</td><td>10.30965</td></tr><tr><td>FKGL</td><td>13.4993</td></tr><tr><td>LENS</td><td>63.88894</td></tr><tr><td>ROUGE1</td><td>0.41758</td></tr><tr><td>ROUGE2</td><td>0.13639</td></tr><tr><td>ROUGEL</td><td>0.38144</td></tr><tr><td>SummaC</td><td>0.60686</td></tr></table><br/></div></div>"
      ],
      "text/plain": [
       "<IPython.core.display.HTML object>"
      ]
     },
     "metadata": {},
     "output_type": "display_data"
    },
    {
     "data": {
      "text/html": [
       " View run <strong style=\"color:#cdcd00\">plos_mixtral_tot_test</strong> at: <a href='https://wandb.ai/bossy_beaver/BioLaySumm2024/runs/5dl5f0wp' target=\"_blank\">https://wandb.ai/bossy_beaver/BioLaySumm2024/runs/5dl5f0wp</a><br/> View job at <a href='https://wandb.ai/bossy_beaver/BioLaySumm2024/jobs/QXJ0aWZhY3RDb2xsZWN0aW9uOjE2MzAyNjEyMw==/version_details/v0' target=\"_blank\">https://wandb.ai/bossy_beaver/BioLaySumm2024/jobs/QXJ0aWZhY3RDb2xsZWN0aW9uOjE2MzAyNjEyMw==/version_details/v0</a><br/>Synced 6 W&B file(s), 0 media file(s), 0 artifact file(s) and 0 other file(s)"
      ],
      "text/plain": [
       "<IPython.core.display.HTML object>"
      ]
     },
     "metadata": {},
     "output_type": "display_data"
    },
    {
     "data": {
      "text/html": [
       "Find logs at: <code>./wandb/run-20240415_171232-5dl5f0wp/logs</code>"
      ],
      "text/plain": [
       "<IPython.core.display.HTML object>"
      ]
     },
     "metadata": {},
     "output_type": "display_data"
    }
   ],
   "source": [
    "# PLOS dummy baseline on test set\n",
    "wandb_log_eval_metrics(file='plos_scores.txt', data_src='PLOS_test', sample_portion=1, \n",
    "                       name='plos_mixtral_tot_test', tags=['milestone6','test','mixtral_8x7B','4-bit','train_of_thought'])"
   ]
  },
  {
   "cell_type": "code",
   "execution_count": 16,
   "id": "fdb92749-83f8-479b-be72-3c48fe74fb2c",
   "metadata": {},
   "outputs": [
    {
     "data": {
      "text/html": [
       "wandb version 0.16.6 is available!  To upgrade, please run:\n",
       " $ pip install wandb --upgrade"
      ],
      "text/plain": [
       "<IPython.core.display.HTML object>"
      ]
     },
     "metadata": {},
     "output_type": "display_data"
    },
    {
     "data": {
      "text/html": [
       "Tracking run with wandb version 0.16.3"
      ],
      "text/plain": [
       "<IPython.core.display.HTML object>"
      ]
     },
     "metadata": {},
     "output_type": "display_data"
    },
    {
     "data": {
      "text/html": [
       "Run data is saved locally in <code>/Users/haydenchiu/MDS-CL/BioLaySumm2024/COLX_531_bossy_beaver/milestone6/mixtral_llama_cpp/wandb/run-20240415_171323-7x8o8qgr</code>"
      ],
      "text/plain": [
       "<IPython.core.display.HTML object>"
      ]
     },
     "metadata": {},
     "output_type": "display_data"
    },
    {
     "data": {
      "text/html": [
       "Syncing run <strong><a href='https://wandb.ai/bossy_beaver/BioLaySumm2024/runs/7x8o8qgr' target=\"_blank\">mixtral_tot_test</a></strong> to <a href='https://wandb.ai/bossy_beaver/BioLaySumm2024' target=\"_blank\">Weights & Biases</a> (<a href='https://wandb.me/run' target=\"_blank\">docs</a>)<br/>"
      ],
      "text/plain": [
       "<IPython.core.display.HTML object>"
      ]
     },
     "metadata": {},
     "output_type": "display_data"
    },
    {
     "data": {
      "text/html": [
       " View project at <a href='https://wandb.ai/bossy_beaver/BioLaySumm2024' target=\"_blank\">https://wandb.ai/bossy_beaver/BioLaySumm2024</a>"
      ],
      "text/plain": [
       "<IPython.core.display.HTML object>"
      ]
     },
     "metadata": {},
     "output_type": "display_data"
    },
    {
     "data": {
      "text/html": [
       " View run at <a href='https://wandb.ai/bossy_beaver/BioLaySumm2024/runs/7x8o8qgr' target=\"_blank\">https://wandb.ai/bossy_beaver/BioLaySumm2024/runs/7x8o8qgr</a>"
      ],
      "text/plain": [
       "<IPython.core.display.HTML object>"
      ]
     },
     "metadata": {},
     "output_type": "display_data"
    },
    {
     "name": "stdout",
     "output_type": "stream",
     "text": [
      "{'ROUGE1': 0.43008605822185186, 'ROUGE2': 0.11899894702608635, 'ROUGEL': 0.39344902642103174, 'BERTScore': 0.8467295241187995, 'FKGL': 13.930633802816903, 'DCRS': 10.33130281690141, 'CLI': 16.205669014084506, 'LENS': 63.65696030328706, 'AlignScore': 0.7495006454032911, 'SummaC': 0.5917514009584843}\n"
     ]
    },
    {
     "data": {
      "application/vnd.jupyter.widget-view+json": {
       "model_id": "",
       "version_major": 2,
       "version_minor": 0
      },
      "text/plain": [
       "VBox(children=(Label(value='0.001 MB of 0.001 MB uploaded\\r'), FloatProgress(value=1.0, max=1.0)))"
      ]
     },
     "metadata": {},
     "output_type": "display_data"
    },
    {
     "data": {
      "text/html": [
       "<style>\n",
       "    table.wandb td:nth-child(1) { padding: 0 10px; text-align: left ; width: auto;} td:nth-child(2) {text-align: left ; width: 100%}\n",
       "    .wandb-row { display: flex; flex-direction: row; flex-wrap: wrap; justify-content: flex-start; width: 100% }\n",
       "    .wandb-col { display: flex; flex-direction: column; flex-basis: 100%; flex: 1; padding: 10px; }\n",
       "    </style>\n",
       "<div class=\"wandb-row\"><div class=\"wandb-col\"><h3>Run history:</h3><br/><table class=\"wandb\"><tr><td>AlignScore</td><td>▁</td></tr><tr><td>BERTScore</td><td>▁</td></tr><tr><td>CLI</td><td>▁</td></tr><tr><td>DCRS</td><td>▁</td></tr><tr><td>FKGL</td><td>▁</td></tr><tr><td>LENS</td><td>▁</td></tr><tr><td>ROUGE1</td><td>▁</td></tr><tr><td>ROUGE2</td><td>▁</td></tr><tr><td>ROUGEL</td><td>▁</td></tr><tr><td>SummaC</td><td>▁</td></tr></table><br/></div><div class=\"wandb-col\"><h3>Run summary:</h3><br/><table class=\"wandb\"><tr><td>AlignScore</td><td>0.7495</td></tr><tr><td>BERTScore</td><td>0.84673</td></tr><tr><td>CLI</td><td>16.20567</td></tr><tr><td>DCRS</td><td>10.3313</td></tr><tr><td>FKGL</td><td>13.93063</td></tr><tr><td>LENS</td><td>63.65696</td></tr><tr><td>ROUGE1</td><td>0.43009</td></tr><tr><td>ROUGE2</td><td>0.119</td></tr><tr><td>ROUGEL</td><td>0.39345</td></tr><tr><td>SummaC</td><td>0.59175</td></tr></table><br/></div></div>"
      ],
      "text/plain": [
       "<IPython.core.display.HTML object>"
      ]
     },
     "metadata": {},
     "output_type": "display_data"
    },
    {
     "data": {
      "text/html": [
       " View run <strong style=\"color:#cdcd00\">mixtral_tot_test</strong> at: <a href='https://wandb.ai/bossy_beaver/BioLaySumm2024/runs/7x8o8qgr' target=\"_blank\">https://wandb.ai/bossy_beaver/BioLaySumm2024/runs/7x8o8qgr</a><br/> View job at <a href='https://wandb.ai/bossy_beaver/BioLaySumm2024/jobs/QXJ0aWZhY3RDb2xsZWN0aW9uOjE2MzAyNjEyMw==/version_details/v0' target=\"_blank\">https://wandb.ai/bossy_beaver/BioLaySumm2024/jobs/QXJ0aWZhY3RDb2xsZWN0aW9uOjE2MzAyNjEyMw==/version_details/v0</a><br/>Synced 6 W&B file(s), 0 media file(s), 0 artifact file(s) and 0 other file(s)"
      ],
      "text/plain": [
       "<IPython.core.display.HTML object>"
      ]
     },
     "metadata": {},
     "output_type": "display_data"
    },
    {
     "data": {
      "text/html": [
       "Find logs at: <code>./wandb/run-20240415_171323-7x8o8qgr/logs</code>"
      ],
      "text/plain": [
       "<IPython.core.display.HTML object>"
      ]
     },
     "metadata": {},
     "output_type": "display_data"
    }
   ],
   "source": [
    "# Combined dummy baseline on test set\n",
    "wandb_log_eval_metrics(file='scores.txt', data_src='combined_test', sample_portion=1, \n",
    "                       name='mixtral_tot_test', tags=['milestone6','test','mixtral_8x7B','4-bit','train_of_thought', 'combined'])"
   ]
  },
  {
   "cell_type": "code",
   "execution_count": null,
   "id": "71fb7611-1114-44ce-b9ad-2bd3f3cf42b1",
   "metadata": {},
   "outputs": [],
   "source": []
  }
 ],
 "metadata": {
  "kernelspec": {
   "display_name": "Python [conda env:root] *",
   "language": "python",
   "name": "conda-root-py"
  },
  "language_info": {
   "codemirror_mode": {
    "name": "ipython",
    "version": 3
   },
   "file_extension": ".py",
   "mimetype": "text/x-python",
   "name": "python",
   "nbconvert_exporter": "python",
   "pygments_lexer": "ipython3",
   "version": "3.11.6"
  }
 },
 "nbformat": 4,
 "nbformat_minor": 5
}
