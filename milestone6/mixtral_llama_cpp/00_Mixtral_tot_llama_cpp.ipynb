{
 "cells": [
  {
   "cell_type": "markdown",
   "id": "c65d5f58-519b-4ac8-84e2-10983d31c315",
   "metadata": {},
   "source": [
    "# Mixtral Prompt Engineering"
   ]
  },
  {
   "cell_type": "markdown",
   "id": "9c6d0131-8488-4191-bb91-22cdadbf7e8a",
   "metadata": {},
   "source": [
    "This notebook runs 4-bit quantized 8 x7B Mixtral model locally with llama_cpp"
   ]
  },
  {
   "cell_type": "markdown",
   "id": "50ca77b3-d382-44ba-b3d8-6c2dfaa4e8fc",
   "metadata": {},
   "source": [
    "Before you run this notebook, please follow the instructions below to properly set up all the dependencies.  \n",
    "\n",
    "Run one of the following commands, according to your system:\n",
    "\n",
    "```shell\n",
    "# Base ctransformers with no GPU acceleration\n",
    "pip install llama-cpp-python\n",
    "# With NVidia CUDA acceleration\n",
    "CMAKE_ARGS=\"-DLLAMA_CUBLAS=on\" pip install llama-cpp-python\n",
    "# Or with OpenBLAS acceleration\n",
    "CMAKE_ARGS=\"-DLLAMA_BLAS=ON -DLLAMA_BLAS_VENDOR=OpenBLAS\" pip install llama-cpp-python\n",
    "# Or with CLBLast acceleration\n",
    "CMAKE_ARGS=\"-DLLAMA_CLBLAST=on\" pip install llama-cpp-python\n",
    "# Or with AMD ROCm GPU acceleration (Linux only)\n",
    "CMAKE_ARGS=\"-DLLAMA_HIPBLAS=on\" pip install llama-cpp-python\n",
    "# Or with Metal GPU acceleration for macOS systems only\n",
    "CMAKE_ARGS=\"-DLLAMA_METAL=on\" pip install llama-cpp-python\n",
    "\n",
    "# In windows, to set the variables CMAKE_ARGS in PowerShell, follow this format; eg for NVidia CUDA:\n",
    "$env:CMAKE_ARGS = \"-DLLAMA_OPENBLAS=on\"\n",
    "pip install llama-cpp-python\n",
    "```"
   ]
  },
  {
   "cell_type": "code",
   "execution_count": 1,
   "id": "4e9ff220-26ad-489e-a8d2-4bd2dc6ae426",
   "metadata": {},
   "outputs": [],
   "source": [
    "from llama_cpp import Llama\n",
    "import pandas as pd\n",
    "import time"
   ]
  },
  {
   "cell_type": "markdown",
   "id": "2b2923ee-f207-453b-97eb-42d0f949beeb",
   "metadata": {},
   "source": [
    "## Model Loading"
   ]
  },
  {
   "cell_type": "code",
   "execution_count": 2,
   "id": "b704cbd7-9b8d-499c-b028-129ef4479090",
   "metadata": {},
   "outputs": [],
   "source": [
    "# I downloaded the model to local\n",
    "model_path = \"/Users/haydenchiu/.cache/lm-studio/models/TheBloke/Mixtral-8x7B-Instruct-v0.1-GGUF/\""
   ]
  },
  {
   "cell_type": "code",
   "execution_count": 3,
   "id": "809afd59-83f9-4efb-a6f4-c0fc84e6731e",
   "metadata": {
    "scrolled": true
   },
   "outputs": [],
   "source": [
    "n_gpu_layers = -1\n",
    "n_batch = 512\n",
    "n_ctx=10000\n",
    "\n",
    "# Set gpu_layers to the number of layers to offload to GPU. Set to 0 if no GPU acceleration is available on your system.\n",
    "llm = Llama(\n",
    "    model_path= model_path + \"mixtral-8x7b-instruct-v0.1.Q4_K_M.gguf\",  # Download the model file first\n",
    "    n_ctx=n_ctx,  # The max sequence length to use - note that longer sequence lengths require much more resources\n",
    "    n_threads=8,            # The number of CPU threads to use, tailor to your system and the resulting performance\n",
    "    n_gpu_layers=n_gpu_layers, # The number of layers to offload to GPU, if you have GPU acceleration available\n",
    "    n_batch=n_batch,\n",
    "    f16_kv=True,\n",
    "    chat_format=\"llama-2\",\n",
    "    verbose=False, #change to True if you want to investigate the logs\n",
    ")"
   ]
  },
  {
   "cell_type": "code",
   "execution_count": 4,
   "id": "6b57a039-2cf9-4b12-83af-ba0261450309",
   "metadata": {},
   "outputs": [
    {
     "data": {
      "text/plain": [
       "' Victoria is the capital city of British Columbia, a province on the western coast of Canada.'"
      ]
     },
     "execution_count": 4,
     "metadata": {},
     "output_type": "execute_result"
    }
   ],
   "source": [
    "#test\n",
    "prompt = \"What is the capital city of British Columbia? Answer in 1 sentence\"\n",
    "# Simple inference example\n",
    "output = llm(\n",
    "    prompt = f\"[INST] {prompt} [/INST]\", # Prompt\n",
    "    max_tokens=512,  # Generate up to 512 tokens\n",
    "    #stop=[\"\"],   # Example stop token - not necessarily correct for this specific model! Please check before using.\n",
    "    echo=False        # Whether to echo the prompt\n",
    ")\n",
    "output['choices'][0]['text']"
   ]
  },
  {
   "cell_type": "code",
   "execution_count": 5,
   "id": "29ab1741-50dd-4f58-a860-e504bc93c23b",
   "metadata": {},
   "outputs": [
    {
     "data": {
      "text/plain": [
       "\" I don't have personal experiences or feelings, so I don't have a favorite city. But I can tell you that the capital city of British Columbia, Canada is Victoria.\""
      ]
     },
     "execution_count": 5,
     "metadata": {},
     "output_type": "execute_result"
    }
   ],
   "source": [
    "# Chat Completion API\n",
    "\n",
    "prompt_1 = \"What is the capital city of British Columbia? Answer in 1 sentence\"\n",
    "\n",
    "prompt_2 = \"What is your favorite city?\"\n",
    "# Generate a chat completion from a list of messages\n",
    "output = llm.create_chat_completion(\n",
    "    messages = [\n",
    "        {\"role\": \"system\", \"content\": \"You are a writing assistant.\"},\n",
    "        {\"role\": \"user\", \"content\": prompt_1},\n",
    "        {\"role\": \"user\", \"content\": prompt_2}\n",
    "    ],\n",
    ")\n",
    "\n",
    "output['choices'][0]['message']['content']\n",
    "# output"
   ]
  },
  {
   "cell_type": "code",
   "execution_count": 6,
   "id": "0c30eb89-7b8e-4b2c-b2a5-063107c35573",
   "metadata": {},
   "outputs": [
    {
     "data": {
      "text/plain": [
       "'.\\n\\nVictoria is the capital city of British Columbia, located on the southern end of Vancouver Island.'"
      ]
     },
     "execution_count": 6,
     "metadata": {},
     "output_type": "execute_result"
    }
   ],
   "source": [
    "# generate text from prompt\n",
    "output = llm.create_completion(\n",
    "    prompt,\n",
    "    max_tokens=1000,\n",
    ")\n",
    "output['choices'][0]['text']"
   ]
  },
  {
   "cell_type": "markdown",
   "id": "6e1663fd-037a-43ce-9ef6-19ab34faef2d",
   "metadata": {},
   "source": [
    "# Data Loading"
   ]
  },
  {
   "cell_type": "code",
   "execution_count": 7,
   "id": "e24d630c-a06b-433e-8a40-b5f9524fa555",
   "metadata": {},
   "outputs": [],
   "source": [
    "mini_dev_filepath = \"../../data/mini_dataset/\"\n",
    "mini_dev_plos_filename = \"PLOS_val_mini_milestone3.jsonl\"\n",
    "mini_dev_elife_filename = \"eLife_val_mini_milestone3.jsonl\"\n",
    "\n",
    "# full_dev_filepath = \"/content/drive/MyDrive/BioLaySumm2024_main/data/full_dev_dataset/\"\n",
    "# full_dev_plos_filename = \"PLOS_val.jsonl\"\n",
    "# full_dev_elife_filename = \"eLife_val.jsonl\"\n",
    "\n",
    "test_filepath = \"../../milestone1/data/biolaysumm2024_data/\"\n",
    "test_plos_filename = \"PLOS_test.jsonl\"\n",
    "test_elife_filename = \"eLife_test.jsonl\"\n",
    "\n",
    "\n",
    "def read_jsonl(filepath, filename):\n",
    "    df = pd.read_json(filepath + filename,\n",
    "                      orient=\"records\",\n",
    "                      lines=True\n",
    "                     )\n",
    "    return df"
   ]
  },
  {
   "cell_type": "code",
   "execution_count": 8,
   "id": "d016be6d-7a1b-4c05-b15b-7f1cf85ee8c0",
   "metadata": {},
   "outputs": [],
   "source": [
    "mini_plos_df = read_jsonl(mini_dev_filepath, mini_dev_plos_filename)\n",
    "mini_elife_df = read_jsonl(mini_dev_filepath, mini_dev_elife_filename)\n",
    "\n",
    "test_plos_df = read_jsonl(test_filepath, test_plos_filename)\n",
    "test_elife_df = read_jsonl(test_filepath, test_elife_filename)"
   ]
  },
  {
   "cell_type": "markdown",
   "id": "9d7fb15e-d333-4108-abd9-937ed9246d67",
   "metadata": {},
   "source": [
    "# Prompt tunning"
   ]
  },
  {
   "cell_type": "code",
   "execution_count": 17,
   "id": "f2982ca3-569f-408b-a8b4-0e96424494d7",
   "metadata": {},
   "outputs": [],
   "source": [
    "def get_gloss(text, llm=llm, max_length=n_ctx, quiet=False):\n",
    "    \"\"\"\n",
    "        get a gloss of technical terms from a text using a LLM\n",
    "    \"\"\"\n",
    "    tic = time.perf_counter()\n",
    "    prompt = f\"\"\"\n",
    "    [INST] Extract important technical terms and provide their gloss from the following medical paper to a JSON format:  {text[:max_length]} [/INST]\n",
    "    \"\"\"\n",
    "    output = llm.create_chat_completion(\n",
    "    messages = [\n",
    "        {\"role\": \"system\", \"content\": \"You are a helpful assistant that outputs in JSON.\"},\n",
    "        {\"role\": \"user\", \"content\": prompt}\n",
    "        ],\n",
    "    response_format={\n",
    "        \"type\": \"json_object\",\n",
    "        },\n",
    "    )\n",
    "    toc = time.perf_counter()\n",
    "    if not quiet:\n",
    "        print(f\"extracted gloss in {toc - tic:0.4f} seconds\")\n",
    "        \n",
    "    return output['choices'][0]['message']['content']"
   ]
  },
  {
   "cell_type": "code",
   "execution_count": 18,
   "id": "c01f00b3-9b29-4d30-af54-eaf39a49ef12",
   "metadata": {},
   "outputs": [],
   "source": [
    "def lay_summarize_with_gloss(text, gloss, llm=llm, max_length=n_ctx, quiet=False):\n",
    "    \"\"\"\n",
    "        summarize a text using a LLM with the aid of gloss of technical terms,\n",
    "        with min_length and max_length are number of tokens limits for the output\n",
    "    \"\"\"\n",
    "    tic = time.perf_counter()\n",
    "    prompt = f\"\"\"[INST] Use simple English when you can for this task. \n",
    "    Using the gloss from this dictionary: {gloss}\n",
    "    Simplify and summarize the following medical paper in around 300 words:  {text[:max_length]} [/INST]\"\"\"\n",
    "\n",
    "    output = llm.create_chat_completion(\n",
    "    messages = [\n",
    "        {\"role\": \"system\", \"content\": \"You are a medical writing assistant who specialize in lay summarization.\"},\n",
    "        {\"role\": \"user\", \"content\": prompt}\n",
    "        ]\n",
    "    )\n",
    "    toc = time.perf_counter()\n",
    "    if not quiet:\n",
    "        print(f\"extracted summary in {toc - tic:0.4f} seconds\")\n",
    "    return output['choices'][0]['message']['content']"
   ]
  },
  {
   "cell_type": "code",
   "execution_count": 24,
   "id": "0279cf29-86fa-4be4-8ff9-dec467f644de",
   "metadata": {},
   "outputs": [],
   "source": [
    "def lay_summarize_train_of_thought(text, llm=llm, max_length=n_ctx, quiet=False):\n",
    "    \"\"\"\n",
    "        summarize a text using a LLM with the aid of gloss of technical terms,\n",
    "        with min_length and max_length are number of tokens limits for the output\n",
    "    \"\"\"\n",
    "    tic = time.perf_counter()\n",
    "\n",
    "    prompt_1 = f\"\"\"[INST] Extract important technical terms and provide their gloss from the following medical paper to a JSON format:  {text[:max_length]} [/INST]\n",
    "    \"\"\"\n",
    "    output_1 = llm.create_chat_completion(\n",
    "    messages = [\n",
    "        {\"role\": \"system\", \"content\": \"You are a medical writing assistant who specialize in lay summarization.\"},\n",
    "        {\"role\": \"user\", \"content\": prompt_1}\n",
    "        ]\n",
    "    )\n",
    "    # if not quiet:\n",
    "    #     print(output_1['choices'][0]['message']['content'])\n",
    "    \n",
    "    prompt_2 = f\"\"\"[INST] Use simple English when you can for this task. \n",
    "    Using the gloss from this dictionary: {output_1['choices'][0]['message']['content']}\n",
    "    Simplify and summarize the following medical paper in around 300 words:  {text[:max_length]} [/INST]\"\"\"\n",
    "\n",
    "    output_2 = llm.create_chat_completion(\n",
    "    messages = [\n",
    "        {\"role\": \"system\", \"content\": \"You are a medical writing assistant who specialize in lay summarization.\"},\n",
    "        {\"role\": \"user\", \"content\": prompt_2}\n",
    "        ]\n",
    "    )\n",
    "    toc = time.perf_counter()\n",
    "    if not quiet:\n",
    "        print(f\"extracted summary in {toc - tic:0.4f} seconds\")\n",
    "    return output_2['choices'][0]['message']['content']"
   ]
  },
  {
   "cell_type": "code",
   "execution_count": 19,
   "id": "2ff0957a-a4f0-4556-8eb4-848b8eabc177",
   "metadata": {},
   "outputs": [],
   "source": [
    "def lay_summarize(text, llm=llm, max_length=n_ctx, quiet=False):\n",
    "    \"\"\"\n",
    "        summarize a text using a LLM with the aid of gloss of technical terms,\n",
    "        with min_length and max_length are number of tokens limits for the output\n",
    "    \"\"\"\n",
    "    tic = time.perf_counter()\n",
    "    \n",
    "    prompt = f\"\"\"[INST] Use simple English when you can for this task. \n",
    "    Simplify and summarize the following medical paper in around 300 words:  {text[:max_length]} [/INST]\"\"\"\n",
    "\n",
    "    output = llm.create_chat_completion(\n",
    "    messages = [\n",
    "        {\"role\": \"system\", \"content\": \"You are a medical writing assistant who specialize in lay summarization.\"},\n",
    "        {\"role\": \"user\", \"content\": prompt}\n",
    "        ]\n",
    "    )\n",
    "    toc = time.perf_counter()\n",
    "    if not quiet:\n",
    "        print(f\"extracted summary in {toc - tic:0.4f} seconds\")\n",
    "        \n",
    "    return output['choices'][0]['message']['content']"
   ]
  },
  {
   "cell_type": "markdown",
   "id": "86435bfd-608f-4c47-9f44-dcd9b9bf4833",
   "metadata": {},
   "source": [
    "## Some more testing"
   ]
  },
  {
   "cell_type": "code",
   "execution_count": 20,
   "id": "dc546d33-3f0c-4ce9-be21-880829baefba",
   "metadata": {
    "scrolled": true
   },
   "outputs": [
    {
     "name": "stdout",
     "output_type": "stream",
     "text": [
      "extracted gloss in 60.9494 seconds\n"
     ]
    },
    {
     "data": {
      "text/plain": [
       "'{\\n    \"technical_terms\": {\\n        \"Neural networks\": \"A network of interconnected neurons that process information and transmit signals.\",\\n        \"Synaptic and cellular activity patterns\": \"The synchronized firing of neurons and the resulting electrical signals in the brain.\",\\n        \"Cognition\": \"The mental process of acquiring knowledge and understanding through thought, experience, and the senses.\",\\n        \"Developmentally regulated\": \"Controlled or influenced by developmental factors.\",\\n        \"Postnatal time course\": \"The progression of events after birth.\",\\n        \"High spatiotemporal resolution in vivo electrophysiology\": \"A research method used to measure the electrical activity of neurons in living organisms with high precision and accuracy.\",\\n        \"Cortical processes\": \"Relating to the outermost layer of the brain, responsible for higher thought processes.\",\\n        \"Volatile transition period\": \"A period of rapid and unpredictable change.\",\\n        \"Neural quiescence\": \"A state of relative inactivity or rest in the nervous system.\",\\n        \"Spatially distributed activity\": \"Activity that is spread out over a large area.\",\\n        \"Temporally precise activity\": \"Activity that occurs at specific and consistent times.\",\\n        \"Internally organized activity\": \"Activity that is structured and coordinated within the nervous system.\",\\n        \"Delta brushes\": \"A type of neural activity commonly observed in human neonates, characterized by a slow wave followed by a faster oscillation.\",\\n        \"Spindle bursts\": \"A type of neural activity commonly observed in rodents, characterized by a rapid oscillation on a background of relative neural inactivity.\",\\n        \"Critical period plasticity\": \"The ability of the brain to change and adapt during specific periods of development.\",\\n        \"Neural synchronization\": \"The coordinated firing of neurons in the brain.\",\\n        \"Oscillatory coupling\": \"The synchronized oscillation of neural activity.\",\\n        \"Continuous electroencephalography (EEG) recordings\": \"A research method used to measure the electrical activity of the brain over a continuous period of time.\",\\n        \"NeuroGrids\": \"Customized surface electrocorticography arrays used for recording neural activity in the brain.\",\\n        \"Parylene C\": \"A type of plastic material used in the construction of NeuroGrids.\",\\n        \"Somatosensory cortex\": \"The part of the brain responsible for processing sensory information from the body.\",\\n        \"Postmortem histology\": \"The examination of tissue after death to study its structure and composition.\",\\n        \"vGlut2 staining\": \"A laboratory technique used to visualize the distribution of a specific protein in the brain.\",\\n        \"Cyclical pattern of sleep and wakefulness\": \"A regular alternation between sleeping and waking states.\",\\n        \"Muscular tone\": \"The tension in muscles.\",\\n        \"Movements\": \"Physical actions or motions.\",\\n        \"Heart rate\": \"The number of times the heart beats per minute.\"\\n    }\\n}'"
      ]
     },
     "execution_count": 20,
     "metadata": {},
     "output_type": "execute_result"
    }
   ],
   "source": [
    "test = mini_elife_df.loc[0,\"article\"]\n",
    "test_gloss = get_gloss(test)\n",
    "test_gloss"
   ]
  },
  {
   "cell_type": "code",
   "execution_count": 21,
   "id": "3dc43cff-1375-4ca5-8979-6cf7ccf98896",
   "metadata": {},
   "outputs": [
    {
     "name": "stdout",
     "output_type": "stream",
     "text": [
      "extracted summary in 55.2972 seconds\n"
     ]
    },
    {
     "data": {
      "text/plain": [
       "' The research investigates how neural networks develop and perform complex computations to support cognition. The study uses high-resolution electrophysiology in mice to observe the development of large-scale synaptic and cellular activity patterns. It was found that mature cortical processes emerge rapidly and simultaneously after a quiet period at the beginning of the second postnatal week in rodents. This transition is characterized by relative neural inactivity, followed by spatially distributed, temporally precise, and interconnected neural activity. A similar developmental trajectory was observed in humans, suggesting an evolutionarily conserved mechanism.\\n\\nThe research also examines the development of neural network properties in the immature brain. It was found that the disappearance of immature activity patterns, such as spindle bursts in rodents and delta brushes in humans, could herald the emergence of advanced neural network properties. During this developmental epoch, cortical microcircuits undergo changes in anatomical and functional connectivity, and robust GABA-mediated fast inhibition appears. These local circuit changes are paralleled with the gradual ingrowth of subcortical neurotransmitters that assist in setting brain state changes.\\n\\nTo investigate this hypothesis, the researchers examined neural network dynamics across early rodent and human development. They found that the transition between immature and mature network dynamics was characterized by a transient decrease in coordinated cellular and synaptic activity. After this timepoint, precise neuronal synchronization and oscillatory coupling in space and time robustly emerged. A similar developmental trajectory was observed in humans.\\n\\nIn summary, the research suggests that the transition from immature to mature neural networks is marked by a transient period of quiescence, followed by the emergence of coordinated and synchronized neural activity. These findings provide insights into the development of neural networks and their role in cognition.'"
      ]
     },
     "execution_count": 21,
     "metadata": {},
     "output_type": "execute_result"
    }
   ],
   "source": [
    "summary_w_gloss = lay_summarize_with_gloss(test, test_gloss)\n",
    "summary_w_gloss"
   ]
  },
  {
   "cell_type": "code",
   "execution_count": 22,
   "id": "e571699e-2456-4c82-ae33-638a463405d3",
   "metadata": {},
   "outputs": [
    {
     "name": "stdout",
     "output_type": "stream",
     "text": [
      "extracted summary in 51.4041 seconds\n"
     ]
    },
    {
     "data": {
      "text/plain": [
       "' This study investigates how immature neural networks develop into mature ones that can perform complex computations for cognition. It focuses on the development of large-scale synaptic and cellular activity patterns in mice and humans. In mice, a distinct but volatile transition period was found at the beginning of the second postnatal week. During this time, there is relative neural quiescence followed by spatially distributed, temporally precise, and internally organized activity. A similar developmental trajectory was observed in humans, suggesting an evolutionarily conserved mechanism.\\n\\nThe study also discusses the role of spindle-like oscillations (10-20 Hz) that occur in immature neural networks. These are triggered by peripheral stimuli and are important for neuronal survival, establishing sensory ensembles, and critical period plasticity. However, they disappear shortly after birth in humans and during the first postnatal week in rodents, indicating their transient role in network maturation.\\n\\nIn contrast, mature cortical networks exhibit perpetual, complex patterns of neural activity that appear and interact across a wide range of frequencies. These patterns create precise spatiotemporal windows for neural synchronization, enabling plasticity processes and generation of neural sequences. Such network properties facilitate information processing and are linked to cognitive processes from stimulus perception to learning and memory.\\n\\nUnderstanding the development of these properties in the immature brain is critical because delay or failure to express mature brain activity can lead to impaired cognition. The study hypothesizes that the emergence of advanced neural network properties could be heralded by the disappearance of immature activity patterns. This developmental epoch is marked by dramatic changes in anatomical and functional connectivity, as well as the appearance of robust GABA-mediated fast inhibition.\\n\\nThe study found that the transition between immature and mature network dynamics was characterized by decreased coordinated cellular and synaptic activity. After this timepoint, precise neuronal synchronization and oscillatory coupling in space and time robustly emerged. A similar developmental trajectory was observed in human subjects, with a transient decrease in neural activity prior to onset of spatiotemporal oscillatory coupling.\\n\\nIn summary, the study suggests that mechanisms to developmentally regulate functional network capacity may be evolutionarily conserved and manifest on the systems level as similar, discrete states.'"
      ]
     },
     "execution_count": 22,
     "metadata": {},
     "output_type": "execute_result"
    }
   ],
   "source": [
    "summary_wo_gloss = lay_summarize(test)\n",
    "summary_wo_gloss"
   ]
  },
  {
   "cell_type": "code",
   "execution_count": 25,
   "id": "7b550b74-8e98-4e0a-93b5-5c3588645eb5",
   "metadata": {},
   "outputs": [
    {
     "name": "stdout",
     "output_type": "stream",
     "text": [
      "extracted summary in 162.2856 seconds\n"
     ]
    },
    {
     "data": {
      "text/plain": [
       "' This study investigates how the brain develops its complex functions during early life. Researchers used high-resolution electrophysiology in mice to find out when and how neural networks start performing advanced computations needed for cognition. They discovered that mature cortical processes, such as spatially distributed, temporally precise, and interconnected activity patterns, quickly emerge after a short transition period at the beginning of the second postnatal week in mice. This transition phase is marked by relative neural quietness before the appearance of coordinated cortical networks.\\n\\nIn both rodents and humans, this developmental trajectory appears to be evolutionarily conserved. The study suggests that a transient quiescent period might be necessary for the subsequent emergence of coordinated cortical networks. During this time, cortical microcircuits undergo significant changes in anatomical and functional connectivity, as well as an abrupt increase in synaptogenesis in superficial layers.\\n\\nThe research also highlights that understanding when and how these advanced neural network properties develop is crucial since delays or failures in expressing mature brain activity can lead to impaired cognition later on. The team hypothesizes that the emergence of these advanced neural network properties might be heralded by the disappearance of immature activity patterns, which could prime a shift in network operating mode and pave the way for re-emergence of different oscillations, such as thalamocortical sleep spindles.\\n\\nThese findings suggest that similar discrete states may regulate functional network capacity during development across species. The research provides valuable insights into how the brain develops its complex computational abilities to support cognition during early life.'"
      ]
     },
     "execution_count": 25,
     "metadata": {},
     "output_type": "execute_result"
    }
   ],
   "source": [
    "lay_summarize_train_of_thought(test)"
   ]
  },
  {
   "cell_type": "markdown",
   "id": "fe9915ac-c6bf-4e5b-93d4-da4629e7d6f1",
   "metadata": {},
   "source": [
    "# Summary Generation\n",
    "## train of thought"
   ]
  },
  {
   "cell_type": "code",
   "execution_count": 27,
   "id": "146c1efd-1843-44df-80e8-c1a2fbdffacb",
   "metadata": {},
   "outputs": [
    {
     "name": "stdout",
     "output_type": "stream",
     "text": [
      "extracted summary in 191.1340 seconds\n",
      "extracted summary in 96.1170 seconds\n",
      "extracted summary in 118.3305 seconds\n",
      "extracted summary in 118.9475 seconds\n",
      "extracted summary in 130.9092 seconds\n",
      "extracted summary in 135.1070 seconds\n",
      "extracted summary in 101.4791 seconds\n",
      "extracted summary in 104.5868 seconds\n",
      "extracted summary in 99.1811 seconds\n",
      "extracted summary in 94.0425 seconds\n",
      "extracted summary in 85.4069 seconds\n",
      "extracted summary in 156.8738 seconds\n",
      "extracted summary in 130.3400 seconds\n",
      "extracted summary in 113.9008 seconds\n",
      "extracted summary in 108.8934 seconds\n",
      "extracted summary in 110.4087 seconds\n",
      "extracted summary in 201.5874 seconds\n",
      "extracted summary in 87.8534 seconds\n",
      "extracted summary in 145.4825 seconds\n",
      "extracted summary in 117.8342 seconds\n",
      "extracted summary in 149.5870 seconds\n",
      "extracted summary in 121.1372 seconds\n",
      "extracted summary in 171.5099 seconds\n",
      "extracted summary in 103.7836 seconds\n",
      "extracted summary in 111.5956 seconds\n",
      "extracted summary in 131.6707 seconds\n",
      "extracted summary in 118.6819 seconds\n",
      "extracted summary in 122.4914 seconds\n",
      "extracted summary in 122.6755 seconds\n",
      "extracted summary in 99.5627 seconds\n",
      "extracted summary in 119.1787 seconds\n",
      "extracted summary in 131.9095 seconds\n",
      "extracted summary in 134.3045 seconds\n",
      "extracted summary in 89.1494 seconds\n",
      "extracted summary in 145.9346 seconds\n",
      "extracted summary in 107.4933 seconds\n",
      "extracted summary in 95.6142 seconds\n",
      "extracted summary in 158.0652 seconds\n",
      "extracted summary in 105.1394 seconds\n",
      "extracted summary in 128.2294 seconds\n",
      "extracted summary in 130.8402 seconds\n",
      "extracted summary in 101.7545 seconds\n",
      "extracted summary in 103.3045 seconds\n",
      "extracted summary in 121.2545 seconds\n",
      "extracted summary in 145.7684 seconds\n",
      "extracted summary in 95.2011 seconds\n",
      "extracted summary in 100.0429 seconds\n",
      "extracted summary in 127.3548 seconds\n",
      "extracted summary in 98.6635 seconds\n",
      "extracted summary in 145.0747 seconds\n",
      "extracted summary in 107.8613 seconds\n",
      "extracted summary in 111.5974 seconds\n",
      "extracted summary in 116.5460 seconds\n",
      "extracted summary in 132.3397 seconds\n",
      "extracted summary in 124.6652 seconds\n",
      "extracted summary in 131.0797 seconds\n",
      "extracted summary in 135.2813 seconds\n",
      "extracted summary in 122.9169 seconds\n",
      "extracted summary in 126.0644 seconds\n",
      "extracted summary in 105.3577 seconds\n",
      "extracted summary in 151.9322 seconds\n",
      "extracted summary in 153.7323 seconds\n",
      "extracted summary in 120.5630 seconds\n",
      "extracted summary in 108.0643 seconds\n",
      "extracted summary in 105.2097 seconds\n",
      "extracted summary in 117.2456 seconds\n",
      "extracted summary in 199.6136 seconds\n",
      "extracted summary in 131.1418 seconds\n",
      "extracted summary in 182.0153 seconds\n",
      "extracted summary in 120.2605 seconds\n",
      "extracted summary in 116.9144 seconds\n",
      "extracted summary in 113.3183 seconds\n",
      "extracted summary in 136.8605 seconds\n",
      "extracted summary in 123.9532 seconds\n",
      "extracted summary in 144.4500 seconds\n",
      "extracted summary in 130.5941 seconds\n",
      "extracted summary in 110.6134 seconds\n",
      "extracted summary in 115.9222 seconds\n",
      "extracted summary in 106.4891 seconds\n",
      "extracted summary in 105.6395 seconds\n",
      "extracted summary in 112.5027 seconds\n",
      "extracted summary in 133.3755 seconds\n",
      "extracted summary in 138.0672 seconds\n",
      "extracted summary in 116.9839 seconds\n",
      "extracted summary in 116.6907 seconds\n",
      "extracted summary in 107.9726 seconds\n",
      "extracted summary in 108.1258 seconds\n",
      "extracted summary in 116.4254 seconds\n",
      "extracted summary in 104.7108 seconds\n",
      "extracted summary in 137.2397 seconds\n",
      "extracted summary in 120.2291 seconds\n",
      "extracted summary in 160.7882 seconds\n",
      "extracted summary in 117.8813 seconds\n",
      "extracted summary in 114.2221 seconds\n",
      "extracted summary in 143.4812 seconds\n",
      "extracted summary in 122.8357 seconds\n",
      "extracted summary in 144.4722 seconds\n",
      "extracted summary in 114.1611 seconds\n",
      "extracted summary in 94.9128 seconds\n",
      "extracted summary in 144.5607 seconds\n",
      "extracted summary in 109.6408 seconds\n",
      "extracted summary in 119.4700 seconds\n",
      "extracted summary in 99.0725 seconds\n",
      "extracted summary in 93.0746 seconds\n",
      "extracted summary in 107.1083 seconds\n",
      "extracted summary in 135.4027 seconds\n",
      "extracted summary in 90.1687 seconds\n",
      "extracted summary in 127.7669 seconds\n",
      "extracted summary in 154.2056 seconds\n",
      "extracted summary in 122.1790 seconds\n",
      "extracted summary in 129.6127 seconds\n",
      "extracted summary in 113.4828 seconds\n",
      "extracted summary in 120.0868 seconds\n",
      "extracted summary in 136.5031 seconds\n",
      "extracted summary in 159.1218 seconds\n",
      "extracted summary in 134.2905 seconds\n",
      "extracted summary in 161.3054 seconds\n",
      "extracted summary in 144.4676 seconds\n",
      "extracted summary in 140.1999 seconds\n",
      "extracted summary in 143.0818 seconds\n",
      "extracted summary in 136.5288 seconds\n",
      "extracted summary in 110.6336 seconds\n",
      "extracted summary in 112.6674 seconds\n",
      "extracted summary in 106.3860 seconds\n",
      "extracted summary in 99.8897 seconds\n",
      "extracted summary in 126.6787 seconds\n",
      "extracted summary in 128.7934 seconds\n",
      "extracted summary in 156.5067 seconds\n",
      "extracted summary in 135.5397 seconds\n",
      "extracted summary in 115.8962 seconds\n",
      "extracted summary in 145.8657 seconds\n",
      "extracted summary in 96.7402 seconds\n",
      "extracted summary in 113.2135 seconds\n",
      "extracted summary in 97.3719 seconds\n",
      "extracted summary in 113.2011 seconds\n",
      "extracted summary in 113.3118 seconds\n",
      "extracted summary in 125.0227 seconds\n",
      "extracted summary in 130.7018 seconds\n",
      "extracted summary in 153.6212 seconds\n",
      "extracted summary in 145.9908 seconds\n",
      "extracted summary in 91.8904 seconds\n",
      "extracted summary in 100.0597 seconds\n"
     ]
    },
    {
     "data": {
      "text/html": [
       "<div>\n",
       "<style scoped>\n",
       "    .dataframe tbody tr th:only-of-type {\n",
       "        vertical-align: middle;\n",
       "    }\n",
       "\n",
       "    .dataframe tbody tr th {\n",
       "        vertical-align: top;\n",
       "    }\n",
       "\n",
       "    .dataframe thead th {\n",
       "        text-align: right;\n",
       "    }\n",
       "</style>\n",
       "<table border=\"1\" class=\"dataframe\">\n",
       "  <thead>\n",
       "    <tr style=\"text-align: right;\">\n",
       "      <th></th>\n",
       "      <th>article</th>\n",
       "      <th>headings</th>\n",
       "      <th>keywords</th>\n",
       "      <th>id</th>\n",
       "      <th>mixtral_summary</th>\n",
       "    </tr>\n",
       "  </thead>\n",
       "  <tbody>\n",
       "    <tr>\n",
       "      <th>0</th>\n",
       "      <td>Acylation of diverse carbohydrates occurs acro...</td>\n",
       "      <td>[Abstract, Introduction, Results and discussio...</td>\n",
       "      <td>[biochemistry and chemical biology, computatio...</td>\n",
       "      <td>elife-81547-v1</td>\n",
       "      <td>The AT3 domain is a type of protein involved ...</td>\n",
       "    </tr>\n",
       "    <tr>\n",
       "      <th>1</th>\n",
       "      <td>Honey bee ecology demands they make both rapid...</td>\n",
       "      <td>[Abstract, Introduction, Results, Discussion, ...</td>\n",
       "      <td>[computational and systems biology]</td>\n",
       "      <td>elife-86176-v2</td>\n",
       "      <td>Honey bees have advanced decision-making abil...</td>\n",
       "    </tr>\n",
       "    <tr>\n",
       "      <th>2</th>\n",
       "      <td>Biguanides , including the world’s most prescr...</td>\n",
       "      <td>[Abstract, Introduction, Results, Discussion, ...</td>\n",
       "      <td>[genetics and genomics]</td>\n",
       "      <td>elife-82210-v1</td>\n",
       "      <td>Biguanides, medicines used to treat type 2 di...</td>\n",
       "    </tr>\n",
       "    <tr>\n",
       "      <th>3</th>\n",
       "      <td>Ecological relationships between bacteria medi...</td>\n",
       "      <td>[Abstract, Introduction, Results, Discussion, ...</td>\n",
       "      <td>[microbiology and infectious disease, ecology]</td>\n",
       "      <td>elife-83152-v2</td>\n",
       "      <td>The gut microbiomes of mammals are made up of...</td>\n",
       "    </tr>\n",
       "    <tr>\n",
       "      <th>4</th>\n",
       "      <td>Gamma oscillations are believed to underlie co...</td>\n",
       "      <td>[Abstract, Introduction, Results, Discussion, ...</td>\n",
       "      <td>[neuroscience]</td>\n",
       "      <td>elife-83044-v2</td>\n",
       "      <td>Gamma oscillations, a type of brain wave, are...</td>\n",
       "    </tr>\n",
       "  </tbody>\n",
       "</table>\n",
       "</div>"
      ],
      "text/plain": [
       "                                             article  \\\n",
       "0  Acylation of diverse carbohydrates occurs acro...   \n",
       "1  Honey bee ecology demands they make both rapid...   \n",
       "2  Biguanides , including the world’s most prescr...   \n",
       "3  Ecological relationships between bacteria medi...   \n",
       "4  Gamma oscillations are believed to underlie co...   \n",
       "\n",
       "                                            headings  \\\n",
       "0  [Abstract, Introduction, Results and discussio...   \n",
       "1  [Abstract, Introduction, Results, Discussion, ...   \n",
       "2  [Abstract, Introduction, Results, Discussion, ...   \n",
       "3  [Abstract, Introduction, Results, Discussion, ...   \n",
       "4  [Abstract, Introduction, Results, Discussion, ...   \n",
       "\n",
       "                                            keywords              id  \\\n",
       "0  [biochemistry and chemical biology, computatio...  elife-81547-v1   \n",
       "1                [computational and systems biology]  elife-86176-v2   \n",
       "2                            [genetics and genomics]  elife-82210-v1   \n",
       "3     [microbiology and infectious disease, ecology]  elife-83152-v2   \n",
       "4                                     [neuroscience]  elife-83044-v2   \n",
       "\n",
       "                                     mixtral_summary  \n",
       "0   The AT3 domain is a type of protein involved ...  \n",
       "1   Honey bees have advanced decision-making abil...  \n",
       "2   Biguanides, medicines used to treat type 2 di...  \n",
       "3   The gut microbiomes of mammals are made up of...  \n",
       "4   Gamma oscillations, a type of brain wave, are...  "
      ]
     },
     "execution_count": 27,
     "metadata": {},
     "output_type": "execute_result"
    }
   ],
   "source": [
    "test_elife_df[\"mixtral_summary\"] = test_elife_df[\"article\"].apply(lambda text: lay_summarize_train_of_thought(text))\n",
    "test_elife_df.head()"
   ]
  },
  {
   "cell_type": "code",
   "execution_count": 29,
   "id": "352f0ed9-0a7f-4483-a7aa-687c3b6b9a61",
   "metadata": {},
   "outputs": [
    {
     "name": "stdout",
     "output_type": "stream",
     "text": [
      "extracted summary in 138.4145 seconds\n",
      "extracted summary in 108.7131 seconds\n",
      "extracted summary in 122.4606 seconds\n",
      "extracted summary in 133.5298 seconds\n",
      "extracted summary in 108.1153 seconds\n",
      "extracted summary in 98.9468 seconds\n",
      "extracted summary in 55.9403 seconds\n",
      "extracted summary in 101.2183 seconds\n",
      "extracted summary in 130.8996 seconds\n",
      "extracted summary in 85.4419 seconds\n",
      "extracted summary in 220.9497 seconds\n",
      "extracted summary in 161.2667 seconds\n",
      "extracted summary in 130.4045 seconds\n",
      "extracted summary in 115.1271 seconds\n",
      "extracted summary in 130.7792 seconds\n",
      "extracted summary in 117.3462 seconds\n",
      "extracted summary in 130.9465 seconds\n",
      "extracted summary in 90.4805 seconds\n",
      "extracted summary in 118.9894 seconds\n",
      "extracted summary in 79.7075 seconds\n",
      "extracted summary in 89.2487 seconds\n",
      "extracted summary in 128.3329 seconds\n",
      "extracted summary in 101.0256 seconds\n",
      "extracted summary in 104.3307 seconds\n",
      "extracted summary in 112.2664 seconds\n",
      "extracted summary in 140.8384 seconds\n",
      "extracted summary in 110.5063 seconds\n",
      "extracted summary in 128.5904 seconds\n",
      "extracted summary in 149.5856 seconds\n",
      "extracted summary in 134.0845 seconds\n",
      "extracted summary in 139.8731 seconds\n",
      "extracted summary in 147.2678 seconds\n",
      "extracted summary in 130.7835 seconds\n",
      "extracted summary in 119.0518 seconds\n",
      "extracted summary in 120.7395 seconds\n",
      "extracted summary in 127.7160 seconds\n",
      "extracted summary in 118.6691 seconds\n",
      "extracted summary in 103.7407 seconds\n",
      "extracted summary in 94.3188 seconds\n",
      "extracted summary in 135.0105 seconds\n",
      "extracted summary in 101.8648 seconds\n",
      "extracted summary in 148.6110 seconds\n",
      "extracted summary in 115.4894 seconds\n",
      "extracted summary in 122.3143 seconds\n",
      "extracted summary in 102.6450 seconds\n",
      "extracted summary in 113.8488 seconds\n",
      "extracted summary in 87.8651 seconds\n",
      "extracted summary in 123.8196 seconds\n",
      "extracted summary in 112.6519 seconds\n",
      "extracted summary in 140.7640 seconds\n",
      "extracted summary in 169.8814 seconds\n",
      "extracted summary in 157.2418 seconds\n",
      "extracted summary in 120.6765 seconds\n",
      "extracted summary in 125.7157 seconds\n",
      "extracted summary in 164.0718 seconds\n",
      "extracted summary in 130.5408 seconds\n",
      "extracted summary in 143.4089 seconds\n",
      "extracted summary in 130.7358 seconds\n",
      "extracted summary in 118.8197 seconds\n",
      "extracted summary in 150.4678 seconds\n",
      "extracted summary in 114.3567 seconds\n",
      "extracted summary in 89.7875 seconds\n",
      "extracted summary in 113.7548 seconds\n",
      "extracted summary in 125.8511 seconds\n",
      "extracted summary in 123.5576 seconds\n",
      "extracted summary in 152.6626 seconds\n",
      "extracted summary in 121.7654 seconds\n",
      "extracted summary in 152.0245 seconds\n",
      "extracted summary in 105.7281 seconds\n",
      "extracted summary in 120.9351 seconds\n",
      "extracted summary in 113.1028 seconds\n",
      "extracted summary in 95.0717 seconds\n",
      "extracted summary in 132.3865 seconds\n",
      "extracted summary in 108.0674 seconds\n",
      "extracted summary in 128.8392 seconds\n",
      "extracted summary in 95.7365 seconds\n",
      "extracted summary in 133.9782 seconds\n",
      "extracted summary in 101.6544 seconds\n",
      "extracted summary in 114.5498 seconds\n",
      "extracted summary in 105.4590 seconds\n",
      "extracted summary in 120.7554 seconds\n",
      "extracted summary in 123.0156 seconds\n",
      "extracted summary in 127.9612 seconds\n",
      "extracted summary in 116.7793 seconds\n",
      "extracted summary in 91.6380 seconds\n",
      "extracted summary in 159.8712 seconds\n",
      "extracted summary in 130.6159 seconds\n",
      "extracted summary in 115.9051 seconds\n",
      "extracted summary in 104.8626 seconds\n",
      "extracted summary in 83.3597 seconds\n",
      "extracted summary in 97.1752 seconds\n",
      "extracted summary in 117.4266 seconds\n",
      "extracted summary in 140.3532 seconds\n",
      "extracted summary in 101.8534 seconds\n",
      "extracted summary in 98.7799 seconds\n",
      "extracted summary in 124.5267 seconds\n",
      "extracted summary in 103.7498 seconds\n",
      "extracted summary in 101.1584 seconds\n",
      "extracted summary in 127.3166 seconds\n",
      "extracted summary in 181.6188 seconds\n",
      "extracted summary in 120.8967 seconds\n",
      "extracted summary in 101.8726 seconds\n",
      "extracted summary in 135.9146 seconds\n",
      "extracted summary in 137.8710 seconds\n",
      "extracted summary in 112.6061 seconds\n",
      "extracted summary in 114.0830 seconds\n",
      "extracted summary in 117.5918 seconds\n",
      "extracted summary in 114.0936 seconds\n",
      "extracted summary in 144.4759 seconds\n",
      "extracted summary in 126.0109 seconds\n",
      "extracted summary in 88.2989 seconds\n",
      "extracted summary in 101.7460 seconds\n",
      "extracted summary in 114.4462 seconds\n",
      "extracted summary in 83.4665 seconds\n",
      "extracted summary in 98.2062 seconds\n",
      "extracted summary in 105.3608 seconds\n",
      "extracted summary in 122.7006 seconds\n",
      "extracted summary in 165.9343 seconds\n",
      "extracted summary in 101.9170 seconds\n",
      "extracted summary in 143.5378 seconds\n",
      "extracted summary in 123.9316 seconds\n",
      "extracted summary in 132.3322 seconds\n",
      "extracted summary in 114.2857 seconds\n",
      "extracted summary in 89.8340 seconds\n",
      "extracted summary in 119.8610 seconds\n",
      "extracted summary in 149.9423 seconds\n",
      "extracted summary in 115.0660 seconds\n",
      "extracted summary in 109.8845 seconds\n",
      "extracted summary in 101.1927 seconds\n",
      "extracted summary in 105.4363 seconds\n",
      "extracted summary in 243.6413 seconds\n",
      "extracted summary in 97.4252 seconds\n",
      "extracted summary in 252.3866 seconds\n",
      "extracted summary in 115.8951 seconds\n",
      "extracted summary in 115.9052 seconds\n",
      "extracted summary in 111.0468 seconds\n",
      "extracted summary in 85.9595 seconds\n",
      "extracted summary in 114.1035 seconds\n",
      "extracted summary in 88.1068 seconds\n",
      "extracted summary in 105.7843 seconds\n",
      "extracted summary in 118.1994 seconds\n",
      "extracted summary in 169.6307 seconds\n"
     ]
    },
    {
     "data": {
      "text/html": [
       "<div>\n",
       "<style scoped>\n",
       "    .dataframe tbody tr th:only-of-type {\n",
       "        vertical-align: middle;\n",
       "    }\n",
       "\n",
       "    .dataframe tbody tr th {\n",
       "        vertical-align: top;\n",
       "    }\n",
       "\n",
       "    .dataframe thead th {\n",
       "        text-align: right;\n",
       "    }\n",
       "</style>\n",
       "<table border=\"1\" class=\"dataframe\">\n",
       "  <thead>\n",
       "    <tr style=\"text-align: right;\">\n",
       "      <th></th>\n",
       "      <th>article</th>\n",
       "      <th>headings</th>\n",
       "      <th>keywords</th>\n",
       "      <th>id</th>\n",
       "      <th>mixtral_summary</th>\n",
       "    </tr>\n",
       "  </thead>\n",
       "  <tbody>\n",
       "    <tr>\n",
       "      <th>0</th>\n",
       "      <td>Lung-resident ( LR ) mesenchymal stem and stro...</td>\n",
       "      <td>[Abstract, Introduction, Results, Discussion, ...</td>\n",
       "      <td>[immune system, medical conditions, molecular ...</td>\n",
       "      <td>journal.ppat.1009789</td>\n",
       "      <td>Mesenchymal stem and stromal cells (MSCs) are...</td>\n",
       "    </tr>\n",
       "    <tr>\n",
       "      <th>1</th>\n",
       "      <td>Visceral leishmaniasis ( VL ) is endemic in So...</td>\n",
       "      <td>[Abstract, Introduction, Methods, Results, Dis...</td>\n",
       "      <td>[neonates, clinical laboratory sciences, trans...</td>\n",
       "      <td>journal.pntd.0007992</td>\n",
       "      <td>Visceral Leishmaniasis (VL), also known as Ka...</td>\n",
       "    </tr>\n",
       "    <tr>\n",
       "      <th>2</th>\n",
       "      <td>A high burden of Salmonella enterica subspecie...</td>\n",
       "      <td>[Abstract, Introduction, Methods, Results, Dis...</td>\n",
       "      <td>[pathogens, medical conditions, taxonomy, bact...</td>\n",
       "      <td>journal.pntd.0010704</td>\n",
       "      <td>The study looked at 310 samples of Salmonella...</td>\n",
       "    </tr>\n",
       "    <tr>\n",
       "      <th>3</th>\n",
       "      <td>Severe Acute Respiratory Syndrome Coronavirus-...</td>\n",
       "      <td>[Abstract, Introduction, Results, Discussion, ...</td>\n",
       "      <td>[pathogens, amniotes, medical conditions, bind...</td>\n",
       "      <td>journal.ppat.1010691</td>\n",
       "      <td>The SARS-CoV-2 virus, responsible for the COV...</td>\n",
       "    </tr>\n",
       "    <tr>\n",
       "      <th>4</th>\n",
       "      <td>Many fungal species utilize hydroxyderivatives...</td>\n",
       "      <td>[Abstract, Introduction, Results and discussio...</td>\n",
       "      <td>[taxonomy, proteins, chemistry, genetics, enzy...</td>\n",
       "      <td>journal.pgen.1009815</td>\n",
       "      <td>The yeast Candida parapsilosis can use hydrox...</td>\n",
       "    </tr>\n",
       "  </tbody>\n",
       "</table>\n",
       "</div>"
      ],
      "text/plain": [
       "                                             article  \\\n",
       "0  Lung-resident ( LR ) mesenchymal stem and stro...   \n",
       "1  Visceral leishmaniasis ( VL ) is endemic in So...   \n",
       "2  A high burden of Salmonella enterica subspecie...   \n",
       "3  Severe Acute Respiratory Syndrome Coronavirus-...   \n",
       "4  Many fungal species utilize hydroxyderivatives...   \n",
       "\n",
       "                                            headings  \\\n",
       "0  [Abstract, Introduction, Results, Discussion, ...   \n",
       "1  [Abstract, Introduction, Methods, Results, Dis...   \n",
       "2  [Abstract, Introduction, Methods, Results, Dis...   \n",
       "3  [Abstract, Introduction, Results, Discussion, ...   \n",
       "4  [Abstract, Introduction, Results and discussio...   \n",
       "\n",
       "                                            keywords                    id  \\\n",
       "0  [immune system, medical conditions, molecular ...  journal.ppat.1009789   \n",
       "1  [neonates, clinical laboratory sciences, trans...  journal.pntd.0007992   \n",
       "2  [pathogens, medical conditions, taxonomy, bact...  journal.pntd.0010704   \n",
       "3  [pathogens, amniotes, medical conditions, bind...  journal.ppat.1010691   \n",
       "4  [taxonomy, proteins, chemistry, genetics, enzy...  journal.pgen.1009815   \n",
       "\n",
       "                                     mixtral_summary  \n",
       "0   Mesenchymal stem and stromal cells (MSCs) are...  \n",
       "1   Visceral Leishmaniasis (VL), also known as Ka...  \n",
       "2   The study looked at 310 samples of Salmonella...  \n",
       "3   The SARS-CoV-2 virus, responsible for the COV...  \n",
       "4   The yeast Candida parapsilosis can use hydrox...  "
      ]
     },
     "execution_count": 29,
     "metadata": {},
     "output_type": "execute_result"
    }
   ],
   "source": [
    "test_plos_df[\"mixtral_summary\"] = test_plos_df[\"article\"].apply(lambda text: lay_summarize_train_of_thought(text))\n",
    "test_plos_df.head()"
   ]
  },
  {
   "cell_type": "markdown",
   "id": "2863d90b-d67e-4c43-960b-30e13a234419",
   "metadata": {},
   "source": [
    "# Output"
   ]
  },
  {
   "cell_type": "code",
   "execution_count": 28,
   "id": "ad9b31e3-3324-443a-883d-f6aa2fc42c5e",
   "metadata": {},
   "outputs": [],
   "source": [
    "def write_to_txt(df, output_path, output_file_txt):\n",
    "    \n",
    "    df[\"mixtral_summary\"] = df[\"mixtral_summary\"].apply(lambda text: (text\n",
    "                                                              .replace(\"\\n\", \"\")\n",
    "                                                              .strip('\"')\n",
    "                                                              .strip()\n",
    "                                                              ))\n",
    "    # write the baseline_summary column to txt file\n",
    "    txt_df = df['mixtral_summary']\n",
    "    txt_df.to_csv(output_path+output_file_txt,\n",
    "                index=False,\n",
    "                header=False,\n",
    "                sep=\"\\n\"\n",
    "              )\n",
    "  print(f\"Output {output_file_txt} completed\")"
   ]
  },
  {
   "cell_type": "code",
   "execution_count": 30,
   "id": "39f0e264-40f2-4f5b-9597-f7755c291815",
   "metadata": {},
   "outputs": [
    {
     "name": "stdout",
     "output_type": "stream",
     "text": [
      "Output plos.txt completed\n",
      "Output elife.txt completed\n"
     ]
    }
   ],
   "source": [
    "output_path = './data/'\n",
    "output_file_txt = \"plos.txt\"\n",
    "\n",
    "write_to_txt(test_plos_df, output_path, output_file_txt)\n",
    "\n",
    "output_file_txt = \"elife.txt\"\n",
    "\n",
    "write_to_txt(test_elife_df, output_path, output_file_txt)"
   ]
  },
  {
   "cell_type": "code",
   "execution_count": 32,
   "id": "8de8e2f5-27dc-4861-ab50-6c8f80d8c29c",
   "metadata": {},
   "outputs": [],
   "source": [
    "test_plos_df.to_csv(output_path+\"plos_results.csv\")\n",
    "test_elife_df.to_csv(output_path+\"elife_results.csv\")"
   ]
  },
  {
   "cell_type": "code",
   "execution_count": null,
   "id": "bf4f8c4a-f3c9-471e-9cd3-33ee8525bb75",
   "metadata": {},
   "outputs": [],
   "source": []
  }
 ],
 "metadata": {
  "kernelspec": {
   "display_name": "Python [conda env:root] *",
   "language": "python",
   "name": "conda-root-py"
  },
  "language_info": {
   "codemirror_mode": {
    "name": "ipython",
    "version": 3
   },
   "file_extension": ".py",
   "mimetype": "text/x-python",
   "name": "python",
   "nbconvert_exporter": "python",
   "pygments_lexer": "ipython3",
   "version": "3.11.6"
  }
 },
 "nbformat": 4,
 "nbformat_minor": 5
}
