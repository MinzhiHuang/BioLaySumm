{
 "cells": [
  {
   "cell_type": "markdown",
   "id": "c6f8d2e6-e289-47dd-892d-7b6d582af70c",
   "metadata": {},
   "source": [
    "# Data Extraction\n",
    "\n",
    "In this notebook, we will extract abstract and summary parts from articles, then write to csv files"
   ]
  },
  {
   "cell_type": "code",
   "execution_count": 1,
   "id": "0ec371b4-1337-483f-8a69-f5c95166bd9c",
   "metadata": {},
   "outputs": [],
   "source": [
    "import pandas as pd"
   ]
  },
  {
   "cell_type": "code",
   "execution_count": 2,
   "id": "07555eff-3a61-45ac-88a7-ae6f7c1e1971",
   "metadata": {},
   "outputs": [
    {
     "data": {
      "text/html": [
       "<div>\n",
       "<style scoped>\n",
       "    .dataframe tbody tr th:only-of-type {\n",
       "        vertical-align: middle;\n",
       "    }\n",
       "\n",
       "    .dataframe tbody tr th {\n",
       "        vertical-align: top;\n",
       "    }\n",
       "\n",
       "    .dataframe thead th {\n",
       "        text-align: right;\n",
       "    }\n",
       "</style>\n",
       "<table border=\"1\" class=\"dataframe\">\n",
       "  <thead>\n",
       "    <tr style=\"text-align: right;\">\n",
       "      <th></th>\n",
       "      <th>lay_summary</th>\n",
       "      <th>article</th>\n",
       "      <th>headings</th>\n",
       "      <th>keywords</th>\n",
       "      <th>id</th>\n",
       "    </tr>\n",
       "  </thead>\n",
       "  <tbody>\n",
       "    <tr>\n",
       "      <th>0</th>\n",
       "      <td>In the USA , more deaths happen in the winter ...</td>\n",
       "      <td>In temperate climates , winter deaths exceed s...</td>\n",
       "      <td>[Abstract, Introduction, Results, Discussion, ...</td>\n",
       "      <td>[epidemiology and global health]</td>\n",
       "      <td>elife-35500-v1</td>\n",
       "    </tr>\n",
       "    <tr>\n",
       "      <th>1</th>\n",
       "      <td>Most people have likely experienced the discom...</td>\n",
       "      <td>Whether complement dysregulation directly cont...</td>\n",
       "      <td>[Abstract, Introduction, Results, Discussion, ...</td>\n",
       "      <td>[microbiology and infectious disease, immunolo...</td>\n",
       "      <td>elife-48378-v2</td>\n",
       "    </tr>\n",
       "    <tr>\n",
       "      <th>2</th>\n",
       "      <td>The immune system protects an individual from ...</td>\n",
       "      <td>Variation in the presentation of hereditary im...</td>\n",
       "      <td>[Abstract, Introduction, Results, Discussion, ...</td>\n",
       "      <td>[microbiology and infectious disease, immunolo...</td>\n",
       "      <td>elife-04494-v1</td>\n",
       "    </tr>\n",
       "    <tr>\n",
       "      <th>3</th>\n",
       "      <td>The brain adapts to control our behavior in di...</td>\n",
       "      <td>Rapid and flexible interpretation of conflicti...</td>\n",
       "      <td>[Abstract, Introduction, Results, Discussion, ...</td>\n",
       "      <td>[neuroscience]</td>\n",
       "      <td>elife-12352-v2</td>\n",
       "    </tr>\n",
       "    <tr>\n",
       "      <th>4</th>\n",
       "      <td>Cells use motor proteins that to move organell...</td>\n",
       "      <td>Myosin 5a is a dual-headed molecular motor tha...</td>\n",
       "      <td>[Abstract, Introduction, Results, Discussion, ...</td>\n",
       "      <td>[structural biology and molecular biophysics]</td>\n",
       "      <td>elife-05413-v2</td>\n",
       "    </tr>\n",
       "  </tbody>\n",
       "</table>\n",
       "</div>"
      ],
      "text/plain": [
       "                                         lay_summary  \\\n",
       "0  In the USA , more deaths happen in the winter ...   \n",
       "1  Most people have likely experienced the discom...   \n",
       "2  The immune system protects an individual from ...   \n",
       "3  The brain adapts to control our behavior in di...   \n",
       "4  Cells use motor proteins that to move organell...   \n",
       "\n",
       "                                             article  \\\n",
       "0  In temperate climates , winter deaths exceed s...   \n",
       "1  Whether complement dysregulation directly cont...   \n",
       "2  Variation in the presentation of hereditary im...   \n",
       "3  Rapid and flexible interpretation of conflicti...   \n",
       "4  Myosin 5a is a dual-headed molecular motor tha...   \n",
       "\n",
       "                                            headings  \\\n",
       "0  [Abstract, Introduction, Results, Discussion, ...   \n",
       "1  [Abstract, Introduction, Results, Discussion, ...   \n",
       "2  [Abstract, Introduction, Results, Discussion, ...   \n",
       "3  [Abstract, Introduction, Results, Discussion, ...   \n",
       "4  [Abstract, Introduction, Results, Discussion, ...   \n",
       "\n",
       "                                            keywords              id  \n",
       "0                   [epidemiology and global health]  elife-35500-v1  \n",
       "1  [microbiology and infectious disease, immunolo...  elife-48378-v2  \n",
       "2  [microbiology and infectious disease, immunolo...  elife-04494-v1  \n",
       "3                                     [neuroscience]  elife-12352-v2  \n",
       "4      [structural biology and molecular biophysics]  elife-05413-v2  "
      ]
     },
     "execution_count": 2,
     "metadata": {},
     "output_type": "execute_result"
    }
   ],
   "source": [
    "path = \"./data/biolaysumm2024_data/\"\n",
    "filename = \"eLife_train.jsonl\"\n",
    "df = pd.read_json(path + filename,\n",
    "                  orient=\"records\",\n",
    "                  lines=True)\n",
    "df.head()"
   ]
  },
  {
   "cell_type": "code",
   "execution_count": 3,
   "id": "fe0c5bda-0223-4d3e-bec9-7eb214eaf588",
   "metadata": {},
   "outputs": [
    {
     "data": {
      "text/plain": [
       "lay_summary    In the USA , more deaths happen in the winter ...\n",
       "article        In temperate climates , winter deaths exceed s...\n",
       "headings       [Abstract, Introduction, Results, Discussion, ...\n",
       "keywords                        [epidemiology and global health]\n",
       "id                                                elife-35500-v1\n",
       "Name: 0, dtype: object"
      ]
     },
     "execution_count": 3,
     "metadata": {},
     "output_type": "execute_result"
    }
   ],
   "source": [
    "item = df.iloc[0]\n",
    "item"
   ]
  },
  {
   "cell_type": "code",
   "execution_count": 4,
   "id": "ab9d666c-988a-4a66-9af8-816922c5c307",
   "metadata": {},
   "outputs": [
    {
     "data": {
      "text/plain": [
       "3039"
      ]
     },
     "execution_count": 4,
     "metadata": {},
     "output_type": "execute_result"
    }
   ],
   "source": [
    "# count words\n",
    "len(item[\"article\"].split())"
   ]
  },
  {
   "cell_type": "code",
   "execution_count": 5,
   "id": "3872b841-960b-45f1-8a85-220f7fd2cab5",
   "metadata": {},
   "outputs": [
    {
     "name": "stdout",
     "output_type": "stream",
     "text": [
      "5\n"
     ]
    }
   ],
   "source": [
    "# split by paragraph\n",
    "paras = item[\"article\"].split(\"\\n\")\n",
    "print(len(paras))"
   ]
  },
  {
   "cell_type": "code",
   "execution_count": 6,
   "id": "4abab193-8881-43bc-b8db-b20eb30b143f",
   "metadata": {},
   "outputs": [
    {
     "name": "stdout",
     "output_type": "stream",
     "text": [
      "171\n"
     ]
    },
    {
     "data": {
      "text/plain": [
       "'In temperate climates , winter deaths exceed summer ones . However , there is limited information on the timing and the relative magnitudes of maximum and minimum mortality , by local climate , age group , sex and medical cause of death . We used geo-coded mortality data and wavelets to analyse the seasonality of mortality by age group and sex from 1980 to 2016 in the USA and its subnational climatic regions . Death rates in men and women ≥ 45 years peaked in December to February and were lowest in June to August , driven by cardiorespiratory diseases and injuries . In these ages , percent difference in death rates between peak and minimum months did not vary across climate regions , nor changed from 1980 to 2016 . Under five years , seasonality of all-cause mortality largely disappeared after the 1990s . In adolescents and young adults , especially in males , death rates peaked in June/July and were lowest in December/January , driven by injury deaths . '"
      ]
     },
     "execution_count": 6,
     "metadata": {},
     "output_type": "execute_result"
    }
   ],
   "source": [
    "# the Abstract section is the first one\n",
    "print(len(paras[0].split()))\n",
    "paras[0]"
   ]
  },
  {
   "cell_type": "code",
   "execution_count": 7,
   "id": "36640032-12fe-41f1-ab7d-f0c61032f801",
   "metadata": {},
   "outputs": [
    {
     "name": "stdout",
     "output_type": "stream",
     "text": [
      "In temperate climates , winter deaths exceed summer ones . However , there is limited information on the timing and the relative magnitudes of maximum and minimum mortality , by local climate , age group , sex and medical cause of death . We used geo-coded mortality data and wavelets to analyse the seasonality of mortality by age group and sex from 1980 to 2016 in the USA and its subnational climatic regions . Death rates in men and women ≥ 45 years peaked in December to February and were lowest in June to August , driven by cardiorespiratory diseases and injuries . In these ages , percent difference in death rates between peak and minimum months did not vary across climate regions , nor changed from 1980 to 2016 . Under five years , seasonality of all-cause mortality largely disappeared after the 1990s . In adolescents and young adults , especially in males , death rates peaked in June/July and were lowest in December/January , driven by injury deaths . \n",
      "-------------\n",
      " It is well-established that death rates vary throughout the year , and in temperate climates there tend to be more deaths in winter than in summer ( Campbell , 2017; Fowler et al . , 2015; Healy , 2003; McKee , 1989 ) . It has therefore been hypothesized that a warmer world may lower winter mortality in temperate climates ( Langford and Bentham , 1995; Martens , 1998 ) . In a large country like the USA , which possesses distinct climate regions , the seasonality of mortality may vary geographically , due to geographical variations in mortality , localized weather patterns , and regional differences in adaptation measures such as heating , air conditioning and healthcare ( Davis et al . , 2004; Braga et al . , 2001; Kalkstein , 2013; Medina-Ramón and Schwartz , 2007 ) . The presence and extent of seasonal variation in mortality may also itself change over time ( Bobb et al . , 2014; Carson et al . , 2006; Seretakis et al . , 1997; Sheridan et al . , 2009 ) . A thorough understanding of the long-term dynamics of seasonality of mortality , and its geographical and demographic patterns , is needed to identify at-risk groups , plan responses at the present time as well as under changing climate conditions . Although mortality seasonality is well-established , there is limited information on how seasonality , including the timing of minimum and maximum mortality , varies by local climate and how these features have changed over time , especially in relation to age group , sex and medical cause of death ( Rau , 2004; Rau et al . , 2018 ) . In this paper , we comprehensively characterize the spatial and temporal patterns of all-cause and cause-specific mortality seasonality in the USA by sex and age group , through the application of wavelet analytical techniques , to over three decades of national mortality data . Wavelets have been used to study the dynamics of weather phenomena ( Moy et al . , 2002 ) and infectious diseases ( Grenfell et al . , 2001 ) . We also used centre of gravity analysis and circular statistics methods to understand the timing of maximum and minimum mortality . In addition , we identify how the percentage difference between death rates in maximum and minimum mortality months has changed over time . \n",
      "-------------\n",
      " The strengths of our study are its innovative methods of characterizing seasonality of mortality dynamically over space and time , by age group and cause of death; using wavelet and centre of gravity analyses; using ERA-Interim data output to compare the association between seasonality of death rates and regional temperature . A limitation of our study is that we did not investigate seasonality of mortality by socioeconomic characteristics which may help with understanding its determinants and planning responses . \n",
      "-------------\n",
      " We used wavelet and centre of gravity analyses , which allowed systematically identifying and characterizing seasonality of total and cause-specific mortality in the USA , and examining how seasonality has changed over time . We identified distinct seasonal patterns in relation to age and sex , including higher all-cause summer mortality in young men ( Feinstein , 2002; Rau et al . , 2018 ) . Importantly , we also showed that all-cause and cause-specific mortality seasonality is largely similar in terms of both timing and magnitude across diverse climatic regions with substantially different summer and winter temperatures . Insights of this kind would not have been possible analysing data averaged over time or nationally , or fixed to pre-specified frequencies . Prior studies have noted seasonality of mortality for all-cause mortality and for specific causes of death in the USA ( Feinstein , 2002; Kalkstein , 2013; Rau , 2004; Rau et al . , 2018; Rosenwaike , 1966; Seretakis et al . , 1997 ) . Few of these studies have done consistent national and subnational analyses , and none has done so over time , for a comprehensive set of age groups and causes of death , and in relation to regional temperature differences . Our results on strong seasonality of cardiorespiratory diseases deaths and weak seasonality of cancer deaths , restricted to older ages , are broadly consistent with these studies ( Feinstein , 2002; Rau et al . , 2018; Rosenwaike , 1966; Seretakis et al . , 1997 ) , which had limited analysis on how seasonality changes over time and geography ( Feinstein , 2002; Rau et al . , 2018; Rosenwaike , 1966 ) . Similarly , our results on seasonality of injury deaths are supported by a few prior studies ( Feinstein , 2002; Rau et al . , 2018; Rosenwaike , 1966 ) , but our subnational analysis over three decades revealed variations in when injury deaths peaked and in how seasonal differences in these deaths have changed over time in relation to age group which had not been reported before . A study of 36 cities in the USA , aggregated across age groups and over time , also found that excess mortality was not associated with seasonal temperature range ( Kinney et al . , 2015 ) . In contrast , a European study found that the difference between winter and summer mortality was lower in colder Nordic countries than in warmer southern European nations ( Healy , 2003; McKee , 1989 ) ( the study’s measure of temperature was mean annual temperature which differed from the temperature difference between maximum and minimum mortality used in our analysis although the two measures are correlated ) . The absence of variation in the magnitude of mortality seasonality indicates that different regions in the USA are similarly adapted to temperature seasonality , whereas Nordic countries may have better environmental ( e . g . housing insulation and heating ) and health system measures to counter the effects of cold winters than those in southern Europe . If the observed absence of association between the magnitude of mortality seasonality and seasonal temperature difference across the climate regions also persists over time , the changes in temperature as a result of global climate change are unlikely to affect the winter-summer mortality difference . The cause-specific analysis showed that the substantial decline in seasonal mortality differences in adolescents and young adults was related to the diminishing seasonality of ( unintentional ) injuries , especially from road traffic crashes , which are more likely to occur in the summer months ( Liu et al . , 2005 ) and are more common in men . The weakening of seasonality in boys under five years of age was related to two phenomena: first , the seasonality of death from cardiorespiratory diseases declined , and second , the proportion of deaths from perinatal conditions , which exhibit limited seasonality ( Figure 9—figure supplement 2 and Figure 10—figure supplement 3 ) , increased ( MacDorman and Gregory , 2015 ) . In contrast to young and middle ages , mortality in older ages , where death rates are highest , maintained persistent seasonality over a period of three decades ( we note that although the percent seasonal difference in mortality has remained largely unchanged in these ages , the absolute difference in death rates between the peak and minimum months has declined because total mortality has a declining long-term trend ) . This finding demonstrates the need for environmental and health service interventions targeted towards this group irrespective of geography and local climate . Examples of such interventions include enhancing the availability of both environmental and medical protective factors , such as better insulation of homes , winter heating provision and flu vaccinations , for the vulnerable older population ( Katiyo et al . , 2017 ) . Social interventions , including regular visits to the isolated elderly during peak mortality periods to ensure that they are optimally prepared for adverse conditions , and responsive and high-quality emergency care , are also important to protect this vulnerable group ( Healy , 2003; Lerchl , 1998; Katiyo et al . , 2017 ) . Emergent new technologies , such as always-connected hands-free communications devices with the outside world , in-house cameras , and personal sensors also provide an opportunity to enhance care for the older , more vulnerable groups in the population , especially in winter when the elderly have fewer social interactions ( Morris , 2013 ) . Such interventions are important today , and will remain so as the population ages and climate change increases the within- and between-season weather variability . \n",
      "-------------\n",
      " We used data on all 85 , 854 , 176 deaths in the USA from 1980 to 2016 from the National Center for Health Statistics ( NCHS ) . Age , sex , state of residence , month of death , and underlying cause of death were available for each record . The underlying cause of death was coded according to the international classification of diseases ( ICD ) system ( 9th revision of ICD from 1980 to 1998 and 10th revision of ICD thereafter ) . Yearly population counts were available from NCHS for 1990 to 2016 and from the US Census Bureau prior to 1990 ( Ingram et al . , 2003 ) . We calculated monthly population counts through linear interpolation , assigning each yearly count to July . We also subdivided the national data geographically into nine climate regions used by the National Oceanic and Atmospheric Administration ( Figure 18 and Table 2 ) ( Karl and Koss , 1984 ) . On average , the Southeast and South are the hottest climate regions with average annual temperatures of 18 . 4°C and 18°C respectively; the South also possesses the highest average maximum monthly temperature ( 27 . 9°C in July ) . The lowest variation in temperature throughout the year is that of the Southeast ( an average range of 17 . 5°C ) . The three coldest climate regions are West North Central , East North Central and the Northwest ( 7 . 6°C , 8 . 0°C , 8 . 2°C respectively ) . Mirroring the characteristics of the hottest climate regions , the largest variation in temperature throughout the year is that of the coldest region , West North Central ( an average range of 30 . 5°C ) , which also has the lowest average minimum monthly temperature ( −6 . 5°C in January ) . The other climate regions , Northeast , Southwest , and Central , possess similar average temperatures ( 10°C to 14°C ) and variation within the year of ( 23°C to 26°C ) , with the Northeast being the most populous region in the United States ( with 19 . 8% total population in 2016 ) . Data were divided by sex and age in the following 10 age groups: 0–4 , 5–14 , 15-24 , 25–34 , 35–44 , 45–54 , 55–64 , 65–74 , 75–84 , 85+ years . We calculated monthly death rates for each age and sex group , both nationally and for sub-national climate regions . Death rate calculations accounted for varying length of months , by multiplying each month’s death count by a factor that would make it equivalent to a 31 day month . For analysis of seasonality by cause of death , we mapped each ICD-9 and ICD-10 codes to four main disease categories ( Table 1 ) and to a number of subcategories which are presented in the Supplementary Note . Cardiorespiratory diseases and cancers accounted for 56 . 4% and 21 . 2% of all deaths in the USA , respectively , in 1980 , and 40 . 3% and 22 . 4% , respectively , in 2016 . Deaths from cardiorespiratory diseases have been associated with cold and warm temperatures ( Basu , 2009; Basu and Samet , 2002; Bennett et al . , 2014; Braga et al . , 2002; Gasparrini et al . , 2015 ) . Injuries , which accounted for 8% of all deaths in the USA in 1980 and 7 . 3% in 2016 , may have seasonality that is distinct from so-called natural causes . We did not further divide other causes because the number of deaths could become too small to allow stable estimates when divided by age group , sex and climate region . We obtained data on temperature from ERA-Interim , which combines predictions from a physical model with ground-based and satellite measurements ( Dee et al . , 2011 ) . We used gridded four-times-daily estimates at a resolution of 80 km to generate monthly population-weighted temperature by climate region throughout the analysis period . We used wavelet analysis to investigate seasonality for each age-sex group . Wavelet analysis uncovers the presence , and frequency , of repeated maxima and minima in each age-sex-specific death rate time series ( Hubbard , 1998; Torrence and Compo , 1998 ) . In brief , a Morlet wavelet , described in detail elsewhere ( Cazelles et al . , 2008 ) , is equivalent to using a moving window on the death rate time series and analysing periodicity in each window using a short-form Fourier transform , hence generating a dynamic spectral analysis , which allows measuring dynamic seasonal patterns , in which the periodicity of death rates may disappear , emerge , or change over time . In addition to coefficients that measure the frequency of periodicity , wavelet analysis estimates the probability of whether the data are different from the null situation of random fluctuations that can be represented with white ( an independent random process ) or red ( autoregressive of order one process ) noise . For each age-sex group , we calculated the p-values of the presence of 12 month seasonality for the comparison of wavelet power spectra of the entire study period ( 1980–2016 ) with 100 simulations against a white noise spectrum , which represents random fluctuations . We used the R package WaveletComp ( version 1 . 0 ) for the wavelet analysis . Before analysis , we de-trended death rates using a polynomial regression , and rescaled each death rate time series so as to range between 1 and −1 . To identify the months of maximum and minimum death rates , we calculated the centre of gravity and the negative centre of gravity of monthly death rates . Centre of gravity was calculated as a weighted average of months of deaths , with each month weighted by its death rate; negative centre of gravity was also calculated as a weighted average of months of deaths , but with each month was weighted by the difference between its death rate and the year’s maximum death rate . In taking the weighted average , we allowed December ( month 12 ) to neighbour January ( month 1 ) , representing each month by an angle subtended from 12 equally-spaced points around a unit circle . Using a technique called circular statistics , a mean ( θ- ) of the angles ( θ1 , θ2 , θ3… , θn , ) representing the deaths ( with n the total number of deaths in an age-sex group for a particular cause of death ) is found using the relation below:θ-=arg∑j=1nexp⁡ ( iθj ) , where arg denotes the complex number argument and θj denotes the month of death in angular form for a particular death j . The outcome of this calculation is then converted back into a month value ( Fisher , 1995 ) . Along with each circular mean , a 95% confidence interval ( CI ) was calculated by using 1000 bootstrap samples . The R package CircStats ( version 0 . 2 . 4 ) was used for this analysis . For each age-sex group and cause of death , and for each year , we calculated the percent difference in death rates between the maximum and minimum mortality months . We fitted a linear regression to the time series of seasonal differences from 1980 to 2016 , and used the fitted trend line to estimate how much the percentage difference in death rates between the maximum and minimum mortality months had changed from 1980 to 2016 . We weighted seasonal difference by the inverse of the square of its standard error , which was calculated using a Poisson model to take population size of each age-sex group through time into account . This method gives us a p-value for the change in seasonal difference per year , which we used to calculate the seasonal difference at the start ( 1980 ) and end ( 2016 ) of the period of study . Our method of analysing seasonal differences avoids assuming that any specific month or group of months represent highest and lowest number of deaths for a particular cause of death , which is the approach taken by the traditional measure of Excess Winter Deaths . It also allows the maximum and minimum mortality months to vary by age group , sex and cause of death .\n",
      "-------------\n"
     ]
    }
   ],
   "source": [
    "for pr in paras:\n",
    "    print(pr)\n",
    "    print(\"-------------\")"
   ]
  },
  {
   "cell_type": "code",
   "execution_count": 8,
   "id": "feaa83bd-9407-48f7-93b1-98ca998662ec",
   "metadata": {},
   "outputs": [],
   "source": [
    "# MAX_CHAR = 1000\n",
    "MAX_CHAR = -1\n"
   ]
  },
  {
   "cell_type": "code",
   "execution_count": 9,
   "id": "53002bd5-c7c9-4137-9c2b-ae0317592c67",
   "metadata": {},
   "outputs": [
    {
     "data": {
      "text/plain": [
       "'In temperate climates , winter deaths exceed summer ones . However , there is limited information on the timing and the relative magnitudes of maximum and minimum mortality , by local climate , age group , sex and medical cause of death . We used geo-coded mortality data and wavelets to analyse the seasonality of mortality by age group and sex from 1980 to 2016 in the USA and its subnational climatic regions . Death rates in men and women ≥ 45 years peaked in December to February and were lowest in June to August , driven by cardiorespiratory diseases and injuries . In these ages , percent difference in death rates between peak and minimum months did not vary across climate regions , nor changed from 1980 to 2016 . Under five years , seasonality of all-cause mortality largely disappeared after the 1990s . In adolescents and young adults , especially in males , death rates peaked in June/July and were lowest in December/January , driven by injury deaths .'"
      ]
     },
     "execution_count": 9,
     "metadata": {},
     "output_type": "execute_result"
    }
   ],
   "source": [
    "# function to extract first paragraph of the text\n",
    "def get_abstract(text):\n",
    "    \"\"\"\n",
    "        return abstract (first paragraph) of the text\n",
    "    \"\"\"\n",
    "    result = \"\"\n",
    "    result = text.split(\"\\n\")[0][:MAX_CHAR]\n",
    "    return result\n",
    "\n",
    "get_abstract(item[\"article\"])"
   ]
  },
  {
   "cell_type": "code",
   "execution_count": 10,
   "id": "d26eeb15-f7b5-4827-a6a6-68d276930757",
   "metadata": {},
   "outputs": [
    {
     "data": {
      "text/plain": [
       "' We used wavelet and centre of gravity analyses , which allowed systematically identifying and characterizing seasonality of total and cause-specific mortality in the USA , and examining how seasonality has changed over time . We identified distinct seasonal patterns in relation to age and sex , including higher all-cause summer mortality in young men ( Feinstein , 2002; Rau et al . , 2018 ) . Importantly , we also showed that all-cause and cause-specific mortality seasonality is largely similar in terms of both timing and magnitude across diverse climatic regions with substantially different summer and winter temperatures . Insights of this kind would not have been possible analysing data averaged over time or nationally , or fixed to pre-specified frequencies . Prior studies have noted seasonality of mortality for all-cause mortality and for specific causes of death in the USA ( Feinstein , 2002; Kalkstein , 2013; Rau , 2004; Rau et al . , 2018; Rosenwaike , 1966; Seretakis et al . , 1997 ) . Few of these studies have done consistent national and subnational analyses , and none has done so over time , for a comprehensive set of age groups and causes of death , and in relation to regional temperature differences . Our results on strong seasonality of cardiorespiratory diseases deaths and weak seasonality of cancer deaths , restricted to older ages , are broadly consistent with these studies ( Feinstein , 2002; Rau et al . , 2018; Rosenwaike , 1966; Seretakis et al . , 1997 ) , which had limited analysis on how seasonality changes over time and geography ( Feinstein , 2002; Rau et al . , 2018; Rosenwaike , 1966 ) . Similarly , our results on seasonality of injury deaths are supported by a few prior studies ( Feinstein , 2002; Rau et al . , 2018; Rosenwaike , 1966 ) , but our subnational analysis over three decades revealed variations in when injury deaths peaked and in how seasonal differences in these deaths have changed over time in relation to age group which had not been reported before . A study of 36 cities in the USA , aggregated across age groups and over time , also found that excess mortality was not associated with seasonal temperature range ( Kinney et al . , 2015 ) . In contrast , a European study found that the difference between winter and summer mortality was lower in colder Nordic countries than in warmer southern European nations ( Healy , 2003; McKee , 1989 ) ( the study’s measure of temperature was mean annual temperature which differed from the temperature difference between maximum and minimum mortality used in our analysis although the two measures are correlated ) . The absence of variation in the magnitude of mortality seasonality indicates that different regions in the USA are similarly adapted to temperature seasonality , whereas Nordic countries may have better environmental ( e . g . housing insulation and heating ) and health system measures to counter the effects of cold winters than those in southern Europe . If the observed absence of association between the magnitude of mortality seasonality and seasonal temperature difference across the climate regions also persists over time , the changes in temperature as a result of global climate change are unlikely to affect the winter-summer mortality difference . The cause-specific analysis showed that the substantial decline in seasonal mortality differences in adolescents and young adults was related to the diminishing seasonality of ( unintentional ) injuries , especially from road traffic crashes , which are more likely to occur in the summer months ( Liu et al . , 2005 ) and are more common in men . The weakening of seasonality in boys under five years of age was related to two phenomena: first , the seasonality of death from cardiorespiratory diseases declined , and second , the proportion of deaths from perinatal conditions , which exhibit limited seasonality ( Figure 9—figure supplement 2 and Figure 10—figure supplement 3 ) , increased ( MacDorman and Gregory , 2015 ) . In contrast to young and middle ages , mortality in older ages , where death rates are highest , maintained persistent seasonality over a period of three decades ( we note that although the percent seasonal difference in mortality has remained largely unchanged in these ages , the absolute difference in death rates between the peak and minimum months has declined because total mortality has a declining long-term trend ) . This finding demonstrates the need for environmental and health service interventions targeted towards this group irrespective of geography and local climate . Examples of such interventions include enhancing the availability of both environmental and medical protective factors , such as better insulation of homes , winter heating provision and flu vaccinations , for the vulnerable older population ( Katiyo et al . , 2017 ) . Social interventions , including regular visits to the isolated elderly during peak mortality periods to ensure that they are optimally prepared for adverse conditions , and responsive and high-quality emergency care , are also important to protect this vulnerable group ( Healy , 2003; Lerchl , 1998; Katiyo et al . , 2017 ) . Emergent new technologies , such as always-connected hands-free communications devices with the outside world , in-house cameras , and personal sensors also provide an opportunity to enhance care for the older , more vulnerable groups in the population , especially in winter when the elderly have fewer social interactions ( Morris , 2013 ) . Such interventions are important today , and will remain so as the population ages and climate change increases the within- and between-season weather variability .'"
      ]
     },
     "execution_count": 10,
     "metadata": {},
     "output_type": "execute_result"
    }
   ],
   "source": [
    "# function to extract first paragraph of the text\n",
    "def get_conclusion(text):\n",
    "    \"\"\"\n",
    "        return conclusion (second last paragraph) of the text\n",
    "    \"\"\"\n",
    "    result = \"\"\n",
    "    result = text.split(\"\\n\")[-2][:MAX_CHAR]  # limit to 1,000 characters\n",
    "    return result\n",
    "\n",
    "get_conclusion(item[\"article\"])"
   ]
  },
  {
   "cell_type": "code",
   "execution_count": 11,
   "id": "1a4dced5-63b4-4663-bd9d-0cd1ff49a0a1",
   "metadata": {},
   "outputs": [
    {
     "data": {
      "text/html": [
       "<div>\n",
       "<style scoped>\n",
       "    .dataframe tbody tr th:only-of-type {\n",
       "        vertical-align: middle;\n",
       "    }\n",
       "\n",
       "    .dataframe tbody tr th {\n",
       "        vertical-align: top;\n",
       "    }\n",
       "\n",
       "    .dataframe thead th {\n",
       "        text-align: right;\n",
       "    }\n",
       "</style>\n",
       "<table border=\"1\" class=\"dataframe\">\n",
       "  <thead>\n",
       "    <tr style=\"text-align: right;\">\n",
       "      <th></th>\n",
       "      <th>lay_summary</th>\n",
       "      <th>article</th>\n",
       "      <th>headings</th>\n",
       "      <th>keywords</th>\n",
       "      <th>id</th>\n",
       "      <th>abstract</th>\n",
       "      <th>conclusion</th>\n",
       "    </tr>\n",
       "  </thead>\n",
       "  <tbody>\n",
       "    <tr>\n",
       "      <th>0</th>\n",
       "      <td>In the USA , more deaths happen in the winter ...</td>\n",
       "      <td>In temperate climates , winter deaths exceed s...</td>\n",
       "      <td>[Abstract, Introduction, Results, Discussion, ...</td>\n",
       "      <td>[epidemiology and global health]</td>\n",
       "      <td>elife-35500-v1</td>\n",
       "      <td>In temperate climates , winter deaths exceed s...</td>\n",
       "      <td>We used wavelet and centre of gravity analyse...</td>\n",
       "    </tr>\n",
       "    <tr>\n",
       "      <th>1</th>\n",
       "      <td>Most people have likely experienced the discom...</td>\n",
       "      <td>Whether complement dysregulation directly cont...</td>\n",
       "      <td>[Abstract, Introduction, Results, Discussion, ...</td>\n",
       "      <td>[microbiology and infectious disease, immunolo...</td>\n",
       "      <td>elife-48378-v2</td>\n",
       "      <td>Whether complement dysregulation directly cont...</td>\n",
       "      <td>Mechanistic advances in our understanding of ...</td>\n",
       "    </tr>\n",
       "    <tr>\n",
       "      <th>2</th>\n",
       "      <td>The immune system protects an individual from ...</td>\n",
       "      <td>Variation in the presentation of hereditary im...</td>\n",
       "      <td>[Abstract, Introduction, Results, Discussion, ...</td>\n",
       "      <td>[microbiology and infectious disease, immunolo...</td>\n",
       "      <td>elife-04494-v1</td>\n",
       "      <td>Variation in the presentation of hereditary im...</td>\n",
       "      <td>We report that HOIL-1 is essential during inf...</td>\n",
       "    </tr>\n",
       "    <tr>\n",
       "      <th>3</th>\n",
       "      <td>The brain adapts to control our behavior in di...</td>\n",
       "      <td>Rapid and flexible interpretation of conflicti...</td>\n",
       "      <td>[Abstract, Introduction, Results, Discussion, ...</td>\n",
       "      <td>[neuroscience]</td>\n",
       "      <td>elife-12352-v2</td>\n",
       "      <td>Rapid and flexible interpretation of conflicti...</td>\n",
       "      <td>We used intracranial field potentials to meas...</td>\n",
       "    </tr>\n",
       "    <tr>\n",
       "      <th>4</th>\n",
       "      <td>Cells use motor proteins that to move organell...</td>\n",
       "      <td>Myosin 5a is a dual-headed molecular motor tha...</td>\n",
       "      <td>[Abstract, Introduction, Results, Discussion, ...</td>\n",
       "      <td>[structural biology and molecular biophysics]</td>\n",
       "      <td>elife-05413-v2</td>\n",
       "      <td>Myosin 5a is a dual-headed molecular motor tha...</td>\n",
       "      <td>Label-sizes of a few tens of nm are tradition...</td>\n",
       "    </tr>\n",
       "  </tbody>\n",
       "</table>\n",
       "</div>"
      ],
      "text/plain": [
       "                                         lay_summary  \\\n",
       "0  In the USA , more deaths happen in the winter ...   \n",
       "1  Most people have likely experienced the discom...   \n",
       "2  The immune system protects an individual from ...   \n",
       "3  The brain adapts to control our behavior in di...   \n",
       "4  Cells use motor proteins that to move organell...   \n",
       "\n",
       "                                             article  \\\n",
       "0  In temperate climates , winter deaths exceed s...   \n",
       "1  Whether complement dysregulation directly cont...   \n",
       "2  Variation in the presentation of hereditary im...   \n",
       "3  Rapid and flexible interpretation of conflicti...   \n",
       "4  Myosin 5a is a dual-headed molecular motor tha...   \n",
       "\n",
       "                                            headings  \\\n",
       "0  [Abstract, Introduction, Results, Discussion, ...   \n",
       "1  [Abstract, Introduction, Results, Discussion, ...   \n",
       "2  [Abstract, Introduction, Results, Discussion, ...   \n",
       "3  [Abstract, Introduction, Results, Discussion, ...   \n",
       "4  [Abstract, Introduction, Results, Discussion, ...   \n",
       "\n",
       "                                            keywords              id  \\\n",
       "0                   [epidemiology and global health]  elife-35500-v1   \n",
       "1  [microbiology and infectious disease, immunolo...  elife-48378-v2   \n",
       "2  [microbiology and infectious disease, immunolo...  elife-04494-v1   \n",
       "3                                     [neuroscience]  elife-12352-v2   \n",
       "4      [structural biology and molecular biophysics]  elife-05413-v2   \n",
       "\n",
       "                                            abstract  \\\n",
       "0  In temperate climates , winter deaths exceed s...   \n",
       "1  Whether complement dysregulation directly cont...   \n",
       "2  Variation in the presentation of hereditary im...   \n",
       "3  Rapid and flexible interpretation of conflicti...   \n",
       "4  Myosin 5a is a dual-headed molecular motor tha...   \n",
       "\n",
       "                                          conclusion  \n",
       "0   We used wavelet and centre of gravity analyse...  \n",
       "1   Mechanistic advances in our understanding of ...  \n",
       "2   We report that HOIL-1 is essential during inf...  \n",
       "3   We used intracranial field potentials to meas...  \n",
       "4   Label-sizes of a few tens of nm are tradition...  "
      ]
     },
     "execution_count": 11,
     "metadata": {},
     "output_type": "execute_result"
    }
   ],
   "source": [
    "# apply to dataset\n",
    "df[\"abstract\"] = df[\"article\"].apply(get_abstract)\n",
    "df[\"conclusion\"] = df[\"article\"].apply(get_conclusion)\n",
    "df.head()"
   ]
  },
  {
   "cell_type": "code",
   "execution_count": 12,
   "id": "c122e44f-97f6-4e3d-9d51-b4fb4009fa99",
   "metadata": {},
   "outputs": [
    {
     "data": {
      "text/html": [
       "<div>\n",
       "<style scoped>\n",
       "    .dataframe tbody tr th:only-of-type {\n",
       "        vertical-align: middle;\n",
       "    }\n",
       "\n",
       "    .dataframe tbody tr th {\n",
       "        vertical-align: top;\n",
       "    }\n",
       "\n",
       "    .dataframe thead th {\n",
       "        text-align: right;\n",
       "    }\n",
       "</style>\n",
       "<table border=\"1\" class=\"dataframe\">\n",
       "  <thead>\n",
       "    <tr style=\"text-align: right;\">\n",
       "      <th></th>\n",
       "      <th>lay_summary</th>\n",
       "      <th>headings</th>\n",
       "      <th>keywords</th>\n",
       "      <th>id</th>\n",
       "      <th>abstract</th>\n",
       "      <th>conclusion</th>\n",
       "    </tr>\n",
       "  </thead>\n",
       "  <tbody>\n",
       "    <tr>\n",
       "      <th>0</th>\n",
       "      <td>In the USA , more deaths happen in the winter ...</td>\n",
       "      <td>[Abstract, Introduction, Results, Discussion, ...</td>\n",
       "      <td>[epidemiology and global health]</td>\n",
       "      <td>elife-35500-v1</td>\n",
       "      <td>In temperate climates , winter deaths exceed s...</td>\n",
       "      <td>We used wavelet and centre of gravity analyse...</td>\n",
       "    </tr>\n",
       "    <tr>\n",
       "      <th>1</th>\n",
       "      <td>Most people have likely experienced the discom...</td>\n",
       "      <td>[Abstract, Introduction, Results, Discussion, ...</td>\n",
       "      <td>[microbiology and infectious disease, immunolo...</td>\n",
       "      <td>elife-48378-v2</td>\n",
       "      <td>Whether complement dysregulation directly cont...</td>\n",
       "      <td>Mechanistic advances in our understanding of ...</td>\n",
       "    </tr>\n",
       "    <tr>\n",
       "      <th>2</th>\n",
       "      <td>The immune system protects an individual from ...</td>\n",
       "      <td>[Abstract, Introduction, Results, Discussion, ...</td>\n",
       "      <td>[microbiology and infectious disease, immunolo...</td>\n",
       "      <td>elife-04494-v1</td>\n",
       "      <td>Variation in the presentation of hereditary im...</td>\n",
       "      <td>We report that HOIL-1 is essential during inf...</td>\n",
       "    </tr>\n",
       "    <tr>\n",
       "      <th>3</th>\n",
       "      <td>The brain adapts to control our behavior in di...</td>\n",
       "      <td>[Abstract, Introduction, Results, Discussion, ...</td>\n",
       "      <td>[neuroscience]</td>\n",
       "      <td>elife-12352-v2</td>\n",
       "      <td>Rapid and flexible interpretation of conflicti...</td>\n",
       "      <td>We used intracranial field potentials to meas...</td>\n",
       "    </tr>\n",
       "    <tr>\n",
       "      <th>4</th>\n",
       "      <td>Cells use motor proteins that to move organell...</td>\n",
       "      <td>[Abstract, Introduction, Results, Discussion, ...</td>\n",
       "      <td>[structural biology and molecular biophysics]</td>\n",
       "      <td>elife-05413-v2</td>\n",
       "      <td>Myosin 5a is a dual-headed molecular motor tha...</td>\n",
       "      <td>Label-sizes of a few tens of nm are tradition...</td>\n",
       "    </tr>\n",
       "  </tbody>\n",
       "</table>\n",
       "</div>"
      ],
      "text/plain": [
       "                                         lay_summary  \\\n",
       "0  In the USA , more deaths happen in the winter ...   \n",
       "1  Most people have likely experienced the discom...   \n",
       "2  The immune system protects an individual from ...   \n",
       "3  The brain adapts to control our behavior in di...   \n",
       "4  Cells use motor proteins that to move organell...   \n",
       "\n",
       "                                            headings  \\\n",
       "0  [Abstract, Introduction, Results, Discussion, ...   \n",
       "1  [Abstract, Introduction, Results, Discussion, ...   \n",
       "2  [Abstract, Introduction, Results, Discussion, ...   \n",
       "3  [Abstract, Introduction, Results, Discussion, ...   \n",
       "4  [Abstract, Introduction, Results, Discussion, ...   \n",
       "\n",
       "                                            keywords              id  \\\n",
       "0                   [epidemiology and global health]  elife-35500-v1   \n",
       "1  [microbiology and infectious disease, immunolo...  elife-48378-v2   \n",
       "2  [microbiology and infectious disease, immunolo...  elife-04494-v1   \n",
       "3                                     [neuroscience]  elife-12352-v2   \n",
       "4      [structural biology and molecular biophysics]  elife-05413-v2   \n",
       "\n",
       "                                            abstract  \\\n",
       "0  In temperate climates , winter deaths exceed s...   \n",
       "1  Whether complement dysregulation directly cont...   \n",
       "2  Variation in the presentation of hereditary im...   \n",
       "3  Rapid and flexible interpretation of conflicti...   \n",
       "4  Myosin 5a is a dual-headed molecular motor tha...   \n",
       "\n",
       "                                          conclusion  \n",
       "0   We used wavelet and centre of gravity analyse...  \n",
       "1   Mechanistic advances in our understanding of ...  \n",
       "2   We report that HOIL-1 is essential during inf...  \n",
       "3   We used intracranial field potentials to meas...  \n",
       "4   Label-sizes of a few tens of nm are tradition...  "
      ]
     },
     "execution_count": 12,
     "metadata": {},
     "output_type": "execute_result"
    }
   ],
   "source": [
    "# drop the article column to reduce file size\n",
    "output_df = df.drop(columns=[\"article\"])\n",
    "output_df.head()"
   ]
  },
  {
   "cell_type": "code",
   "execution_count": 13,
   "id": "58329078-52c3-43a8-be6c-dce64097a73f",
   "metadata": {},
   "outputs": [
    {
     "data": {
      "text/plain": [
       "'eLife_train.jsonl'"
      ]
     },
     "execution_count": 13,
     "metadata": {},
     "output_type": "execute_result"
    }
   ],
   "source": [
    "filename"
   ]
  },
  {
   "cell_type": "code",
   "execution_count": 14,
   "id": "8aef9f06-4a8c-40c6-b2ad-455db283ac81",
   "metadata": {},
   "outputs": [
    {
     "name": "stdout",
     "output_type": "stream",
     "text": [
      "Writing output to eLife_train.csv\n",
      "Completed\n"
     ]
    }
   ],
   "source": [
    "path = \"./data/extracted/\"\n",
    "filename = \"eLife_train.csv\"\n",
    "print(\"Writing output to\", filename)\n",
    "output_df.to_csv(path + filename)\n",
    "print(\"Completed\")"
   ]
  },
  {
   "cell_type": "markdown",
   "id": "632ba309-401a-4789-8f57-1e374220490b",
   "metadata": {},
   "source": [
    "### Apply data extraction for all datasets"
   ]
  },
  {
   "cell_type": "code",
   "execution_count": 15,
   "id": "fa4dc53d-c8b3-4ac0-b79e-f29992703f48",
   "metadata": {},
   "outputs": [
    {
     "name": "stdout",
     "output_type": "stream",
     "text": [
      "eLife_train.jsonl\n",
      "eLife_train_extracted.csv\n"
     ]
    }
   ],
   "source": [
    "# testing filename conversion jsonl -> csv\n",
    "filename = \"eLife_train.jsonl\"\n",
    "print(filename)\n",
    "print(filename[:filename.rfind(\".\")] + \"_extracted.csv\") # should be eLife_train.csv"
   ]
  },
  {
   "cell_type": "code",
   "execution_count": 19,
   "id": "9a8a3de5-7bc1-4778-bd23-782c080122a2",
   "metadata": {},
   "outputs": [
    {
     "name": "stdout",
     "output_type": "stream",
     "text": [
      "Abstract text extraction:\n",
      "=============================\n",
      "Processing file = eLife_train.jsonl\n",
      "Number of records = 4346\n",
      "Getting abstracts\n",
      "Getting conclusions\n",
      "Completed\n",
      "Abstract char count =\n",
      " count    4346.000000\n",
      "mean     1086.333870\n",
      "std       139.682148\n",
      "min       448.000000\n",
      "25%      1028.000000\n",
      "50%      1081.000000\n",
      "75%      1135.000000\n",
      "max      3043.000000\n",
      "Name: abstract, dtype: float64\n",
      "Summary char count =\n",
      " count    4346.000000\n",
      "mean     2211.847906\n",
      "std       371.989210\n",
      "min      1006.000000\n",
      "25%      1966.000000\n",
      "50%      2191.000000\n",
      "75%      2449.000000\n",
      "max      4154.000000\n",
      "Name: lay_summary, dtype: float64\n",
      "Writing output to eLife_train_extracted_max1000.csv\n",
      "Writing output to eLife_train_extracted_max1000.txt\n",
      "Completed\n",
      "--------------------\n",
      "Processing file = eLife_val.jsonl\n",
      "Number of records = 241\n",
      "Getting abstracts\n",
      "Getting conclusions\n",
      "Completed\n",
      "Abstract char count =\n",
      " count     241.000000\n",
      "mean     1080.215768\n",
      "std       131.387829\n",
      "min       539.000000\n",
      "25%      1018.000000\n",
      "50%      1073.000000\n",
      "75%      1130.000000\n",
      "max      2016.000000\n",
      "Name: abstract, dtype: float64\n",
      "Summary char count =\n",
      " count     241.000000\n",
      "mean     2254.804979\n",
      "std       401.670449\n",
      "min      1321.000000\n",
      "25%      1985.000000\n",
      "50%      2247.000000\n",
      "75%      2535.000000\n",
      "max      3960.000000\n",
      "Name: lay_summary, dtype: float64\n",
      "Writing output to eLife_val_extracted_max1000.csv\n",
      "Writing output to eLife_val_extracted_max1000.txt\n",
      "Completed\n",
      "--------------------\n",
      "Processing file = eLife_test.jsonl\n",
      "Number of records = 142\n",
      "Getting abstracts\n",
      "Getting conclusions\n",
      "Completed\n",
      "Abstract char count =\n",
      " count     142.000000\n",
      "mean     1536.084507\n",
      "std       371.219831\n",
      "min       842.000000\n",
      "25%      1288.500000\n",
      "50%      1476.000000\n",
      "75%      1715.250000\n",
      "max      3269.000000\n",
      "Name: abstract, dtype: float64\n",
      "Writing output to eLife_test_extracted_max1000.csv\n",
      "Writing output to eLife_test_extracted_max1000.txt\n",
      "Completed\n",
      "--------------------\n",
      "Processing file = PLOS_train.jsonl\n",
      "Number of records = 24773\n",
      "Getting abstracts\n",
      "Getting conclusions\n",
      "Completed\n",
      "Abstract char count =\n",
      " count    24773.00000\n",
      "mean      1684.45041\n",
      "std        394.36251\n",
      "min         23.00000\n",
      "25%       1399.00000\n",
      "50%       1703.00000\n",
      "75%       1977.00000\n",
      "max       4094.00000\n",
      "Name: abstract, dtype: float64\n",
      "Summary char count =\n",
      " count    24773.000000\n",
      "mean      1222.329835\n",
      "std        229.293565\n",
      "min         32.000000\n",
      "25%       1092.000000\n",
      "50%       1259.000000\n",
      "75%       1370.000000\n",
      "max       3353.000000\n",
      "Name: lay_summary, dtype: float64\n",
      "Writing output to PLOS_train_extracted_max1000.csv\n",
      "Writing output to PLOS_train_extracted_max1000.txt\n",
      "Completed\n",
      "--------------------\n",
      "Processing file = PLOS_val.jsonl\n",
      "Number of records = 1376\n",
      "Getting abstracts\n",
      "Getting conclusions\n",
      "Completed\n",
      "Abstract char count =\n",
      " count    1376.000000\n",
      "mean     1701.077035\n",
      "std       388.604131\n",
      "min       583.000000\n",
      "25%      1429.000000\n",
      "50%      1732.000000\n",
      "75%      1987.500000\n",
      "max      3387.000000\n",
      "Name: abstract, dtype: float64\n",
      "Summary char count =\n",
      " count    1376.000000\n",
      "mean     1222.901890\n",
      "std       226.865336\n",
      "min       379.000000\n",
      "25%      1100.750000\n",
      "50%      1260.000000\n",
      "75%      1367.000000\n",
      "max      2366.000000\n",
      "Name: lay_summary, dtype: float64\n",
      "Writing output to PLOS_val_extracted_max1000.csv\n",
      "Writing output to PLOS_val_extracted_max1000.txt\n",
      "Completed\n",
      "--------------------\n",
      "Processing file = PLOS_test.jsonl\n",
      "Number of records = 142\n",
      "Getting abstracts\n",
      "Getting conclusions\n",
      "Completed\n",
      "Abstract char count =\n",
      " count     142.000000\n",
      "mean     1728.570423\n",
      "std       459.277360\n",
      "min       749.000000\n",
      "25%      1390.500000\n",
      "50%      1767.000000\n",
      "75%      2002.750000\n",
      "max      3534.000000\n",
      "Name: abstract, dtype: float64\n",
      "Writing output to PLOS_test_extracted_max1000.csv\n",
      "Writing output to PLOS_test_extracted_max1000.txt\n",
      "Completed\n",
      "--------------------\n",
      "======= completed ========\n"
     ]
    }
   ],
   "source": [
    "file_path = \"./data/biolaysumm2024_data/\"\n",
    "file_names = [\"eLife_train.jsonl\", \"eLife_val.jsonl\", \"eLife_test.jsonl\",\n",
    "              \"PLOS_train.jsonl\", \"PLOS_val.jsonl\", \"PLOS_test.jsonl\"\n",
    "             ]\n",
    "\n",
    "output_path = \"./data/extracted/\"\n",
    "\n",
    "print(\"Abstract text extraction:\")\n",
    "print(\"=============================\")\n",
    "for filename in file_names:\n",
    "    print(\"Processing file =\", filename)\n",
    "    df = pd.read_json(file_path+filename,\n",
    "                       orient=\"records\",\n",
    "                       lines=True)\n",
    "    print(\"Number of records =\", len(df))\n",
    "\n",
    "    # apply get_abstract function\n",
    "    print(\"Getting abstracts\")\n",
    "    df[\"abstract\"] = df[\"article\"].apply(get_abstract)\n",
    "    print(\"Getting conclusions\")\n",
    "    df[\"conclusion\"] = df[\"article\"].apply(get_conclusion)\n",
    "    print(\"Completed\")\n",
    "    # get some statistics\n",
    "    \n",
    "    abstract_len = df[\"abstract\"].apply(lambda text: len(text))\n",
    "    print(\"Abstract char count =\\n\", abstract_len.describe())\n",
    "    if \"lay_summary\" in df.columns:\n",
    "        lay_summary_len = df[\"lay_summary\"].apply(lambda text: len(text))\n",
    "        print(\"Summary char count =\\n\", lay_summary_len.describe())\n",
    "    \n",
    "    output_df = df.drop(columns=[\"article\"])\n",
    "    output_filename = filename[:filename.rfind(\".\")] + \"_extracted_max1000.csv\"\n",
    "    print(\"Writing output to\", output_filename)\n",
    "    # output_df.to_csv(output_path + output_filename)\n",
    "\n",
    "    # write txt file\n",
    "    output_df_txt = df[\"abstract\"]\n",
    "    output_filename_txt = filename[:filename.rfind(\".\")] + \"_extracted_max1000.txt\"\n",
    "    print(\"Writing output to\", output_filename_txt)\n",
    "    # output_df_txt.to_csv(output_path + output_filename_txt,\n",
    "    #                     index=False,\n",
    "    #                     sep=\"\\n\",\n",
    "    #                     header=False)\n",
    "    \n",
    "    \n",
    "    print(\"Completed\")\n",
    "    print(\"--------------------\")\n",
    "\n",
    "print(\"======= completed ========\")"
   ]
  }
 ],
 "metadata": {
  "kernelspec": {
   "display_name": "Python 3 (ipykernel)",
   "language": "python",
   "name": "python3"
  },
  "language_info": {
   "codemirror_mode": {
    "name": "ipython",
    "version": 3
   },
   "file_extension": ".py",
   "mimetype": "text/x-python",
   "name": "python",
   "nbconvert_exporter": "python",
   "pygments_lexer": "ipython3",
   "version": "3.11.8"
  }
 },
 "nbformat": 4,
 "nbformat_minor": 5
}
