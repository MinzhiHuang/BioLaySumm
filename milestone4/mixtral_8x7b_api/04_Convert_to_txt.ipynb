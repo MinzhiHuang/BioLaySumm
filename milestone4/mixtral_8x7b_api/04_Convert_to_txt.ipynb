{
 "cells": [
  {
   "cell_type": "markdown",
   "id": "09bab5da-64c6-44fd-a0f2-c28293b417f4",
   "metadata": {},
   "source": [
    "## 04-Convert CSV to Txt\n",
    "In this notebook, we will convert csv output of datasets (mini dev set, full dev set, test set) to txt format suitable for eval code"
   ]
  },
  {
   "cell_type": "code",
   "execution_count": 1,
   "id": "cd260cd9-0d45-4208-85e7-fc2eeb68b807",
   "metadata": {},
   "outputs": [],
   "source": [
    "import pandas as pd"
   ]
  },
  {
   "cell_type": "code",
   "execution_count": 2,
   "id": "80e76092-3482-49f0-8db9-d7b67529f22f",
   "metadata": {},
   "outputs": [],
   "source": [
    "# list of files to convert\n",
    "filenames = [\"./data/output/mini_dev_set/elife_groq_mistral_summary.csv\",\n",
    "             \"./data/output/mini_dev_set/plos_groq_mistral_summary.csv\",\n",
    "             \"./data/output/full_dev_set/elife_groq_mistral_summary.csv\",\n",
    "             \"./data/output/full_dev_set/plos_groq_mistral_summary.csv\",             \n",
    "             \"./data/output/test_set/elife_groq_mistral_summary.csv\",\n",
    "             \"./data/output/test_set/plos_groq_mistral_summary.csv\"\n",
    "            ]\n",
    "\n",
    "output_filenames = [\"./data/output/mini_dev_set/elife.txt\",\n",
    "                     \"./data/output/mini_dev_set/plos.txt\",\n",
    "                     \"./data/output/full_dev_set/elife.txt\",\n",
    "                     \"./data/output/full_dev_set/plos.txt\",             \n",
    "                     \"./data/output/test_set/elife.txt\",\n",
    "                     \"./data/output/test_set/plos.txt\"\n",
    "                   ]"
   ]
  },
  {
   "cell_type": "code",
   "execution_count": 3,
   "id": "df7546f3-6a83-44e0-9cba-f728b55b1f01",
   "metadata": {},
   "outputs": [
    {
     "name": "stdout",
     "output_type": "stream",
     "text": [
      "Processing file = ./data/output/mini_dev_set/elife_groq_mistral_summary.csv\n",
      "Len = 24\n",
      "Writing to file = ./data/output/mini_dev_set/elife.txt\n",
      "Completed\n",
      "------------------\n",
      "Processing file = ./data/output/mini_dev_set/plos_groq_mistral_summary.csv\n",
      "Len = 138\n",
      "Writing to file = ./data/output/mini_dev_set/plos.txt\n",
      "Completed\n",
      "------------------\n",
      "Processing file = ./data/output/full_dev_set/elife_groq_mistral_summary.csv\n",
      "Len = 241\n",
      "Writing to file = ./data/output/full_dev_set/elife.txt\n",
      "Completed\n",
      "------------------\n",
      "Processing file = ./data/output/full_dev_set/plos_groq_mistral_summary.csv\n",
      "Len = 1376\n",
      "Writing to file = ./data/output/full_dev_set/plos.txt\n",
      "Completed\n",
      "------------------\n",
      "Processing file = ./data/output/test_set/elife_groq_mistral_summary.csv\n",
      "Len = 142\n",
      "Writing to file = ./data/output/test_set/elife.txt\n",
      "Completed\n",
      "------------------\n",
      "Processing file = ./data/output/test_set/plos_groq_mistral_summary.csv\n",
      "Len = 142\n",
      "Writing to file = ./data/output/test_set/plos.txt\n",
      "Completed\n",
      "------------------\n",
      "=================\n",
      "All completed\n"
     ]
    }
   ],
   "source": [
    "for fname, output_fname in zip(filenames, output_filenames):\n",
    "    print(\"Processing file =\", fname)\n",
    "    df = pd.read_csv(fname)\n",
    "    print(\"Len =\", len(df))\n",
    "\n",
    "    print(\"Writing to file =\", output_fname)\n",
    "    # does some simple data cleaning\n",
    "    df_txt = df[\"groq_mistral_summary\"].apply(lambda text: text.replace(\"\\n\", \"\")) #(\"\\n\", \"\")\n",
    "    df_txt.to_csv(output_fname,\n",
    "                  header=False,\n",
    "                  index=False,\n",
    "                  sep=\"\\n\"\n",
    "                 )\n",
    "    print(\"Completed\")\n",
    "    print(\"------------------\")\n",
    "\n",
    "print(\"=================\")\n",
    "print(\"All completed\")"
   ]
  },
  {
   "cell_type": "code",
   "execution_count": null,
   "id": "0c741110-adf6-4f4f-a425-cb95a6f230fd",
   "metadata": {},
   "outputs": [],
   "source": []
  }
 ],
 "metadata": {
  "kernelspec": {
   "display_name": "Python 3 (ipykernel)",
   "language": "python",
   "name": "python3"
  },
  "language_info": {
   "codemirror_mode": {
    "name": "ipython",
    "version": 3
   },
   "file_extension": ".py",
   "mimetype": "text/x-python",
   "name": "python",
   "nbconvert_exporter": "python",
   "pygments_lexer": "ipython3",
   "version": "3.11.8"
  }
 },
 "nbformat": 4,
 "nbformat_minor": 5
}
