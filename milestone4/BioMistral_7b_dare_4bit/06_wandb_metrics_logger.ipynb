{
 "cells": [
  {
   "cell_type": "markdown",
   "id": "2726d66d-2042-4487-9df1-4cc4c37d9340",
   "metadata": {},
   "source": [
    "# Weights and Biases Logger"
   ]
  },
  {
   "cell_type": "markdown",
   "id": "da52c9d6-f40b-4d6f-b08a-8a8f2b609cb7",
   "metadata": {},
   "source": [
    "This notebook logs the evaluation metrics of dev set and test set on every model."
   ]
  },
  {
   "cell_type": "code",
   "execution_count": 1,
   "id": "5d2a1998-477f-4aa3-a363-a6424719f86c",
   "metadata": {},
   "outputs": [],
   "source": [
    "import pandas as pd\n",
    "import wandb\n",
    "from configparser import ConfigParser"
   ]
  },
  {
   "cell_type": "markdown",
   "id": "a3cd2aca-c4c0-4b2d-ab91-b61a59fe7a24",
   "metadata": {},
   "source": [
    ".cfg file is a config file that store your personal api key\n",
    "The format inside the file looks like this:\n",
    "```\n",
    "[<YOUR_API_KEY_NAME>]\n",
    "auth_key: <HERE_IS_YOUR_API_KEY>\n",
    "```\n",
    ".gitignore is set on .cfg"
   ]
  },
  {
   "cell_type": "code",
   "execution_count": 2,
   "id": "cad0fe0a-b298-480d-ab64-c695a140d139",
   "metadata": {},
   "outputs": [],
   "source": [
    "parser = ConfigParser()\n",
    "_ = parser.read(\"../../notebook.cfg\")\n",
    "wandb_api_auth_key = parser.get(\"wandb_api_key\", \"auth_key\")"
   ]
  },
  {
   "cell_type": "code",
   "execution_count": 3,
   "id": "3506cc42-3991-41f8-b73b-b3eee898614d",
   "metadata": {},
   "outputs": [
    {
     "name": "stderr",
     "output_type": "stream",
     "text": [
      "\u001b[34m\u001b[1mwandb\u001b[0m: Currently logged in as: \u001b[33mhaydenchiush\u001b[0m. Use \u001b[1m`wandb login --relogin`\u001b[0m to force relogin\n",
      "\u001b[34m\u001b[1mwandb\u001b[0m: \u001b[33mWARNING\u001b[0m If you're specifying your api key in code, ensure this code is not shared publicly.\n",
      "\u001b[34m\u001b[1mwandb\u001b[0m: \u001b[33mWARNING\u001b[0m Consider setting the WANDB_API_KEY environment variable, or running `wandb login` from the command line.\n",
      "\u001b[34m\u001b[1mwandb\u001b[0m: Appending key for api.wandb.ai to your netrc file: /Users/haydenchiu/.netrc\n"
     ]
    },
    {
     "data": {
      "text/plain": [
       "True"
      ]
     },
     "execution_count": 3,
     "metadata": {},
     "output_type": "execute_result"
    }
   ],
   "source": [
    "wandb.login(key=wandb_api_auth_key)"
   ]
  },
  {
   "cell_type": "markdown",
   "id": "954524a1-7b35-4a26-bd27-65bc331b26e8",
   "metadata": {},
   "source": [
    "# Validation set"
   ]
  },
  {
   "cell_type": "code",
   "execution_count": 4,
   "id": "05e153f5-7818-455c-a488-93a9a9919122",
   "metadata": {},
   "outputs": [],
   "source": [
    "PROJECT_NAME = 'BioLaySumm2024'# wandb project name\n",
    "ENTITY = 'bossy_beaver' #change to your wandb team name\n",
    "PATH_TO_VAL_METRICS = './data/output/mini_dev_set/scores'\n",
    "VAL_METRICS_FILES = ['elife_scores.txt', 'plos_scores.txt', 'scores.txt']"
   ]
  },
  {
   "cell_type": "code",
   "execution_count": 5,
   "id": "c28dc2f0-699e-42c9-b3be-5709ec52d8ab",
   "metadata": {},
   "outputs": [],
   "source": [
    "# For example we can use these parameters to define our metrics\n",
    "# file = 'elife_scores.txt'\n",
    "# data_src = 'eLife_dev'\n",
    "# sample_portion = 0.1\n",
    "# name = 'dummy_baseline'\n",
    "# tags = ['baseline']"
   ]
  },
  {
   "cell_type": "code",
   "execution_count": 6,
   "id": "a02c6cc9-c50c-46cc-8d92-5e320b89fb9f",
   "metadata": {},
   "outputs": [],
   "source": [
    "# Initialize WandB\n",
    "def wandb_log_eval_metrics(file, data_src, sample_portion, name, tags, job_type='eval', project='BioLaySumm2024', entity='bossy_beaver'):\n",
    "    run_config = {'data_src':data_src, 'sample_portion':sample_portion}\n",
    "    run = wandb.init(project=PROJECT_NAME, entity=ENTITY, \n",
    "                     job_type=job_type, tags=tags, name=name)\n",
    "    \n",
    "    # Open the file in read mode\n",
    "    with open(PATH_TO_VAL_METRICS + \"/\" + file, 'r') as file:\n",
    "        \n",
    "        lines = file.readlines()\n",
    "    \n",
    "    # Create an empty dictionary to store the metrics\n",
    "    metrics = {}\n",
    "    \n",
    "    # Iterate over each line\n",
    "    for line in lines:\n",
    "        # Split the line into key and value using ':' as the delimiter\n",
    "        key, value = line.strip().split(': ')\n",
    "        # Store the key-value pair in the dictionary\n",
    "        metrics[key] = float(value)\n",
    "    print(metrics)\n",
    "    \n",
    "    # Log metrics to WandB\n",
    "    run.log(metrics)\n",
    "    \n",
    "    # Finish WandB run\n",
    "    run.finish()\n"
   ]
  },
  {
   "cell_type": "code",
   "execution_count": 7,
   "id": "35650cd6-50f2-4bc5-b90f-8527ccf01b48",
   "metadata": {},
   "outputs": [
    {
     "name": "stderr",
     "output_type": "stream",
     "text": [
      "\u001b[34m\u001b[1mwandb\u001b[0m: Currently logged in as: \u001b[33mhaydenchiush\u001b[0m (\u001b[33mbossy_beaver\u001b[0m). Use \u001b[1m`wandb login --relogin`\u001b[0m to force relogin\n"
     ]
    },
    {
     "data": {
      "text/html": [
       "wandb version 0.16.6 is available!  To upgrade, please run:\n",
       " $ pip install wandb --upgrade"
      ],
      "text/plain": [
       "<IPython.core.display.HTML object>"
      ]
     },
     "metadata": {},
     "output_type": "display_data"
    },
    {
     "data": {
      "text/html": [
       "Tracking run with wandb version 0.16.3"
      ],
      "text/plain": [
       "<IPython.core.display.HTML object>"
      ]
     },
     "metadata": {},
     "output_type": "display_data"
    },
    {
     "data": {
      "text/html": [
       "Run data is saved locally in <code>/Users/haydenchiu/MDS-CL/BioLaySumm2024/COLX_531_bossy_beaver/milestone4/BioMistral_7b_dare_4bit/wandb/run-20240407_130143-x82jnjj3</code>"
      ],
      "text/plain": [
       "<IPython.core.display.HTML object>"
      ]
     },
     "metadata": {},
     "output_type": "display_data"
    },
    {
     "data": {
      "text/html": [
       "Syncing run <strong><a href='https://wandb.ai/bossy_beaver/BioLaySumm2024/runs/x82jnjj3' target=\"_blank\">elife_BioMistral_7B_4bits</a></strong> to <a href='https://wandb.ai/bossy_beaver/BioLaySumm2024' target=\"_blank\">Weights & Biases</a> (<a href='https://wandb.me/run' target=\"_blank\">docs</a>)<br/>"
      ],
      "text/plain": [
       "<IPython.core.display.HTML object>"
      ]
     },
     "metadata": {},
     "output_type": "display_data"
    },
    {
     "data": {
      "text/html": [
       " View project at <a href='https://wandb.ai/bossy_beaver/BioLaySumm2024' target=\"_blank\">https://wandb.ai/bossy_beaver/BioLaySumm2024</a>"
      ],
      "text/plain": [
       "<IPython.core.display.HTML object>"
      ]
     },
     "metadata": {},
     "output_type": "display_data"
    },
    {
     "data": {
      "text/html": [
       " View run at <a href='https://wandb.ai/bossy_beaver/BioLaySumm2024/runs/x82jnjj3' target=\"_blank\">https://wandb.ai/bossy_beaver/BioLaySumm2024/runs/x82jnjj3</a>"
      ],
      "text/plain": [
       "<IPython.core.display.HTML object>"
      ]
     },
     "metadata": {},
     "output_type": "display_data"
    },
    {
     "name": "stdout",
     "output_type": "stream",
     "text": [
      "{'ROUGE1': 0.2058151383298021, 'ROUGE2': 0.03188751898254138, 'ROUGEL': 0.1953632875703846, 'BERTScore': 0.7950564622879028, 'FKGL': 11.987499999999999, 'DCRS': 7.13, 'CLI': 12.106250000000001, 'LENS': 19.283961666987636, 'AlignScore': 0.5808112174272537, 'SummaC': 0.49667278801401454}\n"
     ]
    },
    {
     "data": {
      "application/vnd.jupyter.widget-view+json": {
       "model_id": "",
       "version_major": 2,
       "version_minor": 0
      },
      "text/plain": [
       "VBox(children=(Label(value='0.001 MB of 0.001 MB uploaded\\r'), FloatProgress(value=1.0, max=1.0)))"
      ]
     },
     "metadata": {},
     "output_type": "display_data"
    },
    {
     "data": {
      "text/html": [
       "<style>\n",
       "    table.wandb td:nth-child(1) { padding: 0 10px; text-align: left ; width: auto;} td:nth-child(2) {text-align: left ; width: 100%}\n",
       "    .wandb-row { display: flex; flex-direction: row; flex-wrap: wrap; justify-content: flex-start; width: 100% }\n",
       "    .wandb-col { display: flex; flex-direction: column; flex-basis: 100%; flex: 1; padding: 10px; }\n",
       "    </style>\n",
       "<div class=\"wandb-row\"><div class=\"wandb-col\"><h3>Run history:</h3><br/><table class=\"wandb\"><tr><td>AlignScore</td><td>▁</td></tr><tr><td>BERTScore</td><td>▁</td></tr><tr><td>CLI</td><td>▁</td></tr><tr><td>DCRS</td><td>▁</td></tr><tr><td>FKGL</td><td>▁</td></tr><tr><td>LENS</td><td>▁</td></tr><tr><td>ROUGE1</td><td>▁</td></tr><tr><td>ROUGE2</td><td>▁</td></tr><tr><td>ROUGEL</td><td>▁</td></tr><tr><td>SummaC</td><td>▁</td></tr></table><br/></div><div class=\"wandb-col\"><h3>Run summary:</h3><br/><table class=\"wandb\"><tr><td>AlignScore</td><td>0.58081</td></tr><tr><td>BERTScore</td><td>0.79506</td></tr><tr><td>CLI</td><td>12.10625</td></tr><tr><td>DCRS</td><td>7.13</td></tr><tr><td>FKGL</td><td>11.9875</td></tr><tr><td>LENS</td><td>19.28396</td></tr><tr><td>ROUGE1</td><td>0.20582</td></tr><tr><td>ROUGE2</td><td>0.03189</td></tr><tr><td>ROUGEL</td><td>0.19536</td></tr><tr><td>SummaC</td><td>0.49667</td></tr></table><br/></div></div>"
      ],
      "text/plain": [
       "<IPython.core.display.HTML object>"
      ]
     },
     "metadata": {},
     "output_type": "display_data"
    },
    {
     "data": {
      "text/html": [
       " View run <strong style=\"color:#cdcd00\">elife_BioMistral_7B_4bits</strong> at: <a href='https://wandb.ai/bossy_beaver/BioLaySumm2024/runs/x82jnjj3' target=\"_blank\">https://wandb.ai/bossy_beaver/BioLaySumm2024/runs/x82jnjj3</a><br/> View job at <a href='https://wandb.ai/bossy_beaver/BioLaySumm2024/jobs/QXJ0aWZhY3RDb2xsZWN0aW9uOjE1OTE4ODQxNA==/version_details/v0' target=\"_blank\">https://wandb.ai/bossy_beaver/BioLaySumm2024/jobs/QXJ0aWZhY3RDb2xsZWN0aW9uOjE1OTE4ODQxNA==/version_details/v0</a><br/>Synced 6 W&B file(s), 0 media file(s), 2 artifact file(s) and 0 other file(s)"
      ],
      "text/plain": [
       "<IPython.core.display.HTML object>"
      ]
     },
     "metadata": {},
     "output_type": "display_data"
    },
    {
     "data": {
      "text/html": [
       "Find logs at: <code>./wandb/run-20240407_130143-x82jnjj3/logs</code>"
      ],
      "text/plain": [
       "<IPython.core.display.HTML object>"
      ]
     },
     "metadata": {},
     "output_type": "display_data"
    }
   ],
   "source": [
    "# eLife dummy baseline on 10% dev set\n",
    "wandb_log_eval_metrics(file='elife_scores.txt', data_src='eLife_dev', sample_portion=0.1, \n",
    "                       name='elife_BioMistral_7B_4bits', tags=['milestone4','mini_dev_set','BioMistral_7B_4bit'])"
   ]
  },
  {
   "cell_type": "code",
   "execution_count": 8,
   "id": "9e4da8e6-5095-4cfd-96a3-49a46e537fab",
   "metadata": {},
   "outputs": [
    {
     "data": {
      "text/html": [
       "wandb version 0.16.6 is available!  To upgrade, please run:\n",
       " $ pip install wandb --upgrade"
      ],
      "text/plain": [
       "<IPython.core.display.HTML object>"
      ]
     },
     "metadata": {},
     "output_type": "display_data"
    },
    {
     "data": {
      "text/html": [
       "Tracking run with wandb version 0.16.3"
      ],
      "text/plain": [
       "<IPython.core.display.HTML object>"
      ]
     },
     "metadata": {},
     "output_type": "display_data"
    },
    {
     "data": {
      "text/html": [
       "Run data is saved locally in <code>/Users/haydenchiu/MDS-CL/BioLaySumm2024/COLX_531_bossy_beaver/milestone4/BioMistral_7b_dare_4bit/wandb/run-20240407_130232-jdjm9lof</code>"
      ],
      "text/plain": [
       "<IPython.core.display.HTML object>"
      ]
     },
     "metadata": {},
     "output_type": "display_data"
    },
    {
     "data": {
      "text/html": [
       "Syncing run <strong><a href='https://wandb.ai/bossy_beaver/BioLaySumm2024/runs/jdjm9lof' target=\"_blank\">plos_BioMistral_7B_4bits</a></strong> to <a href='https://wandb.ai/bossy_beaver/BioLaySumm2024' target=\"_blank\">Weights & Biases</a> (<a href='https://wandb.me/run' target=\"_blank\">docs</a>)<br/>"
      ],
      "text/plain": [
       "<IPython.core.display.HTML object>"
      ]
     },
     "metadata": {},
     "output_type": "display_data"
    },
    {
     "data": {
      "text/html": [
       " View project at <a href='https://wandb.ai/bossy_beaver/BioLaySumm2024' target=\"_blank\">https://wandb.ai/bossy_beaver/BioLaySumm2024</a>"
      ],
      "text/plain": [
       "<IPython.core.display.HTML object>"
      ]
     },
     "metadata": {},
     "output_type": "display_data"
    },
    {
     "data": {
      "text/html": [
       " View run at <a href='https://wandb.ai/bossy_beaver/BioLaySumm2024/runs/jdjm9lof' target=\"_blank\">https://wandb.ai/bossy_beaver/BioLaySumm2024/runs/jdjm9lof</a>"
      ],
      "text/plain": [
       "<IPython.core.display.HTML object>"
      ]
     },
     "metadata": {},
     "output_type": "display_data"
    },
    {
     "name": "stdout",
     "output_type": "stream",
     "text": [
      "{'ROUGE1': 0.23096328029880522, 'ROUGE2': 0.05211601297580994, 'ROUGEL': 0.21588534589456596, 'BERTScore': 0.8106353352035301, 'FKGL': 14.751449275362317, 'DCRS': 8.05159420289855, 'CLI': 11.361086956521739, 'LENS': 26.181919402495303, 'AlignScore': 0.6073269683165826, 'SummaC': 0.5512916521317717}\n"
     ]
    },
    {
     "data": {
      "application/vnd.jupyter.widget-view+json": {
       "model_id": "",
       "version_major": 2,
       "version_minor": 0
      },
      "text/plain": [
       "VBox(children=(Label(value='0.001 MB of 0.001 MB uploaded\\r'), FloatProgress(value=1.0, max=1.0)))"
      ]
     },
     "metadata": {},
     "output_type": "display_data"
    },
    {
     "data": {
      "text/html": [
       "<style>\n",
       "    table.wandb td:nth-child(1) { padding: 0 10px; text-align: left ; width: auto;} td:nth-child(2) {text-align: left ; width: 100%}\n",
       "    .wandb-row { display: flex; flex-direction: row; flex-wrap: wrap; justify-content: flex-start; width: 100% }\n",
       "    .wandb-col { display: flex; flex-direction: column; flex-basis: 100%; flex: 1; padding: 10px; }\n",
       "    </style>\n",
       "<div class=\"wandb-row\"><div class=\"wandb-col\"><h3>Run history:</h3><br/><table class=\"wandb\"><tr><td>AlignScore</td><td>▁</td></tr><tr><td>BERTScore</td><td>▁</td></tr><tr><td>CLI</td><td>▁</td></tr><tr><td>DCRS</td><td>▁</td></tr><tr><td>FKGL</td><td>▁</td></tr><tr><td>LENS</td><td>▁</td></tr><tr><td>ROUGE1</td><td>▁</td></tr><tr><td>ROUGE2</td><td>▁</td></tr><tr><td>ROUGEL</td><td>▁</td></tr><tr><td>SummaC</td><td>▁</td></tr></table><br/></div><div class=\"wandb-col\"><h3>Run summary:</h3><br/><table class=\"wandb\"><tr><td>AlignScore</td><td>0.60733</td></tr><tr><td>BERTScore</td><td>0.81064</td></tr><tr><td>CLI</td><td>11.36109</td></tr><tr><td>DCRS</td><td>8.05159</td></tr><tr><td>FKGL</td><td>14.75145</td></tr><tr><td>LENS</td><td>26.18192</td></tr><tr><td>ROUGE1</td><td>0.23096</td></tr><tr><td>ROUGE2</td><td>0.05212</td></tr><tr><td>ROUGEL</td><td>0.21589</td></tr><tr><td>SummaC</td><td>0.55129</td></tr></table><br/></div></div>"
      ],
      "text/plain": [
       "<IPython.core.display.HTML object>"
      ]
     },
     "metadata": {},
     "output_type": "display_data"
    },
    {
     "data": {
      "text/html": [
       " View run <strong style=\"color:#cdcd00\">plos_BioMistral_7B_4bits</strong> at: <a href='https://wandb.ai/bossy_beaver/BioLaySumm2024/runs/jdjm9lof' target=\"_blank\">https://wandb.ai/bossy_beaver/BioLaySumm2024/runs/jdjm9lof</a><br/> View job at <a href='https://wandb.ai/bossy_beaver/BioLaySumm2024/jobs/QXJ0aWZhY3RDb2xsZWN0aW9uOjE1OTE4ODQxNA==/version_details/v0' target=\"_blank\">https://wandb.ai/bossy_beaver/BioLaySumm2024/jobs/QXJ0aWZhY3RDb2xsZWN0aW9uOjE1OTE4ODQxNA==/version_details/v0</a><br/>Synced 6 W&B file(s), 0 media file(s), 0 artifact file(s) and 0 other file(s)"
      ],
      "text/plain": [
       "<IPython.core.display.HTML object>"
      ]
     },
     "metadata": {},
     "output_type": "display_data"
    },
    {
     "data": {
      "text/html": [
       "Find logs at: <code>./wandb/run-20240407_130232-jdjm9lof/logs</code>"
      ],
      "text/plain": [
       "<IPython.core.display.HTML object>"
      ]
     },
     "metadata": {},
     "output_type": "display_data"
    }
   ],
   "source": [
    "# PLOS dummy baseline on 10% dev set\n",
    "wandb_log_eval_metrics(file='plos_scores.txt', data_src='PLOS_dev', sample_portion=0.1, \n",
    "                       name='plos_BioMistral_7B_4bits', tags=['milestone4','mini_dev_set','BioMistral_7B_4bit'])"
   ]
  },
  {
   "cell_type": "code",
   "execution_count": 10,
   "id": "8f92be47-2400-45df-b9b9-a14dad0ce772",
   "metadata": {},
   "outputs": [
    {
     "data": {
      "text/html": [
       "wandb version 0.16.6 is available!  To upgrade, please run:\n",
       " $ pip install wandb --upgrade"
      ],
      "text/plain": [
       "<IPython.core.display.HTML object>"
      ]
     },
     "metadata": {},
     "output_type": "display_data"
    },
    {
     "data": {
      "text/html": [
       "Tracking run with wandb version 0.16.3"
      ],
      "text/plain": [
       "<IPython.core.display.HTML object>"
      ]
     },
     "metadata": {},
     "output_type": "display_data"
    },
    {
     "data": {
      "text/html": [
       "Run data is saved locally in <code>/Users/haydenchiu/MDS-CL/BioLaySumm2024/COLX_531_bossy_beaver/milestone4/BioMistral_7b_dare_4bit/wandb/run-20240407_130352-hx0aa0bf</code>"
      ],
      "text/plain": [
       "<IPython.core.display.HTML object>"
      ]
     },
     "metadata": {},
     "output_type": "display_data"
    },
    {
     "data": {
      "text/html": [
       "Syncing run <strong><a href='https://wandb.ai/bossy_beaver/BioLaySumm2024/runs/hx0aa0bf' target=\"_blank\">BioMistral_7B_4bits</a></strong> to <a href='https://wandb.ai/bossy_beaver/BioLaySumm2024' target=\"_blank\">Weights & Biases</a> (<a href='https://wandb.me/run' target=\"_blank\">docs</a>)<br/>"
      ],
      "text/plain": [
       "<IPython.core.display.HTML object>"
      ]
     },
     "metadata": {},
     "output_type": "display_data"
    },
    {
     "data": {
      "text/html": [
       " View project at <a href='https://wandb.ai/bossy_beaver/BioLaySumm2024' target=\"_blank\">https://wandb.ai/bossy_beaver/BioLaySumm2024</a>"
      ],
      "text/plain": [
       "<IPython.core.display.HTML object>"
      ]
     },
     "metadata": {},
     "output_type": "display_data"
    },
    {
     "data": {
      "text/html": [
       " View run at <a href='https://wandb.ai/bossy_beaver/BioLaySumm2024/runs/hx0aa0bf' target=\"_blank\">https://wandb.ai/bossy_beaver/BioLaySumm2024/runs/hx0aa0bf</a>"
      ],
      "text/plain": [
       "<IPython.core.display.HTML object>"
      ]
     },
     "metadata": {},
     "output_type": "display_data"
    },
    {
     "name": "stdout",
     "output_type": "stream",
     "text": [
      "{'ROUGE1': 0.21838920931430367, 'ROUGE2': 0.04200176597917566, 'ROUGEL': 0.20562431673247528, 'BERTScore': 0.8028458987457165, 'FKGL': 13.369474637681158, 'DCRS': 7.590797101449274, 'CLI': 11.73366847826087, 'LENS': 22.73294053474147, 'AlignScore': 0.5940690928719181, 'SummaC': 0.5239822200728931}\n"
     ]
    },
    {
     "data": {
      "application/vnd.jupyter.widget-view+json": {
       "model_id": "",
       "version_major": 2,
       "version_minor": 0
      },
      "text/plain": [
       "VBox(children=(Label(value='0.001 MB of 0.001 MB uploaded\\r'), FloatProgress(value=1.0, max=1.0)))"
      ]
     },
     "metadata": {},
     "output_type": "display_data"
    },
    {
     "data": {
      "text/html": [
       "<style>\n",
       "    table.wandb td:nth-child(1) { padding: 0 10px; text-align: left ; width: auto;} td:nth-child(2) {text-align: left ; width: 100%}\n",
       "    .wandb-row { display: flex; flex-direction: row; flex-wrap: wrap; justify-content: flex-start; width: 100% }\n",
       "    .wandb-col { display: flex; flex-direction: column; flex-basis: 100%; flex: 1; padding: 10px; }\n",
       "    </style>\n",
       "<div class=\"wandb-row\"><div class=\"wandb-col\"><h3>Run history:</h3><br/><table class=\"wandb\"><tr><td>AlignScore</td><td>▁</td></tr><tr><td>BERTScore</td><td>▁</td></tr><tr><td>CLI</td><td>▁</td></tr><tr><td>DCRS</td><td>▁</td></tr><tr><td>FKGL</td><td>▁</td></tr><tr><td>LENS</td><td>▁</td></tr><tr><td>ROUGE1</td><td>▁</td></tr><tr><td>ROUGE2</td><td>▁</td></tr><tr><td>ROUGEL</td><td>▁</td></tr><tr><td>SummaC</td><td>▁</td></tr></table><br/></div><div class=\"wandb-col\"><h3>Run summary:</h3><br/><table class=\"wandb\"><tr><td>AlignScore</td><td>0.59407</td></tr><tr><td>BERTScore</td><td>0.80285</td></tr><tr><td>CLI</td><td>11.73367</td></tr><tr><td>DCRS</td><td>7.5908</td></tr><tr><td>FKGL</td><td>13.36947</td></tr><tr><td>LENS</td><td>22.73294</td></tr><tr><td>ROUGE1</td><td>0.21839</td></tr><tr><td>ROUGE2</td><td>0.042</td></tr><tr><td>ROUGEL</td><td>0.20562</td></tr><tr><td>SummaC</td><td>0.52398</td></tr></table><br/></div></div>"
      ],
      "text/plain": [
       "<IPython.core.display.HTML object>"
      ]
     },
     "metadata": {},
     "output_type": "display_data"
    },
    {
     "data": {
      "text/html": [
       " View run <strong style=\"color:#cdcd00\">BioMistral_7B_4bits</strong> at: <a href='https://wandb.ai/bossy_beaver/BioLaySumm2024/runs/hx0aa0bf' target=\"_blank\">https://wandb.ai/bossy_beaver/BioLaySumm2024/runs/hx0aa0bf</a><br/> View job at <a href='https://wandb.ai/bossy_beaver/BioLaySumm2024/jobs/QXJ0aWZhY3RDb2xsZWN0aW9uOjE1OTE4ODQxNA==/version_details/v0' target=\"_blank\">https://wandb.ai/bossy_beaver/BioLaySumm2024/jobs/QXJ0aWZhY3RDb2xsZWN0aW9uOjE1OTE4ODQxNA==/version_details/v0</a><br/>Synced 6 W&B file(s), 0 media file(s), 0 artifact file(s) and 0 other file(s)"
      ],
      "text/plain": [
       "<IPython.core.display.HTML object>"
      ]
     },
     "metadata": {},
     "output_type": "display_data"
    },
    {
     "data": {
      "text/html": [
       "Find logs at: <code>./wandb/run-20240407_130352-hx0aa0bf/logs</code>"
      ],
      "text/plain": [
       "<IPython.core.display.HTML object>"
      ]
     },
     "metadata": {},
     "output_type": "display_data"
    }
   ],
   "source": [
    "# Combined dummy baseline on 10% dev set\n",
    "wandb_log_eval_metrics(file='scores.txt', data_src='combined_dev', sample_portion=0.1, \n",
    "                       name='BioMistral_7B_4bits', tags=['milestone4','mini_dev_set','BioMistral_7B_4bit', 'combined'])"
   ]
  },
  {
   "cell_type": "markdown",
   "id": "31c2e11f-d863-4519-af98-3bc47ec67c67",
   "metadata": {},
   "source": [
    "# Test Set"
   ]
  },
  {
   "cell_type": "code",
   "execution_count": 11,
   "id": "46495332-82d0-43e4-8b15-076d8bbb3d5e",
   "metadata": {},
   "outputs": [],
   "source": [
    "PATH_TO_VAL_METRICS = './data/output/test_set/scores'\n",
    "TEST_METRICS_FILES = ['elife_scores.txt', 'plos_scores.txt', 'scores.txt']"
   ]
  },
  {
   "cell_type": "code",
   "execution_count": 12,
   "id": "2aeaf294-c7a7-4d19-a9e4-ed526cf3d87c",
   "metadata": {},
   "outputs": [
    {
     "data": {
      "text/html": [
       "wandb version 0.16.6 is available!  To upgrade, please run:\n",
       " $ pip install wandb --upgrade"
      ],
      "text/plain": [
       "<IPython.core.display.HTML object>"
      ]
     },
     "metadata": {},
     "output_type": "display_data"
    },
    {
     "data": {
      "text/html": [
       "Tracking run with wandb version 0.16.3"
      ],
      "text/plain": [
       "<IPython.core.display.HTML object>"
      ]
     },
     "metadata": {},
     "output_type": "display_data"
    },
    {
     "data": {
      "text/html": [
       "Run data is saved locally in <code>/Users/haydenchiu/MDS-CL/BioLaySumm2024/COLX_531_bossy_beaver/milestone4/BioMistral_7b_dare_4bit/wandb/run-20240407_130708-75ti1vov</code>"
      ],
      "text/plain": [
       "<IPython.core.display.HTML object>"
      ]
     },
     "metadata": {},
     "output_type": "display_data"
    },
    {
     "data": {
      "text/html": [
       "Syncing run <strong><a href='https://wandb.ai/bossy_beaver/BioLaySumm2024/runs/75ti1vov' target=\"_blank\">elife_BioMistral_7B_4bits_test</a></strong> to <a href='https://wandb.ai/bossy_beaver/BioLaySumm2024' target=\"_blank\">Weights & Biases</a> (<a href='https://wandb.me/run' target=\"_blank\">docs</a>)<br/>"
      ],
      "text/plain": [
       "<IPython.core.display.HTML object>"
      ]
     },
     "metadata": {},
     "output_type": "display_data"
    },
    {
     "data": {
      "text/html": [
       " View project at <a href='https://wandb.ai/bossy_beaver/BioLaySumm2024' target=\"_blank\">https://wandb.ai/bossy_beaver/BioLaySumm2024</a>"
      ],
      "text/plain": [
       "<IPython.core.display.HTML object>"
      ]
     },
     "metadata": {},
     "output_type": "display_data"
    },
    {
     "data": {
      "text/html": [
       " View run at <a href='https://wandb.ai/bossy_beaver/BioLaySumm2024/runs/75ti1vov' target=\"_blank\">https://wandb.ai/bossy_beaver/BioLaySumm2024/runs/75ti1vov</a>"
      ],
      "text/plain": [
       "<IPython.core.display.HTML object>"
      ]
     },
     "metadata": {},
     "output_type": "display_data"
    },
    {
     "name": "stdout",
     "output_type": "stream",
     "text": [
      "{'ROUGE1': 0.2658170189667828, 'ROUGE2': 0.048088032711473404, 'ROUGEL': 0.24802597448928654, 'BERTScore': 0.8134527907405101, 'FKGL': 14.349295774647887, 'DCRS': 8.43056338028169, 'CLI': 15.087535211267605, 'LENS': 54.63684429708165, 'AlignScore': 0.5911370053834898, 'SummaC': 0.4232159972610608}\n"
     ]
    },
    {
     "data": {
      "application/vnd.jupyter.widget-view+json": {
       "model_id": "",
       "version_major": 2,
       "version_minor": 0
      },
      "text/plain": [
       "VBox(children=(Label(value='0.001 MB of 0.001 MB uploaded\\r'), FloatProgress(value=1.0, max=1.0)))"
      ]
     },
     "metadata": {},
     "output_type": "display_data"
    },
    {
     "data": {
      "text/html": [
       "<style>\n",
       "    table.wandb td:nth-child(1) { padding: 0 10px; text-align: left ; width: auto;} td:nth-child(2) {text-align: left ; width: 100%}\n",
       "    .wandb-row { display: flex; flex-direction: row; flex-wrap: wrap; justify-content: flex-start; width: 100% }\n",
       "    .wandb-col { display: flex; flex-direction: column; flex-basis: 100%; flex: 1; padding: 10px; }\n",
       "    </style>\n",
       "<div class=\"wandb-row\"><div class=\"wandb-col\"><h3>Run history:</h3><br/><table class=\"wandb\"><tr><td>AlignScore</td><td>▁</td></tr><tr><td>BERTScore</td><td>▁</td></tr><tr><td>CLI</td><td>▁</td></tr><tr><td>DCRS</td><td>▁</td></tr><tr><td>FKGL</td><td>▁</td></tr><tr><td>LENS</td><td>▁</td></tr><tr><td>ROUGE1</td><td>▁</td></tr><tr><td>ROUGE2</td><td>▁</td></tr><tr><td>ROUGEL</td><td>▁</td></tr><tr><td>SummaC</td><td>▁</td></tr></table><br/></div><div class=\"wandb-col\"><h3>Run summary:</h3><br/><table class=\"wandb\"><tr><td>AlignScore</td><td>0.59114</td></tr><tr><td>BERTScore</td><td>0.81345</td></tr><tr><td>CLI</td><td>15.08754</td></tr><tr><td>DCRS</td><td>8.43056</td></tr><tr><td>FKGL</td><td>14.3493</td></tr><tr><td>LENS</td><td>54.63684</td></tr><tr><td>ROUGE1</td><td>0.26582</td></tr><tr><td>ROUGE2</td><td>0.04809</td></tr><tr><td>ROUGEL</td><td>0.24803</td></tr><tr><td>SummaC</td><td>0.42322</td></tr></table><br/></div></div>"
      ],
      "text/plain": [
       "<IPython.core.display.HTML object>"
      ]
     },
     "metadata": {},
     "output_type": "display_data"
    },
    {
     "data": {
      "text/html": [
       " View run <strong style=\"color:#cdcd00\">elife_BioMistral_7B_4bits_test</strong> at: <a href='https://wandb.ai/bossy_beaver/BioLaySumm2024/runs/75ti1vov' target=\"_blank\">https://wandb.ai/bossy_beaver/BioLaySumm2024/runs/75ti1vov</a><br/> View job at <a href='https://wandb.ai/bossy_beaver/BioLaySumm2024/jobs/QXJ0aWZhY3RDb2xsZWN0aW9uOjE1OTE4ODQxNA==/version_details/v0' target=\"_blank\">https://wandb.ai/bossy_beaver/BioLaySumm2024/jobs/QXJ0aWZhY3RDb2xsZWN0aW9uOjE1OTE4ODQxNA==/version_details/v0</a><br/>Synced 6 W&B file(s), 0 media file(s), 0 artifact file(s) and 0 other file(s)"
      ],
      "text/plain": [
       "<IPython.core.display.HTML object>"
      ]
     },
     "metadata": {},
     "output_type": "display_data"
    },
    {
     "data": {
      "text/html": [
       "Find logs at: <code>./wandb/run-20240407_130708-75ti1vov/logs</code>"
      ],
      "text/plain": [
       "<IPython.core.display.HTML object>"
      ]
     },
     "metadata": {},
     "output_type": "display_data"
    }
   ],
   "source": [
    "# elife dummy baseline on test set\n",
    "wandb_log_eval_metrics(file='elife_scores.txt', data_src='eLife_test', sample_portion=1, \n",
    "                       name='elife_BioMistral_7B_4bits_test', tags=['milestone4','BioMistral_7B_4bit', 'test'])"
   ]
  },
  {
   "cell_type": "code",
   "execution_count": 13,
   "id": "5b0dccf5-4198-4790-adaa-03bab3f0d91f",
   "metadata": {},
   "outputs": [
    {
     "data": {
      "text/html": [
       "wandb version 0.16.6 is available!  To upgrade, please run:\n",
       " $ pip install wandb --upgrade"
      ],
      "text/plain": [
       "<IPython.core.display.HTML object>"
      ]
     },
     "metadata": {},
     "output_type": "display_data"
    },
    {
     "data": {
      "text/html": [
       "Tracking run with wandb version 0.16.3"
      ],
      "text/plain": [
       "<IPython.core.display.HTML object>"
      ]
     },
     "metadata": {},
     "output_type": "display_data"
    },
    {
     "data": {
      "text/html": [
       "Run data is saved locally in <code>/Users/haydenchiu/MDS-CL/BioLaySumm2024/COLX_531_bossy_beaver/milestone4/BioMistral_7b_dare_4bit/wandb/run-20240407_130753-ml87qfhj</code>"
      ],
      "text/plain": [
       "<IPython.core.display.HTML object>"
      ]
     },
     "metadata": {},
     "output_type": "display_data"
    },
    {
     "data": {
      "text/html": [
       "Syncing run <strong><a href='https://wandb.ai/bossy_beaver/BioLaySumm2024/runs/ml87qfhj' target=\"_blank\">plos_BioMistral_7B_4bits_test</a></strong> to <a href='https://wandb.ai/bossy_beaver/BioLaySumm2024' target=\"_blank\">Weights & Biases</a> (<a href='https://wandb.me/run' target=\"_blank\">docs</a>)<br/>"
      ],
      "text/plain": [
       "<IPython.core.display.HTML object>"
      ]
     },
     "metadata": {},
     "output_type": "display_data"
    },
    {
     "data": {
      "text/html": [
       " View project at <a href='https://wandb.ai/bossy_beaver/BioLaySumm2024' target=\"_blank\">https://wandb.ai/bossy_beaver/BioLaySumm2024</a>"
      ],
      "text/plain": [
       "<IPython.core.display.HTML object>"
      ]
     },
     "metadata": {},
     "output_type": "display_data"
    },
    {
     "data": {
      "text/html": [
       " View run at <a href='https://wandb.ai/bossy_beaver/BioLaySumm2024/runs/ml87qfhj' target=\"_blank\">https://wandb.ai/bossy_beaver/BioLaySumm2024/runs/ml87qfhj</a>"
      ],
      "text/plain": [
       "<IPython.core.display.HTML object>"
      ]
     },
     "metadata": {},
     "output_type": "display_data"
    },
    {
     "name": "stdout",
     "output_type": "stream",
     "text": [
      "{'ROUGE1': 0.34778996253378136, 'ROUGE2': 0.09508331730337351, 'ROUGEL': 0.31575959220879085, 'BERTScore': 0.8386020064353943, 'FKGL': 12.290845070422533, 'DCRS': 8.755915492957747, 'CLI': 13.4, 'LENS': 57.02802431965428, 'AlignScore': 0.6461510611829203, 'SummaC': 0.4562869989116427}\n"
     ]
    },
    {
     "data": {
      "application/vnd.jupyter.widget-view+json": {
       "model_id": "",
       "version_major": 2,
       "version_minor": 0
      },
      "text/plain": [
       "VBox(children=(Label(value='0.001 MB of 0.001 MB uploaded\\r'), FloatProgress(value=1.0, max=1.0)))"
      ]
     },
     "metadata": {},
     "output_type": "display_data"
    },
    {
     "data": {
      "text/html": [
       "<style>\n",
       "    table.wandb td:nth-child(1) { padding: 0 10px; text-align: left ; width: auto;} td:nth-child(2) {text-align: left ; width: 100%}\n",
       "    .wandb-row { display: flex; flex-direction: row; flex-wrap: wrap; justify-content: flex-start; width: 100% }\n",
       "    .wandb-col { display: flex; flex-direction: column; flex-basis: 100%; flex: 1; padding: 10px; }\n",
       "    </style>\n",
       "<div class=\"wandb-row\"><div class=\"wandb-col\"><h3>Run history:</h3><br/><table class=\"wandb\"><tr><td>AlignScore</td><td>▁</td></tr><tr><td>BERTScore</td><td>▁</td></tr><tr><td>CLI</td><td>▁</td></tr><tr><td>DCRS</td><td>▁</td></tr><tr><td>FKGL</td><td>▁</td></tr><tr><td>LENS</td><td>▁</td></tr><tr><td>ROUGE1</td><td>▁</td></tr><tr><td>ROUGE2</td><td>▁</td></tr><tr><td>ROUGEL</td><td>▁</td></tr><tr><td>SummaC</td><td>▁</td></tr></table><br/></div><div class=\"wandb-col\"><h3>Run summary:</h3><br/><table class=\"wandb\"><tr><td>AlignScore</td><td>0.64615</td></tr><tr><td>BERTScore</td><td>0.8386</td></tr><tr><td>CLI</td><td>13.4</td></tr><tr><td>DCRS</td><td>8.75592</td></tr><tr><td>FKGL</td><td>12.29085</td></tr><tr><td>LENS</td><td>57.02802</td></tr><tr><td>ROUGE1</td><td>0.34779</td></tr><tr><td>ROUGE2</td><td>0.09508</td></tr><tr><td>ROUGEL</td><td>0.31576</td></tr><tr><td>SummaC</td><td>0.45629</td></tr></table><br/></div></div>"
      ],
      "text/plain": [
       "<IPython.core.display.HTML object>"
      ]
     },
     "metadata": {},
     "output_type": "display_data"
    },
    {
     "data": {
      "text/html": [
       " View run <strong style=\"color:#cdcd00\">plos_BioMistral_7B_4bits_test</strong> at: <a href='https://wandb.ai/bossy_beaver/BioLaySumm2024/runs/ml87qfhj' target=\"_blank\">https://wandb.ai/bossy_beaver/BioLaySumm2024/runs/ml87qfhj</a><br/> View job at <a href='https://wandb.ai/bossy_beaver/BioLaySumm2024/jobs/QXJ0aWZhY3RDb2xsZWN0aW9uOjE1OTE4ODQxNA==/version_details/v0' target=\"_blank\">https://wandb.ai/bossy_beaver/BioLaySumm2024/jobs/QXJ0aWZhY3RDb2xsZWN0aW9uOjE1OTE4ODQxNA==/version_details/v0</a><br/>Synced 6 W&B file(s), 0 media file(s), 0 artifact file(s) and 0 other file(s)"
      ],
      "text/plain": [
       "<IPython.core.display.HTML object>"
      ]
     },
     "metadata": {},
     "output_type": "display_data"
    },
    {
     "data": {
      "text/html": [
       "Find logs at: <code>./wandb/run-20240407_130753-ml87qfhj/logs</code>"
      ],
      "text/plain": [
       "<IPython.core.display.HTML object>"
      ]
     },
     "metadata": {},
     "output_type": "display_data"
    }
   ],
   "source": [
    "# PLOS dummy baseline on test set\n",
    "wandb_log_eval_metrics(file='plos_scores.txt', data_src='PLOS_test', sample_portion=1, \n",
    "                       name='plos_BioMistral_7B_4bits_test', tags=['milestone4','BioMistral_7B_4bit', 'test'])"
   ]
  },
  {
   "cell_type": "code",
   "execution_count": 14,
   "id": "fdb92749-83f8-479b-be72-3c48fe74fb2c",
   "metadata": {},
   "outputs": [
    {
     "data": {
      "text/html": [
       "wandb version 0.16.6 is available!  To upgrade, please run:\n",
       " $ pip install wandb --upgrade"
      ],
      "text/plain": [
       "<IPython.core.display.HTML object>"
      ]
     },
     "metadata": {},
     "output_type": "display_data"
    },
    {
     "data": {
      "text/html": [
       "Tracking run with wandb version 0.16.3"
      ],
      "text/plain": [
       "<IPython.core.display.HTML object>"
      ]
     },
     "metadata": {},
     "output_type": "display_data"
    },
    {
     "data": {
      "text/html": [
       "Run data is saved locally in <code>/Users/haydenchiu/MDS-CL/BioLaySumm2024/COLX_531_bossy_beaver/milestone4/BioMistral_7b_dare_4bit/wandb/run-20240407_130829-6sdnylao</code>"
      ],
      "text/plain": [
       "<IPython.core.display.HTML object>"
      ]
     },
     "metadata": {},
     "output_type": "display_data"
    },
    {
     "data": {
      "text/html": [
       "Syncing run <strong><a href='https://wandb.ai/bossy_beaver/BioLaySumm2024/runs/6sdnylao' target=\"_blank\">BioMistral_7B_4bits_test</a></strong> to <a href='https://wandb.ai/bossy_beaver/BioLaySumm2024' target=\"_blank\">Weights & Biases</a> (<a href='https://wandb.me/run' target=\"_blank\">docs</a>)<br/>"
      ],
      "text/plain": [
       "<IPython.core.display.HTML object>"
      ]
     },
     "metadata": {},
     "output_type": "display_data"
    },
    {
     "data": {
      "text/html": [
       " View project at <a href='https://wandb.ai/bossy_beaver/BioLaySumm2024' target=\"_blank\">https://wandb.ai/bossy_beaver/BioLaySumm2024</a>"
      ],
      "text/plain": [
       "<IPython.core.display.HTML object>"
      ]
     },
     "metadata": {},
     "output_type": "display_data"
    },
    {
     "data": {
      "text/html": [
       " View run at <a href='https://wandb.ai/bossy_beaver/BioLaySumm2024/runs/6sdnylao' target=\"_blank\">https://wandb.ai/bossy_beaver/BioLaySumm2024/runs/6sdnylao</a>"
      ],
      "text/plain": [
       "<IPython.core.display.HTML object>"
      ]
     },
     "metadata": {},
     "output_type": "display_data"
    },
    {
     "name": "stdout",
     "output_type": "stream",
     "text": [
      "{'ROUGE1': 0.30680349075028207, 'ROUGE2': 0.07158567500742345, 'ROUGEL': 0.28189278334903867, 'BERTScore': 0.8260273985879523, 'FKGL': 13.32007042253521, 'DCRS': 8.593239436619719, 'CLI': 14.243767605633803, 'LENS': 55.832434308367965, 'AlignScore': 0.618644033283205, 'SummaC': 0.4397514980863517}\n"
     ]
    },
    {
     "data": {
      "application/vnd.jupyter.widget-view+json": {
       "model_id": "",
       "version_major": 2,
       "version_minor": 0
      },
      "text/plain": [
       "VBox(children=(Label(value='0.001 MB of 0.001 MB uploaded\\r'), FloatProgress(value=1.0, max=1.0)))"
      ]
     },
     "metadata": {},
     "output_type": "display_data"
    },
    {
     "data": {
      "text/html": [
       "<style>\n",
       "    table.wandb td:nth-child(1) { padding: 0 10px; text-align: left ; width: auto;} td:nth-child(2) {text-align: left ; width: 100%}\n",
       "    .wandb-row { display: flex; flex-direction: row; flex-wrap: wrap; justify-content: flex-start; width: 100% }\n",
       "    .wandb-col { display: flex; flex-direction: column; flex-basis: 100%; flex: 1; padding: 10px; }\n",
       "    </style>\n",
       "<div class=\"wandb-row\"><div class=\"wandb-col\"><h3>Run history:</h3><br/><table class=\"wandb\"><tr><td>AlignScore</td><td>▁</td></tr><tr><td>BERTScore</td><td>▁</td></tr><tr><td>CLI</td><td>▁</td></tr><tr><td>DCRS</td><td>▁</td></tr><tr><td>FKGL</td><td>▁</td></tr><tr><td>LENS</td><td>▁</td></tr><tr><td>ROUGE1</td><td>▁</td></tr><tr><td>ROUGE2</td><td>▁</td></tr><tr><td>ROUGEL</td><td>▁</td></tr><tr><td>SummaC</td><td>▁</td></tr></table><br/></div><div class=\"wandb-col\"><h3>Run summary:</h3><br/><table class=\"wandb\"><tr><td>AlignScore</td><td>0.61864</td></tr><tr><td>BERTScore</td><td>0.82603</td></tr><tr><td>CLI</td><td>14.24377</td></tr><tr><td>DCRS</td><td>8.59324</td></tr><tr><td>FKGL</td><td>13.32007</td></tr><tr><td>LENS</td><td>55.83243</td></tr><tr><td>ROUGE1</td><td>0.3068</td></tr><tr><td>ROUGE2</td><td>0.07159</td></tr><tr><td>ROUGEL</td><td>0.28189</td></tr><tr><td>SummaC</td><td>0.43975</td></tr></table><br/></div></div>"
      ],
      "text/plain": [
       "<IPython.core.display.HTML object>"
      ]
     },
     "metadata": {},
     "output_type": "display_data"
    },
    {
     "data": {
      "text/html": [
       " View run <strong style=\"color:#cdcd00\">BioMistral_7B_4bits_test</strong> at: <a href='https://wandb.ai/bossy_beaver/BioLaySumm2024/runs/6sdnylao' target=\"_blank\">https://wandb.ai/bossy_beaver/BioLaySumm2024/runs/6sdnylao</a><br/> View job at <a href='https://wandb.ai/bossy_beaver/BioLaySumm2024/jobs/QXJ0aWZhY3RDb2xsZWN0aW9uOjE1OTE4ODQxNA==/version_details/v0' target=\"_blank\">https://wandb.ai/bossy_beaver/BioLaySumm2024/jobs/QXJ0aWZhY3RDb2xsZWN0aW9uOjE1OTE4ODQxNA==/version_details/v0</a><br/>Synced 6 W&B file(s), 0 media file(s), 0 artifact file(s) and 0 other file(s)"
      ],
      "text/plain": [
       "<IPython.core.display.HTML object>"
      ]
     },
     "metadata": {},
     "output_type": "display_data"
    },
    {
     "data": {
      "text/html": [
       "Find logs at: <code>./wandb/run-20240407_130829-6sdnylao/logs</code>"
      ],
      "text/plain": [
       "<IPython.core.display.HTML object>"
      ]
     },
     "metadata": {},
     "output_type": "display_data"
    }
   ],
   "source": [
    "# Combined dummy baseline on test set\n",
    "wandb_log_eval_metrics(file='scores.txt', data_src='combined_test', sample_portion=1, \n",
    "                       name='BioMistral_7B_4bits_test', tags=['milestone4','BioMistral_7B_4bit', 'combined', 'test'])"
   ]
  },
  {
   "cell_type": "code",
   "execution_count": null,
   "id": "71fb7611-1114-44ce-b9ad-2bd3f3cf42b1",
   "metadata": {},
   "outputs": [],
   "source": []
  }
 ],
 "metadata": {
  "kernelspec": {
   "display_name": "Python [conda env:root] *",
   "language": "python",
   "name": "conda-root-py"
  },
  "language_info": {
   "codemirror_mode": {
    "name": "ipython",
    "version": 3
   },
   "file_extension": ".py",
   "mimetype": "text/x-python",
   "name": "python",
   "nbconvert_exporter": "python",
   "pygments_lexer": "ipython3",
   "version": "3.11.6"
  }
 },
 "nbformat": 4,
 "nbformat_minor": 5
}
