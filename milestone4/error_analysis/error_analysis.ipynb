{
 "cells": [
  {
   "cell_type": "code",
   "execution_count": 1,
   "id": "d4917ab6-98e1-4454-8eec-54dd142fae5b",
   "metadata": {},
   "outputs": [],
   "source": [
    "import pandas as pd"
   ]
  },
  {
   "cell_type": "code",
   "execution_count": 2,
   "id": "75030fb3-818c-4771-a970-7628598b3671",
   "metadata": {},
   "outputs": [
    {
     "data": {
      "text/html": [
       "<div>\n",
       "<style scoped>\n",
       "    .dataframe tbody tr th:only-of-type {\n",
       "        vertical-align: middle;\n",
       "    }\n",
       "\n",
       "    .dataframe tbody tr th {\n",
       "        vertical-align: top;\n",
       "    }\n",
       "\n",
       "    .dataframe thead th {\n",
       "        text-align: right;\n",
       "    }\n",
       "</style>\n",
       "<table border=\"1\" class=\"dataframe\">\n",
       "  <thead>\n",
       "    <tr style=\"text-align: right;\">\n",
       "      <th></th>\n",
       "      <th>article</th>\n",
       "      <th>headings</th>\n",
       "      <th>keywords</th>\n",
       "      <th>id</th>\n",
       "    </tr>\n",
       "  </thead>\n",
       "  <tbody>\n",
       "    <tr>\n",
       "      <th>0</th>\n",
       "      <td>Acylation of diverse carbohydrates occurs acro...</td>\n",
       "      <td>[Abstract, Introduction, Results and discussio...</td>\n",
       "      <td>[biochemistry and chemical biology, computatio...</td>\n",
       "      <td>elife-81547-v1</td>\n",
       "    </tr>\n",
       "    <tr>\n",
       "      <th>1</th>\n",
       "      <td>Honey bee ecology demands they make both rapid...</td>\n",
       "      <td>[Abstract, Introduction, Results, Discussion, ...</td>\n",
       "      <td>[computational and systems biology]</td>\n",
       "      <td>elife-86176-v2</td>\n",
       "    </tr>\n",
       "    <tr>\n",
       "      <th>2</th>\n",
       "      <td>Biguanides , including the world’s most prescr...</td>\n",
       "      <td>[Abstract, Introduction, Results, Discussion, ...</td>\n",
       "      <td>[genetics and genomics]</td>\n",
       "      <td>elife-82210-v1</td>\n",
       "    </tr>\n",
       "    <tr>\n",
       "      <th>3</th>\n",
       "      <td>Ecological relationships between bacteria medi...</td>\n",
       "      <td>[Abstract, Introduction, Results, Discussion, ...</td>\n",
       "      <td>[microbiology and infectious disease, ecology]</td>\n",
       "      <td>elife-83152-v2</td>\n",
       "    </tr>\n",
       "    <tr>\n",
       "      <th>4</th>\n",
       "      <td>Gamma oscillations are believed to underlie co...</td>\n",
       "      <td>[Abstract, Introduction, Results, Discussion, ...</td>\n",
       "      <td>[neuroscience]</td>\n",
       "      <td>elife-83044-v2</td>\n",
       "    </tr>\n",
       "  </tbody>\n",
       "</table>\n",
       "</div>"
      ],
      "text/plain": [
       "                                             article  \\\n",
       "0  Acylation of diverse carbohydrates occurs acro...   \n",
       "1  Honey bee ecology demands they make both rapid...   \n",
       "2  Biguanides , including the world’s most prescr...   \n",
       "3  Ecological relationships between bacteria medi...   \n",
       "4  Gamma oscillations are believed to underlie co...   \n",
       "\n",
       "                                            headings  \\\n",
       "0  [Abstract, Introduction, Results and discussio...   \n",
       "1  [Abstract, Introduction, Results, Discussion, ...   \n",
       "2  [Abstract, Introduction, Results, Discussion, ...   \n",
       "3  [Abstract, Introduction, Results, Discussion, ...   \n",
       "4  [Abstract, Introduction, Results, Discussion, ...   \n",
       "\n",
       "                                            keywords              id  \n",
       "0  [biochemistry and chemical biology, computatio...  elife-81547-v1  \n",
       "1                [computational and systems biology]  elife-86176-v2  \n",
       "2                            [genetics and genomics]  elife-82210-v1  \n",
       "3     [microbiology and infectious disease, ecology]  elife-83152-v2  \n",
       "4                                     [neuroscience]  elife-83044-v2  "
      ]
     },
     "execution_count": 2,
     "metadata": {},
     "output_type": "execute_result"
    }
   ],
   "source": [
    "filename = \"../../data/eLife_test.jsonl\"\n",
    "df = pd.read_json(filename, orient=\"records\", lines=True)\n",
    "df.head()"
   ]
  },
  {
   "cell_type": "code",
   "execution_count": 3,
   "id": "a1af5c90-384e-48f1-8ceb-4ecad0b95228",
   "metadata": {},
   "outputs": [],
   "source": [
    "imp_sections = ['Abstract','Introduction', 'Conclusion']\n",
    "\n",
    "def get_relevant_text(article, headings):\n",
    "    section_ids = [idx for imp_section in imp_sections for idx, section in enumerate(headings) if imp_section in section]\n",
    "    article_split = article.split(\"\\n\")\n",
    "    return \" \".join([article_split[id] for id in section_ids])"
   ]
  },
  {
   "cell_type": "code",
   "execution_count": 4,
   "id": "a2a24e88-9430-426d-89cc-d2604341fe45",
   "metadata": {},
   "outputs": [],
   "source": [
    "df['extracted'] = df.apply(lambda x: get_relevant_text(x['article'], x['headings']), axis=1)"
   ]
  },
  {
   "cell_type": "code",
   "execution_count": 5,
   "id": "b0651f4b-6a74-4659-95b5-1b10888c45c1",
   "metadata": {},
   "outputs": [
    {
     "data": {
      "text/plain": [
       "'Although vaccination is broadly used in North American swine breeding herds , managing swine influenza is challenging primarily due to the continuous evolution of influenza A virus ( IAV ) and the ability of the virus to transmit among vaccinated pigs . Studies that have simultaneously assessed the impact of vaccination on the emergence of IAV reassortment and genetic variation in pigs are limited . Here , we directly sequenced 28 bronchoalveolar lavage fluid ( BALF ) samples collected from vaccinated and unvaccinated pigs co-infected with H1N1 and H3N2 IAV strains , and characterized 202 individual viral plaques recovered from 13 BALF samples . We identified 54 reassortant viruses that were grouped in 17 single and 16 mixed genotypes . Notably , we found that prime-boost vaccinated pigs had less reassortant viruses than nonvaccinated pigs , likely due to a reduction in the number of days pigs were co-infected with both challenge viruses . However , direct sequencing from BALF samples revealed limited impact of vaccination on viral variant frequency , evolutionary rates , and nucleotide diversity in any IAV coding regions . Overall , our results highlight the value of IAV vaccination not only at limiting virus replication in pigs but also at protecting public health by restricting the generation of novel reassortants with zoonotic and/or pandemic potential .   Influenza A viruses ( IAV ) are important pathogens in humans , birds , and pigs globally . In the United States , IAV infection causes a significant disease burden on the healthcare system and society , resulting in 12 , 000–61 , 000 human deaths plus estimated losses of $11 . 2 billion annually ( Centers for Disease control and Prevention , 2020; Putri et al . , 2018 ) . IAV infections in pigs are also considered one of the top disease concerns for the US swine industry when influenza-induced respiratory disease severely reduces pig health and subsequently the pork producers’ profitability and sustainability . Human and swine share the same IAV subtypes ( Ryt-Hansen et al . , 2021; Vincent et al . , 2014 ) , which have similar tangled evolutionary histories contributing to the bidirectional transmission of IAV between both species ( Anderson et al . , 2021 ) . Pigs pose a risk for generating novel IAV strains with zoonotic and pandemic potential , which represents an unpredictable threat to both the swine industry and global public health . IAV exhibits an extraordinary ability for cross-species transmission and immune evasion by continually expanding its genetic diversity through antigenic drift and shift . This genetic diversity permits the rapid evolution of IAV , maximizing the virus’s opportunity to remain viable following significant changes in the environment and making the use of vaccines extremely difficult for disease prevention ( Martin and Brooke , 2019; Sandbulte et al . , 2015; Vincent et al . , 2017 ) . Therefore , minimizing IAV diversity should be a key strategy for One Health purposes to efficiently control IAV transmission between humans and pigs ( Centers for Disease Control and Prevention , 2017 ) . As swine are susceptible to avian , human , and swine-origin influenza virus , IAV introduction from multiple hosts immensely enriches the genetic pool of swine IAV and is responsible for the emergence of distinct H1 and H3 IAV lineages during the last 20 years in pigs ( Lewis et al . , 2016; Ma et al . , 2009 ) . The distribution of IAV receptors in the swine respiratory tract also promotes IAV co-infections with strains from various hosts and facilitates virus reassortment that may result in new viruses ( Van Reeth , 2007 ) . A mathematical model estimated an overall probability of a co-infection event in a farrow-to-finish pig farm , possibly leading to reassortment , to be 16 . 8% ( Cador et al . , 2017 ) . This estimate seems reasonable given that the recurrent and co-circulation of distinct IAV subtypes within swine herds is quite common and that over 74 different H1 genotypes have been detected in the US pig population alone from 2009 to 2016 ( Gao et al . , 2017; Nirmala et al . , 2021; Rose et al . , 2013 ) . With such diverse viral populations , swine should be considered one of the potential sources for novel IAV variants of zoonotic and pandemic infections . The 2009 H1N1 pandemic virus ( H1N1pdm09 ) , a reassortant virus that originated in pigs , contained gene segments of avian , swine , and human influenza viruses that led to the first influenza pandemic of the 21st century ( Garten et al . , 2009 ) . Within the first year of circulation , between 151 , 700 and 575 , 400 people died worldwide due to the 2009 H1N1 virus infection ( Centers for Disease Control and Prevention , 2019 ) . Due to the continued evolution , the H1N1pdm09 virus has generated a complex hemagglutinin ( HA ) clade system ( https://nextstrain . org/flu/seasonal/h1n1pdm/ha/12y; Hadfield et al . , 2018 ) . Moreover , the H1N1pdm09 virus has further reassorted with endemic IAV strains in pigs and has generated reassortants with distinct genetic constellations in many countries ( Charoenvisal et al . , 2013; Howard et al . , 2011; Lam et al . , 2011; Rajão et al . , 2017; Wong et al . , 2012 ) . Some reassortants of specific genotypes have already become the predominant circulating strains in swine populations and have caused fatal infections in people in contact with pigs ( Resende et al . , 2017; Sun et al . , 2020 ) . Vaccination against IAV is the primary measure to prevent influenza in pigs . In the United States , influenza vaccination is implemented in over 80% of large breeding herds and more than 95% of breeding females in these herds receive at least two doses of vaccines before their first farrowing ( USDA , 2016 ) . Even though live-attenuated influenza vaccine ( LAIV ) and RNA-based influenza vaccines have recently been licensed in the United States , whole-cell inactivated vaccines with oil-based adjuvants are still the most common vaccine types in pigs ( Aphis , 2020; Van Reeth and Ma , 2013 ) . To maximize cross-protective immunity against multiple viruses circulating in pig herds , most commercial vaccines contain multiple antigenically distinct IAV strains . However , IAV breakthrough infections are common in pigs as the virus evolves rapidly to escape host immunity ( Murcia et al . , 2012 ) , resulting in the circulation of the virus in vaccinated herds ( Chamba Pardo et al . , 2021 ) . Besides , the mismatch between vaccine and field strains raises concerns about the vaccine-associated enhanced respiratory disease ( VAERD ) , which has been reported in pigs vaccinated with a univalent whole inactivated vaccine ( WIV ) and experimentally challenged with a heterologous virus ( Khurana et al . , 2013; Rajão et al . , 2016 ) . VAERD is attributed to non-neutralizing antibodies induced by vaccines failing to neutralize the virus and instead exacerbate virus replication and disease enhancement ( Crowe , 2013; Khurana et al . , 2013 ) . Therefore , understanding how immunity induced by swine IAV vaccination shapes within-host virus evolution in pigs is key to controlling the disease and the emergence of novel antigenic variants . Previous studies have characterized the IAV mutational spectra within naïve and vaccinated pigs and other mammals to simulate the impact of immune pressure on within-host diversity ( Debbink et al . , 2017; Hoelzer et al . , 2010; McCrone et al . , 2018; Murcia et al . , 2013; Murcia et al . , 2012 ) . However , in vivo studies that explore how vaccination impacts reassortment between multiple subtypes of IAVs in pigs are lacking . Besides , most of the knowledge on IAV within-host diversity in pigs so far is based on samples taken from nasal cavities and studies that quantified the IAV within-host variation in pig lungs are lacking ( Illingworth et al . , 2014; Murcia et al . , 2012 ) . Considering that tissue tropism plays a vital role in IAV dissemination along the swine respiratory tract ( Zhang et al . , 2018 ) , with the pig lungs harboring IAV populations with the most extensive genomic variations , the effect of immune pressure on IAV within-host diversity may differ by anatomical location ( Takayama et al . , 2021; Xue et al . , 2018; Zhang et al . , 2018 ) . Therefore , in vivo studies are needed to provide an integrated picture of how vaccine-induced immunity affects IAV evolutionary trajectories occurring in the swine lower respiratory tract by evaluating the extent of IAV reassortment and mutational spectra taking place concurrently in naïve and vaccinated pigs . We previously published a vaccine-challenge study assessing IAV infections in pigs vaccinated with five distinct prime-boost vaccine combinations after simultaneous infection with both an H1N1 and an H3N2 IAV strain using a seeder pig model ( Li et al . , 2020 ) . The bronchoalveolar lavage fluid ( BALF ) samples obtained from the aforementioned study enabled us to evaluate , in this study , how IAV reassorts and mutates in the swine lower respiratory tract under immune pressure . We hypothesized that the dual-subtype IAV co-infection model better represents the conditions of IAV co-infection encountered in the field and that the findings could contribute to the body of knowledge of within-host virus evolution in pigs ( Nirmala et al . , 2021 ) . Here , we performed next-generation sequencing directly on BALF samples and IAV plaques purified from the BALF samples to identify the virus mutations and reassortment that happened in swine lungs . '"
      ]
     },
     "execution_count": 5,
     "metadata": {},
     "output_type": "execute_result"
    }
   ],
   "source": [
    "df.loc[38, 'extracted'] #38"
   ]
  },
  {
   "cell_type": "markdown",
   "id": "e8e433f8-4b9b-4cd8-9a2e-a461749fe438",
   "metadata": {},
   "source": [
    "- **Summary generated:** Swine influenza is a significant concern in North American breeding herds due to the continuous evolution of the influenza A virus (IAV) and its ability to transmit between vaccinated pigs. A study examined 28 bronchoalveolar lavage fluid (BALF) samples from vaccinated and unvaccinated pigs co-infected with H1N1 and H3N2 IAV strains, identifying 54 reassortant viruses. Vaccinated pigs had fewer reassortant viruses, likely due to a reduction in co-infection duration. However, direct sequencing revealed limited impact of vaccination on viral variant frequency, evolutionary rates, and nucleotide diversity in any IAV coding regions. IAV vaccination is crucial for limiting virus replication in pigs and protecting public health by restricting the generation of novel reassortants with zoonotic and/or pandemic potential. IAV infections in humans, birds, and pigs can lead to significant disease burden and economic losses. Pigs are susceptible to avian, human, and swine-origin influenza viruses, which can result in the emergence of distinct H1 and H3 IAV lineages. The distribution of IAV receptors in the swine respiratory tract facilitates IAV co-infections and reassortment, leading to new viruses. Minimizing IAV diversity should be a key strategy for One Health purposes to efficiently control IAV transmission between humans and pigs."
   ]
  },
  {
   "cell_type": "markdown",
   "id": "748da245-c7b3-4693-a611-e29fb250be7a",
   "metadata": {},
   "source": [
    "* **Comments:**\n",
    "    - Relevance: The summary effectively captures the key findings and implications of the study, emphasizing the significance of IAV vaccination in swine populations and its impact on virus evolution and reassortment.\n",
    "    - Readability: The summary maintains readability by presenting complex scientific information in a concise manner, but I feel some teminologies like direct sequencing, nucleotide are still high-leveled which would be difficult for a layman to understand in the first go.\n",
    "    - Factuality: The summary accurately represents the main points of the article, including the methodology, results, and broader implications for swine influenza control and public health."
   ]
  },
  {
   "cell_type": "code",
   "execution_count": 6,
   "id": "b8adbf9b-d938-4572-a2bf-9a4339de04e2",
   "metadata": {},
   "outputs": [
    {
     "data": {
      "text/plain": [
       "'The escape trajectory ( ET ) of prey – measured as the angle relative to the predator’s approach path – plays a major role in avoiding predation . Previous geometric models predict a single ET; however , many species show highly variable ETs with multiple preferred directions . Although such a high ET variability may confer unpredictability to avoid predation , the reasons why animals prefer specific multiple ETs remain unclear . Here , we constructed a novel geometric model that incorporates the time required for prey to turn and the predator’s position at the end of its attack . The optimal ET was determined by maximizing the time difference of arrival at the edge of the safety zone between the prey and predator . By fitting the model to the experimental data of fish Pagrus major , we show that the model can clearly explain the observed multiple preferred ETs . By changing the parameters of the same model within a realistic range , we were able to produce various patterns of ETs empirically observed in other species ( e . g . , insects and frogs ) : a single preferred ET and multiple preferred ETs at small ( 20–50° ) and large ( 150–180° ) angles from the predator . Our results open new avenues of investigation for understanding how animals choose their ETs from behavioral and neurosensory perspectives .   We revised the previous model proposed by Domenici , 2002; Paglianti and Domenici , 2006 ( Figure 2A ) and the model proposed by Corcoran and Conner , 2016 ( Appendix 1—figure 1A ) . Other previous models ( Arnott et al . , 1999; Weihs and Webb , 1984; Soto et al . , 2015; Martin et al . , 2022 ) made predictions similar to those of Domenici’s model or those of Corcoran’s model , although they used different theoretical approaches . In Domenici’s model , the predator with a certain width ( i . e . , the width of a killer whale’s tail used as a weapon to catch prey ) directly approaches the prey , and the prey ( the whole body ) should enter the safety zone before the predator reaches that entry point . In this model , the prey can instantaneously escape in any direction , and the predation threat moves linearly and infinitely . Corcoran’s model is based on the same principle as Domenici’s model , but includes the concept that the predator ( i . e . , a bat ) can adjust the approach path up to its minimum turning radius . Thus , Domenici’s model can be regarded as a special case of Corcoran’s model when the turning radius of the predator is infinitely large . These models are based on the escape response of the horizontal plane , which is realistic for many fish species as well as terrestrial and benthic species that move on substrates . They can also be applied to aerial animals such as moths escaping from bats because many predator-prey interactions are approximately two-dimensional in a local spatial scale ( Corcoran and Conner , 2016; Fabian et al . , 2018 ) . Hereafter , we explain the modification of Domenici’s model ( a special case of Corcoran’s model ) because the data on previously published predator-prey experiments on the same species of prey and predator in our experiment ( Kimura and Kawabata , 2018 ) show that the predator does not adjust the strike path during the attack ( Figure 2—figure supplement 1 , adjusted angle = 1 . 0 ± 6 . 6° [mean ± s . d . ] , n=5 ) , and thus the number of parameters to estimate can be reduced . See Appendix 1 for details of the modified version of Corcoran’s model . In our new model ( Figure 2B ) , two factors are added to the previous Domenici’s model: the time required for the prey to turn and the endpoint of the predator attack . We assume that a prey with a certain initial orientation β ( spanning 0–180° , where 0° and 180° correspond to being attacked from front and behind , respectively ) evades a sudden predation threat . Most prey species respond to the attack by turning at an angle α , and the ET results from the angular sum of α and β . ETs from the left and right sides were pooled and treated as though they were stimulated from the right side ( Figure 2—figure supplement 2; see ‘Definition of the angles’ in Materials and methods for details ) . When the prey’s CoM at the onset of its escape is located at point ( 0 , 0 ) , the trajectory of the CoM ( Xprey , Yprey ) is given by: ( 1 ) Yprey=Xpreytan\\u2061 ( α+β ) The edge of the safety zone is determined by the half-width of the predator capture device ( e . g . , mouth ) Dwidth , the distance between the prey’s initial position and the tip of the predator capture device at the end of the predator attack Dattack , and the shape of the predator’s capture device at the moment of attack , which is approximated as an arc with a certain radius Rdevice . The projection of the predator’s capture device edge along the edge of the sideways safety zone D2 can be expressed as: ( 2 ) D2=Rdevice{1−cos ( sin−1DwidthRdevice ) } The ET toward the upper-left corner of the danger zone θcorner can be expressed as: ( 3 ) θcorner=tan−1DwidthD2−Dattack The x and y coordinates of the safety zone edge ( Xsafe , Ysafe ) are given by: ( 4 ) {Ysafe\\xa0=Dwidth , α+β<θcorner ( Xsafe+Dattack−Rdevice ) 2+\\xa0Ysafe2=\\xa0Rdevice2 , α+β≥θcorner From Equation 1 to Equation 4 , the x and y coordinates of the crossing point of the escape path and the safety zone edge ( Xcross , Ycross ) are given by a function of Dwidth , Dattack , Rdevice , and α+β . The prey can escape from the predator when the time required for the prey to enter the safety zone ( Tprey ) is shorter than the time required for the predator’s capture device to reach that entry point ( Tpred ) . Therefore , the prey is assumed to maximize the difference between the Tpred and Tprey ( Tdiff ) . To incorporate the time required for the prey to turn , Tprey was divided into two phases: the fast-start phase , which includes the time for turning and acceleration ( T1 ) , and the constant speed phase ( T2 ) . This assumption is consistent with the previous studies ( Domenici and Blake , 1991; Danos and Lauder , 2012; Fleuren et al . , 2018 ) and was supported by our experiment ( see Figure 4—figure supplement 1 ) . Therefore: ( 5 ) Tprey=T1+T2 For simplicity , the fish was assumed to end the fast-start phase at a certain displacement from the initial position in any α ( D1; the radius of the dotted circle in Figure 2B ) and to move at a constant speed Uprey to cover the rest of the distance ( toward the edge of the safety zone Xcross2+Ycross2-D1 , plus the length of the body that is posterior to the CoM Lprey ) . Because a larger |α| requires further turning prior to forward locomotion , which takes time ( Domenici and Blake , 1991; Ellerby and Altringham , 2001 ) , and the initial velocity after turning was dependent on |α| in our experiment ( see Figure 4B ) , T1 is given by a function of |α| [ T1 ( |α| ) ] . Therefore , Tprey can be expressed as: ( 6 ) Tprey=T1 ( |α| ) +Xcross2+Ycross2−D1+LpreyUprey Tpred can be expressed as: ( 7 ) Tpred={Dinitial+D2−XcrossUpred , α+β<θcornerDinitial+DattackUpred , α+β≥θcorner where Dinitial is the distance between the prey and the predator at the onset of the prey’s escape response ( i . e . , the flight initiation distance or reaction distance ) , and Upred is the predator speed , which is assumed to be constant . From Equations 5–7 , Tdiff can be calculated as: ( 8 ) Tdiff={DinitialUpred+D2Upred−XcrossUpred−T1 ( |α| ) −Xcross2+Ycross2Uprey+\\xa0D1Uprey− LpreyUprey , α+β<θcornerDinitialUpred+DattackUpred−T1 ( |α| ) −Xcross2+Ycross2Uprey+\\xa0D1Uprey− LpreyUprey , α+β≥θcorner Because DinitialUpred+D1Uprey-LpreyUprey are independent of α and β , we can calculate the relative values of Tdiff ( Tdiff` ) in response to the changes of α and β , from: ( 9 ) Tdiff′={D2Upred−XcrossUpred−T1 ( |α| ) −Xcross2+Ycross2Uprey , α+β<θcornerDattackUpred−T1 ( |α| ) −Xcross2+Ycross2Uprey , α+β≥θcorner Because Xcross and Ycross are dependent on Dwidth , Dattack , and Rdevice as well as α+β , and D2 is dependent on Dwidth and Rdevice , we can calculate Tdiff` in response to the changes of α and β , from D1 , Dwidth , Dattack , Rdevice , Uprey , Upred , and T1|α| . Given that the escape success is assumed to be dependent on Tdiff` , the theoretically optimal ET can be expressed as: ( 10 ) The\\xa0optimal\\xa0ET=argmaxα+β ( Tdiff′ ) '"
      ]
     },
     "execution_count": 6,
     "metadata": {},
     "output_type": "execute_result"
    }
   ],
   "source": [
    "df.loc[13, 'extracted'] #13"
   ]
  },
  {
   "cell_type": "markdown",
   "id": "f9ac32e3-bbf2-4bbc-9675-644e45c54eab",
   "metadata": {},
   "source": [
    "- **Summary generated:** The study introduces a new geometric model that explains the variable escape trajectories (ET) of prey to avoid predation. Previous models predict a single ET, but many species show multiple preferred directions. This study aims to clarify the reasons why animals prefer specific multiple ETs. The new model considers the time required for prey to turn and the predator's position at the end of its attack. The model can explain the observed multiple preferred ETs in fish Pagrus major and produce various patterns of ETs empirically observed in other species. The researchers modified the previous models proposed by Domenici (2002) and Corcoran and Conner (2016) to develop the new model. The new model can be applied to various animals, including fish, terrestrial and benthic species, and aerial animals such as moths escaping from bats. The findings open new avenues of investigation for understanding how animals choose their ETs from behavioral and neurosensory perspectives."
   ]
  },
  {
   "cell_type": "markdown",
   "id": "ca200195-927f-481f-b643-e607e9b27593",
   "metadata": {},
   "source": [
    "* **Comments:**\n",
    "    - Relevance: The summary effectively captures the significance of the study in elucidating prey-predator dynamics and escape strategies across diverse animal species.\n",
    "    - Readability: The summary maintains readability by presenting complex geometric concepts (introduced in the model) in a clear and understandable manner, enhancing accessibility for a broader audience.\n",
    "    - Factuality: The summary accurately represents the key elements of the study, including the methodology, findings, and implications for understanding animal behavior responses during predation events."
   ]
  },
  {
   "cell_type": "code",
   "execution_count": 7,
   "id": "1645292a-deeb-4ee1-8e1e-0324ec2c1020",
   "metadata": {},
   "outputs": [
    {
     "data": {
      "text/plain": [
       "'During development , the growing organism transits through a series of temporally regulated morphological stages to generate the adult form . In humans , for example , development progresses from childhood through to puberty and then to adulthood , when sexual maturity is attained . Similarly , in holometabolous insects , immature juveniles transit to the adult form through an intermediate pupal stage when larval tissues are eliminated and the imaginal progenitor cells form the adult structures . The identity of the larval , pupal , and adult stages depends on the sequential expression of the transcription factors chinmo , Br-C , and E93 . However , how these transcription factors determine temporal identity in developing tissues is poorly understood . Here , we report on the role of the larval specifier chinmo in larval and adult progenitor cells during fly development . Interestingly , chinmo promotes growth in larval and imaginal tissues in a Br-C-independent and -dependent manner , respectively . In addition , we found that the absence of chinmo during metamorphosis is critical for proper adult differentiation . Importantly , we also provide evidence that , in contrast to the well-known role of chinmo as a pro-oncogene , Br-C and E93 act as tumour suppressors . Finally , we reveal that the function of chinmo as a juvenile specifier is conserved in hemimetabolous insects as its homolog has a similar role in Blatella germanica . Taken together , our results suggest that the sequential expression of the transcription factors Chinmo , Br-C and E93 during larva , pupa an adult respectively , coordinate the formation of the different organs that constitute the adult organism .   Animal development passes through various stages characterised by distinct morphological and molecular changes . In humans , for instance , development continues from birth through to childhood and puberty to give rise to the adult form . As in many animals , in holometabolous insects such as Drosophila melanogaster , the developmental stages are sharply defined: embryogenesis gives rise to the larva , a juvenile stage , which , upon different rounds of growth and moulting , brings about a new stage structure , the pupa , when most of the larval cells die and the adult progenitor cells ( imaginal cells ) develop to generate the adult organism . The regulation of stage-specific differences is mediated by the action of two major developmental hormones , the steroid 20-hydroxyecdysone and the terpenoid juvenile hormone ( Hiruma and Kaneko , 2013; Jindra et al . , 2013; Truman , 2019; Truman and Riddiford , 2007; Truman and Riddiford , 2002; Yamanaka et al . , 2013 ) . Both hormones exert this precise developmental control by regulating the expression of three critical genes that encode for the stage-identity factors that compose the metamorphic gene network: the C2H2 zinc finger type factor Krüppel-homolog 1 ( Kr-h1 ) , the helix-turn-helix Ecdysone inducible protein 93F ( E93 ) , and Broad-complex ( Br-C; also known as broad ) , a member of the bric-a-brac-tramtrack-broad family ( Martín et al . , 2021 ) . The deployment of the pupal-specific genetic program is controlled by the expression of Br-C at the larval-pupal transition ( Truman , 2019; Zhou and Riddiford , 2002 ) . Upon the formation of the pupa , hormone signalling triggers the expression of the helix-turn-helix factor E93 , whose product represses Br-C expression and directs the formation of the final differentiated adult structures ( Chafino et al . , 2019; Martín et al . , 2021; Ureña et al . , 2014 ) . While it is firmly established that Br-C and E93 are the stage-specifying genes for the pupal and adult states , the nature of the larval specifying gene has been elusive . To date , larval identity has been attributed to Kr-h1 , which is present during the larval period and represses Br-C and E93 expression during this period ( Huang et al . , 2011; Ureña et al . , 2016 ) . However , although Kr-h1 is undoubtedly critical for maintaining the larval state , evidence has shown that this factor cannot be considered the larval specifier per se . For example , depletion of Kr-h1 in Drosophila does not prevent normal larval development nor a timely transition to the pupa ( Beck et al . , 2004; Pecasse et al . , 2000 ) . In this regard , the product of chronologically inappropriate morphogenesis ( chinmo ) gene , another member of the BTB family of transcription factors , has been recently proposed to be responsible for larval identity in Drosophila ( Truman and Riddiford , 2022 ) . First isolated based on its requirement for the temporal identity of mushroom body neurons ( Zhu et al . , 2006 ) , the identification of Chinmo as a more general larval specifier has provided invaluable insights into the molecular mechanisms underlying the control of juvenile identity . Yet , little is known about how this factor exerts its function along with Br-C and E93 . Moreover , given that holometabolous insects are comprised of both larval tissues and pools of adult progenitor cells ( known as imaginal cells ) , a central issue in the understanding of how larval identity is controlled is how larval and imaginal cells respond differentially to the same set of temporal transcription factors . Furthermore , in the sequential activation of chinmo , Br-C , and E93 , the extent of the activity directly attributable to each transcription factor or to their mutual repression is still unclear . Here , we confirm the role of chinmo as larval specifier in larval and imaginal cells and establish its regulatory interactions with the other temporal specifiers . We also examine how the temporal sequence of Chinmo and Br-C differently affects with the genetic program that establishes larval vs . imaginal identity . Thus , we found that Chinmo controls larval development of larval and imaginal tissues in a Br-C-independent and -dependent manner , respectively . According to these data , and in the context of the metamorphic gene network , we also show that chinmo absence is critical for the transition from larva to pupa and then to adult , as it acts as a repressor of both Br-C and E93 . In addition , we report that the chinmo homologue has a similar role in the cockroach Blattella germanica , thereby indicating that its function as a juvenile specifier precedes the hemimetabolous/holometabolous split . Finally , we show that in contrast to the well-characterised role of chinmo as a pro-oncogene , the Br-C pupal and E93 adult specifiers act mainly as tumour suppressor genes . These characteristics are maintained beyond insects and may account for the different role of some human BTB-zinc finger transcription factors in tumourigenesis . '"
      ]
     },
     "execution_count": 7,
     "metadata": {},
     "output_type": "execute_result"
    }
   ],
   "source": [
    "df.loc[78, 'extracted'] #78"
   ]
  },
  {
   "cell_type": "markdown",
   "id": "f2b324cf-c987-46da-99b3-7e145bb01fa5",
   "metadata": {},
   "source": [
    "- **Summary generated:** In both humans and holometabolous insects, development occurs in a series of temporally regulated morphological stages that ultimately result in the adult form. In the case of holometabolous insects, immature juveniles transition to the adult form through an intermediate pupal stage, during which larval tissues are eliminated and adult structures are formed from imaginal progenitor cells. This process is regulated by the sequential expression of the transcription factors chinmo, Br-C, and E9"
   ]
  },
  {
   "cell_type": "markdown",
   "id": "55ccb1a1-1d44-40b6-aaf7-ef6e1d3856a1",
   "metadata": {},
   "source": [
    "* **Comments:**\n",
    "    - Relevance: The summary somewhat captures the importance of the study in explaining the molecular mechanisms underlying developmental transitions in insects but fail to highlight the potential implications for tumorigenesis.\n",
    "    - Readability: The summary presents developmental concepts in a concise manner, but I think it might be difficult for a layman to understand becuase of use of technical terminologies like holometabolous, progenitor etc.\n",
    "    - Factuality: The summary somewhat represents the key findings of the study, but it fails to include the role of chinmo as a larval specifier, its interactions with other transcription factors, and its implications for insect development and tumorigenesis."
   ]
  },
  {
   "cell_type": "code",
   "execution_count": null,
   "id": "0c88c05d-fa31-4929-8681-208b337cebe5",
   "metadata": {},
   "outputs": [],
   "source": []
  }
 ],
 "metadata": {
  "kernelspec": {
   "display_name": "Python 3 (ipykernel)",
   "language": "python",
   "name": "python3"
  },
  "language_info": {
   "codemirror_mode": {
    "name": "ipython",
    "version": 3
   },
   "file_extension": ".py",
   "mimetype": "text/x-python",
   "name": "python",
   "nbconvert_exporter": "python",
   "pygments_lexer": "ipython3",
   "version": "3.11.5"
  }
 },
 "nbformat": 4,
 "nbformat_minor": 5
}
