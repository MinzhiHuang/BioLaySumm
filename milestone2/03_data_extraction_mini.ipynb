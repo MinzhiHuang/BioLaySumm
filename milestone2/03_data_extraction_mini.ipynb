{
 "cells": [
  {
   "cell_type": "markdown",
   "id": "c6f8d2e6-e289-47dd-892d-7b6d582af70c",
   "metadata": {},
   "source": [
    "# Data Extraction for Mini dataset\n",
    "\n",
    "In this notebook, we will extract abstract and summary parts from articles in evaluation, then write to csv files"
   ]
  },
  {
   "cell_type": "code",
   "execution_count": 1,
   "id": "0ec371b4-1337-483f-8a69-f5c95166bd9c",
   "metadata": {},
   "outputs": [],
   "source": [
    "import pandas as pd"
   ]
  },
  {
   "cell_type": "code",
   "execution_count": 2,
   "id": "53002bd5-c7c9-4137-9c2b-ae0317592c67",
   "metadata": {},
   "outputs": [],
   "source": [
    "# function to extract first paragraph of the text\n",
    "def get_abstract(text, max_char = 1500):\n",
    "    \"\"\"\n",
    "        return abstract (first paragraph) of the text\n",
    "    \"\"\"\n",
    "    result = \"\"\n",
    "    result = text.split(\"\\n\")[0][:max_char]\n",
    "    return result"
   ]
  },
  {
   "cell_type": "markdown",
   "id": "632ba309-401a-4789-8f57-1e374220490b",
   "metadata": {},
   "source": [
    "### Apply data extraction for validation datasets"
   ]
  },
  {
   "cell_type": "code",
   "execution_count": 3,
   "id": "9a8a3de5-7bc1-4778-bd23-782c080122a2",
   "metadata": {},
   "outputs": [
    {
     "name": "stdout",
     "output_type": "stream",
     "text": [
      "Abstract text extraction:\n",
      "=============================\n",
      "Processing file = eLife_val_mini.jsonl\n",
      "Number of records = 24\n",
      "Getting abstracts\n",
      "Completed\n",
      "0    Mature neural networks synchronize and integra...\n",
      "1    Many decisions are thought to arise via the ac...\n",
      "2    Mutations in the inositol 5-phosphatase OCRL c...\n",
      "3    Gradients of signaling proteins are essential ...\n",
      "4    Similarity between two individuals in the comb...\n",
      "Name: abstract, dtype: object\n",
      "Writing output to eLife_val_mini_extracted.txt\n",
      "Completed\n",
      "--------------------\n",
      "Processing file = PLOS_val_mini.jsonl\n",
      "Number of records = 138\n",
      "Getting abstracts\n",
      "Completed\n",
      "0    Fleas can transmit Yersinia pestis by two mech...\n",
      "1    Endogenous retroviruses ( ERVs ) are remnants ...\n",
      "2    The Drosophila embryonic gonad is assembled fr...\n",
      "3    Recently , we presented a study of adult neuro...\n",
      "4    Understanding the transcriptional regulation o...\n",
      "Name: abstract, dtype: object\n",
      "Writing output to PLOS_val_mini_extracted.txt\n",
      "Completed\n",
      "--------------------\n",
      "======= completed ========\n"
     ]
    }
   ],
   "source": [
    "file_path = \"./data/mini_dataset/\"\n",
    "file_names = [\"eLife_val_mini.jsonl\", \n",
    "              \"PLOS_val_mini.jsonl\"\n",
    "             ]\n",
    "\n",
    "output_path = \"./data/mini_dataset/\"\n",
    "\n",
    "print(\"Abstract text extraction:\")\n",
    "print(\"=============================\")\n",
    "for filename in file_names:\n",
    "    print(\"Processing file =\", filename)\n",
    "    df = pd.read_json(file_path+filename,\n",
    "                       orient=\"records\",\n",
    "                       lines=True)\n",
    "    print(\"Number of records =\", len(df))\n",
    "\n",
    "    # apply get_abstract function\n",
    "    print(\"Getting abstracts\")\n",
    "    df[\"abstract\"] = df[\"article\"].apply(get_abstract)\n",
    "    print(\"Completed\")\n",
    "\n",
    "    output_df = df[\"abstract\"]\n",
    "    print(output_df.head())\n",
    "    output_filename = filename[:filename.rfind(\".\")] + \"_extracted.txt\"\n",
    "    print(\"Writing output to\", output_filename)\n",
    "    output_df.to_csv(output_path + output_filename,\n",
    "                     index=False,\n",
    "                     header=False,\n",
    "                     sep=\"\\n\"\n",
    "                    )\n",
    "    print(\"Completed\")\n",
    "    print(\"--------------------\")\n",
    "\n",
    "print(\"======= completed ========\")"
   ]
  },
  {
   "cell_type": "code",
   "execution_count": null,
   "id": "4789fee1-0717-47c5-8b2e-cad701e5cd39",
   "metadata": {},
   "outputs": [],
   "source": []
  }
 ],
 "metadata": {
  "kernelspec": {
   "display_name": "Python 3 (ipykernel)",
   "language": "python",
   "name": "python3"
  },
  "language_info": {
   "codemirror_mode": {
    "name": "ipython",
    "version": 3
   },
   "file_extension": ".py",
   "mimetype": "text/x-python",
   "name": "python",
   "nbconvert_exporter": "python",
   "pygments_lexer": "ipython3",
   "version": "3.11.6"
  }
 },
 "nbformat": 4,
 "nbformat_minor": 5
}
