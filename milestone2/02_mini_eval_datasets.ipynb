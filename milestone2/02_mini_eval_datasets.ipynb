{
 "cells": [
  {
   "cell_type": "markdown",
   "id": "28e08649-9087-4a12-82ed-cfb0bfc1b83f",
   "metadata": {},
   "source": [
    "### Create mini dataset for Evaluation\n",
    "Because running evaluation code on full eval datasets is very long (>12hrs), so we can create a mini version of the dataset (with about 10% randomly picked data)"
   ]
  },
  {
   "cell_type": "code",
   "execution_count": 1,
   "id": "f94b47e8-5026-44e4-ba18-23f212a78927",
   "metadata": {},
   "outputs": [],
   "source": [
    "import pandas as pd"
   ]
  },
  {
   "cell_type": "code",
   "execution_count": 2,
   "id": "0bba7805-eeb4-400a-9dc7-918994cebb7b",
   "metadata": {},
   "outputs": [],
   "source": [
    "filepath = \"./data/biolaysumm2024_data/\"\n",
    "filename = \"eLife_val.jsonl\""
   ]
  },
  {
   "cell_type": "code",
   "execution_count": 3,
   "id": "dbb176d6-8245-4921-be17-0c1b13bab19d",
   "metadata": {},
   "outputs": [
    {
     "data": {
      "text/html": [
       "<div>\n",
       "<style scoped>\n",
       "    .dataframe tbody tr th:only-of-type {\n",
       "        vertical-align: middle;\n",
       "    }\n",
       "\n",
       "    .dataframe tbody tr th {\n",
       "        vertical-align: top;\n",
       "    }\n",
       "\n",
       "    .dataframe thead th {\n",
       "        text-align: right;\n",
       "    }\n",
       "</style>\n",
       "<table border=\"1\" class=\"dataframe\">\n",
       "  <thead>\n",
       "    <tr style=\"text-align: right;\">\n",
       "      <th></th>\n",
       "      <th>lay_summary</th>\n",
       "      <th>article</th>\n",
       "      <th>headings</th>\n",
       "      <th>keywords</th>\n",
       "      <th>id</th>\n",
       "    </tr>\n",
       "  </thead>\n",
       "  <tbody>\n",
       "    <tr>\n",
       "      <th>0</th>\n",
       "      <td>The DNA in genes encodes the basic information...</td>\n",
       "      <td>Cell-fate reprograming is at the heart of deve...</td>\n",
       "      <td>[Abstract, Introduction, Results, Discussion, ...</td>\n",
       "      <td>[developmental biology]</td>\n",
       "      <td>elife-15477-v3</td>\n",
       "    </tr>\n",
       "    <tr>\n",
       "      <th>1</th>\n",
       "      <td>Klebsiella pneumoniae is a type of bacteria th...</td>\n",
       "      <td>Klebsiella pneumoniae is a respiratory , blood...</td>\n",
       "      <td>[Abstract, Introduction, Results, Discussion, ...</td>\n",
       "      <td>[microbiology and infectious disease, immunolo...</td>\n",
       "      <td>elife-56656-v2</td>\n",
       "    </tr>\n",
       "    <tr>\n",
       "      <th>2</th>\n",
       "      <td>Malaria is one of the world's most deadly infe...</td>\n",
       "      <td>Plasmodium vivax relapse infections occur foll...</td>\n",
       "      <td>[Abstract, Introduction, Results, Discussion, ...</td>\n",
       "      <td>[epidemiology and global health]</td>\n",
       "      <td>elife-04692-v2</td>\n",
       "    </tr>\n",
       "    <tr>\n",
       "      <th>3</th>\n",
       "      <td>The Amazon rainforest in South America is the ...</td>\n",
       "      <td>When 2 Mha of Amazonian forests are disturbed ...</td>\n",
       "      <td>[Abstract, Introduction, Results, Discussion, ...</td>\n",
       "      <td>[ecology]</td>\n",
       "      <td>elife-21394-v2</td>\n",
       "    </tr>\n",
       "    <tr>\n",
       "      <th>4</th>\n",
       "      <td>Neurons that arise in the adult nervous system...</td>\n",
       "      <td>Neurosphere formation is commonly used as a su...</td>\n",
       "      <td>[Abstract, Introduction, Results, Discussion, ...</td>\n",
       "      <td>[stem cells and regenerative medicine]</td>\n",
       "      <td>elife-02669-v2</td>\n",
       "    </tr>\n",
       "  </tbody>\n",
       "</table>\n",
       "</div>"
      ],
      "text/plain": [
       "                                         lay_summary  \\\n",
       "0  The DNA in genes encodes the basic information...   \n",
       "1  Klebsiella pneumoniae is a type of bacteria th...   \n",
       "2  Malaria is one of the world's most deadly infe...   \n",
       "3  The Amazon rainforest in South America is the ...   \n",
       "4  Neurons that arise in the adult nervous system...   \n",
       "\n",
       "                                             article  \\\n",
       "0  Cell-fate reprograming is at the heart of deve...   \n",
       "1  Klebsiella pneumoniae is a respiratory , blood...   \n",
       "2  Plasmodium vivax relapse infections occur foll...   \n",
       "3  When 2 Mha of Amazonian forests are disturbed ...   \n",
       "4  Neurosphere formation is commonly used as a su...   \n",
       "\n",
       "                                            headings  \\\n",
       "0  [Abstract, Introduction, Results, Discussion, ...   \n",
       "1  [Abstract, Introduction, Results, Discussion, ...   \n",
       "2  [Abstract, Introduction, Results, Discussion, ...   \n",
       "3  [Abstract, Introduction, Results, Discussion, ...   \n",
       "4  [Abstract, Introduction, Results, Discussion, ...   \n",
       "\n",
       "                                            keywords              id  \n",
       "0                            [developmental biology]  elife-15477-v3  \n",
       "1  [microbiology and infectious disease, immunolo...  elife-56656-v2  \n",
       "2                   [epidemiology and global health]  elife-04692-v2  \n",
       "3                                          [ecology]  elife-21394-v2  \n",
       "4             [stem cells and regenerative medicine]  elife-02669-v2  "
      ]
     },
     "execution_count": 3,
     "metadata": {},
     "output_type": "execute_result"
    }
   ],
   "source": [
    "df = pd.read_json(filepath + filename, \n",
    "                  orient=\"records\",\n",
    "                  lines=True\n",
    "                 )\n",
    "df.head()"
   ]
  },
  {
   "cell_type": "code",
   "execution_count": 4,
   "id": "288ccabb-6189-4a7e-8e22-7e5c69b1caaf",
   "metadata": {},
   "outputs": [
    {
     "name": "stdout",
     "output_type": "stream",
     "text": [
      "Number of rows = 241\n"
     ]
    }
   ],
   "source": [
    "n = len(df)\n",
    "print(\"Number of rows =\", n)"
   ]
  },
  {
   "cell_type": "code",
   "execution_count": 5,
   "id": "534adfb2-fa05-4449-b0a0-0f5b4037d054",
   "metadata": {},
   "outputs": [
    {
     "data": {
      "text/html": [
       "<div>\n",
       "<style scoped>\n",
       "    .dataframe tbody tr th:only-of-type {\n",
       "        vertical-align: middle;\n",
       "    }\n",
       "\n",
       "    .dataframe tbody tr th {\n",
       "        vertical-align: top;\n",
       "    }\n",
       "\n",
       "    .dataframe thead th {\n",
       "        text-align: right;\n",
       "    }\n",
       "</style>\n",
       "<table border=\"1\" class=\"dataframe\">\n",
       "  <thead>\n",
       "    <tr style=\"text-align: right;\">\n",
       "      <th></th>\n",
       "      <th>lay_summary</th>\n",
       "      <th>article</th>\n",
       "      <th>headings</th>\n",
       "      <th>keywords</th>\n",
       "      <th>id</th>\n",
       "    </tr>\n",
       "  </thead>\n",
       "  <tbody>\n",
       "    <tr>\n",
       "      <th>24</th>\n",
       "      <td>It can take several months , or even years , f...</td>\n",
       "      <td>Mature neural networks synchronize and integra...</td>\n",
       "      <td>[Abstract, Introduction, Results, Discussion, ...</td>\n",
       "      <td>[neuroscience]</td>\n",
       "      <td>elife-69011-v2</td>\n",
       "    </tr>\n",
       "    <tr>\n",
       "      <th>6</th>\n",
       "      <td>Many of our decisions are made on the basis of...</td>\n",
       "      <td>Many decisions are thought to arise via the ac...</td>\n",
       "      <td>[Abstract, Introduction, Results, Discussion, ...</td>\n",
       "      <td>[neuroscience]</td>\n",
       "      <td>elife-17688-v1</td>\n",
       "    </tr>\n",
       "    <tr>\n",
       "      <th>222</th>\n",
       "      <td>Oculo-Cerebro-Renal syndrome of Lowe ( Lowe sy...</td>\n",
       "      <td>Mutations in the inositol 5-phosphatase OCRL c...</td>\n",
       "      <td>[Abstract, Introduction, Results, Discussion, ...</td>\n",
       "      <td>[cell biology]</td>\n",
       "      <td>elife-02975-v2</td>\n",
       "    </tr>\n",
       "    <tr>\n",
       "      <th>208</th>\n",
       "      <td>When an embryo develops , its cells must work ...</td>\n",
       "      <td>Gradients of signaling proteins are essential ...</td>\n",
       "      <td>[Abstract, Introduction, Results, Discussion, ...</td>\n",
       "      <td>[developmental biology]</td>\n",
       "      <td>elife-38137-v3</td>\n",
       "    </tr>\n",
       "    <tr>\n",
       "      <th>236</th>\n",
       "      <td>Our genomes contain a record of historical eve...</td>\n",
       "      <td>Similarity between two individuals in the comb...</td>\n",
       "      <td>[Abstract, Introduction, Results, Discussion, ...</td>\n",
       "      <td>[evolutionary biology, genetics and genomics]</td>\n",
       "      <td>elife-15266-v1</td>\n",
       "    </tr>\n",
       "  </tbody>\n",
       "</table>\n",
       "</div>"
      ],
      "text/plain": [
       "                                           lay_summary  \\\n",
       "24   It can take several months , or even years , f...   \n",
       "6    Many of our decisions are made on the basis of...   \n",
       "222  Oculo-Cerebro-Renal syndrome of Lowe ( Lowe sy...   \n",
       "208  When an embryo develops , its cells must work ...   \n",
       "236  Our genomes contain a record of historical eve...   \n",
       "\n",
       "                                               article  \\\n",
       "24   Mature neural networks synchronize and integra...   \n",
       "6    Many decisions are thought to arise via the ac...   \n",
       "222  Mutations in the inositol 5-phosphatase OCRL c...   \n",
       "208  Gradients of signaling proteins are essential ...   \n",
       "236  Similarity between two individuals in the comb...   \n",
       "\n",
       "                                              headings  \\\n",
       "24   [Abstract, Introduction, Results, Discussion, ...   \n",
       "6    [Abstract, Introduction, Results, Discussion, ...   \n",
       "222  [Abstract, Introduction, Results, Discussion, ...   \n",
       "208  [Abstract, Introduction, Results, Discussion, ...   \n",
       "236  [Abstract, Introduction, Results, Discussion, ...   \n",
       "\n",
       "                                          keywords              id  \n",
       "24                                  [neuroscience]  elife-69011-v2  \n",
       "6                                   [neuroscience]  elife-17688-v1  \n",
       "222                                 [cell biology]  elife-02975-v2  \n",
       "208                        [developmental biology]  elife-38137-v3  \n",
       "236  [evolutionary biology, genetics and genomics]  elife-15266-v1  "
      ]
     },
     "execution_count": 5,
     "metadata": {},
     "output_type": "execute_result"
    }
   ],
   "source": [
    "ratio = 0.1 # 10%\n",
    "\n",
    "mini_df = df.sample(frac=ratio,\n",
    "                    random_state=42\n",
    "                   )\n",
    "\n",
    "mini_df.head()"
   ]
  },
  {
   "cell_type": "code",
   "execution_count": 6,
   "id": "2b93976c-df89-4324-9c0e-35ded66dd150",
   "metadata": {},
   "outputs": [
    {
     "name": "stdout",
     "output_type": "stream",
     "text": [
      "Number of rows = 24\n",
      "Ratio = 0.0995850622406639\n"
     ]
    }
   ],
   "source": [
    "print(\"Number of rows =\", len(mini_df))\n",
    "print(\"Ratio =\", len(mini_df) / len(df))"
   ]
  },
  {
   "cell_type": "code",
   "execution_count": 7,
   "id": "5b0c08ba-8a54-4509-a69d-7d4b8edb99ce",
   "metadata": {},
   "outputs": [
    {
     "name": "stdout",
     "output_type": "stream",
     "text": [
      "Writing mini set to eLife_val_mini.jsonl\n",
      "Completed\n"
     ]
    }
   ],
   "source": [
    "output_path = \"./data/mini_dataset/\"\n",
    "output_file = \"eLife_val_mini.jsonl\"\n",
    "\n",
    "print(\"Writing mini set to\", output_file)\n",
    "mini_df.to_json(output_path + output_file,\n",
    "                orient=\"records\",\n",
    "                lines=True\n",
    "               )\n",
    "print(\"Completed\")"
   ]
  },
  {
   "cell_type": "code",
   "execution_count": 8,
   "id": "9df93c21-7dc5-4a3c-80b5-d117f7393add",
   "metadata": {},
   "outputs": [],
   "source": [
    "# put the code into a function, so we can apply it to multiple dataset\n",
    "def make_mini_dataset(full_input_filename, full_output_filename, ratio=0.1):\n",
    "    \"\"\"\n",
    "        read data from a full set, pick a random sample and write to output file\n",
    "    \"\"\"\n",
    "    print(\"reading from file =\", full_input_filename)\n",
    "    \n",
    "    df = pd.read_json(full_input_filename, \n",
    "                      orient=\"records\",\n",
    "                      lines=True\n",
    "                     )\n",
    "    # print(df.head())\n",
    "    print(\"Number of records =\", len(df))\n",
    "\n",
    "\n",
    "    mini_df = df.sample(frac=ratio,\n",
    "                        random_state=42\n",
    "                       )\n",
    "    \n",
    "    # print(mini_df.head())\n",
    "    print(\"Number of rows in mini set =\", len(mini_df))\n",
    "    \n",
    "    print(\"Writing mini set to\", output_file)\n",
    "    mini_df.to_json(full_output_filename,\n",
    "                    orient=\"records\",\n",
    "                    lines=True\n",
    "                   )\n",
    "    print(\"Completed\")\n",
    "\n",
    "\n",
    "\n"
   ]
  },
  {
   "cell_type": "code",
   "execution_count": 9,
   "id": "75147f9b-1795-42f8-a2b0-cd2054122f20",
   "metadata": {},
   "outputs": [
    {
     "name": "stdout",
     "output_type": "stream",
     "text": [
      "reading from file = ./data/biolaysumm2024_data/eLife_val.jsonl\n",
      "Number of records = 241\n",
      "Number of rows in mini set = 24\n",
      "Writing mini set to eLife_val_mini.jsonl\n",
      "Completed\n"
     ]
    }
   ],
   "source": [
    "make_mini_dataset(\"./data/biolaysumm2024_data/eLife_val.jsonl\", \n",
    "                  \"./data/mini_dataset/eLife_val_mini.jsonl\")"
   ]
  },
  {
   "cell_type": "code",
   "execution_count": 10,
   "id": "a33c159b-a907-496c-9d15-72eb7f2c5f2c",
   "metadata": {},
   "outputs": [
    {
     "name": "stdout",
     "output_type": "stream",
     "text": [
      "reading from file = ./data/biolaysumm2024_data/PLOS_val.jsonl\n",
      "Number of records = 1376\n",
      "Number of rows in mini set = 138\n",
      "Writing mini set to eLife_val_mini.jsonl\n",
      "Completed\n"
     ]
    }
   ],
   "source": [
    "make_mini_dataset(\"./data/biolaysumm2024_data/PLOS_val.jsonl\", \n",
    "                  \"./data/mini_dataset/PLOS_val_mini.jsonl\")"
   ]
  }
 ],
 "metadata": {
  "kernelspec": {
   "display_name": "Python 3 (ipykernel)",
   "language": "python",
   "name": "python3"
  },
  "language_info": {
   "codemirror_mode": {
    "name": "ipython",
    "version": 3
   },
   "file_extension": ".py",
   "mimetype": "text/x-python",
   "name": "python",
   "nbconvert_exporter": "python",
   "pygments_lexer": "ipython3",
   "version": "3.11.8"
  }
 },
 "nbformat": 4,
 "nbformat_minor": 5
}
