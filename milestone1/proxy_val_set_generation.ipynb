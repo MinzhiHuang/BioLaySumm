{
 "cells": [
  {
   "cell_type": "markdown",
   "id": "9887c1d8-1787-4535-9faf-259e6719c6eb",
   "metadata": {},
   "source": [
    "# Proxy validation dataset generation"
   ]
  },
  {
   "cell_type": "markdown",
   "id": "dd12abe1-901f-44f4-b536-c50d7dca2440",
   "metadata": {},
   "source": [
    "This notebook generates proxy validation dataset to test the validity of `evaluate.py`."
   ]
  },
  {
   "cell_type": "markdown",
   "id": "2fa06551-5ced-4917-b1d7-787640dbbf46",
   "metadata": {},
   "source": [
    "Approach:\n",
    "extract 3 examples of validation data from `eLife_val.jsonl` and `PLOS_val.jsonl` each to create a proxy validation data set."
   ]
  },
  {
   "cell_type": "code",
   "execution_count": 1,
   "id": "f59444bd-b766-4175-9b92-ddb5d8c057df",
   "metadata": {},
   "outputs": [],
   "source": [
    "import pandas as pd\n",
    "import numpy as np"
   ]
  },
  {
   "cell_type": "code",
   "execution_count": 10,
   "id": "be88e346-734d-40d2-8b75-5f034d079870",
   "metadata": {},
   "outputs": [],
   "source": [
    "file_path = \"./data/biolaysumm2024_data/\"\n",
    "\n",
    "file_names = [\n",
    "              \"eLife_val.jsonl\",\n",
    "              \"PLOS_val.jsonl\",\n",
    "             ]\n",
    "\n",
    "elife_df = pd.read_json(file_path+file_names[0], orient=\"records\", lines=True)\n",
    "plos_df = pd.read_json(file_path+file_names[1], orient=\"records\", lines=True)"
   ]
  },
  {
   "cell_type": "code",
   "execution_count": 20,
   "id": "f1bb7465-81e4-403a-9df7-383a40adc985",
   "metadata": {},
   "outputs": [],
   "source": [
    "proxy_elife_df = elife_df.sample(3, random_state=531, ignore_index=True)\n",
    "\n",
    "proxy_plos_df = plos_df.sample(3, random_state=531, ignore_index=True)"
   ]
  },
  {
   "cell_type": "code",
   "execution_count": 21,
   "id": "ed045dd5-4351-4fec-9d5a-d36f7539d9a3",
   "metadata": {},
   "outputs": [
    {
     "data": {
      "text/html": [
       "<div>\n",
       "<style scoped>\n",
       "    .dataframe tbody tr th:only-of-type {\n",
       "        vertical-align: middle;\n",
       "    }\n",
       "\n",
       "    .dataframe tbody tr th {\n",
       "        vertical-align: top;\n",
       "    }\n",
       "\n",
       "    .dataframe thead th {\n",
       "        text-align: right;\n",
       "    }\n",
       "</style>\n",
       "<table border=\"1\" class=\"dataframe\">\n",
       "  <thead>\n",
       "    <tr style=\"text-align: right;\">\n",
       "      <th></th>\n",
       "      <th>lay_summary</th>\n",
       "      <th>article</th>\n",
       "      <th>headings</th>\n",
       "      <th>keywords</th>\n",
       "      <th>id</th>\n",
       "    </tr>\n",
       "  </thead>\n",
       "  <tbody>\n",
       "    <tr>\n",
       "      <th>0</th>\n",
       "      <td>Accumulation of aggregates of misfolded protei...</td>\n",
       "      <td>Misfolding and aggregation of host proteins ar...</td>\n",
       "      <td>[Abstract, Introduction, Results, Discussion, ...</td>\n",
       "      <td>[cell motility, innate immune system, animal d...</td>\n",
       "      <td>journal.ppat.1005551</td>\n",
       "    </tr>\n",
       "    <tr>\n",
       "      <th>1</th>\n",
       "      <td>Here we show that native HIV-1 Env spikes expr...</td>\n",
       "      <td>Eliciting broad tier 2 neutralizing antibodies...</td>\n",
       "      <td>[Abstract, Introduction, Results, Discussion, ...</td>\n",
       "      <td>[]</td>\n",
       "      <td>journal.ppat.1004932</td>\n",
       "    </tr>\n",
       "    <tr>\n",
       "      <th>2</th>\n",
       "      <td>Light is the principal signal used by animals ...</td>\n",
       "      <td>For most species , light represents the princi...</td>\n",
       "      <td>[Abstract, Introduction, Results, Discussion, ...</td>\n",
       "      <td>[cell biology, cell biology/gene expression, m...</td>\n",
       "      <td>journal.pbio.1000223</td>\n",
       "    </tr>\n",
       "  </tbody>\n",
       "</table>\n",
       "</div>"
      ],
      "text/plain": [
       "                                         lay_summary  \\\n",
       "0  Accumulation of aggregates of misfolded protei...   \n",
       "1  Here we show that native HIV-1 Env spikes expr...   \n",
       "2  Light is the principal signal used by animals ...   \n",
       "\n",
       "                                             article  \\\n",
       "0  Misfolding and aggregation of host proteins ar...   \n",
       "1  Eliciting broad tier 2 neutralizing antibodies...   \n",
       "2  For most species , light represents the princi...   \n",
       "\n",
       "                                            headings  \\\n",
       "0  [Abstract, Introduction, Results, Discussion, ...   \n",
       "1  [Abstract, Introduction, Results, Discussion, ...   \n",
       "2  [Abstract, Introduction, Results, Discussion, ...   \n",
       "\n",
       "                                            keywords                    id  \n",
       "0  [cell motility, innate immune system, animal d...  journal.ppat.1005551  \n",
       "1                                                 []  journal.ppat.1004932  \n",
       "2  [cell biology, cell biology/gene expression, m...  journal.pbio.1000223  "
      ]
     },
     "execution_count": 21,
     "metadata": {},
     "output_type": "execute_result"
    }
   ],
   "source": [
    "proxy_plos_df"
   ]
  },
  {
   "cell_type": "code",
   "execution_count": 22,
   "id": "2d07d67a-86cf-45c2-8d8c-adfb92378738",
   "metadata": {},
   "outputs": [],
   "source": [
    "output_file_path = \"./evaluation_script/proxy_evaluation/\"\n",
    "\n",
    "proxy_elife_df.to_json(output_file_path+\"eLife_val.jsonl\", orient=\"records\", lines=True)\n",
    "\n",
    "proxy_plos_df.to_json(output_file_path+\"PLOS_val.jsonl\", orient=\"records\", lines=True)\n",
    "\n",
    "proxy_elife_df['lay_summary'].to_csv(output_file_path+'elife.txt', index=False, header=False, sep='\\n')\n",
    "\n",
    "proxy_plos_df['lay_summary'].to_csv(output_file_path+'plos.txt', index=False, header=False, sep='\\n')"
   ]
  },
  {
   "cell_type": "code",
   "execution_count": null,
   "id": "2c82e23a-a907-4c20-a870-cfb76965fe5e",
   "metadata": {},
   "outputs": [],
   "source": []
  }
 ],
 "metadata": {
  "kernelspec": {
   "display_name": "Python [conda env:root] *",
   "language": "python",
   "name": "conda-root-py"
  },
  "language_info": {
   "codemirror_mode": {
    "name": "ipython",
    "version": 3
   },
   "file_extension": ".py",
   "mimetype": "text/x-python",
   "name": "python",
   "nbconvert_exporter": "python",
   "pygments_lexer": "ipython3",
   "version": "3.11.6"
  }
 },
 "nbformat": 4,
 "nbformat_minor": 5
}
