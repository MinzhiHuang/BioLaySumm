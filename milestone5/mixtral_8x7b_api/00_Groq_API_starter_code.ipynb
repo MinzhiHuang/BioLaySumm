{
 "cells": [
  {
   "cell_type": "markdown",
   "id": "f95027b3-ccac-4b20-b132-49d20df38822",
   "metadata": {},
   "source": [
    "## 00-Groq.com API starter code\n",
    "In this notebook, we will make API calls to Groq.com to summarize an article.\n",
    "\n",
    "We would use Mixtral 8x7B as it has very good performance scores, and it's open source."
   ]
  },
  {
   "cell_type": "code",
   "execution_count": 1,
   "id": "ff1efd08-6437-49b2-a7be-f696e1e5ec0d",
   "metadata": {},
   "outputs": [],
   "source": [
    "# !pip install groq"
   ]
  },
  {
   "cell_type": "code",
   "execution_count": 2,
   "id": "2012b9ea-be57-45d3-b8e0-328233961605",
   "metadata": {},
   "outputs": [
    {
     "name": "stdout",
     "output_type": "stream",
     "text": [
      "56\n"
     ]
    }
   ],
   "source": [
    "# load api key\n",
    "import json\n",
    "import urllib.parse\n",
    "\n",
    "with open('./data/credentials.json') as f:\n",
    "    login = json.load(f)\n",
    "    \n",
    "api_key = login[\"GROQ_API_KEY\"]\n",
    "print(len(api_key))"
   ]
  },
  {
   "cell_type": "code",
   "execution_count": 3,
   "id": "45c6db41-2b56-4140-8346-9cd0a2f54b65",
   "metadata": {},
   "outputs": [],
   "source": [
    "from groq import Groq\n",
    "\n",
    "client = Groq(\n",
    "    api_key=api_key, # put your api key here, or in \"./data/credentials.json\"\n",
    ")"
   ]
  },
  {
   "cell_type": "code",
   "execution_count": 4,
   "id": "d8386638-a12b-4916-8a04-f2bc92ed242b",
   "metadata": {},
   "outputs": [
    {
     "name": "stdout",
     "output_type": "stream",
     "text": [
      "The capital city of Alberta, a province in Western Canada, is Edmonton."
     ]
    }
   ],
   "source": [
    "completion = client.chat.completions.create(\n",
    "    model=\"mixtral-8x7b-32768\",\n",
    "    messages=[\n",
    "        {\n",
    "            \"role\": \"user\",\n",
    "            \"content\": \"Answer in 1 sentence: What's the capital city of Alberta?\"\n",
    "        },\n",
    "    ],\n",
    "    temperature=1,\n",
    "    max_tokens=1024,\n",
    "    top_p=1,\n",
    "    stream=True,\n",
    "    stop=None,\n",
    ")\n",
    "\n",
    "for chunk in completion:\n",
    "    print(chunk.choices[0].delta.content or \"\", end=\"\")"
   ]
  },
  {
   "cell_type": "code",
   "execution_count": 5,
   "id": "9d9b4c0e-4ffb-49c9-a137-5858df515bfd",
   "metadata": {},
   "outputs": [
    {
     "data": {
      "text/plain": [
       "'The evolutionary origins of the hypoxia-sensitive cells that trigger amniote respiratory reflexes – carotid body glomus cells , and ‘pulmonary neuroendocrine cells’ ( PNECs ) - are obscure . Homology has been proposed between glomus cells , which are neural crest-derived , and the hypoxia-sensitive ‘neuroepithelial cells’ ( NECs ) of fish gills , whose embryonic origin is unknown . NECs have also been likened to PNECs , which differentiate in situ within lung airway epithelia . Using genetic lineage-tracing and neural crest-deficient mutants in zebrafish , and physical fate-mapping in frog and lamprey , we find that NECs are not neural crest-derived , but endoderm-derived , like PNECs , whose endodermal origin we confirm . We discover neural crest-derived catecholaminergic cells associated with zebrafish pharyngeal arch blood vessels , and propose a new model for amniote hypoxia-sensitive cell evolution: endoderm-derived NECs were retained as PNECs , while the carotid body evolved via the aggregation of neural crest-derived catecholaminergic ( chromaffin ) cells already associated with blood vessels in anamniote pharyngeal arches . '"
      ]
     },
     "execution_count": 5,
     "metadata": {},
     "output_type": "execute_result"
    }
   ],
   "source": [
    "# test some summarization\n",
    "s = 'The evolutionary origins of the hypoxia-sensitive cells that trigger amniote respiratory reflexes – carotid body glomus cells , and ‘pulmonary neuroendocrine cells’ ( PNECs ) - are obscure . Homology has been proposed between glomus cells , which are neural crest-derived , and the hypoxia-sensitive ‘neuroepithelial cells’ ( NECs ) of fish gills , whose embryonic origin is unknown . NECs have also been likened to PNECs , which differentiate in situ within lung airway epithelia . Using genetic lineage-tracing and neural crest-deficient mutants in zebrafish , and physical fate-mapping in frog and lamprey , we find that NECs are not neural crest-derived , but endoderm-derived , like PNECs , whose endodermal origin we confirm . We discover neural crest-derived catecholaminergic cells associated with zebrafish pharyngeal arch blood vessels , and propose a new model for amniote hypoxia-sensitive cell evolution: endoderm-derived NECs were retained as PNECs , while the carotid body evolved via the aggregation of neural crest-derived catecholaminergic ( chromaffin ) cells already associated with blood vessels in anamniote pharyngeal arches . '\n",
    "s"
   ]
  },
  {
   "cell_type": "code",
   "execution_count": 6,
   "id": "a601fe26-9ab5-4861-8f28-64f5d6e6ba47",
   "metadata": {},
   "outputs": [],
   "source": [
    "prompt = f\"[INST] Simplify and summarize in 200 to 300 words:  {s} [/INST]\""
   ]
  },
  {
   "cell_type": "code",
   "execution_count": 7,
   "id": "dd37f5ad-6d38-480e-b40f-0615f136b901",
   "metadata": {},
   "outputs": [
    {
     "name": "stdout",
     "output_type": "stream",
     "text": [
      "Hello\n",
      "World\n"
     ]
    }
   ],
   "source": [
    "# test pause\n",
    "import time\n",
    "print(\"Hello\")\n",
    "time.sleep(2)\n",
    "print(\"World\")"
   ]
  },
  {
   "cell_type": "code",
   "execution_count": 8,
   "id": "5914f954-7f9a-40ad-89a8-c3db2c19c416",
   "metadata": {},
   "outputs": [],
   "source": [
    "SLEEP_TIME = 10 # pause between requests"
   ]
  },
  {
   "cell_type": "code",
   "execution_count": 9,
   "id": "60139a6d-0c1f-42c0-9b54-26c318c48592",
   "metadata": {},
   "outputs": [],
   "source": [
    "# put into a function\n",
    "def send_sumarize_request(content, model=client, min_words=250, max_words=500, quiet=True):\n",
    "    \"\"\"\n",
    "        summarize the content\n",
    "        input: context (text), model (groq_api client), max_words (int)\n",
    "        output: summarized text\n",
    "    \"\"\"\n",
    "    if not quiet:\n",
    "        print(\"Sending request for text =\", content[:100])\n",
    "        \n",
    "    result = \"\"\n",
    "    prompt = f'Simplify and summarize in minimum {min_words} to maximum {max_words} words, combine answer into 1 paragraph, keep important factual details:  \"{content}\"'\n",
    "    try:\n",
    "        completion = client.chat.completions.create(\n",
    "            model=\"mixtral-8x7b-32768\",\n",
    "            messages=[\n",
    "                {\n",
    "                    \"role\": \"user\",\n",
    "                    \"content\": prompt\n",
    "                },\n",
    "            ],\n",
    "            temperature=1,\n",
    "            max_tokens=2048,\n",
    "            top_p=1,\n",
    "            stream=True,\n",
    "            stop=None,\n",
    "        )\n",
    "    \n",
    "        \n",
    "        for chunk in completion:\n",
    "            result += chunk.choices[0].delta.content or \"\"\n",
    "    except Exception as err:\n",
    "        print(\"Skipping, error : \", err)\n",
    "        result = \"\"\n",
    "        \n",
    "\n",
    "    # pause to avoid hitting bandwidth limit (~ 14K token / minute)\n",
    "    print(f\"Pausing for {SLEEP_TIME} secs...\", end=\"\")\n",
    "    time.sleep(SLEEP_TIME)\n",
    "    print(\"OK\")\n",
    "    \n",
    "    return result"
   ]
  },
  {
   "cell_type": "code",
   "execution_count": 10,
   "id": "40c94ee3-0309-47d7-962f-636c4d78abd4",
   "metadata": {},
   "outputs": [
    {
     "name": "stdout",
     "output_type": "stream",
     "text": [
      "Pausing for 10 secs...OK\n"
     ]
    },
    {
     "data": {
      "text/plain": [
       "'The evolutionary origins of hypoxia-sensitive cells that trigger amniote respiratory reflexes, specifically carotid body glomus cells and pulmonary neuroendocrine cells (PNECs), have been a mystery. Some researchers have suggested a homology between glomus cells, which are neural crest-derived, and the hypoxia-sensitive neuroepithelial cells (NECs) of fish gills, whose embryonic origin is unknown. NECs have also been compared to PNECs, which differentiate in situ within lung airway epithelia. However, a study using genetic lineage-tracing and neural crest-deficient mutants in zebrafish, as well as physical fate-mapping in frog and lamprey, has found that NECs are not neural crest-derived, but endoderm-derived, like PNECs, whose endodermal origin has been confirmed. The study also discovered neural crest-derived catecholaminergic cells associated with zebrafish pharyngeal arch blood vessels. Based on these findings, the study proposes a new model for amniote hypoxia-sensitive cell evolution: endoderm-derived NECs were retained as PNECs, while the carotid body evolved via the aggregation of neural crest-derived catecholaminergic (chromaffin) cells already associated with blood vessels in anamniote pharyngeal arches. This research provides important insights into the development and evolution of hypoxia-sensitive cells and the respiratory system.'"
      ]
     },
     "execution_count": 10,
     "metadata": {},
     "output_type": "execute_result"
    }
   ],
   "source": [
    "send_sumarize_request(s)"
   ]
  },
  {
   "cell_type": "code",
   "execution_count": null,
   "id": "0d025891-0b82-45c4-a16d-4076a943aa3d",
   "metadata": {},
   "outputs": [],
   "source": []
  }
 ],
 "metadata": {
  "kernelspec": {
   "display_name": "Python 3 (ipykernel)",
   "language": "python",
   "name": "python3"
  },
  "language_info": {
   "codemirror_mode": {
    "name": "ipython",
    "version": 3
   },
   "file_extension": ".py",
   "mimetype": "text/x-python",
   "name": "python",
   "nbconvert_exporter": "python",
   "pygments_lexer": "ipython3",
   "version": "3.11.8"
  }
 },
 "nbformat": 4,
 "nbformat_minor": 5
}
