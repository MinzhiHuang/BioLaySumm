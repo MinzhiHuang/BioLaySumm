{
  "cells": [
    {
      "cell_type": "code",
      "source": [],
      "metadata": {
        "id": "KAlHB8lphJ40"
      },
      "execution_count": null,
      "outputs": []
    },
    {
      "cell_type": "markdown",
      "source": [
        "## 01_Mixtral_Mini_Dev_Set\n",
        "In this notebook, we will load the mini development dataset, and use Mixtral 8x7B model in Colab A100 GPU to process (summarize, simplify) the text"
      ],
      "metadata": {
        "id": "GrEGfsFfhXSj"
      }
    },
    {
      "cell_type": "code",
      "source": [
        "from google.colab import drive\n",
        "\n",
        "drive.mount(\"/content/drive\")"
      ],
      "metadata": {
        "colab": {
          "base_uri": "https://localhost:8080/"
        },
        "id": "S28s-e85h_-m",
        "outputId": "bf8d4720-9e95-47f5-bb5b-fc9d9b3d0c6e"
      },
      "execution_count": 1,
      "outputs": [
        {
          "output_type": "stream",
          "name": "stdout",
          "text": [
            "Drive already mounted at /content/drive; to attempt to forcibly remount, call drive.mount(\"/content/drive\", force_remount=True).\n"
          ]
        }
      ]
    },
    {
      "cell_type": "code",
      "source": [
        "# load mini dev set for elife\n",
        "import pandas as pd\n",
        "import io\n",
        "\n",
        "# df = pd.read_json(\"./drive/MyDrive/531/milestone5/data/mini_dev_set/eLife_val.jsonl\",\n",
        "#                   orient=\"records\",\n",
        "#                   lines=True)\n",
        "\n",
        "df = pd.read_json(\"./drive/MyDrive/531/milestone5/data/mini_dev_set/PLOS_val.jsonl\",\n",
        "                  orient=\"records\",\n",
        "                  lines=True)\n",
        "\n",
        "# df = pd.read_json(\"./data/eLife_val.jsonl\",\n",
        "#                   orient=\"records\",\n",
        "#                   lines=True)\n",
        "\n",
        "df.head()"
      ],
      "metadata": {
        "colab": {
          "base_uri": "https://localhost:8080/",
          "height": 573
        },
        "id": "u1XkqnHyjtlD",
        "outputId": "958ca468-c5a0-4807-fa0d-f5448c6bf2d3"
      },
      "execution_count": 17,
      "outputs": [
        {
          "output_type": "execute_result",
          "data": {
            "text/plain": [
              "                                         lay_summary  \\\n",
              "0  Yersinia pestis , the bacterial agent of plagu...   \n",
              "1  The genome of all vertebrates is heavily colon...   \n",
              "2  The molecular mechanisms underlying directed c...   \n",
              "3  Contrary to the long-standing belief that no n...   \n",
              "4  Embryonic stem cells have two remarkable prope...   \n",
              "\n",
              "                                             article  \\\n",
              "0  Fleas can transmit Yersinia pestis by two mech...   \n",
              "1  Endogenous retroviruses ( ERVs ) are remnants ...   \n",
              "2  The Drosophila embryonic gonad is assembled fr...   \n",
              "3  Recently , we presented a study of adult neuro...   \n",
              "4  Understanding the transcriptional regulation o...   \n",
              "\n",
              "                                            headings  \\\n",
              "0  [Abstract, Introduction, Results, Discussion, ...   \n",
              "1  [Abstract, Introduction, Results, Discussion, ...   \n",
              "2  [Abstract, Introduction, Results, Discussion, ...   \n",
              "3  [Abstract, Introduction, Model, Results, Discu...   \n",
              "4  [Abstract, Introduction, Results, Discussion, ...   \n",
              "\n",
              "                                            keywords                    id  \n",
              "0  [united states, invertebrates, medicine and he...  journal.ppat.1006859  \n",
              "1                         [viruses, sheep, virology]  journal.ppat.0030170  \n",
              "2                                                 []  journal.pgen.1003720  \n",
              "3  [computational biology/computational neuroscie...  journal.pcbi.1001063  \n",
              "4  [developmental biology, cell biology, mammals,...  journal.pgen.0030145  "
            ],
            "text/html": [
              "\n",
              "  <div id=\"df-808f8cfc-b2a0-4f60-ad5b-0690b76e8521\" class=\"colab-df-container\">\n",
              "    <div>\n",
              "<style scoped>\n",
              "    .dataframe tbody tr th:only-of-type {\n",
              "        vertical-align: middle;\n",
              "    }\n",
              "\n",
              "    .dataframe tbody tr th {\n",
              "        vertical-align: top;\n",
              "    }\n",
              "\n",
              "    .dataframe thead th {\n",
              "        text-align: right;\n",
              "    }\n",
              "</style>\n",
              "<table border=\"1\" class=\"dataframe\">\n",
              "  <thead>\n",
              "    <tr style=\"text-align: right;\">\n",
              "      <th></th>\n",
              "      <th>lay_summary</th>\n",
              "      <th>article</th>\n",
              "      <th>headings</th>\n",
              "      <th>keywords</th>\n",
              "      <th>id</th>\n",
              "    </tr>\n",
              "  </thead>\n",
              "  <tbody>\n",
              "    <tr>\n",
              "      <th>0</th>\n",
              "      <td>Yersinia pestis , the bacterial agent of plagu...</td>\n",
              "      <td>Fleas can transmit Yersinia pestis by two mech...</td>\n",
              "      <td>[Abstract, Introduction, Results, Discussion, ...</td>\n",
              "      <td>[united states, invertebrates, medicine and he...</td>\n",
              "      <td>journal.ppat.1006859</td>\n",
              "    </tr>\n",
              "    <tr>\n",
              "      <th>1</th>\n",
              "      <td>The genome of all vertebrates is heavily colon...</td>\n",
              "      <td>Endogenous retroviruses ( ERVs ) are remnants ...</td>\n",
              "      <td>[Abstract, Introduction, Results, Discussion, ...</td>\n",
              "      <td>[viruses, sheep, virology]</td>\n",
              "      <td>journal.ppat.0030170</td>\n",
              "    </tr>\n",
              "    <tr>\n",
              "      <th>2</th>\n",
              "      <td>The molecular mechanisms underlying directed c...</td>\n",
              "      <td>The Drosophila embryonic gonad is assembled fr...</td>\n",
              "      <td>[Abstract, Introduction, Results, Discussion, ...</td>\n",
              "      <td>[]</td>\n",
              "      <td>journal.pgen.1003720</td>\n",
              "    </tr>\n",
              "    <tr>\n",
              "      <th>3</th>\n",
              "      <td>Contrary to the long-standing belief that no n...</td>\n",
              "      <td>Recently , we presented a study of adult neuro...</td>\n",
              "      <td>[Abstract, Introduction, Model, Results, Discu...</td>\n",
              "      <td>[computational biology/computational neuroscie...</td>\n",
              "      <td>journal.pcbi.1001063</td>\n",
              "    </tr>\n",
              "    <tr>\n",
              "      <th>4</th>\n",
              "      <td>Embryonic stem cells have two remarkable prope...</td>\n",
              "      <td>Understanding the transcriptional regulation o...</td>\n",
              "      <td>[Abstract, Introduction, Results, Discussion, ...</td>\n",
              "      <td>[developmental biology, cell biology, mammals,...</td>\n",
              "      <td>journal.pgen.0030145</td>\n",
              "    </tr>\n",
              "  </tbody>\n",
              "</table>\n",
              "</div>\n",
              "    <div class=\"colab-df-buttons\">\n",
              "\n",
              "  <div class=\"colab-df-container\">\n",
              "    <button class=\"colab-df-convert\" onclick=\"convertToInteractive('df-808f8cfc-b2a0-4f60-ad5b-0690b76e8521')\"\n",
              "            title=\"Convert this dataframe to an interactive table.\"\n",
              "            style=\"display:none;\">\n",
              "\n",
              "  <svg xmlns=\"http://www.w3.org/2000/svg\" height=\"24px\" viewBox=\"0 -960 960 960\">\n",
              "    <path d=\"M120-120v-720h720v720H120Zm60-500h600v-160H180v160Zm220 220h160v-160H400v160Zm0 220h160v-160H400v160ZM180-400h160v-160H180v160Zm440 0h160v-160H620v160ZM180-180h160v-160H180v160Zm440 0h160v-160H620v160Z\"/>\n",
              "  </svg>\n",
              "    </button>\n",
              "\n",
              "  <style>\n",
              "    .colab-df-container {\n",
              "      display:flex;\n",
              "      gap: 12px;\n",
              "    }\n",
              "\n",
              "    .colab-df-convert {\n",
              "      background-color: #E8F0FE;\n",
              "      border: none;\n",
              "      border-radius: 50%;\n",
              "      cursor: pointer;\n",
              "      display: none;\n",
              "      fill: #1967D2;\n",
              "      height: 32px;\n",
              "      padding: 0 0 0 0;\n",
              "      width: 32px;\n",
              "    }\n",
              "\n",
              "    .colab-df-convert:hover {\n",
              "      background-color: #E2EBFA;\n",
              "      box-shadow: 0px 1px 2px rgba(60, 64, 67, 0.3), 0px 1px 3px 1px rgba(60, 64, 67, 0.15);\n",
              "      fill: #174EA6;\n",
              "    }\n",
              "\n",
              "    .colab-df-buttons div {\n",
              "      margin-bottom: 4px;\n",
              "    }\n",
              "\n",
              "    [theme=dark] .colab-df-convert {\n",
              "      background-color: #3B4455;\n",
              "      fill: #D2E3FC;\n",
              "    }\n",
              "\n",
              "    [theme=dark] .colab-df-convert:hover {\n",
              "      background-color: #434B5C;\n",
              "      box-shadow: 0px 1px 3px 1px rgba(0, 0, 0, 0.15);\n",
              "      filter: drop-shadow(0px 1px 2px rgba(0, 0, 0, 0.3));\n",
              "      fill: #FFFFFF;\n",
              "    }\n",
              "  </style>\n",
              "\n",
              "    <script>\n",
              "      const buttonEl =\n",
              "        document.querySelector('#df-808f8cfc-b2a0-4f60-ad5b-0690b76e8521 button.colab-df-convert');\n",
              "      buttonEl.style.display =\n",
              "        google.colab.kernel.accessAllowed ? 'block' : 'none';\n",
              "\n",
              "      async function convertToInteractive(key) {\n",
              "        const element = document.querySelector('#df-808f8cfc-b2a0-4f60-ad5b-0690b76e8521');\n",
              "        const dataTable =\n",
              "          await google.colab.kernel.invokeFunction('convertToInteractive',\n",
              "                                                    [key], {});\n",
              "        if (!dataTable) return;\n",
              "\n",
              "        const docLinkHtml = 'Like what you see? Visit the ' +\n",
              "          '<a target=\"_blank\" href=https://colab.research.google.com/notebooks/data_table.ipynb>data table notebook</a>'\n",
              "          + ' to learn more about interactive tables.';\n",
              "        element.innerHTML = '';\n",
              "        dataTable['output_type'] = 'display_data';\n",
              "        await google.colab.output.renderOutput(dataTable, element);\n",
              "        const docLink = document.createElement('div');\n",
              "        docLink.innerHTML = docLinkHtml;\n",
              "        element.appendChild(docLink);\n",
              "      }\n",
              "    </script>\n",
              "  </div>\n",
              "\n",
              "\n",
              "<div id=\"df-bdff715b-0d9d-4401-910b-2ff6a020af73\">\n",
              "  <button class=\"colab-df-quickchart\" onclick=\"quickchart('df-bdff715b-0d9d-4401-910b-2ff6a020af73')\"\n",
              "            title=\"Suggest charts\"\n",
              "            style=\"display:none;\">\n",
              "\n",
              "<svg xmlns=\"http://www.w3.org/2000/svg\" height=\"24px\"viewBox=\"0 0 24 24\"\n",
              "     width=\"24px\">\n",
              "    <g>\n",
              "        <path d=\"M19 3H5c-1.1 0-2 .9-2 2v14c0 1.1.9 2 2 2h14c1.1 0 2-.9 2-2V5c0-1.1-.9-2-2-2zM9 17H7v-7h2v7zm4 0h-2V7h2v10zm4 0h-2v-4h2v4z\"/>\n",
              "    </g>\n",
              "</svg>\n",
              "  </button>\n",
              "\n",
              "<style>\n",
              "  .colab-df-quickchart {\n",
              "      --bg-color: #E8F0FE;\n",
              "      --fill-color: #1967D2;\n",
              "      --hover-bg-color: #E2EBFA;\n",
              "      --hover-fill-color: #174EA6;\n",
              "      --disabled-fill-color: #AAA;\n",
              "      --disabled-bg-color: #DDD;\n",
              "  }\n",
              "\n",
              "  [theme=dark] .colab-df-quickchart {\n",
              "      --bg-color: #3B4455;\n",
              "      --fill-color: #D2E3FC;\n",
              "      --hover-bg-color: #434B5C;\n",
              "      --hover-fill-color: #FFFFFF;\n",
              "      --disabled-bg-color: #3B4455;\n",
              "      --disabled-fill-color: #666;\n",
              "  }\n",
              "\n",
              "  .colab-df-quickchart {\n",
              "    background-color: var(--bg-color);\n",
              "    border: none;\n",
              "    border-radius: 50%;\n",
              "    cursor: pointer;\n",
              "    display: none;\n",
              "    fill: var(--fill-color);\n",
              "    height: 32px;\n",
              "    padding: 0;\n",
              "    width: 32px;\n",
              "  }\n",
              "\n",
              "  .colab-df-quickchart:hover {\n",
              "    background-color: var(--hover-bg-color);\n",
              "    box-shadow: 0 1px 2px rgba(60, 64, 67, 0.3), 0 1px 3px 1px rgba(60, 64, 67, 0.15);\n",
              "    fill: var(--button-hover-fill-color);\n",
              "  }\n",
              "\n",
              "  .colab-df-quickchart-complete:disabled,\n",
              "  .colab-df-quickchart-complete:disabled:hover {\n",
              "    background-color: var(--disabled-bg-color);\n",
              "    fill: var(--disabled-fill-color);\n",
              "    box-shadow: none;\n",
              "  }\n",
              "\n",
              "  .colab-df-spinner {\n",
              "    border: 2px solid var(--fill-color);\n",
              "    border-color: transparent;\n",
              "    border-bottom-color: var(--fill-color);\n",
              "    animation:\n",
              "      spin 1s steps(1) infinite;\n",
              "  }\n",
              "\n",
              "  @keyframes spin {\n",
              "    0% {\n",
              "      border-color: transparent;\n",
              "      border-bottom-color: var(--fill-color);\n",
              "      border-left-color: var(--fill-color);\n",
              "    }\n",
              "    20% {\n",
              "      border-color: transparent;\n",
              "      border-left-color: var(--fill-color);\n",
              "      border-top-color: var(--fill-color);\n",
              "    }\n",
              "    30% {\n",
              "      border-color: transparent;\n",
              "      border-left-color: var(--fill-color);\n",
              "      border-top-color: var(--fill-color);\n",
              "      border-right-color: var(--fill-color);\n",
              "    }\n",
              "    40% {\n",
              "      border-color: transparent;\n",
              "      border-right-color: var(--fill-color);\n",
              "      border-top-color: var(--fill-color);\n",
              "    }\n",
              "    60% {\n",
              "      border-color: transparent;\n",
              "      border-right-color: var(--fill-color);\n",
              "    }\n",
              "    80% {\n",
              "      border-color: transparent;\n",
              "      border-right-color: var(--fill-color);\n",
              "      border-bottom-color: var(--fill-color);\n",
              "    }\n",
              "    90% {\n",
              "      border-color: transparent;\n",
              "      border-bottom-color: var(--fill-color);\n",
              "    }\n",
              "  }\n",
              "</style>\n",
              "\n",
              "  <script>\n",
              "    async function quickchart(key) {\n",
              "      const quickchartButtonEl =\n",
              "        document.querySelector('#' + key + ' button');\n",
              "      quickchartButtonEl.disabled = true;  // To prevent multiple clicks.\n",
              "      quickchartButtonEl.classList.add('colab-df-spinner');\n",
              "      try {\n",
              "        const charts = await google.colab.kernel.invokeFunction(\n",
              "            'suggestCharts', [key], {});\n",
              "      } catch (error) {\n",
              "        console.error('Error during call to suggestCharts:', error);\n",
              "      }\n",
              "      quickchartButtonEl.classList.remove('colab-df-spinner');\n",
              "      quickchartButtonEl.classList.add('colab-df-quickchart-complete');\n",
              "    }\n",
              "    (() => {\n",
              "      let quickchartButtonEl =\n",
              "        document.querySelector('#df-bdff715b-0d9d-4401-910b-2ff6a020af73 button');\n",
              "      quickchartButtonEl.style.display =\n",
              "        google.colab.kernel.accessAllowed ? 'block' : 'none';\n",
              "    })();\n",
              "  </script>\n",
              "</div>\n",
              "\n",
              "    </div>\n",
              "  </div>\n"
            ],
            "application/vnd.google.colaboratory.intrinsic+json": {
              "type": "dataframe",
              "variable_name": "df",
              "summary": "{\n  \"name\": \"df\",\n  \"rows\": 138,\n  \"fields\": [\n    {\n      \"column\": \"lay_summary\",\n      \"properties\": {\n        \"dtype\": \"string\",\n        \"num_unique_values\": 138,\n        \"samples\": [\n          \"Glanders is a disease of antiquity , recognized as a malady of equines by Hippocrates and Aristotle . The causative agent , Burkholderia mallei , is currently feared as a potential biological weapon and has been used as such in the American Civil War and both World Wars to cripple equine military components . In the more economically developed countries , glanders has been eradicated through large scale culling . As a result , our understanding of transmission dynamics and networks is limited . However , regions of endemicity still exist in Asia , the Middle-East , Africa , and South America where it infects solipeds and camels . These areas provide reservoirs for re-introduction of glanders into countries previously listed as glanders-free . Here , we demonstrate the utility of high-resolution genotyping and whole genome sequence analysis in the investigation of a recent outbreak of glanders in horses and camels in Bahrain , a previously declared glanders-free country . Our analyses demonstrate that not one , but two strains likely caused this outbreak , and that these strains probably came from a similar geographic region via importation of infected animals . Even with careful monitoring , the global trade of animals from glanders-endemic regions can re-introduce and possibly re-establish this disease in animal populations of countries that have previously eradicated it .\",\n          \"Genetic reassortments between avian and swine influenza viruses are likely to occur in the swine lower respiratory track , and tissue tropism is an important factor selecting for a transmissible reassortant; determination of tissue tropisms for potential reassortants between contemporary avian and swine influenza viruses would help identify transmissible reassortants with public health risks .\",\n          \"There is still much to learn about the organisation of regulatory elements that control where , when , and how much individual genes in the genome are transcribed . Several types of regulatory element have been identified; some , such as enhancers , act over large genomic distances . This creates a problem: how do such long-range elements only regulate their appropriate target genes ? Insulator elements have been proposed to act as barriers within the genome , confining the effects of long-range regulatory elements . Here we have mapped the locations of one insulator-binding protein , CTCF , in several regions of the Drosophila genome . In particular , we have focussed on the Hox gene cluster in the Bithorax complex; a region whose regulation has been extensively characterised . Previous investigations have identified independent regulatory domains that control the expression of Bithorax complex genes in different segments of the fly , however the molecular nature of the domain boundaries is unclear . Our major result is that we find CTCF binding sites precisely located at the boundaries of these regulatory domains , giving a common molecular basis for these boundaries . This provides a clear example of the link between the positioning of insulators and the organisation of gene regulation in the Drosophila genome .\"\n        ],\n        \"semantic_type\": \"\",\n        \"description\": \"\"\n      }\n    },\n    {\n      \"column\": \"article\",\n      \"properties\": {\n        \"dtype\": \"string\",\n        \"num_unique_values\": 138,\n        \"samples\": [\n          \"Glanders , caused by the gram-negative bacterium Burkholderia mallei , is a highly infectious zoonotic disease of solipeds causing severe disease in animals and men . Although eradicated from many Western countries , it recently emerged in Asia , the Middle-East , Africa , and South America . Due to its rareness , little is known about outbreak dynamics of the disease and its epidemiology . We investigated a recent outbreak of glanders in Bahrain by applying high resolution genotyping ( multiple locus variable number of tandem repeats , MLVA ) and comparative whole genome sequencing to B . mallei isolated from infected horses and a camel . These results were compared to samples obtained from an outbreak in the United Arab Emirates in 2004 , and further placed into a broader phylogeographic context based on previously published B . mallei data . The samples from the outbreak in Bahrain separated into two distinct clusters , suggesting a complex epidemiological background and evidence for the involvement of multiple B . mallei strains . Additionally , the samples from Bahrain were more closely related to B . mallei isolated from horses in the United Arab Emirates in 2004 than other B . mallei which is suggestive of repeated importation to the region from similar geographic sources . High-resolution genotyping and comparative whole genome analysis revealed the same phylogenetic patterns among our samples . The close relationship of the Dubai/UAE B . mallei populations to each other may be indicative of a similar geographic origin that has yet to be identified for the infecting strains . The recent emergence of glanders in combination with worldwide horse trading might pose a new risk for human infections . \\n Glanders is a life-threatening , notifiable zoonotic disease which is fatal to both animals and humans . It is caused by the gram-negative bacterium Burkholderia mallei [1] . The only known reservoirs of B . mallei are solipeds , particularly horses . Chronically infected horses can be asymptomatic but may remain highly infectious . As a highly infectious agent that can be transmitted by aerosol , causing invasive fatal disease in combination with resistance to multiple antibiotics , B . mallei is listed as a category B bio-threat agent by the CDC ( www . bt . cdc . gov/agent/agentlist-category . asp ) . Licensed vaccines against the disease do not exist . Antibiotic treatment is cumbersome and requires the combination of at least two different antibiotics over several weeks [2] . Throughout the western world , glanders has been eradicated through large scale culling of infected animals . In developing countries , however , economic and cultural circumstances may hinder culling of asymptomatic animals and enable the persistence of glanders . In recent years , several outbreaks of glanders occurred in the horse populations in Asia , Middle-East ( Afghanistan , Kuwait , Iran , Iraq , Pakistan , Syria ) , Africa , and South America ( Brazil ) [3] , [4] . Because of the recent rise in cases in multiple countries , glanders has regained the status of a re-emerging disease [5] , [6] . Officially , Bahrain was free of glanders until an outbreak in the north ( Jannusan , Shakhurah and Saar municipalities ) that began in April 2010 . Horses imported from Syria via Kuwait were suspected of introducing glanders and all equines in the area were quarantined and tested . By September 2010 , the outbreak was considered to be resolved . However , in January 2011 the disease reoccurred in the same region of the country . Details on the outbreak are provided by the OIE ( http://www . oie . int/wahis_2/public/wahid . php/Wahidhome/Home ) . More than 6 , 700 horses and 250 donkeys ( 100% of the equine population in this region , representing about 80% of the total horse and donkey population in Bahrain ) as well as three camels presenting with clinical symptoms were screened for glanders at OIE Reference Laboratory , the Central Veterinary Research Laboratory in Dubai , United Arab Emirates using prescribed Complement Fixation Testing ( CFT ) and an in-house cELISA [7] . In these investigations , 50 horses and one camel tested positive . B . mallei was isolated from eight horses and the single , positive camel . Using B . mallei-specific real-time PCR and high resolution MLVA typing , we showed recently that the strain from the camel was genetically closely related to B . mallei strain Dubai 7 that was isolated from a horse during the contained outbreak of glanders in a quarantine station in the United Arab Emirates in 2004 [8] . In this current study , we characterize various B . mallei isolates from both events ( the 2004 UAE outbreak and the 2010\\u2013'11 Bahrain outbreak ) , using MLVA and next-generation whole genome sequencing . Our results provide evidence that the recent outbreak in Bahrain was caused by two different B . mallei strains , suggesting two independent introductions . \\n Glanders is a notifiable disease to the World Organization for Animal Health ( OIE ) . As the official OIE reference laboratory for glanders in the Arabic region , the Central Veterinary Laboratory ( CVRL ) in Dubai is the officially authorized institution for glanders research , surveillance and eradication . All procedures involving animals were performed in strict accordance with the OIE guidelines for animal welfare using prescribed protocols . An ethic commission comprising 4 veterinarians of the Central Veterinary Research Laboratory ( CVRL ) and a government veterinarian from the Ministry of Environment and Water of the UAE followed the Ministerial Decree No 384 of the year 2008 on the executive by-law of the Federal Law No 16 of the year 2007 concerning Animal Welfare . All experimental animals and treatment in this study were reviewed and approved by the Animal Ethic Committee of CVRL , and Ministry of Environment and Water of the UAE ( Permit Number: 550353 ) . Isolation of the strains , DNA extraction , and MLVA were performed as described previously ( 8 ) . A total of nine B . mallei isolates , each from a different horse and one from the camel from both Bahrainian outbreak events ( 2010 and 2011 ) were analyzed along with 15 isolates from the 2004 outbreak in the UAE by applying the same high-resolution 23-marker VNTR assay used to type the strain from the camel [8] . To put the Bahrainian strains in a larger phylogeographic context , MLVA23 data from nine B . mallei isolates from the strain collection of the Bundeswehr Institute of Microbiology in Munich and previously published data from an additional 42 samples [9] , [10] were included in the phylogenetic reconstruction ( Table S1 ) . Analysis of VNTR data was performed as previously described in Hornstra et al . [10] . To assess phylogenetic relationships we sequenced and compared eight genomes from the outbreak in the United Arab Emirates from 2004 to seven genomes from the Bahrain outbreak . Using ATCC 23344 genome as a reference , we identified homologous regions using MUMmer [11] , and found single nucleotide polymorphisms ( SNPs ) using SolSNP ( ( http://sourceforge . net/projects/solsnp/ ) . After eliminating potential paralogs and positions with missing or ambiguous data among isolates , raw reads containing SNPs were aligned to the reference and inspected to verify allele calls and eliminate mixed alleles ( when the minor allele frequency was greater than 10% ) . The final dataset was composed of 242 SNPs of which only 44 were variable among the Bahrain and Dubai genomes . Phylogenetic reconstruction was achieved using the maximum parsimony method implemented in MEGA 5 . 2 . 2 ( Figure 1 , panel B ) . The consistency index was 1 . 0 for all sites , indicating that the final dataset is devoid of homoplasy and that all sites are in agreement with the topology . For datasets with little homoplasy , the consistency index is a more appropriate and direct measure of accuracy than bootstrapping , however 500 bootstrap replicates revealed that the clades of interest clustered together in greater than 98% of replicate trees . \\n MLVA revealed that the nine strains from the 2010\\u2013'11 outbreak in Bahrain formed two clearly separated clusters ( BH1 and BH2 ) , consisting of five and four strains each ( Figure 1 , panel A ) . Whereas BH1 was closest to the cluster consisting of various strains from the 2004 outbreak in the UAE ( Figure 1 , panel A ) , BH2 , which also contained the strain from the camel sample , differed at eight VNTR markers from the closest strain ( D403 , Mymar ) of the BH1 cluster . This suggests at least two different B . mallei populations were involved in the outbreak . Strains from 2010 and 2011 were found in both clusters , suggesting an outbreak that persisted across both years and was caused by two independent but temporally simultaneous introductions . The whole genome SNP phylogeny ( Figure 1 , panel B ) confirmed the MLVA data and lends further support to the hypothesis that two different populations of B . mallei caused the outbreak in Bahrain . Our results demonstrate that MLVA provides an important and useful tool for rapid initial estimations of epidemiological links among B . mallei . Moreover , the data suggest that MLVA can be used to study genetic diversity among B . mallei clones from a single outbreak . In this study , both MLVA and SNP methods revealed the same phylogenetic patterns among the three main groups ( UAE/BH1 , BH1 , and BH2 ) suggesting the involvement of two genetically closely related but distinct B . mallei populations during the outbreak . The close relationship of the Dubai/UAE B . mallei population to the BH1 and BH2 populations may be indicative of a similar geographic source that has yet to be identified . Animal importation records suggest Syria and Kuwait as possible sources . This is strongly supported by the fact that one of the necropsied horses in Bahrain quarantine came directly from Kuwait . Outbreak dynamics and natural genetic variability of B . mallei are not well understood due to the rarity of this disease . This outbreak provided a unique opportunity to understand outbreak dynamics as they occurred in a region that was previously free of B . mallei , and well monitored with records of animal importations . The failure of initial eradication efforts in 2010 is evidence for the need for continued surveillance and abatement measures even after all animal cases appear to be cleared . All animals imported from known or potentially endemic regions should be routinely tested for glanders prior to importation . Repeated testing during quarantine is also recommended as infected animals may be asymptomatic and serologically negative .\",\n          \"Genetic reassortment between influenza A viruses ( IAVs ) facilitate emergence of pandemic strains , and swine are proposed as a \\u201cmixing vessel\\u201d for generating reassortants of avian and mammalian IAVs that could be of risk to mammals , including humans . However , how a transmissible reassortant emerges in swine are not well understood . Genomic analyses of 571 isolates recovered from nasal wash samples and respiratory tract tissues of a group of co-housed pigs ( influenza-seronegative , avian H1N1 IAV\\u2013infected , and swine H3N2 IAV\\u2013infected pigs ) identified 30 distinct genotypes of reassortants . Viruses recovered from lower respiratory tract tissues had the largest genomic diversity , and those recovered from turbinates and nasal wash fluids had the least . Reassortants from lower respiratory tracts had the largest variations in growth kinetics in respiratory tract epithelial cells , and the cold temperature in swine nasal cells seemed to select the type of reassortant viruses shed by the pigs . One reassortant in nasal wash samples was consistently identified in upper , middle , and lower respiratory tract tissues , and it was confirmed to be transmitted efficiently between pigs . Study findings suggest that , during mixed infections of avian and swine IAVs , genetic reassortments are likely to occur in the lower respiratory track , and tissue tropism is an important factor selecting for a transmissible reassortant . \\n Influenza A viruses ( IAVs ) are negative-strand RNA viruses with eight gene segments of various lengths , ranging from about 890 to 2 , 341 nucleotides . IAV subtypes are determined by the virus surface glycoproteins , hemagglutinin ( HA ) , and neuraminidase ( NA ) . A total of 18 HA ( H1\\u2013H18 ) and 11 NA ( N1\\u2013N11 ) subtypes have been identified [1 , 2] . IAVs with subtypes H1\\u2013H16 and N1\\u2013N9 have been recovered from a variety of bird species , including at least 105 wild bird species of 26 different families [3] . Among wild birds , those living in wetlands and aquatic environments ( such as the Anseriformes , particularly ducks , geese , and swans; and Charadriiformes , particularly gulls , terns , and waders ) constitute the major natural IAV reservoir [4] . In addition to birds , IAVs can also cause infections in marine mammals , land-based lower mammals ( e . g . , pigs , dogs , and horses ) , and humans . Wild birds maintain a large IAV genetic pool , which contributes to the appearance of new IAVs in humans , lower mammals , and domestic poultry . Because pigs have both avian-like receptors ( \\u03b1 2 , 3-linked sialic acid , SA2 , 3Gal ) and human-like receptors ( \\u03b1 2 , 6-linked sialic acid , SA2 , 6Gal ) on the epithelial cells of their respiratory tissues , they have been proposed to serve as an intermediate host \\u201cmixing vessel\\u201d for generating pandemic IAV strains through genetic reassortment between avian and swine or human IAVs . Three of four documented pandemic strains are reassortants between avian and swine or human IAVs: the 1957 subtype H2N2 pandemic IAV probably emerged from H2 avian IAV and H1N1 human IAV [5]; the 1968 subtype H3N2 pandemic IAV probably emerged from H3 avian IAV and the H2N2 human IAV [5]; and the 2009 subtype H1N1 pandemic IAV had PB2 and PA genes from avian IAVs , PB1 gene from human H3N2 IAV , and other genes from swine IAVs [6] . However , emergence of these pandemic viruses is complicated and could require multiple reassortment events ( in addition to mutations ) across years . In addition to virus receptor binding attributes , compatibility between the co-circulating avian and swine or human IAVs will determine whether a new reassortant can be generated in swine . A number of studies have been performed to evaluate the compatibility of emerging avian IAVs and endemic human IAVs , such as avian H9N2 versus human H1N1 [7] , avian H5N1 versus human H3N2 [8\\u201310] , and avian H5N1 versus human H1N1 [11] . The studies demonstrated that gene compatibility between viruses is subtype- and strain-dependent [7 , 10\\u201312]; however , transmissible viruses are possibly derived from genetic reassortments between avian and human IAVs [13] . In addition , given two IAVs , the timing and dose of inoculation , as well as inoculation location , can affect the dynamics of IAV reassortment and the reassortants to be generated [14\\u201318] . Thus , genetic reassortment is a complicated biological process , and how a transmissible reassortant emerges in swine are not well understood . Efforts were carried out to reproduce the 2009 H1N1 pandemic strains by mixing two swine IAVs in domestic pigs with or without preexisting immunity , but they were unsuccessful [19] . We conducted this study to test the hypothesis that tissue tropism plays an important role in selecting transmissible reassortants from various reassortants generated in pigs co-infected with avian and swine IAVs . We determined the genotypes and phenotypes of reassortants recovered from a mixed group of pigs ( influenza-seronegative , avian H1N1 IAV\\u2013infected , and swine H3N2 IAV\\u2013infected pigs ) and then characterized the temporal and spatial distributions of the reassortants . Feral swine were used as the animal model in this study , and we will simply describe feral swine as pigs or swine in the following sections . \\n Infectivity of avian IAVs in swine is strain dependent [20] , and avian IAVs to be used in animal studies must show optimum infectivity in swine . To select an avian-origin IAV for animal experiments , we characterized the receptor binding profiles of avian IAVs and selected an avian IAV binding to both avian and human-like receptors . Biolayer interferometry analyses suggested that influenza strain A/mallard/Wisconsin/A00751454/2009 ( H1N1 ) had detectable binding affinities to 3\\u02b9-sialyl-N-acetyllactosamine ( 3\\u02b9SLN , representing avian-like receptor SA2 , 3Gal ) and to 6\\u02b9-sialyl-N-acetyllactosamine ( 6\\u02b9SLN , representing human-like receptor SA2 , 6Gal ) . To further determine whether an IAV prefers more to 3\\u02b9SLN rather than 6\\u02b9SLN ( or more to 6\\u02b9SLN rather than 3\\u02b9SLN ) , we quantified and compared 50% relative sugar loading ( RSL ) concentration ( RSL0 . 5 ) at half of the fractional saturation ( f = 0 . 5 ) of the testing virus against both 6\\u02b9SLN and 3\\u02b9SLN . The higher the RSL0 . 5 , the smaller the binding affinity . Results from quantitative analyses suggested that this avian H1N1 IAV had a higher relative sugar loading ( RSL ) concentration to 6\\u02b9SLN ( RSL0 . 5 = 0 . 35 nm ) than that to 3\\u02b9SLN ( RSL0 . 5 = 0 . 06 nm ) ( Fig 1A , left panel ) , indicating that this avian H1N1 IAV has a higher binding affinity to 3\\u02b9SLN than that to 6\\u02b9SLN . We further evaluated the infectivity of A/mallard/Wisconsin/A00751454/2009 ( H1N1 ) virus in swine . By combining viral shedding ( S1 Table ) , viral loads in tissues ( S1 Fig ) , serologic analyses data ( S2 Table ) , we showed that A/mallard/Wisconsin/A00751454/2009 ( H1N1 ) virus successfully infected 6 of 8 treatment pigs ( Fig 1B; S1 Text ) . In addition to selecting the avian-origin A/mallard/Wisconsin/A00751454/2009 ( H1N1 ) influenza strain for use in the animal study , we also selected a feral swine\\u2013origin IAV , A/swine/Texas/A01104013/2012 ( H3N2 ) [21] . Biolayer interferometry analyses suggested , in contrast to findings for A/mallard/Wisconsin/A00751454/2009 ( H1N1 ) , that this swine H3N2 IAV binds to 6\\u02b9SLN but not 3\\u02b9SLN ( Fig 1A , right panel ) . According to earlier findings [21] , this swine H3N2 IAV is highly infectious and transmissible in feral swine . To mimic the natural scenario for IAV co-infections , we included one pig inoculated with A/mallard/Wisconsin/A00751454/2009 ( H1N1 ) , one pig inoculated with A/swine/Texas/A01104013/2012 ( H3N2 ) , and one or two IAV-seronegative contact pigs in each of five experimental groups . Temporal and spatial dynamics of virus infections and genetic reassortments in these pigs were characterized to understand how a transmissible reassortant was generated between the avian and swine IAVs tested . Although the initial viral shedding time for individual pigs varied , contact pigs and pigs inoculated with swine H3N2 virus or avian H1N1 virus shed viruses as early as 3 days post-inoculation ( dpi ) and continued to shed viruses on 7 dpi before all pigs were euthanized ( S3 Table ) . Early viral shedding loads in avian H1N1 virus\\u2013inoculated pigs were much lower than those in swine H3N2 virus\\u2013inoculated pigs , but by 7 dpi , levels were similar for the two groups ( range , 4 . 032\\u20136 . 699 log10TCID50/mL ) . For individual pigs , virus loads in nasal wash fluids differed widely from those in respiratory tract tissues . However , virus was consistently detected in the tissues of pigs that had positive virus titration results for nasal wash fluids . Furthermore , the pattern of viral loads in tissues were similar to those in nasal wash fluids . No significant clinical signs of infection ( e . g . , temperature , coughing , and body weight changes ) were observed in any pigs in the animal experiment ( S2 Fig ) . To understand the bottlenecks for viral reassortment between avian and swine IAVs and to elucidate how transmissible IAVs emerge from reassortment events in swine , we characterized the temporal and spatial dynamics of genetic reassortments during the IAV co-infections . Specifically , individual virions from samples with positive viral titration results were purified using plaque assays . To minimize possible sampling biases , we collected a maximum of 10 plaques for each individual nasal wash fluids or tissue sample . In total , 571 plaques were generated: 59 from avian H1N1 virus\\u2013inoculated pigs , 300 from swine H3N2 virus\\u2013inoculated pigs , and 212 from contact pigs . Of the 571 plaques , 157 were recovered from samples collected on 3 dpi , 264 from samples collected on 5 dpi , and 150 from samples collected on 7 dpi; these plaques were broadly distributed among the nasal wash fluids ( n = 159 ) and the upper ( i . e . turbinate ) ( n = 188 ) , middle ( i . e . trachea ) ( n = 137 ) , and lower ( i . e . bronchus , left cranial lung , right cranial lung , right middle lung , right accessory , left caudal lung , and right caudal lung ) ( n = 87 ) respiratory tracts of the pigs ( Fig 2; S1 Text ) . The 571 viruses were subjected to whole-genomic sequencing , and sequences were obtained for 546 viruses with complete genomic sequences . The stock of the H1N1 inoculum and the H3N2 inoculum were also subjected to whole-genomic sequencing , the data from which were used in genotype analyses and polymorphism characterization for all of the 546 plaque isolates . The viruses were distributed among 32 different genotypes , one of which was the same as that for the parent avian H1N1 virus and included 10 ( 1 . 83% ) of the 546 viruses . Another genotype was the same as that for the parent swine H3N2 virus and included 473 ( 86 . 63% ) of the 546 viruses . The other 30 genotypes were novel , with at least one gene from each of the two parent viruses , and included 63 ( 11 . 54% ) of the 546 viruses . Of the 63 reassortant viruses , 60 contained HA and NA genes from swine H3N2 viruses; one contained HA and NA from avian H1N1 virus; two contained HA from swine H3N2 virus but NA from avian H1N1 virus . Each plaque was assigned with a plaque number and a genotype number , and one genotype can have multiple plaques . For example , R3 refers to genotype 3 annotated in Fig 3 and includes a total of six plaques ( plaque #39 , #43 , #69 , #258 , #456 , and #551; S9 Table ) . The 473 parental swine H3N2\\u2013like viruses ( 86 . 63% of the 546 sequenced viruses ) were identified not only in pigs inoculated with swine H3N2 virus but also in both pigs inoculated with avian H1N1 virus and the contact pigs; these viruses were identified in nasal wash samples and in upper , middle , and lower respiratory tract tissue samples . Avian parental H1N1\\u2013like viruses were identified not only on 5 dpi in the lung of the pig inoculated with avian H1N1 virus but also in the lung of one contact pig euthanized on 7 dpi . Of interest , of the 63 reassortant viruses , 11 were recovered from one H3N2 virus\\u2013inoculated pig euthanized on 5 dpi , one was from an H1N1 virus\\u2013infected pig euthanized on 5 dpi , three were from a contact pig euthanized on 5 dpi , and 48 were from a contact pig euthanized on 7 dpi . The viruses recovered from the lower respiratory tract had higher genomic diversity ( 19 genotypes ) than those recovered from the middle respiratory tract ( 18 genotypes ) . The least genomic diversity ( i . e . only two reassortants ) were identified in each of the nasal wash samples and upper respiratory tract samples . At least eight genotypes of reassortants were identified in samples from two or more anatomical locations: nasal wash fluids or upper , middle , or lower respiratory tract tissues . Of note , one genotype of reassortants ( genotype R3 ) was identified in nasal wash fluids and in all upper , middle , and lower respiratory tract tissues ( Fig 3 ) . To test the working hypothesis that tissue tropism presents a bottleneck for genetic reassortment and selects the viruses to be shed , we performed viral growth analyses for parent avian H1N1 and swine H3N2 wild-type influenza viruses and for 52 representative reassortant viruses in swine nasal epithelium ( SNE ) cells at 33\\u00b0C , swine tracheal epithelium ( STE ) cells at 37\\u00b0C , and human alveolar basal epithelial ( A549 ) cells at 39\\u00b0C . Because of a lack of swine alveolar epithelial cells , human A549 cells were used to mimic swine alveolar epithelial cells from swine lower respiratory tracks . Human A549 cells are characterized as a type II pulmonary epithelial cell model study on IAV infection [22] , and both human and swine type II pneumocytes expressed \\u03b1-2 , 3- and \\u03b1-2 , 6-linked sialic acid receptors [23 , 24] , and are targets of IAV infection [23 , 25\\u201327] . Three incubation temperatures were applied to simulate the temperatures of airway in pigs: approximately 33\\u00b0C in the nasal , 37\\u00b0C in the trachea , and 39\\u00b0C in the lung . Peak virus titers in the supernatants were determined at 72 h post-inoculation using TCID50 in Madin-Darby canine kidney ( MDCK ) cells ( Figs 4 and 5; S3 Fig ) . Of the 52 testing reassortants , 51 showed efficient replication in A549 cells at 39\\u00b0C , with virus titers ranging from 4 . 0 to 7 . 0 log10TCID50/mL ( S3 Fig ) ; plaque #28 ( genotype R6 , Fig 4 ) was the one exception . The average virus titer for viruses from the upper respiratory track was 5 . 65 ( \\u00b1 standard deviation; \\u00b10 . 41 ) log10TCID50/mL . Average titers for viruses from the middle and lower respiratory tracks were 6 . 36 ( \\u00b10 . 57 ) log10TCID50/mL and 6 . 62 ( \\u00b10 . 76 ) log10TCID50/mL , respectively . However , the same testing reassortant viruses showed relatively large variations in infectivity in STE cells at 37\\u00b0C ( virus titer range , 1 . 5\\u20137 . 5 log10TCID50/mL ) ( S3 Fig ) . The average virus titer for viruses from the upper respiratory track was 5 . 63 ( \\u00b11 . 14 ) log10TCID50/mL , and average titers for viruses from the middle and lower respiratory tracks were 5 . 52 ( \\u00b11 . 70 ) log10TCID50/mL and 6 . 22 ( \\u00b11 . 00 ) log10TCID50/mL , respectively . All viruses recovered from the upper respiratory tract samples replicated well in SNE cells at 33\\u00b0C ( average virus titer [\\u00b1standard deviation] , 5 . 89 [\\u00b10 . 49] log10TCID50/mL ) , but viruses from the middle and lower respiratory tracts showed large variations in infectivity ( virus titer range , 1 . 5\\u20137 . 0 log10TCID50/mL ) ( S3 Fig ) . The average virus titer for viruses from middle respiratory tracts was 5 . 22 ( \\u00b11 . 31 ) log10TCID50/mL , and that for viruses from lower respiratory tracts was 5 . 27 ( \\u00b11 . 29 ) log10TCID50/mL . Of note , the testing reassortants recovered from the upper respiratory tract samples replicated well in all three temperature conditions ( virus titer range , 4 . 0\\u20137 . 0 log10TCID50/mL ) . We hypothesized that the nasally shed reassortant viruses would be highly transmissible among feral swine . To test this hypothesis , we evaluated the transmission ability of reassortant plaque #69 ( genotype R3 ) among feral swine . Eight feral swine were separated into four experiment groups comprised of two pigs each: one plaque #69 ( genotype R3 ) virus\\u2013inoculated pig and one IAV-seronegative pig as the contact pig . Four additional feral swine were used as non-experiment group control pigs and housed in a different facility . In the four experiment groups , viral shedding was initially detected in nasal wash samples from plaque #69 ( genotype R3 ) virus\\u2013inoculated pigs on 3 dpi ( virus titer range , 2 . 67\\u20134 . 67 log10TCID50/mL ) , and from the contact pigs on 5 dpi ( virus titer range , 2 . 5\\u20136 . 0 log10TCID50/mL ) . The virus-inoculated pigs continued to shed viruses until 5 dpi , and the contact pigs shed viruses until 9 dpi ( S6 Table ) . Two plaque #69 ( genotype R3 ) virus\\u2013inoculated pigs were euthanized on 3 and 5 dpi . Results from viral titration showed that only the upper respiratory tract tissues from the pig euthanized on 3 dpi were IAV-positive by virus titration ( 5 . 0 log10TCID50/mL ) and , however , that all the upper , middle , and lower respiratory tract tissues from the pig euthanized on 5 dpi were IAV-positive ( titer range , 3 . 5\\u20135 . 0 log10TCID50/mL ) ( S7 Table ) . The remaining four pigs in the experiment groups seroconverted on 21 dpi ( HI titer range , 1:640\\u20131:1 , 280 ) ( S5 Fig and S8 Table ) . No viruses were detected in nasal wash fluids or tissue samples from the four non-experiment group control pigs , and they all remained seronegative for plaque #69 ( genotype R3 ) virus 21days after inoculation of pigs in the experiment group . According to viral titration and seroconversion results , all plaque #69 ( genotype R3 ) virus-inoculated pigs became virus infection positive on 3 dpi ( S5A Fig ) , while all contact pigs became virus infection positive on 5 dpi ( S5B Fig ) . In summary , these results showed that the testing reassortant virus could be transmitted directly between pigs with an efficiency of 100% . \\n Swine have been proposed as a \\u201cmixing vessel , \\u201d generating reassortants between avian IAVs and swine or human IAVs . Such reassortant viruses caused the 2009 pandemic outbreaks among humans [6] . The detection of avian IAVs in swine is not uncommon , and subtype H2N3 [28] , H4N6 [29] , H1N1 [30 , 31] , H1N2 [32] , H3N3 [33] , H5N1 [34] , H6N6 [35] , and H9N2 [36 , 37] IAVs have been reported in domestic swine . Under laboratory conditions , avian IAV subtypes H1\\u2013H13 can infect and replicate in swine at different levels of susceptibility [20] . However , among these avian IAVs , only subtypes H1N1 and H3N2 have become enzootic in domestic swine; the other avian-origin IAVs have transiently infected domestic swine . Novel reassortants with avian IAVs genes have rarely been detected in swine . By housing IAV-seronegative pigs together with H3N2 IAV\\u2013inoculated and avian H1N1 IAV\\u2013inoculated pigs , we demonstrated that 1 ) a large number of reassortants were generated in the pigs\\u2019 lower respiratory tracts , but only a few of the reassortants were shed; and 2 ) tissue tropisms , especially replication ability in swine nasal epithelium cells at 33\\u00b0C , are keys to selecting a reassortant virus that can be shed . Reassortment between two IAVs of different or the same origins have been well documented [7\\u20139 , 11 , 14\\u201319 , 38] . Previous studies tested the compatibility of emerging avian IAVs and endemic human influenza viruses , such as the compatibility of avian H9N2 with human H1N1 [39 , 40] , avian H5N1 with human H3N2 [8 , 10 , 41] , and avian H5N1 with human H1N1 [42] . Gene compatibility between viruses has been shown to be subtype- and strain-dependent; however , transmissible viruses are possibly derived from genetic reassortments between avian and mammalian IAVs [9] . Results from our study suggested that 30 of 254 possible reassortant genotypes between an avian H1N1 IAV and a swine H3N2 IAV were detected , and most were in the middle and lower respiratory tracts of the experiment pigs; only two genotypes of reassortants ( i . e . , genotypes R3 and R8; Fig 3 ) shed from these pigs , and these genotypes of reassortants were also detected in middle ( genotype R3 ) and/or lower respiratory tracts ( genotypes R3 and R8 ) of the pigs . Study findings suggest that reassortments between avian and swine IAVs are tissue-dependent and non-random , and , in swine , they occur most frequently in the lower respiratory tract . Both in vivo and in vitro studies have suggested that the timing and dose of inoculation , as well as inoculation location , contribute to the efficiency of reassortment between influenza viruses [15\\u201318] . In this study , we mimicked the natural scenario of reassortment generation by housing IAV-seronegative pigs with swine H3N2 IAV\\u2013infected pigs and avian H1N1 IAV\\u2013infected pigs . The IAV reassortant viruses were detected as early as 5 dpi , and more on 7 dpi; reassortants were detected not only in the contact pigs but also in the pigs infected with swine H3N2 IAV and those infected with avian H1N1 IAV . Such results suggest that genetic reassortments can readily occur and generate genomically diverse reassortants if avian IAVs are introduced into a herd with circulating swine IAVs . In this study , the distribution of reassortants indicate obvious tissue tropism , with most reassortants occurring in middle and lower respiratory tissues and a few in upper respiratory tissue . We conducted further viral growth studies for 52 representative reassortants by using an in vitro infection model of swine with three cell lines imitating the upper ( i . e . SNE ) , middle ( i . e . STE ) , and lower ( i . e . A549 ) respiratory tracts of swine . Results indicate that the reassortants detected in middle and lower respiratory tracts showed large variations in growth properties in SNE at 33\\u00b0C and STE at 37\\u00b0C; however , the reassortants detected in nasal wash fluids and turbinate can replicate well in SNE at 33\\u00b0C and in STE at 37\\u00b0C ( Figs 4 and 5 ) . These results suggest that tissue tropism contributes to the unbalanced distribution of reassortants through swine respiratory tract tissues . Receptor binding properties have been reported to be one of the key factors determining IAV host and tissue tropisms [43] . However , most ( 60 of 63 ) of the recovered reassortants from this study had HA and NA genes from swine H3N2 IAVs thus having the same receptor binding properties; receptor binding properties of IAVs do not seem to play a key role in the unbalanced distribution of these reassortants in respiratory tracts of feral swine [19 , 38] . Instead , it is likely the other gene segments , such as the ribonucleoprotein complex [44] and NS gene [45] , could interact with the host genes and formulate such tissue tropisms . Influenza surveillance showed a large number of genetic variants of subtype H1 and H3 IAVs are co-circulating and enzootic in domestic swine in the United States [46 , 47] . Phenotype analyses suggested that these reassortants can have large variation in tissue tropisms and transmissibility in mammals [48\\u201350] . Thus , in addition to receptor binding properties , genetic constellation is an important factor determining influenza tissue and host tropisms . Adapted mutations were also reported to affect viral infectivity and tissue tropisms [44] . A number of mutations or polymorphisms were observed across IAV gene segments ( S1 Text ) . Of interest , in swine H3N2 ( no reassortment ) isolates , mutation Q197R in HA protein exhibits obvious tissue-dependent distribution: the mutation occurs more frequently in virus recovered from nasal wash fluids and upper respiratory tracts than in those recovered from middle and lower respiratory tracts ( S4 Table ) . However , analyses of genomic sequences of human and swine H3N2 IAVs in the public databases showed that 93 . 11% of human H3N2 IAVs and 97 . 95% of swine H3N2 IAVs possess glutamine ( Gln , Q ) at residue 197 of HA protein , but just 4 . 86% of human H3N2 IAVs and 0 . 61% of swine H3N2 IAVs possess arginine ( Arg , R ) at the same site of HA protein ( S5 Table ) . We further compared the viral growth kinetics of plaque viruses with or without the Q197R mutation on HA protein under three different temperature conditions ( S4 Fig ) . Peak virus titers at 72 h post-inoculation for the viruses with the mutation did not increase growth efficiency; thus , this mutation does not seem to play an important role in determining the tissue tropisms of IAVs . In the United States , in recent years , it has been challenging to identify influenza seronegative domestic pigs due to influenza enzootics and nationwide implementation of influenza vaccination in domestic pigs . In this study , feral swine was used as the animal model in the animal experiment because it is much easier to obtain influenza seronegative feral swine . However , although we confirmed that these feral swine had not been exposed to brucellosis , pseudorabies and influenza A virus [21] , it is likely that these animals had been exposed to other pathogens , especially parasites . Of interests , prior studies suggested that environment changes for the animals used in the experiments affected the experimental results and that non-specific pathogen free animals could have immune systems closer to those of adult humans [51] . Nevertheless , results from our feral swine experiments clearly demonstrated that tissue tropism plays an important role in selecting transmissible reassortants from various reassortants generated in pigs co-infected with avian and swine IAVs . Compared with domestic pigs , feral swine play an important role in influenza ecology because of their increasing population and ability to roam freely [21 , 52] . In one study , 7 ( 19% ) of 37 feral swine had direct contact with domestic swine [53]; however , feral swine have more opportunities to become infected with avian IAVs because they can easily come into contact with feces or water contaminated by IAV-infected wild birds or with infectious dead birds . These characteristics make feral swine a potential intermediate host for reassortment and transmission of avian IAVs or genes to humans . Virologic and serologic surveillance showed evidence of feral swine exposed to both H3N2 and H1N1 IAVs , predominately H3N2 IAVs [52 , 54] . Furthermore , the H3N2 virus recovered from feral swine shared viral shedding pattern and antibody response dynamics similar to those for viruses isolated from domestic pigs [21 , 52] . Since 2009 , the pandemic H1N1 virus has been identified in domestic [52 , 55 , 56] and feral swine [57] in the United States . Therefore , avian and swine IAVs are continuously transmitted to feral swine , and this finding highlights the important role of feral swine in influenza ecology . Our findings indicate that reassortants between avian and swine IAVs can be shed nasally and be transmitted between feral swine with 100% efficiency under experimental conditions . Thus , feral swine could serve as a potential intermediate host for generating and transmitting reassortant viruses containing both avian and swine influenza virus genes to domestic swine and , ultimately , to humans . In summary , our study findings illustrate how transmissible reassortants arise between avian and swine IAVs in pigs . The reassortments occur in lower respiratory tracts , and tissue tropisms could have selected which reassortant viruses would be shed from the pigs . Determination of tissue tropisms for potential reassortants from contemporary avian and swine IAVs would help identify transmissible reassortants with public health risks . \\n The animal experiments were performed under the protocol numbers QA2296 titled Potential of Avian influenza A virus to infect feral swine and QA2494 titled Potential for feral swine and avian H3N2 influenza to cause a mixed infection in feral swine , both of which approved by the Institutional Animal Care and Use Committee of National Wildlife Research Center ( NWRC ) in accordance with the USDA Animal Welfare Regulations . Biosafety protocol for laboratory and animal experiments: Virus titration and purification and virus inoculation in feral swine were conducted under Biosafety Level 2 conditions , in compliance with U . S . Department of Agriculture\\u2013approved protocols of Institutional Animal Care and Use Committee and Institutional Biosafety Committee . Madin-Darby canine kidney ( MDCK ) cells , human alveolar adenocarcinoma ( A549 ) cells , and chicken embryo fibroblasts ( DF-1 ) cells were obtained from American Type Culture Collection ( Manassas , VA , USA ) . Cells were maintained in Dulbecco\\u2019s modified Eagle\\u2019s medium ( DMEM; Gibco , New York , USA ) supplemented with 10% fetal bovine serum ( FBS; Atlanta Biologicals , Lawrenceville , GA , USA ) at 37\\u00b0C under 5% CO2 . SNE and STE ( kindly provided by Dr . Stacy Schultz-Cherry , St . Jude Children\\u2019s Research Hospital , Memphis , TN , USA ) were cultured at 37\\u00b0C with 5% CO2 in DMEM/F12 ( Thermo Fisher Scientific , Asheville , NC , USA ) supplemented with fetal bovine serum ( 10% ) . Influenza A/swine/Texas/A01104013/2012 ( H3N2 ) virus was propagated for one passage on MDCK cells at 37\\u00b0C with 5% CO2 in Opti-MEM I Reduced Serum Medium ( Thermo Fisher Scientific , Asheville , NC , USA ) supplemented with 1 \\u03bcg/mL of TPCK-trypsin ( Gibco , New York , USA ) . Influenza A/mallard/Wisconsin/A00751454/2009 ( H1N1 ) virus was propagated for one passage in specific pathogen\\u2013free ( SPF ) 10-day-old chicken embryonated eggs ( Charles River Laboratories , Inc . , Norwich , CT ) . The viruses were titrated by the 50% tissue culture infective dose ( TCID50/mL ) on MDCK cells , aliquoted , and stored at \\u221280\\u00b0C before use . The Genbank access numbers for A/swine/Texas/A01104013/2012 ( H3N2 ) virus are JX280447 to JX280454 . The genomic sequences for A/mallard/Wisconsin/A00751454/2009 ( H1N1 ) have been deposited into Genbank with access numbers MH879773 to MH879780 . For viral titration , the TCID50 was determined on MDCK cells , and the 50% egg culture infective dose ( EID50 ) was determined on SPF 10-day-old chicken embryonated eggs ( Charles River Laboratories , Inc . , Norwich , CT ) . Hemagglutination and hemagglutination inhibition ( HI ) assays were carried out by using 0 . 5% turkey erythrocytes as previously described [58] . Viruses were purified by plaque assay on MDCK cell monolayers as described elsewhere [59] . In brief , nasal wash fluids or the supernatants of ground tissues from experiment animals were 10-fold serially diluted from 100 to 10\\u22126 with Opti-MEM containing 100 units/mL of penicillin\\u2013streptomycin ( Gibco , New York , USA ) and inoculated onto monolayers of MDCK cells in 6-well plates . Up to 10 single plaques were randomly picked for each sample . Plaques were propagated on MDCK cells for a single passage , and the viruses were aliquoted and stored at \\u221280\\u00b0C before being used for genomic sequencing and growth kinetics characterization . Viral RNA was extracted by using the KingFisher Pure Viral NA Kit ( Thermo Fisher Scientific , Asheville , NC , USA ) according to the manufacturer\\u2019s instructions . Viral cDNA transcript libraries were prepared using the Nextera XT v2 kit and were sequenced by using a MiSeq Reagent Kit v2 with a MiSeq sequencing system ( both from Illumina , San Diego , CA , USA ) according to the manufacturer\\u2019s suggested protocol [60] . The quality of pair-end reads obtained from MiSeq sequencing were checked by FastQC ( Babraham Bioinformatics , https://www . bioinformatics . babraham . ac . uk/projects/fastqc/ ) and trimmed by Trimmomatic version 0 . 36 ( Usadel Lab , http://www . usadellab . org/cms/ ? page=trimmomatic ) using a quality score threshold of 20 . After quality trimming was performed , all pair-end reads were aligned to reference genome of corresponding virus by using Bowtie 2 ( Johns Hopkins University , http://bowtie-bio . sourceforge . net/bowtie2/index . shtml ) . Polymorphisms were identified from alignments and subject to a 20% coverage cutoff . SNE , STE , A549 , DF-1 , and MDCK cells were seeded in 6-well plates , after the cells were confluent , cells were washed twice with PBS and then infected with a testing virus at a multiplicity of infection of 0 . 001 TCID50/cell . The inoculum was removed after 1 h of incubation at 37\\u00b0C . The cells were washed with PBS , and then 3 mL of Opti-MEM supplemented with 1 \\u03bcg/mL of TPCK-trypsin was added . Cultures were incubated at 33\\u00b0C , 37\\u00b0C , or 39\\u00b0C for the duration of the experiment . At 12 , 24 , 48 , and 72 h post-inoculation , virus titers were determined in the supernatants by TCID50 on MDCK cells [59 , 61 , 62] . Viruses were purified by sucrose gradient centrifugation . The purified viruses were dissolved in PBS and dialyzed against PBS at 4\\u00b0C overnight . The concentrations of virus particles were determined using sodium dodecyl sulfate\\u2013polyacrylamide gel electrophoresis as described elsewhere [63] . Two biotinlyated glycan analogs , 3\\u02b9SLN and 6\\u02b9SLN , were purchased from GlycoTech ( Gaithersburg , MD , USA ) . Binding of viruses ( at 5 nM/virus ) to the biotinylated glycan analogs was performed as previously described [64] in an Octet RED96 biolayer interferometer equipped with streptavidin biosensor tips ( PALL Fort\\u00e9BIO , Menlo Park , CA , USA ) . The glycan concentrations ranged from 0 . 007 \\u03bcg/mL to 1 . 5 \\u03bcg/mL . Responses were normalized by the highest value obtained during the experiment , and binding curves were fitted by using the binding-saturation method in GraphPad Prism version 7 ( https://www . graphpad . com/scientific-software/prism/ ) . The normalized response curves report the fractional saturation ( f ) of the sensor surface as described in a previous study [65] . RSL0 . 5 ( relative sugar loading , f = 0 . 5 ) was used to quantitate the binding affinity of two selected viruses against two glycan analogs . The higher the RSL0 . 5 , the smaller the binding affinity . For animal experiments , a total of 43 feral swine ( body weight 16\\u201322 kg ) were trapped in a rural area of Starkville , MS , USA , by using corral traps similar to those previously described [21] . Animals were transported to the National Wildlife Research Center , Mississippi Field Station , in Mississippi State , MS , USA , where they were quarantined for 1 week . Before the animals were included in the experiments , we confirmed that these feral swine had not been exposed to brucellosis , pseudorabies and influenza A virus using ELISA as previously described [21] and that all HI assay results were negative for A/swine/Texas/A01104013/2012 ( H3N2 ) , A/mallard/Wisconsin/A00751454/2009 ( H1N1 ) , and three endemic human influenza A viruses [i . e . , A/California/04/2009 ( H1N1 ) , A/Switzerland/9715293/2013 ( H3N2 ) , and A/Hong Kong/4801/2014 ( H3N2 ) ] . The swine were then housed and fed according to standard protocol , as described elsewhere [21] , and used in three animal experiments . To ensure that the selected avian H1N1 virus could cause infection in and be transmitted among swine , we evaluated the pathogenesis and transmission of A/mallard/Wisconsin/A00751454/2009 ( H1N1 ) virus in the feral swine prior to the animal study . A total of 12 feral swine were randomly assigned to two groups: the treatment group ( n = 8 ) and the control group ( n = 4 ) . The treatment group pigs were housed in 4 adjoining pens ( 2 pigs/pen ) ; the control pigs were housed in 2 adjoining pens ( 2 pigs/pen ) ; and the treatment pigs and the control pigs were housed in two individual buildings . Prior to virus inoculation and samples collection , pigs were anesthetized using a method described previously [21] . After being anesthetized , the eight pigs in the treatment group were intranasally inoculated with 106 EID50 of virus in a volume of 1 mL ( 0 . 5 mL/nostril ) , and the four pigs in the control group were intranasally inoculated with 1 mL of PBS . On 1\\u201310 dpi , nasal wash fluids were collected from both nostrils of all pigs into 3 mL of PBS and then subjected to titration by EID50 . The body weight and temperature of each pig were measured before samples were taken . At 5 and 7 dpi , respectively , two treatment group pigs and one control pig were euthanized and necropsy was performed according to a previously described procedure [21] . Turbinates , tracheas , and lungs were collected and homologized for viral titration by EID50 . Serum from each pig was also collected for seroconversion analysis using an HI assay with 0 . 5% turkey red blood cells , as described previously [58] . A total of 19 pigs were separated into 5 treatment groups ( 16 pigs in total ) and 1 control group ( 3 pigs in total ) . Each treatment group ( n = 3 or 4 pigs ) consisted of one pig intranasally inoculated on day 0 with 106 TCID50 of A/swine/Texas/A01104013/2012 ( H3N2 ) virus in a volume of 1 mL; one pig inoculated on day 0 with 106 TCID50 of A/mallard/Wisconsin/A00751454/2009 ( H1N1 ) virus in a volume of 1 mL; and one or two IAV seronegative pigs to serve as a direct contact ( s ) for the inoculated pigs . For each experimental group , one or two IAV seronegative pigs were introduced into the same pen housing one pig inoculated with swine H3N2 IAV and one pig inoculated with avian H1N1 IAV right after ( at the same day ) viral inoculation . To avoid potential contaminations from virus inoculation , the inoculation procedure for each inoculated pig was performed outside of the animal\\u2019s housing pens on a stainless steel table which was disinfected between each animal . The control group was housed in a separate building and intranasally inoculated with 1 mL of sterile PBS . Nasal wash fluids were collected from all pigs on 0 , 3 , 5 , and 7 dpi and titrated by TCID50 on MDCK cells . All pigs in two of the five treatment groups were euthanized on 3 dpi and 5 dpi , respectively , and pigs in the remaining treatment group were euthanized on 7 dpi . One control pig each was euthanized on 3 , 5 , and 7 dpi . The following tissues were collected from each euthanized pig: left cranial lung , left caudal lung , left middle lung , right cranial lung , right caudal lung , right middle lung , right accessory , upper trachea , middle trachea , distal trachea , bronchus , soft palate , ethmoid turbinate , rostral turbinate , and middle turbinate . To quantify IAV , we homogenized each tissue to a 10% ( w/v ) final concentration in PBS containing 100 unit/mL of penicillin\\u2013streptomycin and then subjected the solutions to three freeze\\u2013thaw cycles prior to performing virus titrations and plaque analyses . We used a total of 12 pigs to evaluate the pathogenesis and transmission of a reassortant ( plaque #69 [genotype R3] ) which resulted from a mixed infection and has PB1 gene from A/mallard/Wisconsin/A00751454/2009 ( H1N1 ) virus and other genes from A/swine/Texas/A01104013/2012 ( H3N2 ) virus . We randomly assigned the pigs into four groups of experiment pigs ( n = 8 ) and one group of control pigs ( n = 4 ) . Each experiment group consisted of 1 inoculated pig , which received 106 TCID50 of a nasal isolate of IAV on day 0 , and 1 contact pig . Nasal wash fluids were obtained from each pig on 0 , 3 , 5 , 7 , 9 , 11 , and 14 dpi; serum samples were collected from each pig on 0 , 7 , 14 , and 21dpi . On 3 , 5 , 7 , and 9 dpi , one virus-inoculated pig and one control pig were euthanized , and viruses in nasal wash specimens and animal tissues were titrated by TCID50 on MDCK cells; serum samples were subjected to seroconversion analyses by HI assays . Viral titers are expressed as means \\u00b1 standard deviations . The one-way ANOVA test was used to determine whether viral growth in each cell line at 33\\u00b0C or 39\\u00b0C differed from growth at 37\\u00b0C at each time point . Differences with a P-value of less than 0 . 05 were considered statistically significant .\",\n          \"Insulator or enhancer-blocking elements are proposed to play an important role in the regulation of transcription by preventing inappropriate enhancer/promoter interaction . The zinc-finger protein CTCF is well studied in vertebrates as an enhancer blocking factor , but Drosophila CTCF has only been characterised recently . To date only one endogenous binding location for CTCF has been identified in the Drosophila genome , the Fab-8 insulator in the Abdominal-B locus in the Bithorax complex ( BX-C ) . We carried out chromatin immunopurification coupled with genomic microarray analysis to identify CTCF binding sites within representative regions of the Drosophila genome , including the 3-Mb Adh region , the BX-C , and the Antennapedia complex . Location of in vivo CTCF binding within these regions enabled us to construct a robust CTCF binding-site consensus sequence . CTCF binding sites identified in the BX-C map precisely to the known insulator elements Mcp , Fab-6 , and Fab-8 . Other CTCF binding sites correlate with boundaries of regulatory domains allowing us to locate three additional presumptive insulator elements; \\u201cFab-2 , \\u201d \\u201cFab-3 , \\u201d and \\u201cFab-4 . \\u201d With the exception of Fab-7 , our data indicate that CTCF is directly associated with all known or predicted insulators in the BX-C , suggesting that the functioning of these insulators involves a common CTCF-dependent mechanism . Comparison of the locations of the CTCF sites with characterised Polycomb target sites and histone modification provides support for the domain model of BX-C regulation . \\n Insulator elements are DNA sequences that regulate interactions between promoters and enhancers . By preventing inappropriate enhancer/promoter communication , insulators are believed to play a key role in the genomic organisation of transcriptional regulation . Their mode of action is still unclear but may involve the formation of chromatin loops that partition the genome into separate regulatory domains [1\\u20135] . In vertebrates , almost all characterised insulator elements are associated with the binding of CTCF , a DNA-binding protein that contains multiple zinc fingers . Although CTCF was initially identified as both a transcriptional activator and repressor [6\\u20138] , it was subsequently recognised as being essential for the enhancer blocking activity of several vertebrate insulators [9] . CTCF also functions in imprinting [10 , 11] and has been implicated in human disease [12] . Recently , Drosophila CTCF has been identified [13] , joining other known Drosophila enhancer blocking proteins such as Su ( Hw ) [14] , Zw5 , and BEAF32 [15 , 16] . In addition to insulation of entire genes or groups of genes , insulators may also flank individual enhancers allowing them to act independently , facilitating complex tissue and cell-specific patterns of gene expression [17] . This function is particularly relevant in the case of the Hox genes , whose complex expression patterns specify segmental identities along the body axis . In Drosophila , correct antero-posterior patterning in the thorax and abdomen is dependent on the precise expression of the Hox genes of the Bithorax complex ( BX-C ) in specific parasegments [18 , 19] . This is achieved by the subdivision of the regulatory regions of each of the three BX-C genes ( Ultrabithorax [Ubx] , abdominal-A [abd-A] , and Abdominal-B [Abd-B] ) into distinct enhancer domains [20] . There are at least nine distinct regulatory regions , each important for specifying homeotic gene expression in individual thoracic and abdominal parasegments ( PS ) from PS 5\\u201313 [21\\u201325] . The domain hypothesis of Mihaly et al . [26] proposes that each distinct regulatory region or domain contains a modular arrangement of functional elements required for Hox gene expression in a particular parasegment . These elements include initiator , enhancer , and memory elements/Polycomb-response elements ( PREs ) . It is thought that boundary elements , located between adjacent domains , restrict the influence of each regulatory region . The evidence for this comes from mutations that disrupt boundary function and from enhancer trap transposon studies , which have generated a map of the BX-C compartmentalised into distinct parasegmental regulatory regions [27 , 28] . Three boundaries Mcp , Fab-7 , and Fab-8 have been defined by mutation [29\\u201333] . Another , Fab-6 , has been mapped genetically [26] , and others are postulated to exist . Each of the three BX-C boundaries identified by mutational analysis display insulator function; i . e . , they are capable of suppressing reporter gene expression when placed between an enhancer and a promoter in a transgenic insulator assay [4 , 29 , 34\\u201336] . Recently , Moon et al . [13] showed that the Fab-8 boundary element contains binding sites for CTCF and that mutation of these sites greatly reduces the ability of Fab-8 to suppress reporter gene expression in an insulator assay , demonstrating that the insulating activity of Fab-8 is dependent on CTCF . Here we use chromatin immunopurification together with genomic microarray ( ChIP-array ) to investigate in vivo CTCF binding in several regions of the Drosophila genome , including the BX-C . From this analysis , we identify a CTCF binding-site consensus that allows the precise location of CTCF binding sites in these genomic regions . In the BX-C , in addition to the characterised CTCF sites in the Fab-8 boundary element , we demonstrate the presence of CTCF binding sites in the Mcp and Fab-6 boundaries . Furthermore , we identified CTCF binding sites between the regulatory regions bxd/pbx and iab-2 , between iab-2 and iab-3 , and between iab-3 and iab-4 , providing both a localisation of the previously postulated boundary regions of \\u201cFab-2 , \\u201d \\u201cFab-3 , \\u201d and \\u201cFab-4\\u201d and a demonstration that these too bind CTCF . A number of CTCF binding sites have been identified in the vertebrate genome , but there is little agreement as to the similarity between these sites at the DNA level [7 , 13 , 37] . Binding data have been interpreted to suggest that different combinations of zinc fingers are used to bind to differing sites of approximately 50 bp [7 , 38] . In contrast , our analysis in Drosophila indicates that CTCF sites contain a conserved consensus binding sequence of approximately 20 bp in length . Examination of the vertebrate CTCF binding sites reveals that they too contain a consensus sequence and that this vertebrate CTCF consensus is similar to the Drosophila site identified here . \\n In order to identify the in vivo binding sites of the Drosophila CTCF protein , we used our previously described ChIP-array procedure [39] . Sonicated chromatin , isolated from Drosophila embryos , was immunopurified using either anti-CTCF antiserum ( specific immunopurification [IP] ) or normal rabbit serum ( control IP ) . The immunopurified DNA preparations were labelled with either Cy3 or Cy5 and hybridised to a 1-kb tiling-path genomic microarray covering the 3-Mb Adh region together with other selected genomic regions including the BX-C , the Antennapedia complex ( ANT-C ) , and the achaete-scute region . As a positive control , the immunopurification reactions were assessed using specific PCR primers to amplify a 378-bp fragment from the Fab-8 region , containing characterised CTCF binding sites [13] . This fragment showed clear enrichment when compared with amplification using primers for a 300-bp fragment ( Clone 10 ) that does not contain a CTCF binding site ( unpublished data ) . Replicated hybridisation to genomic DNA tiling arrays generated a dataset ( Dataset S1 ) with mean enrichments ( Mn ) equivalent to log2 3 . 8 ( 14-fold ) observed . The Fab-8 positive control is represented on the array as fragment UBX65 , which gave an enrichment value of 1 . 56 ( 3-fold ) and good reproducibility ( p = 0 . 0045 across four biological replicates ) . Fragments showing Mn > 0 . 45 ( 1 . 4-fold ) and p < 0 . 05 were selected as potential CTCF binding sites ( Figure 1 ) . A total of 33 fragments satisfied these criteria , including 18 from the 3-Mb Adh region , nine fragments from the BX-C , and four from the ANT-C ( Dataset S2 ) . To identify potential CTCF binding sites within enriched fragments , the 33 candidate fragments were submitted to a motif discovery tool , Multiple Em for Motif Elicitation ( MEME ) , to search for overrepresented sequence motifs [40] . The top motif found by MEME ( e = 1 . 3 \\u00d7 10\\u221220 ) ( Figure 1A ) is identified in 23 out of the 33 fragments ( 70% ) . Of the remaining ten fragments , four are immediately adjacent to fragments that possess a match to this MEME motif . Of the 23 fragments that contain the top MEME motif , seven contain two sites resulting in a total occurrence of 30 sites . Acting as a positive control , both of the CTCF binding sites identified in the Fab-8 region by DMS methylation interference [13] are identified by our MEME analysis . The 18-bp MEME motif is illustrated as a sequence logo in Figure 1A and shows rather weak 5\\u2032 sequence preference but a strong AGGTGGCGC consensus towards its 3\\u2032 end . The 30 occurrences of the MEME motif were used to construct a position-specific weight matrix that was in turn used as the input for the Patser profile-matching tool to search for matches within the genomic sequences on the microarray . The association between Patser matches and CTCF binding is demonstrated in Figure 1B and 1C . In Figure 1B the top 600 fragments are plotted in rank order by Mn along with the minimum p-value Patser site associated with each fragment . Clearly the high-ranking enriched fragments are generally associated with good matches to the CTCF weight matrix . Figure 1C shows that match to the CTCF weight matrix is a relatively good predictor of binding; of the fragments containing a better than p = 10\\u221213 . 5 match , 57% have Mn > 0 . 45 ( 1 . 4-fold ) , and for p < 10\\u221215 , 70% have an enrichment >0 . 45 . At a whole-genome level , we find 855 matches ( p < 10\\u221215 ) when Patser is used to search the Drosophila melanogaster genome sequence . Another way to examine the functional relevance of these predicted sites is to look at their conservation across species . Figure 1D shows the conservation across 14 insect species aligned with D . melanogaster for the 855 matches within the Drosophila genome with Patser p < 10\\u221215 , plotting the median conservation across the CTCF binding motif together with 100 bp of flanking sequences . The plot shows a clear peak of conservation aligned with the 18-bp CTCF weight matrix matches . The conservation peak also appears to be approximately 20 bp wide and , as with the CTCF weight matrix , the conservation is greater towards the 3\\u2032 end of the motif . The conservation plot additionally suggests that conserved and hence potentially functionally relevant sequences may extend a few base pairs 3\\u2032 to the 18-bp CTCF binding motif . Taken together , these data support the idea that the binding sites for CTCF in Drosophila can be described by a single weight matrix approximately 20 bp in length . This is clearly at odds with the notion , derived from studies of CTCF DNA binding in vertebrates , that CTCF binds to 50-bp target sites with a diverse spectrum of sequences [7 , 38] . The ChIP-array analysis identifies eight locations with CTCF binding within the BX-C . As shown in Figure 2 , these eight locations show a striking correspondence with Patser CTCF site predictions as all eight locations overlap sites with a Patser p < 10\\u221213 . In addition , another UBX fragment ( UBX200; Mn = 0 . 54 and p = 0 . 054 ) that falls just short of the significance threshold also contains a high-scoring Patser site ( p = 10\\u221214 . 4 ) . ChIP enrichment of this fragment was validated by specific PCR , and this location was therefore included in the list of CTCF occupied sites , resulting in the identification of nine CTCF binding regions across the BX-C as depicted in Figure 2 . Of these regions six contain a single p < 10\\u221213 Patser match and three contain a pair of sites , separated by less than 200 bp ( Table 1 ) . We performed ChIP experiments with crosslinked chromatin from both Drosophila S2 cells and embryos to validate this set of CTCF sites ( Figure 3A ) . To control the specificity of the immunopurifications , we used two different CTCF antibodies , raised against the N- or C-terminal part of the protein . For negative controls we used pre-immune serum as well as a nonbinding sequence , encompassing a sequence upstream of Fab-8 ( Fab-8 5\\u2032-control ) . The results indicated association of CTCF with the same set of fragments that were enriched in the ChIP-array . A total of two fragments with strong Patser matches , but no enrichment in the ChIP-array ( BXC-67 and BXC-168 ) , also showed no clear enrichment in the fragment-specific ChIP assay . Since the nine CTCF binding regions show both ChIP enrichment and high-scoring Patser matches , they are likely to be direct CTCF targets rather than products of indirect association through , for example , chromatin looping . To substantiate this we analysed DNA binding in vitro by electrophoretic mobility shift assay ( EMSA ) with radioactively labelled probes and bacterially expressed purified GST-CTCF fusion proteins ( Figure 3B ) . We used either the 11-zinc-finger DNA-binding domain or the full-length protein fused to GST , which differentially retard the DNA fragments . The GST domain by itself does not bind , nor did a negative control sequence from Su ( var ) 3\\u20139 bind to CTCF . These experiments show direct binding of CTCF to all of the sites predicted by the Patser analysis , even to BXC-67 and BXC-168 , which were very weakly , if at all , enriched by ChIP . Some of the sites were bound by the full-length protein , but not by the isolated zinc-finger-region of CTCF . This may suggest that other amino acids in regions outside of the zinc-finger region participate in DNA binding of CTCF . The double sites at BXC-148 ( A + B ) cannot be resolved on two different fragments , rather single and double occupancy can be seen with the zinc-finger domain causing two different shifted bands . Overall , our data strongly indicate that the CTCF sites we have identified in the BX-C are direct CTCF binding sites . As shown in Figure 2 , we find a striking correspondence between in vivo CTCF binding and mapped boundary elements in the BX-C . In addition to the known binding of CTCF at the Fab-8 insulator [13] , we show that CTCF binding is also detected within the mapped domains of the Mcp and Fab-6 boundary elements . The remaining mapped boundary , Fab-7 , shows neither significant CTCF binding in the ChIP-array analysis nor a Patser site p < 10\\u221213 . However , using the more sensitive PCR assay of ChIP enrichment , we do observe a relatively weak but significant association of CTCF with Fab-7 ( Figure S1 ) . Given the strong connection of CTCF sites to mapped boundary elements , we investigated whether the other CTCF sites within the BX-C also identified boundaries . The positions of boundary elements can be estimated from the mapping of mutations that affect the individual parasegment-specific regulatory elements , and the extents of these cis-regulatory domains ( taken from Maeda and Karch [28] ) are indicated by the coloured bar in Figure 4 . Again we find a clear correspondence; CTCF sites are located close to the boundaries between bxd/pbx and iab-2 ( the \\u201cFab-2\\u201d boundary ) , between iab-2 and iab-3 ( the \\u201cFab-3\\u201d boundary ) , and between iab-3 and iab-4 ( the \\u201cFab-4\\u201d boundary ) . However , mapping of these regulatory domains can be imprecise , particularly if the mutations are chromosomal rearrangements with complex effects . A more robust map of the regulatory domains is provided by the locations of enhancer-trap insertions and the analysis of their patterns of expression [27 , 28] . The positions of 14 enhancer traps in the BX-C are shown in Figure 4 ( coordinates in Table 1 ) , together with their allocations to specific regulatory domains based on their expression patterns . Again we find that CTCF binding sites separate different regulatory domains . The location of the Fab-4 site is particularly compelling; enhancer traps detecting iab-3 and iab-4 regulation are separated by less than 2 kb , and this interval contains the \\u201cFab-4\\u201d CTCF site . Of the remaining three CTCF binding sites with the BX-C ( sites A\\u2013C , Figure 4 ) , two sites are within introns of Abd-B close to alternative Abd-B transcription start sites ( Abd-B-RB and Abd-B-RE , respectively ) . The third site lies within the bxd/pbx regulatory region . In summary , the CTCF sites identified here correlate with six out of seven known or postulated boundary elements , the only exception being Fab-7 . As CTCF has been demonstrated to be required for insulator function at Fab-8 [13] , it is likely that all these CTCF-associated boundaries function through a common CTCF-dependent mechanism . According to the domain model of BX-C regulation , the domains bounded by insulators would act as autonomous units that could either be active or silenced depending on the state of memory elements/PREs within each domain [26] . This is likely to require a precise arrangement of insulators and PREs to restrict PRE-dependent chromatin modification to specific domains . Several PREs have been mapped within the BX-C and , in particular , PREs have been located close to the boundary elements Mcp , Fab-7 , and Fab-8 [29 , 33 , 41] . We were interested in examining the relationships between CTCF sites , the binding sites for Polycomb complexes , and the domains of chromatin modification . For this analysis we compared our CTCF ChIP-array data with a genome-wide analysis of Polycomb targets in Drosophila that determined the genomic binding sites for Polycomb Repressive Complex 1 ( PRC1 ) complex components ( Pc and Psc ) , for the Polycomb Repressive Complex 2 ( PRC2 ) complex component E ( Z ) , and for the PRC2-dependent chromatin modification , trimethylation of histone H3 lysine 27 ( H3K27me3 ) , in S2 cells [42] . In this particular cell line the Abd-B gene is expressed; the four downstream Abd-B promoters are active , but the most upstream promoter ( Abd-B-RE ) is silenced . Schwartz et al . [42] found that the Fab-7 and Fab-8 PREs are not bound by Polycomb complexes , and the Abd-B transcription unit is largely within an \\u201copen\\u201d domain devoid of H3K27me3 histone modification . In Figure 5 , we display the relationship between these Polycomb data [42] and our in vivo CTCF binding data in the region from \\u201cFab-4\\u201d to the 5\\u2032 end of the Abd-B transcription unit . Strikingly , the four Polycomb target sites in this region that are occupied by Polycomb complexes in S2 cells are all located in close proximity to CTCF binding sites . Furthermore , the Polycomb target peak always lies to one side of the CTCF site suggesting the relative arrangements as indicated in the schematic in Figure 5A . However , although the CTCF sites are precisely located , the Polycomb target sites are represented by peaks that span several hundred base pairs leaving some uncertainty as to the precise location of the Polycomb target sequences . Nevertheless , for Mcp this ordering agrees with the functional mapping where the PRE and the boundary have been mapped to adjacent but separate regions as illustrated in Figure 5B [4 , 41] . Overall , this arrangement suggests that each of these Polycomb target site sits within a domain flanked by CTCF boundaries . The H3K27me3 profile also shows a relationship to the location of CTCF sites . The most prominent feature of the H3K27me3 profile in S2 cells is the domain between approximately 12 , 725 , 000 and 12 , 795 , 000 , which lacks the repressive trimethylation of lysine 27 ( K27me3 ) modification . The right-hand side of this domain has a sharp border that corresponds well with the CTCF site \\u201cC\\u201d at 12 , 795 , 406 . The left-hand side of the domain does not have a clear border and does not fit with a CTCF site . It is tempting to speculate that the differences in the two borders of the H3K27me3 domain may be related to the relative arrangement of the CTCF and Polycomb sites . On the left-hand side , the Polycomb site is \\u201coutside\\u201d the CTCF site , and the H3K27me3 modification spreads rightwards from the Polycomb site . On the right-hand side , the Polycomb site is \\u201cinside\\u201d the CTCF site , and the H3K27me3 modification does not spread past the CTCF site . We also note that the positions of the CTCF site/PREs at \\u201cFab-4 , \\u201d Mcp , and Fab-8 are associated with pronounced depressions in the K27me3 profile . This may be related to nucleosome depletion at PREs [43] , but it is interesting that CTCF binding sites in the mouse \\u00df-globin locus are also depleted for repressive chromatin marks [44] . We examined the conservation of the CTCF sites in the BX-C . The sites show high conservation with median PhastCons scores close to 1 . 0 across the approximately 20-bp motif . We illustrate this for an individual site Mcp ( Figure 5B ) , where the single CTCF site corresponds to one of the clearly defined peaks of conservation that lie within the functionally mapped Mcp boundary element . Other genomic regions screened for CTCF binding sites on the microarray include the 3-Mb Adh region and the smaller Antennapedia and achaete-scute regions . The Adh region [45] is a well-characterised region of Chromosome 2L , containing approximately 250 genes from kuzbanian to cactus , which serves as a representative region of the fly genome . The ChIP-array identified 18 fragments in the Adh region with Mn > 0 . 45 ( 1 . 4-fold ) and p < 0 . 05 ( Figure 6 ) . Of these fragments , 11 contain high-scoring Patser CTCF weight-matrix matches ( Patser p-value < 10\\u221212 ) , and two additional fragments , ADH-1602 and ADH-2233 , are associated with flanking high-scoring Patser sites at distances of only 40 and 100 bp , respectively . In both cases these high-scoring Patser sites lie between two adjacent array fragments and so were not included as hits in the MEME analysis . PCR validation shows clear enrichment in both these cases ( unpublished data ) . It was found that two fragments that lack strong Patser sites are neighbours of highly enriched fragments that do contain high-scoring Patser sites . ADH-2253 has an additional high scoring hit in a neighbouring fragment that did not show up as being enriched on the array . Overall , this results in a strong association between ChIP-array enrichment and the presence of a high-scoring Patser site , with a total of 15 out of 19 fragments possessing either a high-scoring Patser site or immediately neighbouring a fragment with a high-scoring site . The enriched fragments are associated with 17 CTCF sites in total ( Figure 6 ) . Identification of CTCF binding sites within the Adh region presented an opportunity to investigate the relationship between CTCF binding sites and annotated genome features . Given CTCF's well-documented insulating function , it seemed likely that most identified sites would be in intergenic regions and this proved to be the case . Of the 17 sites in the ADH region , 15 ( 88% ) are present in intergenic regions . No sites overlap exons , but two sites present in ADH-705 overlap the 3\\u2032 UTR region of the protein kinase gene smell-impaired 35A ( smi35A ) . Most sites occur as single isolated sites ( 65% are separated by at least 500 bp ) , but there are three pairs of sites that are closer than 200 bp apart . Thus , in general , the CTCF sites in this region are not present in multisite clusters , but there are some closely spaced pairs of sites . Neighbouring sites , in general , flank several transcription units ( e . g . , the sites flanking CyclinE [CycE] shown in Figure 6B ) , but we also note that the long transcription unit of outspread ( osp ) , which extends for about 90 kb , is rather neatly flanked by a pair of 5\\u2032 CTCF sites and a single 3\\u2032 site ( Figure 6C ) . We compared the location of CTCF sites with the sites we have identified for another Drosophila insulator-binding protein , Su ( Hw ) ( B . Adryan , G . Woerfel , I . Birch-Machin , S . Gao , M . Quick , L . Meadows , S . Russell , and R . White; unpublished data ) . The Su ( Hw ) sites are illustrated in Figure 6 , and we find no clear general relationship between Su ( Hw ) and CTCF sites . Only one fragment contained both Su ( Hw ) and CTCF sites ( ADH-3002; 14 , 706 , 282\\u201314 , 707 , 212 ) . It is curious that this fragment was the top enriched fragment in both ChIP-array analyses . We also looked for an association between CTCF sites and gene neighbourhoods since insulators might provide a molecular basis for the occurrence of clusters of similarly expressed genes in the genome [46\\u201348] . In Figure 6 we illustrate the gene neighbourhoods in the Adh region identified by Spellman and Rubin [48] . Although neighbourhood 29 is precisely flanked by CTCF sites , and there is a site separating neighbourhoods 30 and 31 , overall we do not see a compelling association between CTCF sites and these gene expression neighbourhoods . A total of three out of the four ChIP-array enriched fragments in the Antennapedia region displayed a match to the top motif discovered by MEME . The remaining fragment is a neighbouring fragment . All three directly enriched fragments contain at least one high-scoring Patser site ( p < 10\\u221212 ) . In total , four sites are identified in the Antennapedia genomic region , and only one of the sites occurs in an intergenic region ( ANT297 ) . The remaining three sites are located within the first intron of Antennapedia itself . These sites consist of a pair of sites , 179 bp apart , and one \\u201csingle\\u201d site . Only a single fragment was identified within the achaete-scute complex , this contains a high-scoring Patser site ( p = 10\\u221214 . 5 ) and is present in the intergenic region between scute ( sc ) and lethal of scute ( l ( 1 ) sc ) . Although the existence of a region of similarity within different vertebrate CTCF binding sites has been noted [9 , 49] , a consensus binding site has not been universally recognised , mainly because of experiments that suggest that CTCF binds to DNA by employing varying combinations of different zinc fingers [7 , 50 , 51] . Following identification of the Drosophila CTCF consensus binding site , we examined the possibility that the vertebrate and Drosophila binding sites are similar in sequence . We utilised the selection of sites compiled by Moon et al . [13] and submitted these sequences to the Motif Discovery tool , MEME . The highest scoring motif identified ( e = 6 . 6 \\u00d7 10\\u221211 ) was found in all 12 sequences and is similar both to the conserved region identified previously in footprinting experiments and also to the Drosophila CTCF binding site reported here ( Figure 7 ) . Both the vertebrate and the Drosophila motifs share the AGGNGGC consensus sequence . Thus , our evidence does not support the idea that CTCF uses different combinations of zinc fingers to bind to different DNA sequences , and we suggest instead that CTCF binds to a similar specific sequence in both vertebrates and Drosophila . \\n The multiple zinc-finger DNA-binding protein CTCF is known to be required for the enhancer blocking action of vertebrate insulators , and a clear role for CTCF in the regulation of endogenous gene expression has been demonstrated at the imprinted Igf2 locus [9\\u201311] . The mode of action of CTCF is , however , still unclear , although several studies have implicated CTCF in the formation of higher-order chromatin structure . CTCF molecules can interact to form clusters and thereby may mediate the formation of chromatin loop domains [44 , 52\\u201354] . Partitioning of regulatory elements into independent chromatin loop domains is postulated to play a key role in the interactions between enhancers and promoters . Recently , a CTCF homolog was identified in Drosophila , and it was discovered that CTCF is required for the insulator function of the Fab-8 element in the BX-C [13] . This observation opened up the prospect of utilising the wealth of genetic and molecular characterisation of BX-C transcriptional regulation for the analysis of CTCF function . Here we have used ChIP-array to investigate CTCF binding sites in regions of the Drosophila genome with a particular focus on the BX-C . We find that CTCF is not only associated with the Fab-8 insulator , but also with other mapped boundary elements , Fab-6 and Mcp . In addition , we show that CTCF sites are located at other postulated boundaries within the BX-C; \\u201cFab-2 , \\u201d \\u201cFab-3 , \\u201d and \\u201cFab-4 . \\u201d This provides a precise mapping of regulatory domain boundaries and a specific molecular foundation for the domain model of BX-C regulation . We note that the Fab-7 boundary may differ from the other characterised boundaries in the BX-C as we do not find a strong Patser match to the CTCF consensus in the functionally mapped Fab-7 boundary element . Although Fab-7 was not demonstrably enriched in the ChIP-array , we found significant CTCF association with Fab-7 in the more sensitive PCR-base ChIP assay . Given the lack of a strong Patser match this may suggest an indirect association . We also do not see a CTCF site between the abx/bx and the bxd/pbx regulatory elements . However , these elements are separated by a long distance , and it is not clear whether they require insulation . According to the domain model [26] , the parasegment-specific regulatory domains that control the expression patterns of the Ubx , abd-A , and Abd-B genes of the BX-C are initially activated in appropriate parasegments by the early pattern-forming genes acting on initiator elements . Each regulatory domain is predicted to contain a particular initiator element , tuned to respond to a specific combination of gap and pair-rule gene products , thus activating the regulatory domain in the appropriate set of parasegments . This activation would be read by maintenance elements consisting of PREs that thereafter autonomously maintain each regulatory domain in either the OFF ( silenced ) or ON ( active ) state . Within a domain in the ON state , enhancers present in that domain would be able to engage with the relevant gene promoter and regulate expression of the gene . Boundary elements that flank each domain are proposed to restrict the effects of the initiator and maintenance elements to a single domain . Although boundary elements are postulated to have the common property of insulating the regulatory domains , no sequence similarity between the mapped boundary elements has been reported until now . Here we show that a set of these boundary elements contain CTCF binding sites and bind CTCF in vivo . CTCF has been shown to be required for the insulator activity of Fab-8 , and it seems likely that CTCF will also be a required component at the other boundary elements . In support of this suggestion , we find that the CTCF sites are well conserved within the sequenced insect genomes . The observation that CTCF sites flank a set of regulatory domains in the BX-C , together with the vertebrate studies that suggest that CTCF can mediate the formation of chromatin loops [44 , 52] supports the idea that interaction between CTCF sites may organise these domains into chromatin loops . However , how such a looping mechanism enables the autonomy of the individual regulatory domains and facilitates appropriate enhancer/promoter interactions is still unclear . A key feature of the domain model is the relationship between the boundary and maintenance elements . For the domains to be capable of independently being set to the ON or OFF state , the range of influence of PREs needs to be restricted by the domain boundaries . Each domain would require at least one PRE . Our precise mapping of in vivo CTCF binding sites has enabled us to examine their relationship with Polycomb target sites . In strong support of the domain model , we find that the domains demarcated by CTCF sites contain Polycomb target sites . Indeed , we find an intimate relationship between CTCF and Polycomb binding sites as shown in Figure 5 for \\u201cFab-4 , \\u201d Mcp , Fab-6 , and CTCF site \\u201cC . \\u201d This fits with previous functional mapping indicating that boundary elements and PREs are closely associated at Fab-7 , Fab-8 , and Mcp . This arrangement would impose a polarity on the spread of chromatin modification from the PRE , such that modification may start at the PRE abutting one boundary and spread across the domain in one direction towards the next boundary . At the boundaries , CTCF may play many possible roles . It could participate in boundary element function allowing the independence of chromatin domains by acting as a chromatin insulator blocking the spread of chromatin modification . However , at the chicken \\u00df-globin locus , the chromatin boundary appears to be separable from the CTCF binding site [55] . Another possibility is suggested by that fact that CTCF has been demonstrated to block the progression of RNA polymerase [56] . This could potentially play an important role at boundaries in the BX-C to enable the independent function of PREs in neighbouring domains . There is considerable evidence that transcription through PREs may control their state , and many noncoding RNAs have been detected in the regulatory regions of the BX-C [56\\u201362] . One role for CTCF could be to act as a barrier to such noncoding transcription , preventing transcripts arising in one regulatory domain from crossing into the neighbouring domain and affecting the PRE state . Such a role would be consistent with the observed location of CTCF sites in this region , as a CTCF site closely abuts one side of each PRE . The individual regulatory domains must not only be able to act autonomously to set and maintain their activity state , but they must also be able to interact appropriately with the relevant gene promoters . Boundaries may play a role in this , and recently Cleard et al . [63] have demonstrated a long-range interaction between Fab-7 and the Abd-B-RB promoter . This interaction was associated with lack of Abd-B expression , but similar interactions , bringing in appropriate enhancers , may also activate expression . The ability of CTCF to form clusters may facilitate such interactions , and it is intriguing that there are CTCF sites not only at the boundaries but also close to Abd-B promoters; the CTCF site \\u201cB\\u201d is 300 bp upstream of the Adb-B-RB promoter ( Figure 4 ) . Clustering of boundaries together with Abd-B promoter sequences may enable interaction between the promoter and enhancers in domains in the ON state . The clustering may also be more selective; in Figure 5 we see that in S2 cells , which specifically express Abd-B-RB , several boundaries are embedded in chromatin bearing the repressive H3K27me3 modification , whereas Fab-8 , CTCF site \\u201cB , \\u201d and the Abd-B-RB promoter are in the unmodified , presumably \\u201copen , \\u201d chromatin domain . We could speculate that the expression of Abd-B-RB in these cells might be facilitated by interaction of the CTCF sites in the \\u201copen\\u201d domain , Fab-8 and site \\u201cB , \\u201d enabling Fab-8 to bring appropriate enhancers to the Abd-B-RB promoter . We can compare this ChIP-array analysis of CTCF genomic sites with our ChIP-array analysis of binding sites for another Drosophila insulator-binding protein , Su ( Hw ) ( B . Adryan , G . Woerfel , I . Birch-Machin , S . Gao , M . Quick , L . Meadows , S . Russell , and R . White; unpublished data ) . CTCF and Su ( Hw ) are both multi-zinc- finger DNA-binding proteins , and in both cases we have identified relatively long ( ~20 bp ) consensus binding sites . In contrast to most DNA-binding proteins , we find that strength of match to the consensus binding sites is a good predictor of in vivo occupancy . We have also investigated whether our data indicate any collaboration between CTCF and Su ( Hw ) . This seemed an attractive possibility since removing Su ( Hw ) function in vivo has little effect; su ( Hw ) null mutant flies are female-sterile but viable . Also , the insulating activity of Fab-8 was significantly reduced when the CTCF sites were mutated but not completely abolished [13] . However we found no evidence for general colocalisation between CTCF and Su ( Hw ) . A total of 60 Su ( Hw ) sites were identified in the Adh region , and only one of the fragments covering this region contained both CTCF and Su ( Hw ) sites . The single CTCF site identified in the achaete-scute complex was also some distance from the two Su ( Hw ) sites we found . Subsequent ChIP-array analysis in the BX-C led to the identification of only one Su ( Hw ) site within the entire BX-C region , in a location devoid of CTCF binding sites ( B . Adryan , S . Russell , and R . White unpublished data ) . Indeed whilst the BX-C appears relatively enriched in CTCF sites compared to the Adh region , the converse is true for Su ( Hw ) . For CTCF there are 4 . 7 sites/100 kb in the BX-C and 1 . 7 sites/100 kb in the Adh region ( using Patser p < 10\\u221213 ) , whereas for Su ( Hw ) the BX-C is depleted in sites with only 0 . 29/100 kb in comparison to 2 . 7/100 kb in the Adh region ( using Patser p < 10\\u221215 ) . Clearly , although CTCF and Su ( Hw ) both possess insulating ability , their sites of action do not correlate and there is no evidence from our analysis , covering approximately 3% of the Drosophila genome , for cooperative activity . By comparing the sequences of ChIP-enriched fragments we identified a strong Drosophila consensus CTCF binding site . Analysis of vertebrate CTCF target sequences leads us to propose that vertebrate CTCF also binds to a similar consensus sequence . Our findings do not support the current view that CTCF binds to divergent DNA sequences by engaging different subsets of the zinc fingers [38 , 49 , 64] . Indeed , the binding site revealed here has been previously noted . Bell et al . [9] identified a CTCF binding site in the chicken \\u03b2-globin insulator , and sequence comparisons between this site and other known CTCF sites [6\\u20138] identified a conserved 3\\u2032 region , the mutation of which completely abolished CTCF binding and enhancer blocking . Filippova et al . [49] extended this comparison to include the Dm1 sites , mouse H19 DMD4 and DMD7 and human MYC A , and again identified a conserved region within the larger approximately 50-bp DNase footprint for each site . It is this conserved region that corresponds to the vertebrate CTCF site found here . Very recently , an analysis of CTCF binding in the human genome has generated a vertebrate CTCF consensus site [65] , and a CTCF consensus has also been derived from analysis of conserved regions in the human genome [66] . Both these sites are very similar to the consensus we identify here; in particular they share the strong features of the CC at positions 1 and 2 , the AG at positions 6 and 7 , and the GGC at positions 10 , 11 , and 12 . Overall , these findings indicate that CTCF in both Drosophila and vertebrates binds to a single core consensus sequence . In summary , ChIP-array analysis has enabled us to construct a CTCF binding site consensus . Mapping of genomic binding sites leads us to propose that all known or predicted insulators in the BX-C ( with the possible exception of Fab-7 ) function in a CTCF dependent manner . \\n The wild-type strain used was OregonR . The primary antibody used was rabbit anti-CTCF-C [13] . Chromatin from embryos aged between 0 to 20 h after egg laying was purified as described previously [39] . The 300-\\u03bcl immunopurification reaction contained 1 . 0 \\u03bcl of rabbit anti-CTCF antibody for the specific IP or 1 \\u03bcl of normal rabbit antiserum for the control IP . ChIP enrichment was assayed using PCR with specific primers as described previously [39] . The primers used were to Fab-8 ( UBX65 ) , catcttccgttcatccgtttc and tgttggtgagcaagcgaaga , and Clone 10 , attgggattctgcgattctg and tactgttcctggtgctggtg [13] . Validation ChIP assays for the CTCF sites in the BX-C were performed according to Moon et al . [13] . The validation ChIP primers are listed in Table S1 . The arrays used consist of 4 , 213 PCR products most of which are approximately 1 kb in length . The regions covered by the PCR products include the 3-Mb Adh region from kuzbanian to cactus , the BX-C and ANT-C regions , and 130 kb of the achaete-scute complex . Amplification and labelling of DNA from enriched chromatin and hybridisations to genomic DNA tiling arrays were carried out as described previously [39] . We used four biological replicates ( i . e . , independent chromatin preparations ) , and each of these was hybridised as dye-swap technical replicates giving 16 array hybridisations in total . Microarray scanning , spot-finding , and normalisation were performed as described in Birch-Machin et al . [39] and on the FlyChip Web site ( http://www . flychip . org . uk ) . The normalisation used VSN [67] , which is based on an arsinh transformation and generates an enrichment measure that is generally equivalent to the log2 Cy3/Cy5 ratio . Statistical significance was assessed using the CyberT framework ( http://visitor . ics . uci . edu/genex/cybert ) [68] . The MEME version 3 . 0 Web site [40] was used to identify a consensus sequence . Parameters were set to discover up to six motifs between ten to 30 nucleotides in length . The consensus sequence for the CTCF binding motif was depicted using the MEME site stack in WebLogo ( http://weblogo . berkeley . edu ) . The site stack for the CTCF binding motif was used to create a position-specific weight matrix ( Table S2 ) for the Patser Web interface ( http://rsat . ulb . ac . be/rsat/patser_form . cgi ) [69] . This position-specific weight matrix was used to search DNA sequences present on the array and the Drosophila genome for matches to the consensus sequence using Release 4 . 0 coordinates . Patser generates a score for each position and provides a p-value; this is the probability of observing a particular score or higher at a particular sequence position . The Affymetrix Integrated Genome Browser ( http://www . affymetrix . com/support/developer/tools/affytools . affx ) was used to visualise the in vivo CTCF binding profile across the genome . Analysis of the evolutionary conservation of CTCF motifs used the PhastCons multiple alignment data available from the University of California Santa Cruz ( Santa Cruz , California , United States ) Genome Browser Web site using phastCons15way on D . melanogaster genome Release 4 ( http://genome . ucsc . edu ) . Radiolabelled DNA probes ( 150\\u2013250 bp ) were generated by PCR with 32P-labelled oligonucleotide primers and prepared by subsequent gel purification . The probes were incubated with 0 . 2 \\u03bcg of purified GST , GST-CTCF , or GST-CTCF ZF . Recombinant proteins were prepared as described previously [70] . The binding reaction was performed in PBS ( [pH 7 . 4] , supplemented with 5 mM MgCl2 , 1 mM ZnCl2 , 1 mM DTT , 0 . 1% NP-40 , and 10% Glycerol ) for 15 min at room temperature in the presence of 200 ng/\\u03bcl pdIdC . Protein-DNA complexes were analysed on nondenaturing poylacrylamide gels ( 3 . 5% acrylamide [w/v] ) in TAE-buffer . Electrophoresis was performed at 4 \\u00b0C with a field strength of 12 V/cm for 3 h . \\n The Gene Expression Omnibus ( GEO ) ( http://www . ncbi . nlm . nih . gov/geo ) accession number for the genomic tiling array is GEO Platform GPL5028 XC003 and for the ChIP data is series GSE7351 . The Entrez Gene ( http://www . ncbi . nlm . nih . gov ) accession numbers of the genes discussed in this paper are: CTCF human , 10664 and Ctcf mouse , 13018 . The Flybase ( http://flybase . bio . indiana . edu ) accession numbers of the genes and gene products discussed in this paper are: abdominal-A ( abd-A ) , FBgn0000014; Abdominal-B ( Abd-B ) , FBgn0000015; achaete ( ac ) , FBgn0000022; Alcohol dehydrogenase ( Adh ) , FBgn0000055; Antennapedia ( Antp ) , FBgn0000095; BEAF32 , FBgn0015602; cactus ( cact ) , FBgn0000250; CTCF , FBgn0035769; Cyclin E ( CycE ) , FBgn0010382; Enhancer of zeste ( E ( z ) ) , FBgn0000629; kuzbanian ( kuz ) , FBgn0015954; lethal of scute ( l ( 1 ) sc ) , FBgn0002561; outspread ( osp ) , FBgn0003016; Polycomb ( Pc ) , FBgn0003042; Posterior sex combs ( Psc ) , FBgn0005624; scute ( sc ) , FBgn0004170; smell-impaired 35A ( smi35A ) , FBgn0016930; suppressor of Hairy wing ( su ( Hw ) ) , FBgn0003567; Su ( var ) 3\\u20139 , FBgn0003600; Ultrabithorax ( Ubx ) , FBgn0003944; and Zw5 , FBgn0000520 .\"\n        ],\n        \"semantic_type\": \"\",\n        \"description\": \"\"\n      }\n    },\n    {\n      \"column\": \"headings\",\n      \"properties\": {\n        \"dtype\": \"object\",\n        \"semantic_type\": \"\",\n        \"description\": \"\"\n      }\n    },\n    {\n      \"column\": \"keywords\",\n      \"properties\": {\n        \"dtype\": \"object\",\n        \"semantic_type\": \"\",\n        \"description\": \"\"\n      }\n    },\n    {\n      \"column\": \"id\",\n      \"properties\": {\n        \"dtype\": \"string\",\n        \"num_unique_values\": 138,\n        \"samples\": [\n          \"journal.pntd.0003195\",\n          \"journal.ppat.1007417\",\n          \"journal.pgen.0030112\"\n        ],\n        \"semantic_type\": \"\",\n        \"description\": \"\"\n      }\n    }\n  ]\n}"
            }
          },
          "metadata": {},
          "execution_count": 17
        }
      ]
    },
    {
      "cell_type": "code",
      "source": [
        "# take some item to inspect\n",
        "k = 5\n",
        "item = df.iloc[k]\n",
        "print(\"Lay summary = \", item[\"lay_summary\"])\n",
        "print(\"Full text article =\", item[\"article\"])"
      ],
      "metadata": {
        "colab": {
          "base_uri": "https://localhost:8080/"
        },
        "id": "JfULxHm0oZVh",
        "outputId": "9a6c658d-addb-4b6c-c81d-60bfe8b2f8c7"
      },
      "execution_count": 18,
      "outputs": [
        {
          "output_type": "stream",
          "name": "stdout",
          "text": [
            "Lay summary =  The current model of HCV egress is that virions assemble at lipid droplets , envelope at the ER and then likely exit the hepatocyte via the secretory pathway in association with apolipoproteins . To gain a more detailed insight into infectious HCV release , we combined an RNAi analysis of host factors that are required for infectious HCV secretion with live cell imaging of HCV core trafficking . Using this approach , we identified numerous components of the secretory pathway that are both required for infectious HCV release and co-traffic with HCV core . The dynamics of HCV core trafficking , both in terms of frequency of transport , particle velocity , and the corresponding run lengths were quantified . We observe that dynamic core movements in the periphery require NS2 , a viral protein required for virion assembly . Core co-traffics with multiple components of the secretory pathway , including the Golgi , recycling endosome , microtubules , VAMP1 secretory vesicles , and ApoE . This study identifies new molecular determinants of HCV secretion and describes the dynamics of their movements with HCV core in real time .\n",
            "Full text article = The current model of hepatitis C virus ( HCV ) production involves the assembly of virions on or near the surface of lipid droplets , envelopment at the ER in association with components of VLDL synthesis , and egress via the secretory pathway . However , the cellular requirements for and a mechanistic understanding of HCV secretion are incomplete at best . We combined an RNA interference ( RNAi ) analysis of host factors for infectious HCV secretion with the development of live cell imaging of HCV core trafficking to gain a detailed understanding of HCV egress . RNAi studies identified multiple components of the secretory pathway , including ER to Golgi trafficking , lipid and protein kinases that regulate budding from the trans-Golgi network ( TGN ) , VAMP1 vesicles and adaptor proteins , and the recycling endosome . Our results support a model wherein HCV is infectious upon envelopment at the ER and exits the cell via the secretory pathway . We next constructed infectious HCV with a tetracysteine ( TC ) tag insertion in core ( TC-core ) to monitor the dynamics of HCV core trafficking in association with its cellular cofactors . In order to isolate core protein movements associated with infectious HCV secretion , only trafficking events that required the essential HCV assembly factor NS2 were quantified . TC-core traffics to the cell periphery along microtubules and this movement can be inhibited by nocodazole . Sub-populations of TC-core localize to the Golgi and co-traffic with components of the recycling endosome . Silencing of the recycling endosome component Rab11a results in the accumulation of HCV core at the Golgi . The majority of dynamic core traffics in association with apolipoprotein E ( ApoE ) and VAMP1 vesicles . This study identifies many new host cofactors of HCV egress , while presenting dynamic studies of HCV core trafficking in infected cells . \n",
            " Hepatitis C virus ( HCV ) is a member of the Flaviviridae family that contains a single-stranded positive RNA genome ( ∼9600bp ) . This is translated into a polyprotein , which is processed by viral and host proteases into 3 structural proteins ( core and the glycoproteins , E1 and E2 ) and 7 non-structural ( NS ) proteins ( p7 , NS2 , NS3 , NS4A , NS4B , NS5A , NS5B ) . The discovery of HCV strains that are infectious in cell culture has enhanced the appreciation of the functions of these proteins in all stages of the viral life cycle [1]–[4] . Infection of hepatocytes in cell culture requires at least four potential receptor molecules , CD81 , SR-B1 , claudins , and occludin [5]–[8] . Additionally , numerous entry cofactors involved in receptor-mediated clathrin endocytosis are required [9]–[11] . Following endosomal acidification , genomic RNA is released into the cytoplasm where initial translation and replication occur . Replication is associated membranous structures derived from the endoplasmic reticulum ( ER ) called the membranous web [12] , [13] . Following replication , genomic RNAs in complex with viral and possibly cellular proteins are thought to transit to lipid droplets ( LD ) , where core protein localizes and virion assembly occurs [14]–[18] . Although primary functions of the NS proteins include viral RNA replication and host cell interactions , several NS proteins , including p7 , NS2 , NS3 , and NS5A are also implicated in HCV assembly [19]–[27] . NS2 is a central regulator in capsid assembly that appears to act as a scaffold to coordinate interactions between the structural and non-structural proteins leading to viral RNA encapsidation [19] , [22] , [23] . Capsid envelopment is thought to occur at the ER , in close juxtaposition to LDs , based on the subcellular localization of the E1 and E2 glycoproteins [28] , [29] . The events following HCV assembly are less clear . The egress of flaviviruses through the secretory pathway is well documented and may be similar to the mechanism by which HCV is secreted [30] , [31] . However , HCV is distinct from the flaviviruses in that HCV particles are infectious upon envelopment and appear to be secreted from the cell in association with distinct lipid and apolipoprotein associations [32]–[34] . HCV particles circulating in the blood of infected patients are rich in triglycerides , apolipoprotein B ( ApoB ) , and apolipoprotein E ( ApoE ) [32] , [35]–[38] . The low-density lipoprotein ( LDL ) -virus complex [39] possesses a broad buoyant density , ranging between 1 . 03-1 . 25g/mL . Cell culture-derived virus also has a broad range of buoyant densities , with the lower density fractions containing virus highly infectious virus [34] , [35] , [40] . Purified HCV virions have diverse morphologies ranging from 30-125 nm and a lipid composition resembling very low-density lipoprotein ( VLDL ) [34] , [40] . The VLDL synthesis pathway has been implicated in infectious HCV secretion . Small interfering RNAs ( siRNAs ) or inhibitors that target components of VLDL synthesis , including microsomal triglyceride transfer protein , ApoB , and ApoE inhibit infectious HCV secretion [32] , [33] , [35] , [36] , [41] , [42] . This study is a continuation of two previous RNAi studies in which membrane trafficking pathways were interrogated for their roles in HCV entry and replication [43] , [44] . In this study , we identified numerous host cofactors that are required for infectious HCV secretion , but not HCV entry or replication . We next developed a live cell imaging approach to study HCV core trafficking using an infectious HCV that contains a tetracysteine ( TC ) tag insertion in the core protein ( TC-core ) . This approach has been successfully used before to visualize single virion HIV-1 budding [45]–[47] and vesicular stomatitis virus ( VSV ) endocytosis [48] , [49] without major defects in virus infectivity . TC-core movements that are dependent upon successful virion assembly were microtubule-dependent and associated with several components of the secretory pathway that were identified in the RNAi analysis . \n",
            " This study is a part of a larger analysis , which interrogated a previously described unique siRNA library that targeted known membrane trafficking pathways [43] , [44] . The library consisted of 122 siRNAs targeted to membrane trafficking genes from Dharmacon , Inc and was supplemented with 18 additional genes important for replication and membrane organization in other viral systems [44] . We first identified siRNAs that inhibited infectious extracellular HCV accumulation in a primary screen and then re-tested these siRNAs in secondary assays to identify the stage of the life cycle that they influenced . Genes involved in entry had a secondary phenotype in inhibiting HCV pseudoparticle ( HCVpp ) infection [43] and genes involved in HCV replication had a defect in subgenomic replicon replication [44] . The primary screen was performed by electroporating four individual siRNAs per gene into Huh-7 . 5 cells and then allowing silencing for 48 or 72 hours before infection with HCV . Viral supernatants were collected at two days post infection ( dpi ) and viral titers were quantified via limiting dilution in at least two independent experiments , measured in duplicate , and normalized to at least 4 replicates of cells silenced with an irrelevant siRNA ( siIRR ) ( Table 1 ) . The siRNAs that inhibited extracellular infectious HCV production by more than 1 standard deviation of siIRR treated cells ( >65% inhibition ) were classified as “hits” and were characterized in secondary assays . To limit the possibility of siRNA off-target effects , individual siRNAs then were tested . We quantified cell viability using a luminescence-based assay that measures cellular ATP levels , following 5 days of silencing to eliminate phenotypes resulting from significantly decreased viability ( p<0 . 001 ) ( Figure S1 ) . In this study , genes that were required for infectious HCV production , but not HCVpp entry or replicon replication , were further tested for a role in infectious HCV secretion . We repeated the RNAi analysis and quantified intra- and extra-cellular HCV infectivity following HCV infection of siRNA-treated cells . Table 1 shows the ratio of intra- to extra-cellular virus , with a value greater than 1 indicating a defect in extracellular infectious HCV release . The titer of intracellular virus did not decrease significantly in these siRNA treatments as compared to siIRR ( Figure S2 ) , indicating the genes ( Table 1 ) are not involved in HCV assembly , but rather the secretion of infectious particles . The siRNA screen identified multiple components of the secretory pathway , from ER to Golgi trafficking ( SAR1A ) , to Golgi structure and function ( CYTH3 ) , cargo sorting and vesicle budding from TGN ( PRKD1 , AP1M1 , PI4KB , CLINT1 ) , regulators of TGN to plasma membrane trafficking ( RAB11A , RAB3D , PACSIN3 ) , and the v-snare , VAMP1 . This suggests that HCV virions egress through the secretory pathway from the TGN to recycling endosomes to the plasma membrane . A role for ER to Golgi trafficking genes , such as SAR1A , ARF3 , and CYTH3 , in the egress of infectious HCV is supported by previous data showing that brefeldin A treatment of infected cells accumulates intracellular infectious HCV [35] . Additional genes cluster into actin and membrane remodeling pathways ( RHOA , GIT1 , WAS ) . To study the dynamics of HCV core trafficking in Huh-7 . 5 cells , a TC tag was fused in frame following amino acid three of the structural protein core in a derivative of J6/JFH-1 , a chimeric genotype 2a isolate . The TC sequence of CCPGCC can coordinate biarsenical dyes , FlAsH and ReAsH . The TC-core virus replicates comparably to wild type ( Figure 1A ) , with a mild impairment of infectious virus production ( Figure 1B ) . ReAsH treatment of TC-core infected cells does not impair infectious virus production ( Figure S3 ) . We first tested the specificity of labeling by examining whether FlAsH TC-core fluorescence overlapped with core detected by standard immunofluorescence . TC-core RNA was electroporated into Huh-7 . 5 cells and three days later the cells were treated with FlAsH biarsenical dye , then processed for immunofluorescence using a monoclonal antibody against HCV core ( Figure 2A ) . Both antibody and FlAsH dye detected the same punctate structures located in the cytoplasm of infected cells and were not present in uninfected cells . Quantitation of FlAsH and anti-core puncta determined that 86 . 5% of the TC-core FlAsH signal overlapped with the core antibody fluorescence ( Figure 2B ) , demonstrating specificity of the FlAsH staining . The localization of HCV E2 relative to TC-core was analyzed by probing for TC-core with FlAsH dye and processing for immunofluorescence with a monoclonal antibody against E2 ( Figure 2A ) . E2 expressed from the TC-core virus had the expected reticular pattern and was also found on a subset of cytoplasmic core puncta ( Figure 2A ) when we used an E2 antibody that detects E2 on assembled viral particles [3] , [50] , 21 . 8% of the TC-core signal overlapped with that of E2 fluorescence ( Figure 2B ) . Some TC-core structures that were positive for E2 were found in the cell periphery , suggesting they may represent intracellular assembled viral particles . We then investigated whether we can visualize core and RNA , as would be expected for bona fide HCV virions . RNA localization was examined in wild type infected cells using “Click-iT” technology ( Invitrogen ) and cells were stained using an anti-core antibody ( Figure 2B ) . We observe that 20 . 1% percent of anti-core colocalizes with RNA . Thus , sub-populations of core are associated with E2 and RNA , although we cannot conclude whether the observed RNA represents HCV genomes . Next , we imaged TC-core movement in living cells . Huh-7 . 5 cells were electroporated with TC-core RNA , maintained for 72 hours , and stained with ReAsH dye followed by imaging using confocal microscopy . We chose to image at 72 hours post electroporation because TC-core was highly expressed and detectable by biarsenical dye staining and antibody detection ( Figure 2A ) , maximal amount of virus was released as assessed by viral titer assay ( Figure 1B ) , and HCV induced lipid droplet relocalization to the microtubule organizing center should have occurred indicating assembly of particles was initiated [15] . Several TC-core particles are detectable in a whole cell image ( Figure 2C ) and a sub-population of particles displayed various movements at 72 hours post electroporation . The movements were either roughly static ( Figure 2C particle 1 ) , saltatory with many reversals in direction ( Figure 2C particles 2–4 ) , or directional movement ( Figure 2C particle 5 , Video S1 ) . We then stained TC-core expressing cells with a RNA selective dye , Ribogreen , processed for ReAsH visualization of TC-core and then imaged in live cells . We observe co-trafficking of TC-core with the RNA dye , indicating that dynamic TC-core puncta associate with RNA ( Figure 2D , Video S12 ) . We next tested whether the sub-population of dynamic TC-core movements require productive HCV virion assembly . As discussed earlier , multiple groups have published that HCV nonstructural ( NS ) protein 2 , NS2 , is required for HCV assembly by acting as a scaffold bridging structural and non-structural proteins [19] , [22] , [23] , [51] . The function of NS2 in assembly does not require its juxtaposition next to NS3 in the viral genome , such that HCV RNAs with an encephalomyocarditis virus ( EMCV ) internal ribosome entry site ( IRES ) inserted between NS2 and NS3 are infectious [52] . Therefore , we constructed two additional viruses , a bicistronic HCV with the TC-core tag and a bicistronic TC-core version with a deleted NS2 ( ΔNS2 ) ( Figure 3A ) . RNAs were transcribed in vitro and electroporated into Huh-7 . 5 cells , then RNA replication and intra- and extra-cellular infectious virus were quantified over a time course . As expected , both bicistronic constructs were replication competent , ( Figure 3B ) , while only the bicistronic virus containing NS2 was capable of producing infectious virus ( Figure 3C ) . HCV capsid assembly is dependent on the association of core with the lipid droplet [15] . To examine the association of TC-core with lipid droplets , the various TC-core RNAs were electroporated into Huh-7 . 5 cells followed by staining with ReAsH dye and the neutral lipid stain ( Bodipy 493/503 ) to detect lipid droplets prior to imaging . All constructs displayed core accumulation in large concentric rings or crescents around larger lipid droplets ( Figure 4 ) , indicating that TC-core had appropriate lipid droplet association . We next examined whether the dynamic TC-core movements observed previously ( Figure 2C ) required HCV virion assembly . Timelapse fluorescence microscopy of individual TC-core puncta was performed 72 hours post electroporation with TC-core , bicistronic or ΔNS2 RNAs . Individual TC-core puncta ( of which we can detect using an core antibody ) were visualized by live cell confocal microscopy by capturing DsRed exposures every 2 seconds for several minutes ( Videos S2–4 ) . Biarsenical dye signal photobleached quickly , therefore timelapse acquisition was limited to short exposures over several minutes ( usually up to 10 minutes ) . A sub-population of cytoplasmic TC-core puncta in cells electroporated with either TC-core or bicistronic RNAs displayed directional movements , whereas ΔNS2 TC-core puncta were static ( Figure 5A ) or displayed random movements . The TC-core puncta that displayed movements greater than 1 µm as a percentage of total core puncta in a cell was similar between the TC-core and bicistronic populations; 18 . 2%±1 . 22 , n = 1010 at 72 hours post electroporation ( hpe ) for TC-core RNAs and 17 . 2%±1 . 6 , n = 558 , for bicistronic RNAs ( Figure 5B ) . In contrast , the frequency of TC-core puncta expressed from the ΔNS2 virus that exhibit directed movement ( greater than 1 µm ) was virtually nonexistent , 0 . 65%±1 . 9 , n = 617 ( Figure 5B ) . Extended imaging of the ΔNS2 TC-core virus at 96 and 120 hours post electroporation did not show an increase in TC-core puncta movement ( data not shown ) indicating cytoplasmic movements of TC-core were dependent on NS2 function independent of viral kinetics . The dynamics of TC-core trafficking were examined by distance from origin analysis . The cumulative distance traveled ( in any direction ) by a TC-core puncta during an imaging session was measured and plotted for each virus from a single particle . The distance from origin plots show core puncta in TC-core and bicistronic expressing cells had extensive total movements ranging from 3-17 microns per minute from the point of origin during an imaging session ( Figure 5C ) . Core puncta expressed from the ΔNS2 virus displayed restricted movements ranging from 0-5 microns from the point of origin during imaging ( Figure 5A , C ) , suggesting long range movements occur post assembly . The individual run lengths and corresponding velocities of single particles were quantified by manual tracking . A run was defined as a period of uninterrupted transport lacking a pause . A pause was defined as a stop in motion greater than one frame , in this case 2 seconds between image acquisitions . TC-core puncta displayed saltatory ( stop and start ) movements with few processive runs and reversals where particles switched direction . The average run length displacement of wild type TC-core moving puncta was 2 . 457 µm ± . 1215 ( mean ± SEM , n = 154 , Figure 6B ) and fit a decaying exponential , R2 = . 9924 , which is consistent with microtubule associated transport . The average velocity of moving TC-core puncta was . 1336 µm/second ± . 010139 ( mean ± SEM , n = 154 , Figure 6A ) and could be modeled by a Gaussian distribution , R2 = . 9983 . The TC-core dynamics of run length and the velocity are consistent with secretory vesicle trafficking ( Figure S13 ) [53] , [54] . HCV core mediates redistribution of lipid droplets to the microtubule-organizing center ( MTOC ) by microtubule directed transport [55] . The dynamics of peripheral TC-core movements are also suggestive of microtubule-dependent transport . To determine if TC-core puncta were associated with microtubules during transport , TC-core electroporated cells were stained with ReAsH at 72hpe and microtubules were visualized with TubulinTracker Green ( Invitrogen ) . Figure 7A ( Video S5 ) shows TC-core puncta movement associated with a microtubule ( top ) . We next tested whether microtubule disruption with nocodazole treatment perturbs TC-core trafficking ( Figure 7A-C , Videos S5 and S6 ) . TC-core expressing cells were incubated with nocodazole , DMSO , or left untreated then TC-core puncta dynamics were recorded by timelapse imaging . The run lengths displayed by single particles were determined by manual tracking and the displacement between frames ( distance ) was plotted against time ( Figure 7B ) . Both the untreated and DMSO treated cells showed similar core dynamics , in which core particles were static , randomly moving , or processively moving . Alternatively , nocodazole treatment dramatically decreased TC-core puncta dynamics ( Figure 7A-C ) , where the majority of particles displayed static or random movements that did not result in long distance displacements . We next validated the results of our RNAi analysis by examining the localization and trafficking of TC-core with cellular cofactors that were identified in the screen . A number of the cellular cofactors are involved in Golgi function and sorting at the TGN , including , CYTH3 , PI4KB , PRKD1 , and AP1M1 . We first examined whether TC-core colocalizes with Golgi markers . Huh-7 . 5 cells that were electroporated with TC-core RNAs were examined for localization with the Golgi markers Golgi-GFP ( Invitrogen , Golgi and Golgi stacks ) or GM130 ( cis- face of the Golgi ) ( Figure 8 ) . We observe that a sub-population of TC-core colocalizes with the Golgi . The overall frequency of colocalization is relatively low , as would be expected for a transient association of core with the Golgi . The role of exit from the Golgi in TC-core trafficking was assessed by quantifying the effects on TC-core movements in the presence of inhibitors of two genes identified in the RNAi screen: brefeldin A ( BFA ) , which inhibits ARF3 , and PIK93 , which inhibits PI4KB . BFA treatment inhibits secretion of viral particles [35] . PI4KB is a resident Golgi lipid kinase that is important in trafficking from the Golgi to the plasma membrane . PIK93 is a selective inhibitor of the type III PI4 kinase , PIK4B , at the concentration used in this experiment ( . 5 µM ) [56] , [57] . Treatment with BFA or PIK93 significantly reduced the average velocity of motile TC-core puncta ( Figure 8B ) , further supporting a role of the secretory pathway in HCV secretion . We next examined the trafficking of TC-core with ApoE , a component of VLDL secretion [58] . ApoE is required for HCV infection and is associated with extracellular infectious HCV virions [32]–[34] , [59] , [60] . The association of HCV and lipoproteins is thought to occur early during assembly , then HCV is secreted as a lipo-viroparticle [28] , [33] , [34] , [36] , [59] , [61]–[63] . In normal hepatocytes , ApoE exits the cell by using the secretory pathway and can also transit through the recycling endosomal pathway [58] , [64]–[66] . ApoE is also associated with VLDL particles during secretion [58] and with secretory vesicles leaving the Golgi [66] where VLDL particles mature [67] . We constructed a C-terminal GFP fusion to ApoE , ApoE-GFP , to determine if TC-core puncta traffic with ApoE in live cells . ApoE-GFP had a cytoplasmic localization that could be detected with an ApoE antibody ( Figure S4 ) . TC-core expressing cells were transfected with ApoE-GFP at 48hpi followed by live cell imaging at 72hpi . Dynamic TC-core puncta ( from transfected and infected cells ) were found to colocalize with ApoE-GFP ( Figure 9a , Figures S5 & S11 , Videos S7 & S13 ) in the cell periphery . This observation suggests that ApoE is associated with de novo forming HCV particles during secretion instead of being acquired extracellularly . We determined the percentage of TC-core puncta moving with ApoE-GFP to be 81 . 25%±8 . 98 , n = 26/32 of moving TC-core puncta . We also investigated colocalization of core with ApoB . Although some colocalization of core and ApoB was observed in the proximity of lipid droplets , little colocalization between core and ApoB occurred in the periphery ( Figure S6 ) . A gene identified in the RNAi screen to be required for extracellular release of infectious HCV was Rab11A , a small GTP binding protein . Rab11A modulates transport through the recycling endosome [68] , associates with apical targeting in polarized cells [69] , and is involved in transporting cargoes from the Golgi to the plasma membrane [70] . Rab11 is required for budding of influenza virus [71] , hantavirus release [72] , and involved in the vesicular trafficking of Sendai virus ribonucleocapsids [73] . We constructed a N-terminal GFP fusion to Rab11A , and imaged TC-core and Rab11A cotrafficking by timelapse fluorescence microscopy ( Figure 9B , Figures S4 & S7 , Videos S8 and S14 ) . GFP-Rab11a had a cytoplasmic localization that was either associated with the Golgi network or alone in puncta ( Figure S4 ) . We also visualized TC-core with a second marker of the recycling endosome , transferrin . TC-core electroporated Huh-7 . 5 cells were incubated with Alexa Fluor 488 conjugated transferrin , and cotrafficking of TC-core and transferrin was imaged using live cell microscopy ( Figure 9C , Figure S8 , Video S9 ) . We determined the percentage of moving TC-core puncta associated with Rab11a and transferrin 488 markers to be 61 . 2%±8 . 7% ( n = 19/31 of moving TC-core puncta ) and 50 . 0%±5 . 3% ( n = 44/88 of moving TC-core puncta ) , respectively . The cotrafficking of TC-core with markers of the recycling endosome validates the RNAi data that implicates a role for the recycling endosome in infectious HCV secretion . Although the cotrafficking of TC-core with various cellular markers was initially done in cells electroporated with TC-core HCV RNAs , we subsequently confirmed co-trafficking the results following infection with TC-core virus ( Figure S11 ) . We next tested whether the defects in infectious HCV production following Rab11a silencing were associated with altered core trafficking . Huh-7 . 5 cells were electroporated with Rab11a siRNAs , maintained for two days , infected with HCV for two days , fixed and probed with antibodies to core and the Golgi marker GM130 . We observe an increase in core accumulation at the Golgi following Rab11a silencing ( Figure 10A , C , 30 . 2±5 . 5% ( n = 1350 ) ) of Golgi stacks are core positive in siIRR treated cells versus 55 . 7±7 . 4% ( n = 1517 ) in siRab11a treated cells . Thus , the defect in infectious HCV release in siRab11a treated cells correlates with an accumulation of core in the Golgi network . Vesicular associated membrane 1 ( VAMP1 ) was identified as a cofactor in the release of extracellular infectious HCV in our RNAi screen . VAMP1 can complex with syntaxins and SNAP25 to form a SNARE complex involved in docking and/or fusion of vesicles at the plasma membrane [74] . We constructed a N-terminal GFP fusion to VAMP1 and visualized cotransport of GFP-VAMP1 and TC-core ( Figure 9D , Figure S9 , Video S10 and S15 ) . GFP-VAMP1 localized to puncta in the cytoplasm and could be detected using an anti-VAMP1 antibody ( Figure S4 ) . We found a high percentage of TC-core puncta ( 79 . 4% ± 8 . 90 n = 135/170 of moving TC-core puncta ) co-trafficking with GFP-VAMP1 in the cell periphery suggesting that TC-core is transported in VAMP1 associated vesicles . It is well established that the secretory and endosomal pathways intersect to deliver vesicular cargoes to the plasma membrane . To determine if TC-core puncta transported in the lumen of a vesicle , we incubated TC-core electroporated cells with dextran and found that the dynamic TC-core trafficked with dextran ( Figure 9E , Figure S10 , Supplemental Video S11 ) with a frequency of 82 . 5%± 6 . 0% ( n = 33/40 moving TC-core puncta ) . This evidence further supports that core is vesicle-associated during secretion . Finally , we tested whether silencing the Golgi lipid kinase PI4KB would decrease the association of core with VAMP1 . siRNA treated cells were transfected with GFP-VAMP1 , infected with wild type HCV for two days and processed for core and GFP-VAMP1 imaging . We observed extensive colocalization of core and GFP-VAMP1 ( 65 . 1±2 . 5% ( n = 366 ) ) in siIRR treated cells ( Figure 10B and D ) . However in cells treated with siPIK4B , fewer core and GFP-VAMP1 colocalization ( 19 . 2±2 . 3% ( n = 286 ) ) was observed ( Figure 10B and D ) . Thus , PI4KB expression is required for core colocalization with VAMP1 . \n",
            " This study combined a RNAi analysis to identify host genes involved in the release of infectious HCV from cells with live cell imaging of HCV core trafficking in order to assess the dynamics and cellular pathways involved in HCV egress . The data from the RNAi screen delineates an egress pathway for HCV that heavily interplays with the constitutive secretory pathway , which is suggested for other viruses in the Flaviviridae ( reviewed in [75] ) . If we align the cellular cofactors of HCV egress along the constitutive secretory pathway and also supplement with data from the literature , the following molecular model of infectious HCV secretion in Huh-7 . 5 cells is attained . HCV is hypothesized to initiate assembly in close association with lipid droplets by coating lipid droplets with the core protein and bringing together nonstructural and structural proteins in a NS2-dependent manner [23] , [51] , [76] . Following capsid assembly , nascent virions bud into the lumen of the ER where the glycoproteins E1/E2 reside in addition to the VLDL secretion machinery . HCV is infectious upon envelopment at the ER , and it is thought that ApoE is acquired early during assembly because knockdown of ApoE reduces intracellular and extracellular virus [32]; also NS5A interacts with ApoE [59] , [63] . We found through live cell imaging TC-core cotransports extensively with ApoE-GFP ( Figure 9A ) . In addition , ApoE localizes to large , static , crescent shaped accumulations of core presumably associated with lipid droplets ( Figure S12 ) . Our data does not clearly distinguish whether HCV hijacks the intact VLDL secretion pathway or associates with ApoE through the NS5A interaction; however , the absence of ApoB colocalization with TC-core puncta is more supportive of the latter model ( Figure S6 ) . The maturation of HCV particles overlaps with other aspects of VLDL secretion . Nascent VLDL particles undergo further lipidation and maturation in the Golgi [77] , [78] followed by ER to Golgi trafficking dependent on SAR1A [67] . Our RNAi screen implicated SAR1A in the production of extracellular HCV suggesting HCV particles transport from the ER to the Golgi with COPII secretory vesicles . The Golgi is further associated with HCV secretion by the genes CYTH3 , ARF3 , AP1M1 , PI4KB , and PRKD1 . During secretion , ARF GTPases such as CYTH3 and ARF3 are activated then localize to the TGN where they can interact with coat proteins , such as AP1M1 to initiate vesicle budding and sorting ( reviewed in [79] ) . Treatment of HCV infected cells with brefeldin A , which can inhibit ARF3 , results in the inhibition of infectious extracellular virus release [35] . We visualized association of TC-core particles with TGN markers . In contrast to a recent study [80] , we did not find evidence of Golgi disruption in either wild type HCV or TC-core ( Figure 8 ) infected cells and we found PRKD1 to be required for HCV release . PI4KB ( phosphatidylinositol kinase IIIβ ) appears to influence the replication of some HCV genotype 1 isolates [81] , [82] . We observe that in the case of J6/JFH1 infection , it plays a role in egress , and not in entry or replication [44] . We cannot discount the possibility that some of the siRNA treatments may affect secondary functions , such as the post-translational modifications of viral proteins . Following maturation of particles in the TGN , cargoes are sorted into secretory vesicles en route to the plasma membrane . Rab GTPases are master regulators of intracellular vesicle trafficking , and we found that Rabs 11A and 3D were required for efficient secretion of HCV . Rab11A positive recycling endosomes sort some vesicles during exocytosis ( reviewed in [83] ) to apical and basolateral membranes . We found TC-core puncta colocalized with GFP-Rab11A and transferrin-488 , a marker for the recycling endosome , and some of these puncta displayed directional transport ( Figure 9B ) . The transient nature of the interaction may be attributed to the recycling endosome serving as a sorting station for membrane bound cargoes . Silencing Rab11a leads to the increased accumulation of core in the Golgi , further supporting a model wherein HCV virions bud from the TGN and are transported to the recycling endosome . VAMP1 and Rab11A were implicated in ours and other [84] RNAi screens for host factors involved in HCV propagation . VAMP1 is a v-snare that is loaded onto secretory vesicles at the TGN and mediates the fusion of the vesicle with the plasma membrane by interacting with SNAP-25 and syntaxins [74] . We found a dynamic sub-population of TC-core that transports long-range distances with GFP-VAMP1 . TC-core also cotransports with dextran , which also indicates vesicle association . Interestingly , HCV core has been shown to localize with early and late endosomal markers during egress time points and the release of extracellular virus depended on endosome motility [85] . We have confirmed that a smaller sub-population of TC-core cotraffics with Rab5a-GFP labeled early endosomes ( data not shown ) , however , the interpretation of this data is complicated by the core-rab5A interactions observed during endocytosis [43] . Due to the design of the screen ( excluding genes involved in HCVpp entry or replicon replication ) , it is possible that some genes with multiple roles in the viral life cycle were overlooked . Trafficking of secretory vesicles and TC-core both require intact microtubules ( Figure 7 ) . This is also supported by the observation that the release of infectious extracellular HCV is disrupted by depolymerization of microtubules [55] . We also found genes involved in actin dynamics ( RHOA , GIT1 , WAS ) to play a role in HCV secretion . It is not thought actin dynamics are responsible for the long-range transport we recorded for the TC-core virus , but actin may play a role in the biogenesis of transport vesicles ( reviewed in [86] ) and fusion of secretory vesicles at the plasma membrane . The dynamics of TC-core movements are consistent with vesicular trafficking in the Huh-7 . 5 cells ( Figure S13 ) . HCV particles , especially as lipo-viroparticles , are too large to freely diffuse through the cytoplasm; instead they likely rely on microtubules for long-range transport . Secreted HCV particles may have several associated microtubule motors because TC-core puncta display bidirectional transport . Because the majority of TC-core puncta moving towards the plasma membrane ( plus-end transport ) displayed a velocity curve that could be modeled by a Gaussian distribution , a single class of plus ended motors is most likely involved . Association of a minus-end motor is likely since particles displayed bidirectionality , but we cannot rule out mixed microtubule polarity in our Huh-7 . 5 cells . Transport rates for TC-core puncta are below what has been published for other viruses . Neurotropic herpesviruses display transport kinetics consistent with fast axonal transport ( 2 µm/sec ) , which does not occur in hepatocytes , and vaccinia virus displays slower saltatory movements ( 1-3 µm/sec ) ( reviewed in [87] ) . In our study , we found HCV core to move at rates similar to Vamp-1 and ApoE-associated vesicles in Huh-7 . 5 cells ( Figure S13 ) . Long-range transport to the plasma membrane represented a net plus-end movement that is comprised of small steps along the microtubule . The slow rates of TC-core movement that we recorded can be better resolved with higher spatial and temporal resolutions , as we were only imaging rates of 1 frame per 2 seconds . Previous characterization of HCV JC1 infection found less core localization at lipid droplets and more ER localization than is observed in HCV JFH1 infection [88] . This was interpreted as possibly reflecting differences in the sites of assembly for HCV JC1 and JFH1 . In our experiments , the TC-core from JC1 clearly localizes at lipid droplets , in addition to the ER , Golgi , and other secretory components . The predominant subcellular localization of core that is observed in fixed cell microscopy does not necessarily indicate a site of virion assembly , it simply reflects which stage in core trafficking is rate limiting . For instance , a slightly different interpretation is that JFH1 assembles virus at a lower efficiency than JC1 , therefore more core is at the lipid droplet awaiting completion of virion assembly . Since JC1 virion assembly is more efficient than JFH1 , more core is localized to other subcellular compartments involved in core trafficking , such as the ER . In support of this interpretation , our TC-core virus has a higher amount of lipid droplet localization than the parental JC1 due to slightly less efficient virion assembly . We plan to revisit the trafficking studies in a more relevant polarized hepatocyte cell culture system . Hepatocytes in vivo possess complex architecture that consists of distinct basolateral ( sinusoidal ) and apical ( canalicular ) plasma membrane domains , which are separated by tight junctions . The association of apical membranes from neighboring cells forms bile caniculi . With complex polarity , also comes complex trafficking of proteins to apical and basolateral membranes . Two pathways are used to direct proteins to the apical membrane in hepatocytes , a direct route or through transcytosis after reaching the basolateral membrane . HCV is known to spread via two distinct routes , extra-cellular release and cell-cell spread [89] , [90] . Future studies will characterize the cell-cell spread trafficking pathway and examine whether HCV undergoes selective polarized trafficking to ultimately spread through an extracellular ( basolateral ) or intracellular ( apical ) intermediate . \n",
            " Huh-7 . 5 cells were grown in Dulbecco's modified high glucose media ( DMEM; Invitrogen ) supplemented with 10% fetal bovine serum ( FBS; Invitrogen ) , nonessential amino acids ( NEAA , 0 . 1 mM; Gibco ) , and 1% penicillin-streptomycin ( Invitrogen ) . Viral RNA was electroporated into Huh-7 . 5 cells as described previously [43] , [44] . Viral supernatants were collected daily from up to 5 passages of electroporated cells , filtered through a . 22 µm nitrocellulose filter , and kept at 4°C protected from light . pJFHxJ6-CNS2C3 ( WT ) is a HCV genotype 2a infectious clone where core through the first transmembrane domain of NS2 of a JFH-1 backbone was replaced with J6 genotype sequence [91] . A full length ( FLNCCPGCCMEP ) tetracysteine ( TC ) tag [92] was inserted into the HCV core gene after amino acid 3 by amplifying two regions ( 5′ and 3′ of the tag ) and joining the two regions with an ApaLI restriction site proximal to the tag insertion site . The full length TC tag has been shown to enhance binding of biarsenical dyes [92] . The 5′ region was amplified using 5′ AACGAATTCTAATACGACTCACTATAGACC and 5′ AACGTGCACGGTCTACGAGACCTCCCGGGG ( EcoRI and ApaLI sites underlined ) . The 3′ region was amplified using 5′ AACGTGCACCATGAGCACATTTCTCAATTGTTGTCCTGGCTGTTGTATGGAACCTAATCCTAAACCTCAAAGAAAAACC and 5′ AACCGTACG CCAAGATCATGGTAGCCGTGG ( ApaLI and BsiWI sites underlined , TC tag bolded ) . The 5′ and 3′ regions were digested with ApaLI and ligated together to form the full-length core region with the tag inserted . The TC-core fragment was subsequently cloned into JFHxJ6NS23 using the EcoRI and BsiWI sites and the TC tag insertion was confirmed by sequencing . The bicistronic construct was constructed by insertion of a HCV genotype 2a IRES – NS2 fragment into a subgenomic replicon , pSGR-JFH1-neo , containing the encephalomyocarditis virus ( EMCV ) IRES through the HCV replicase genes NS3-NS5B [52] . The IRES-NS2 fragment was PCR amplified by using the primers 5′ACCGAATTCTAATACGACTCACTATAGACCTGCCCCTAATAG and 5′ ACCGTTTAAACTTAAAGGAGCTTCCACCCCTTGGAGGTGTAGCCATCAGCTGG ( EcoRI and PmeI sites are underlined ) . The subsequent fragment was subcloned in the replicon resulting in the bicistronic construct . The NS2 deletion construct was made by two-part subclone . NS2 was deleted by insertion of the HCV genotype 2a IRES-p7 genes into a subgenomic replicon as stated above . The IRES-p7 region was PCR amplified by using the same EcoRI primer as above and 5′ ACCGTTTAAACTTAAGCATAAGCCTGTTGGGGCAATGCTAGGAGCAGTAGGCTA ( PmeI site underlined ) which goes through p7 . The resulting PCR fragment was cloned in the subgenomic replicon stated above . This resulted in the NS2 deletion virus in a bicistronic backbone . The TC-tagged core was introduced by digestion of the TC-core virus with EcoRI and BsiWI to liberate a DNA fragment containing TC-core through part of glycoprotein E1 . Untagged core in the NS2 deletion backbone was replaced with the TC-core fragment using the corresponding EcoRI and BsiWI restriction sites . This resulted in a TC-core NS2 deletion ( ΔNS2 ) construct . The resulting clone was sequenced to verify in frame insertion of the tag and presence of the deletion . Apolipoprotein E was PCR amplified from a human ORF clone , accession number EL733202 ( Open Biosystems ) , using the primers 5′ ACGAATTCATGAAGGTTCTGTGGGCTGC ( EcoRI site is underlined ) and 5′ GTGGATCCCGTGATTGTCGCTGGGCAC ( BamHI site is underlined , bold indicates a 1nt insertion ) . The PCR product was cloned into pEGFP-N2 at the EcoRI and BamHI sites to create ApoE-GFP , and then confirmed by sequencing . Rab11A was PCR amplified from a human ORF clone , accession number CV027643 ( Open Biosystems ) , using the primers 5′ ACCAAGCTTCGATGGGCACCCGCGACGACGAGTACGAC ( HindIII site is underlined ) and 5′ ACCGGTACCTTAGATGTTCTGACAGCACTGCACCTT ( KpnI site is underlined ) . The PCR product was cloned into pmGFP-C1 , resulting in GFP-Rab11A and confirmed by sequencing . VAMP1 ORF was PCR amplified from a human ORF clone , accession number CV029376 ( Open Biosystems ) , using the primers 5′ GCAGATCT ATGTCTGCTCCAGCTCAGCCACC ( BglII site is underlined ) and 5′ GCAAGCTT TCAGCGATACTTACTTACAATAAC ( HindIII site is underlined ) . The resulting PCR product was cloned into pEGFP-C1 using the BglII and HindIII sites to result in GFP-VAMP1 and confirmed by sequencing . WT , TC-core , bicistronic , and ΔNS2 RNAs were transcribed in vitro as described [52] . Huh-7 . 5 cells were electroporated with 2 µg/µl of each viral RNA and plated into 96 well plates . Viral supernatants were collected at indicated times post electroporation and titered by limiting dilution and immunohistochemical staining using an antibody directed to NS5A ( 9E10 ) as described [1] , [93] . For intracellular infectious virus , the cells went through three freeze-thaw cycles prior to titering . For RNA quantitation , cells were washed twice with PBS and lysed in RLT lysis buffer ( Qiagen ) at indicated timepoints . RNA was isolated using the RNAeasy kit ( Qiagen ) . RNA copy number was determined by reverse transcriptase ( RT ) PCR analysis as described previously [43] , [44] using the Platinum qRT-PCR Thermoscript One-Step System ( Applied Biosystems ) . 2 µL of extracted RNA was detected using the following primers and probe: forward 5′ ACTTCATTAGCGGCATCCAATAC; reverse 5′-CGGCACTGAATGCCATCAT; probe 5′-6FAM-CAGGATTGTCAACACTGCCAGGGAACC - ( Iowa Black ) , amplifies from the NS4 gene . PCR conditions were 50°C for 30 minutes , 95°C for 6 minutes , and ( 95°C for 15 seconds followed by 60°C for 1 minute ) x 50 cycles . The siRNAs used are listed in Table S1 . The methods for the primary RNAi screen have been previously described [43] , [44] . Briefly , the primary screen included pools of four siRNAs that target 140 membrane trafficking genes ( Dharmacon , Inc . ) . Genes important for infectious HCV production were subsequently silenced with four individual siRNAs targeting the gene to validate the RNAi results . 1×106 Huh-7 . 5 cells in 0 . 05 ml of PBS pH 7 . 4 were electroporated with 125 picomoles of siRNA for 5 pulses of 770 volts for 99 microseconds with one- second intervals on a BTX 830 electroporator with 96-well attachment . Cells were infected 72 hours after electroporation with a multiplicity of 0 . 5 infectious HCV particles per cell for 6 hours , rinsed with media , then maintained for 2 days at 37°C . 48 hours after infection , the supernatants were collected and analyzed for infectious virus via limiting titer dilution as described previously [93] . Host gene expression knockdown was assessed using the primer – probe sets listed in Table S2 . For visualization of core localization during silencing , cells were silenced with siRNAs followed by infection and immunofluorescence . Briefly , Huh-7 . 5 cells were electroporated ( as above ) with 2 pre-validated RAB11a siRNAs ( Ambion , ID: s16073 and 14940 ) , 2 pre-validated PIK4B siRNAs ( Ambion , ID: 283 and s10543 ) , or irrelevant siRNA and silencing was established for 48 hours . Electroporated cells were infected with HCV then maintained for 2 days , followed by seeding onto coverslips , fixation , and immunofluorescence staining . HCV TC-core infected cells stained with biarsenical dye were fixed in 4% paraformaldehyde for 10 min , permeabilized in 0 . 2% Triton X-100 in PBS for 20 minutes , and blocked with 0 . 1% Tween-20 and 10% goat serum in PBS for 30 min . Cell were washed with PBS plus 0 . 1% Tween-20 ( PBST ) after blocking and between antibody incubations . Primary and secondary antibodies were diluted in PBST . For detection of core , a mouse monoclonal antibody ( #1851 Virostat , Portland , ME ) was used at a dilution of 1∶50 , mouse monoclonal antibody to NS5A ( 9E10 ) was used at a dilution of 1∶1000 , dsRNA antibody ( J2 , English and Scientific Consulting Bt ) was used at 1∶1000 , and a human monoclonal antibody to E2 ( Steve Foung ) was used at 1∶250 . GFP fusion proteins were assessed for correct localization by incubation with antibodies . Anti-Apolipoprotein E ( Abcam ) was used at a dilution of 1∶250 , anti-Vamp1 ( Abcam ) was used at a dilution of 1∶250 , anti-Rab11a ( Invitrogen ) was used at a dilution of 1∶250 , anti-GM130 ( Abcam ) was used at 1∶250 to label the Golgi network , and anti-ApoB was used at a dilution of 1∶250 . Alexa-488 or Alexa-594 conjugated IgG ( Molecular Probes , Eugene , OR ) secondary antibodies were diluted 1∶1000 . Golgi-GFP ( Invitrogen ) was used to label the TGN by the recommended directions . Bodipy 493/503 was used to label neutral lipids ( lipid droplets ) in both fixed and live cell images at a concentration of 20 µg/ml . FlAsH or ReAsH labeling was performed per the instructions provided in the TC-tag detection kit ( Invitrogen ) . At 72 hours post electroporation , cells were washed once with Opti-MEM ( Invitrogen ) and labeled with biarsenical dye ( 1 . 25 µM ) in Opti-MEM . Cells were incubated at 37°C for 30 minutes , then washed two times with 1X BAL ( 2 , 3-dimercapto-1-propanol ) wash buffer ( supplied in the kit , Invitrogen ) supplemented with 500 µM EDT in Opti-MEM for 5 minutes . The wash buffer was removed and the cells were washed one time using Opti-MEM followed by incubation with prewarmed media . Tracking of TC-core in the presence of drug inhibitors of the secretory pathway was performed as follows: TC-core electroporated cells were incubated with DMSO , GolgiPlug containing BFA ( 1 µg/mL , BD Biosciences ) , or PIK93 ( 0 . 5 µM , Tocris ) for 2 hours prior to staining with ReAsh . DMSO or drug was present during time of staining and in the imaging media . Infected cells were incubated with Click-iT RNA Alexa Fluor 488 Imaging Kit ( Invitrogen ) to visualize RNA . Briefly , infected cells were seeded on round coverslips and incubated with Click-iT kit as per manufacturer's instructions in the presence of actinomycin D ( 1 µg/ml ) . Cells were processed for immunofluoresence after Click-iT labeling . All images were acquired with an Olympus DSU spinning disk confocal microscope fitted with a 100×1 . 45 N . A oil-immersion objective . FlAsH labeled core was detected using the EGFP filter set ( ex: 480/25 and em: 525/40 ) , whereas ReAsH labeled core was visualized with the DsRed filter set ( ex: 565/25 and em: 620/60 ) coupled to a Hamamatsu back-thinned EM-CCD high speed/sensitivity camera . Slidebook software was used for image acquisition and processing ( Intelligent Imaging Innovations , Inc , Denver , CO ) . Immunofluorescence imaging of TC-core with viral or host markers was accomplished by acquiring sequential static images with DsRed , EGFP , and 350 filter set sequential exposures . Live cell imaging of TC tagged HCV was performed by growing infected cells on polylysine treated 35 mm glass bottom Fluorodishes ( World Precision Instruments ) . Cells were stained with biarsenical dye as above except imaging media ( DMEM-F12- Invitrogen ) supplemented with 10% fetal bovine serum , 0 . 1 mM nonessential amino acids , 1% penicillin-streptomycin , and 25 mM HEPES was added following the final wash . Imaging chambers were sealed with parafilm before imaging . Cells were maintained on a heated stage set at 37°C . Timelapse imaging of TC-core particles and GFP labeled host proteins was taken by sequential imaging every 2 seconds with 200 ms exposures for each channel , DsRed and GFP respectively . In some cases cells were incubated with transferrin-488 ( 5 µg/mL , Invitrogen ) or phrododextran ( 10 µg/mL , Invitrogen ) prior to imaging as per manufacturer's instructions . Individual core puncta transport velocities and run lengths were calculated by kymograph analysis . Briefly , the multiple kymograph plugin for ImageJ was used to generate kymographs . Runs were defined as uninterrupted diagonal lines and the distance traveled ( length ) and the average velocity ( slope ) were measured . The frequency of TC-core puncta movement was measured by quantifying the number of TC-core puncta displaying a run length greater than 1 µm as a percentage of total cellular TC-core puncta signal using the analyze particles tool in ImageJ per imaging session . Distance from origin plots were generated by using the Manual Tracking plugin for Image J , measuring the distance traveled ( in any direction ) between frames for a respective TC-core puncta . Values were added and plotted against time . Manual Tracking plugin was also used to generate the distance versus time plots . Distance between timepoints was plotted versus time . Prism software was used to plot and determine p-values for replication and TCID50/mL titer curves . The velocity and run length plots were also done using Prism software where the data was modeled to a Gaussian distribution or a decaying exponential .\n"
          ]
        }
      ]
    },
    {
      "cell_type": "code",
      "source": [
        "def build_text_with_headings(item):\n",
        "  \"\"\"\n",
        "    return the article text with heading embedded\n",
        "  \"\"\"\n",
        "  result = \"\"\n",
        "  paras = item[\"article\"].split(\"\\n\")\n",
        "  headings = item[\"headings\"]\n",
        "  if len(paras) != len(headings):\n",
        "    print(\"Error, not matching length\")\n",
        "    return item[\"article\"]\n",
        "  else:\n",
        "    for (heading, paragraph) in zip(headings, paras):\n",
        "      result += f\"## {heading}\\n{paragraph}\\n\\n\"\n",
        "\n",
        "  return result\n"
      ],
      "metadata": {
        "id": "eEP3e8i1pPfS"
      },
      "execution_count": 19,
      "outputs": []
    },
    {
      "cell_type": "code",
      "source": [
        "print(build_text_with_headings(item))"
      ],
      "metadata": {
        "colab": {
          "base_uri": "https://localhost:8080/"
        },
        "id": "CkwA1bugqL6l",
        "outputId": "a03b60b6-7f63-428c-e6fa-6f60f1ebf8be"
      },
      "execution_count": 20,
      "outputs": [
        {
          "output_type": "stream",
          "name": "stdout",
          "text": [
            "## Abstract\n",
            "The current model of hepatitis C virus ( HCV ) production involves the assembly of virions on or near the surface of lipid droplets , envelopment at the ER in association with components of VLDL synthesis , and egress via the secretory pathway . However , the cellular requirements for and a mechanistic understanding of HCV secretion are incomplete at best . We combined an RNA interference ( RNAi ) analysis of host factors for infectious HCV secretion with the development of live cell imaging of HCV core trafficking to gain a detailed understanding of HCV egress . RNAi studies identified multiple components of the secretory pathway , including ER to Golgi trafficking , lipid and protein kinases that regulate budding from the trans-Golgi network ( TGN ) , VAMP1 vesicles and adaptor proteins , and the recycling endosome . Our results support a model wherein HCV is infectious upon envelopment at the ER and exits the cell via the secretory pathway . We next constructed infectious HCV with a tetracysteine ( TC ) tag insertion in core ( TC-core ) to monitor the dynamics of HCV core trafficking in association with its cellular cofactors . In order to isolate core protein movements associated with infectious HCV secretion , only trafficking events that required the essential HCV assembly factor NS2 were quantified . TC-core traffics to the cell periphery along microtubules and this movement can be inhibited by nocodazole . Sub-populations of TC-core localize to the Golgi and co-traffic with components of the recycling endosome . Silencing of the recycling endosome component Rab11a results in the accumulation of HCV core at the Golgi . The majority of dynamic core traffics in association with apolipoprotein E ( ApoE ) and VAMP1 vesicles . This study identifies many new host cofactors of HCV egress , while presenting dynamic studies of HCV core trafficking in infected cells . \n",
            "\n",
            "## Introduction\n",
            " Hepatitis C virus ( HCV ) is a member of the Flaviviridae family that contains a single-stranded positive RNA genome ( ∼9600bp ) . This is translated into a polyprotein , which is processed by viral and host proteases into 3 structural proteins ( core and the glycoproteins , E1 and E2 ) and 7 non-structural ( NS ) proteins ( p7 , NS2 , NS3 , NS4A , NS4B , NS5A , NS5B ) . The discovery of HCV strains that are infectious in cell culture has enhanced the appreciation of the functions of these proteins in all stages of the viral life cycle [1]–[4] . Infection of hepatocytes in cell culture requires at least four potential receptor molecules , CD81 , SR-B1 , claudins , and occludin [5]–[8] . Additionally , numerous entry cofactors involved in receptor-mediated clathrin endocytosis are required [9]–[11] . Following endosomal acidification , genomic RNA is released into the cytoplasm where initial translation and replication occur . Replication is associated membranous structures derived from the endoplasmic reticulum ( ER ) called the membranous web [12] , [13] . Following replication , genomic RNAs in complex with viral and possibly cellular proteins are thought to transit to lipid droplets ( LD ) , where core protein localizes and virion assembly occurs [14]–[18] . Although primary functions of the NS proteins include viral RNA replication and host cell interactions , several NS proteins , including p7 , NS2 , NS3 , and NS5A are also implicated in HCV assembly [19]–[27] . NS2 is a central regulator in capsid assembly that appears to act as a scaffold to coordinate interactions between the structural and non-structural proteins leading to viral RNA encapsidation [19] , [22] , [23] . Capsid envelopment is thought to occur at the ER , in close juxtaposition to LDs , based on the subcellular localization of the E1 and E2 glycoproteins [28] , [29] . The events following HCV assembly are less clear . The egress of flaviviruses through the secretory pathway is well documented and may be similar to the mechanism by which HCV is secreted [30] , [31] . However , HCV is distinct from the flaviviruses in that HCV particles are infectious upon envelopment and appear to be secreted from the cell in association with distinct lipid and apolipoprotein associations [32]–[34] . HCV particles circulating in the blood of infected patients are rich in triglycerides , apolipoprotein B ( ApoB ) , and apolipoprotein E ( ApoE ) [32] , [35]–[38] . The low-density lipoprotein ( LDL ) -virus complex [39] possesses a broad buoyant density , ranging between 1 . 03-1 . 25g/mL . Cell culture-derived virus also has a broad range of buoyant densities , with the lower density fractions containing virus highly infectious virus [34] , [35] , [40] . Purified HCV virions have diverse morphologies ranging from 30-125 nm and a lipid composition resembling very low-density lipoprotein ( VLDL ) [34] , [40] . The VLDL synthesis pathway has been implicated in infectious HCV secretion . Small interfering RNAs ( siRNAs ) or inhibitors that target components of VLDL synthesis , including microsomal triglyceride transfer protein , ApoB , and ApoE inhibit infectious HCV secretion [32] , [33] , [35] , [36] , [41] , [42] . This study is a continuation of two previous RNAi studies in which membrane trafficking pathways were interrogated for their roles in HCV entry and replication [43] , [44] . In this study , we identified numerous host cofactors that are required for infectious HCV secretion , but not HCV entry or replication . We next developed a live cell imaging approach to study HCV core trafficking using an infectious HCV that contains a tetracysteine ( TC ) tag insertion in the core protein ( TC-core ) . This approach has been successfully used before to visualize single virion HIV-1 budding [45]–[47] and vesicular stomatitis virus ( VSV ) endocytosis [48] , [49] without major defects in virus infectivity . TC-core movements that are dependent upon successful virion assembly were microtubule-dependent and associated with several components of the secretory pathway that were identified in the RNAi analysis . \n",
            "\n",
            "## Results\n",
            " This study is a part of a larger analysis , which interrogated a previously described unique siRNA library that targeted known membrane trafficking pathways [43] , [44] . The library consisted of 122 siRNAs targeted to membrane trafficking genes from Dharmacon , Inc and was supplemented with 18 additional genes important for replication and membrane organization in other viral systems [44] . We first identified siRNAs that inhibited infectious extracellular HCV accumulation in a primary screen and then re-tested these siRNAs in secondary assays to identify the stage of the life cycle that they influenced . Genes involved in entry had a secondary phenotype in inhibiting HCV pseudoparticle ( HCVpp ) infection [43] and genes involved in HCV replication had a defect in subgenomic replicon replication [44] . The primary screen was performed by electroporating four individual siRNAs per gene into Huh-7 . 5 cells and then allowing silencing for 48 or 72 hours before infection with HCV . Viral supernatants were collected at two days post infection ( dpi ) and viral titers were quantified via limiting dilution in at least two independent experiments , measured in duplicate , and normalized to at least 4 replicates of cells silenced with an irrelevant siRNA ( siIRR ) ( Table 1 ) . The siRNAs that inhibited extracellular infectious HCV production by more than 1 standard deviation of siIRR treated cells ( >65% inhibition ) were classified as “hits” and were characterized in secondary assays . To limit the possibility of siRNA off-target effects , individual siRNAs then were tested . We quantified cell viability using a luminescence-based assay that measures cellular ATP levels , following 5 days of silencing to eliminate phenotypes resulting from significantly decreased viability ( p<0 . 001 ) ( Figure S1 ) . In this study , genes that were required for infectious HCV production , but not HCVpp entry or replicon replication , were further tested for a role in infectious HCV secretion . We repeated the RNAi analysis and quantified intra- and extra-cellular HCV infectivity following HCV infection of siRNA-treated cells . Table 1 shows the ratio of intra- to extra-cellular virus , with a value greater than 1 indicating a defect in extracellular infectious HCV release . The titer of intracellular virus did not decrease significantly in these siRNA treatments as compared to siIRR ( Figure S2 ) , indicating the genes ( Table 1 ) are not involved in HCV assembly , but rather the secretion of infectious particles . The siRNA screen identified multiple components of the secretory pathway , from ER to Golgi trafficking ( SAR1A ) , to Golgi structure and function ( CYTH3 ) , cargo sorting and vesicle budding from TGN ( PRKD1 , AP1M1 , PI4KB , CLINT1 ) , regulators of TGN to plasma membrane trafficking ( RAB11A , RAB3D , PACSIN3 ) , and the v-snare , VAMP1 . This suggests that HCV virions egress through the secretory pathway from the TGN to recycling endosomes to the plasma membrane . A role for ER to Golgi trafficking genes , such as SAR1A , ARF3 , and CYTH3 , in the egress of infectious HCV is supported by previous data showing that brefeldin A treatment of infected cells accumulates intracellular infectious HCV [35] . Additional genes cluster into actin and membrane remodeling pathways ( RHOA , GIT1 , WAS ) . To study the dynamics of HCV core trafficking in Huh-7 . 5 cells , a TC tag was fused in frame following amino acid three of the structural protein core in a derivative of J6/JFH-1 , a chimeric genotype 2a isolate . The TC sequence of CCPGCC can coordinate biarsenical dyes , FlAsH and ReAsH . The TC-core virus replicates comparably to wild type ( Figure 1A ) , with a mild impairment of infectious virus production ( Figure 1B ) . ReAsH treatment of TC-core infected cells does not impair infectious virus production ( Figure S3 ) . We first tested the specificity of labeling by examining whether FlAsH TC-core fluorescence overlapped with core detected by standard immunofluorescence . TC-core RNA was electroporated into Huh-7 . 5 cells and three days later the cells were treated with FlAsH biarsenical dye , then processed for immunofluorescence using a monoclonal antibody against HCV core ( Figure 2A ) . Both antibody and FlAsH dye detected the same punctate structures located in the cytoplasm of infected cells and were not present in uninfected cells . Quantitation of FlAsH and anti-core puncta determined that 86 . 5% of the TC-core FlAsH signal overlapped with the core antibody fluorescence ( Figure 2B ) , demonstrating specificity of the FlAsH staining . The localization of HCV E2 relative to TC-core was analyzed by probing for TC-core with FlAsH dye and processing for immunofluorescence with a monoclonal antibody against E2 ( Figure 2A ) . E2 expressed from the TC-core virus had the expected reticular pattern and was also found on a subset of cytoplasmic core puncta ( Figure 2A ) when we used an E2 antibody that detects E2 on assembled viral particles [3] , [50] , 21 . 8% of the TC-core signal overlapped with that of E2 fluorescence ( Figure 2B ) . Some TC-core structures that were positive for E2 were found in the cell periphery , suggesting they may represent intracellular assembled viral particles . We then investigated whether we can visualize core and RNA , as would be expected for bona fide HCV virions . RNA localization was examined in wild type infected cells using “Click-iT” technology ( Invitrogen ) and cells were stained using an anti-core antibody ( Figure 2B ) . We observe that 20 . 1% percent of anti-core colocalizes with RNA . Thus , sub-populations of core are associated with E2 and RNA , although we cannot conclude whether the observed RNA represents HCV genomes . Next , we imaged TC-core movement in living cells . Huh-7 . 5 cells were electroporated with TC-core RNA , maintained for 72 hours , and stained with ReAsH dye followed by imaging using confocal microscopy . We chose to image at 72 hours post electroporation because TC-core was highly expressed and detectable by biarsenical dye staining and antibody detection ( Figure 2A ) , maximal amount of virus was released as assessed by viral titer assay ( Figure 1B ) , and HCV induced lipid droplet relocalization to the microtubule organizing center should have occurred indicating assembly of particles was initiated [15] . Several TC-core particles are detectable in a whole cell image ( Figure 2C ) and a sub-population of particles displayed various movements at 72 hours post electroporation . The movements were either roughly static ( Figure 2C particle 1 ) , saltatory with many reversals in direction ( Figure 2C particles 2–4 ) , or directional movement ( Figure 2C particle 5 , Video S1 ) . We then stained TC-core expressing cells with a RNA selective dye , Ribogreen , processed for ReAsH visualization of TC-core and then imaged in live cells . We observe co-trafficking of TC-core with the RNA dye , indicating that dynamic TC-core puncta associate with RNA ( Figure 2D , Video S12 ) . We next tested whether the sub-population of dynamic TC-core movements require productive HCV virion assembly . As discussed earlier , multiple groups have published that HCV nonstructural ( NS ) protein 2 , NS2 , is required for HCV assembly by acting as a scaffold bridging structural and non-structural proteins [19] , [22] , [23] , [51] . The function of NS2 in assembly does not require its juxtaposition next to NS3 in the viral genome , such that HCV RNAs with an encephalomyocarditis virus ( EMCV ) internal ribosome entry site ( IRES ) inserted between NS2 and NS3 are infectious [52] . Therefore , we constructed two additional viruses , a bicistronic HCV with the TC-core tag and a bicistronic TC-core version with a deleted NS2 ( ΔNS2 ) ( Figure 3A ) . RNAs were transcribed in vitro and electroporated into Huh-7 . 5 cells , then RNA replication and intra- and extra-cellular infectious virus were quantified over a time course . As expected , both bicistronic constructs were replication competent , ( Figure 3B ) , while only the bicistronic virus containing NS2 was capable of producing infectious virus ( Figure 3C ) . HCV capsid assembly is dependent on the association of core with the lipid droplet [15] . To examine the association of TC-core with lipid droplets , the various TC-core RNAs were electroporated into Huh-7 . 5 cells followed by staining with ReAsH dye and the neutral lipid stain ( Bodipy 493/503 ) to detect lipid droplets prior to imaging . All constructs displayed core accumulation in large concentric rings or crescents around larger lipid droplets ( Figure 4 ) , indicating that TC-core had appropriate lipid droplet association . We next examined whether the dynamic TC-core movements observed previously ( Figure 2C ) required HCV virion assembly . Timelapse fluorescence microscopy of individual TC-core puncta was performed 72 hours post electroporation with TC-core , bicistronic or ΔNS2 RNAs . Individual TC-core puncta ( of which we can detect using an core antibody ) were visualized by live cell confocal microscopy by capturing DsRed exposures every 2 seconds for several minutes ( Videos S2–4 ) . Biarsenical dye signal photobleached quickly , therefore timelapse acquisition was limited to short exposures over several minutes ( usually up to 10 minutes ) . A sub-population of cytoplasmic TC-core puncta in cells electroporated with either TC-core or bicistronic RNAs displayed directional movements , whereas ΔNS2 TC-core puncta were static ( Figure 5A ) or displayed random movements . The TC-core puncta that displayed movements greater than 1 µm as a percentage of total core puncta in a cell was similar between the TC-core and bicistronic populations; 18 . 2%±1 . 22 , n = 1010 at 72 hours post electroporation ( hpe ) for TC-core RNAs and 17 . 2%±1 . 6 , n = 558 , for bicistronic RNAs ( Figure 5B ) . In contrast , the frequency of TC-core puncta expressed from the ΔNS2 virus that exhibit directed movement ( greater than 1 µm ) was virtually nonexistent , 0 . 65%±1 . 9 , n = 617 ( Figure 5B ) . Extended imaging of the ΔNS2 TC-core virus at 96 and 120 hours post electroporation did not show an increase in TC-core puncta movement ( data not shown ) indicating cytoplasmic movements of TC-core were dependent on NS2 function independent of viral kinetics . The dynamics of TC-core trafficking were examined by distance from origin analysis . The cumulative distance traveled ( in any direction ) by a TC-core puncta during an imaging session was measured and plotted for each virus from a single particle . The distance from origin plots show core puncta in TC-core and bicistronic expressing cells had extensive total movements ranging from 3-17 microns per minute from the point of origin during an imaging session ( Figure 5C ) . Core puncta expressed from the ΔNS2 virus displayed restricted movements ranging from 0-5 microns from the point of origin during imaging ( Figure 5A , C ) , suggesting long range movements occur post assembly . The individual run lengths and corresponding velocities of single particles were quantified by manual tracking . A run was defined as a period of uninterrupted transport lacking a pause . A pause was defined as a stop in motion greater than one frame , in this case 2 seconds between image acquisitions . TC-core puncta displayed saltatory ( stop and start ) movements with few processive runs and reversals where particles switched direction . The average run length displacement of wild type TC-core moving puncta was 2 . 457 µm ± . 1215 ( mean ± SEM , n = 154 , Figure 6B ) and fit a decaying exponential , R2 = . 9924 , which is consistent with microtubule associated transport . The average velocity of moving TC-core puncta was . 1336 µm/second ± . 010139 ( mean ± SEM , n = 154 , Figure 6A ) and could be modeled by a Gaussian distribution , R2 = . 9983 . The TC-core dynamics of run length and the velocity are consistent with secretory vesicle trafficking ( Figure S13 ) [53] , [54] . HCV core mediates redistribution of lipid droplets to the microtubule-organizing center ( MTOC ) by microtubule directed transport [55] . The dynamics of peripheral TC-core movements are also suggestive of microtubule-dependent transport . To determine if TC-core puncta were associated with microtubules during transport , TC-core electroporated cells were stained with ReAsH at 72hpe and microtubules were visualized with TubulinTracker Green ( Invitrogen ) . Figure 7A ( Video S5 ) shows TC-core puncta movement associated with a microtubule ( top ) . We next tested whether microtubule disruption with nocodazole treatment perturbs TC-core trafficking ( Figure 7A-C , Videos S5 and S6 ) . TC-core expressing cells were incubated with nocodazole , DMSO , or left untreated then TC-core puncta dynamics were recorded by timelapse imaging . The run lengths displayed by single particles were determined by manual tracking and the displacement between frames ( distance ) was plotted against time ( Figure 7B ) . Both the untreated and DMSO treated cells showed similar core dynamics , in which core particles were static , randomly moving , or processively moving . Alternatively , nocodazole treatment dramatically decreased TC-core puncta dynamics ( Figure 7A-C ) , where the majority of particles displayed static or random movements that did not result in long distance displacements . We next validated the results of our RNAi analysis by examining the localization and trafficking of TC-core with cellular cofactors that were identified in the screen . A number of the cellular cofactors are involved in Golgi function and sorting at the TGN , including , CYTH3 , PI4KB , PRKD1 , and AP1M1 . We first examined whether TC-core colocalizes with Golgi markers . Huh-7 . 5 cells that were electroporated with TC-core RNAs were examined for localization with the Golgi markers Golgi-GFP ( Invitrogen , Golgi and Golgi stacks ) or GM130 ( cis- face of the Golgi ) ( Figure 8 ) . We observe that a sub-population of TC-core colocalizes with the Golgi . The overall frequency of colocalization is relatively low , as would be expected for a transient association of core with the Golgi . The role of exit from the Golgi in TC-core trafficking was assessed by quantifying the effects on TC-core movements in the presence of inhibitors of two genes identified in the RNAi screen: brefeldin A ( BFA ) , which inhibits ARF3 , and PIK93 , which inhibits PI4KB . BFA treatment inhibits secretion of viral particles [35] . PI4KB is a resident Golgi lipid kinase that is important in trafficking from the Golgi to the plasma membrane . PIK93 is a selective inhibitor of the type III PI4 kinase , PIK4B , at the concentration used in this experiment ( . 5 µM ) [56] , [57] . Treatment with BFA or PIK93 significantly reduced the average velocity of motile TC-core puncta ( Figure 8B ) , further supporting a role of the secretory pathway in HCV secretion . We next examined the trafficking of TC-core with ApoE , a component of VLDL secretion [58] . ApoE is required for HCV infection and is associated with extracellular infectious HCV virions [32]–[34] , [59] , [60] . The association of HCV and lipoproteins is thought to occur early during assembly , then HCV is secreted as a lipo-viroparticle [28] , [33] , [34] , [36] , [59] , [61]–[63] . In normal hepatocytes , ApoE exits the cell by using the secretory pathway and can also transit through the recycling endosomal pathway [58] , [64]–[66] . ApoE is also associated with VLDL particles during secretion [58] and with secretory vesicles leaving the Golgi [66] where VLDL particles mature [67] . We constructed a C-terminal GFP fusion to ApoE , ApoE-GFP , to determine if TC-core puncta traffic with ApoE in live cells . ApoE-GFP had a cytoplasmic localization that could be detected with an ApoE antibody ( Figure S4 ) . TC-core expressing cells were transfected with ApoE-GFP at 48hpi followed by live cell imaging at 72hpi . Dynamic TC-core puncta ( from transfected and infected cells ) were found to colocalize with ApoE-GFP ( Figure 9a , Figures S5 & S11 , Videos S7 & S13 ) in the cell periphery . This observation suggests that ApoE is associated with de novo forming HCV particles during secretion instead of being acquired extracellularly . We determined the percentage of TC-core puncta moving with ApoE-GFP to be 81 . 25%±8 . 98 , n = 26/32 of moving TC-core puncta . We also investigated colocalization of core with ApoB . Although some colocalization of core and ApoB was observed in the proximity of lipid droplets , little colocalization between core and ApoB occurred in the periphery ( Figure S6 ) . A gene identified in the RNAi screen to be required for extracellular release of infectious HCV was Rab11A , a small GTP binding protein . Rab11A modulates transport through the recycling endosome [68] , associates with apical targeting in polarized cells [69] , and is involved in transporting cargoes from the Golgi to the plasma membrane [70] . Rab11 is required for budding of influenza virus [71] , hantavirus release [72] , and involved in the vesicular trafficking of Sendai virus ribonucleocapsids [73] . We constructed a N-terminal GFP fusion to Rab11A , and imaged TC-core and Rab11A cotrafficking by timelapse fluorescence microscopy ( Figure 9B , Figures S4 & S7 , Videos S8 and S14 ) . GFP-Rab11a had a cytoplasmic localization that was either associated with the Golgi network or alone in puncta ( Figure S4 ) . We also visualized TC-core with a second marker of the recycling endosome , transferrin . TC-core electroporated Huh-7 . 5 cells were incubated with Alexa Fluor 488 conjugated transferrin , and cotrafficking of TC-core and transferrin was imaged using live cell microscopy ( Figure 9C , Figure S8 , Video S9 ) . We determined the percentage of moving TC-core puncta associated with Rab11a and transferrin 488 markers to be 61 . 2%±8 . 7% ( n = 19/31 of moving TC-core puncta ) and 50 . 0%±5 . 3% ( n = 44/88 of moving TC-core puncta ) , respectively . The cotrafficking of TC-core with markers of the recycling endosome validates the RNAi data that implicates a role for the recycling endosome in infectious HCV secretion . Although the cotrafficking of TC-core with various cellular markers was initially done in cells electroporated with TC-core HCV RNAs , we subsequently confirmed co-trafficking the results following infection with TC-core virus ( Figure S11 ) . We next tested whether the defects in infectious HCV production following Rab11a silencing were associated with altered core trafficking . Huh-7 . 5 cells were electroporated with Rab11a siRNAs , maintained for two days , infected with HCV for two days , fixed and probed with antibodies to core and the Golgi marker GM130 . We observe an increase in core accumulation at the Golgi following Rab11a silencing ( Figure 10A , C , 30 . 2±5 . 5% ( n = 1350 ) ) of Golgi stacks are core positive in siIRR treated cells versus 55 . 7±7 . 4% ( n = 1517 ) in siRab11a treated cells . Thus , the defect in infectious HCV release in siRab11a treated cells correlates with an accumulation of core in the Golgi network . Vesicular associated membrane 1 ( VAMP1 ) was identified as a cofactor in the release of extracellular infectious HCV in our RNAi screen . VAMP1 can complex with syntaxins and SNAP25 to form a SNARE complex involved in docking and/or fusion of vesicles at the plasma membrane [74] . We constructed a N-terminal GFP fusion to VAMP1 and visualized cotransport of GFP-VAMP1 and TC-core ( Figure 9D , Figure S9 , Video S10 and S15 ) . GFP-VAMP1 localized to puncta in the cytoplasm and could be detected using an anti-VAMP1 antibody ( Figure S4 ) . We found a high percentage of TC-core puncta ( 79 . 4% ± 8 . 90 n = 135/170 of moving TC-core puncta ) co-trafficking with GFP-VAMP1 in the cell periphery suggesting that TC-core is transported in VAMP1 associated vesicles . It is well established that the secretory and endosomal pathways intersect to deliver vesicular cargoes to the plasma membrane . To determine if TC-core puncta transported in the lumen of a vesicle , we incubated TC-core electroporated cells with dextran and found that the dynamic TC-core trafficked with dextran ( Figure 9E , Figure S10 , Supplemental Video S11 ) with a frequency of 82 . 5%± 6 . 0% ( n = 33/40 moving TC-core puncta ) . This evidence further supports that core is vesicle-associated during secretion . Finally , we tested whether silencing the Golgi lipid kinase PI4KB would decrease the association of core with VAMP1 . siRNA treated cells were transfected with GFP-VAMP1 , infected with wild type HCV for two days and processed for core and GFP-VAMP1 imaging . We observed extensive colocalization of core and GFP-VAMP1 ( 65 . 1±2 . 5% ( n = 366 ) ) in siIRR treated cells ( Figure 10B and D ) . However in cells treated with siPIK4B , fewer core and GFP-VAMP1 colocalization ( 19 . 2±2 . 3% ( n = 286 ) ) was observed ( Figure 10B and D ) . Thus , PI4KB expression is required for core colocalization with VAMP1 . \n",
            "\n",
            "## Discussion\n",
            " This study combined a RNAi analysis to identify host genes involved in the release of infectious HCV from cells with live cell imaging of HCV core trafficking in order to assess the dynamics and cellular pathways involved in HCV egress . The data from the RNAi screen delineates an egress pathway for HCV that heavily interplays with the constitutive secretory pathway , which is suggested for other viruses in the Flaviviridae ( reviewed in [75] ) . If we align the cellular cofactors of HCV egress along the constitutive secretory pathway and also supplement with data from the literature , the following molecular model of infectious HCV secretion in Huh-7 . 5 cells is attained . HCV is hypothesized to initiate assembly in close association with lipid droplets by coating lipid droplets with the core protein and bringing together nonstructural and structural proteins in a NS2-dependent manner [23] , [51] , [76] . Following capsid assembly , nascent virions bud into the lumen of the ER where the glycoproteins E1/E2 reside in addition to the VLDL secretion machinery . HCV is infectious upon envelopment at the ER , and it is thought that ApoE is acquired early during assembly because knockdown of ApoE reduces intracellular and extracellular virus [32]; also NS5A interacts with ApoE [59] , [63] . We found through live cell imaging TC-core cotransports extensively with ApoE-GFP ( Figure 9A ) . In addition , ApoE localizes to large , static , crescent shaped accumulations of core presumably associated with lipid droplets ( Figure S12 ) . Our data does not clearly distinguish whether HCV hijacks the intact VLDL secretion pathway or associates with ApoE through the NS5A interaction; however , the absence of ApoB colocalization with TC-core puncta is more supportive of the latter model ( Figure S6 ) . The maturation of HCV particles overlaps with other aspects of VLDL secretion . Nascent VLDL particles undergo further lipidation and maturation in the Golgi [77] , [78] followed by ER to Golgi trafficking dependent on SAR1A [67] . Our RNAi screen implicated SAR1A in the production of extracellular HCV suggesting HCV particles transport from the ER to the Golgi with COPII secretory vesicles . The Golgi is further associated with HCV secretion by the genes CYTH3 , ARF3 , AP1M1 , PI4KB , and PRKD1 . During secretion , ARF GTPases such as CYTH3 and ARF3 are activated then localize to the TGN where they can interact with coat proteins , such as AP1M1 to initiate vesicle budding and sorting ( reviewed in [79] ) . Treatment of HCV infected cells with brefeldin A , which can inhibit ARF3 , results in the inhibition of infectious extracellular virus release [35] . We visualized association of TC-core particles with TGN markers . In contrast to a recent study [80] , we did not find evidence of Golgi disruption in either wild type HCV or TC-core ( Figure 8 ) infected cells and we found PRKD1 to be required for HCV release . PI4KB ( phosphatidylinositol kinase IIIβ ) appears to influence the replication of some HCV genotype 1 isolates [81] , [82] . We observe that in the case of J6/JFH1 infection , it plays a role in egress , and not in entry or replication [44] . We cannot discount the possibility that some of the siRNA treatments may affect secondary functions , such as the post-translational modifications of viral proteins . Following maturation of particles in the TGN , cargoes are sorted into secretory vesicles en route to the plasma membrane . Rab GTPases are master regulators of intracellular vesicle trafficking , and we found that Rabs 11A and 3D were required for efficient secretion of HCV . Rab11A positive recycling endosomes sort some vesicles during exocytosis ( reviewed in [83] ) to apical and basolateral membranes . We found TC-core puncta colocalized with GFP-Rab11A and transferrin-488 , a marker for the recycling endosome , and some of these puncta displayed directional transport ( Figure 9B ) . The transient nature of the interaction may be attributed to the recycling endosome serving as a sorting station for membrane bound cargoes . Silencing Rab11a leads to the increased accumulation of core in the Golgi , further supporting a model wherein HCV virions bud from the TGN and are transported to the recycling endosome . VAMP1 and Rab11A were implicated in ours and other [84] RNAi screens for host factors involved in HCV propagation . VAMP1 is a v-snare that is loaded onto secretory vesicles at the TGN and mediates the fusion of the vesicle with the plasma membrane by interacting with SNAP-25 and syntaxins [74] . We found a dynamic sub-population of TC-core that transports long-range distances with GFP-VAMP1 . TC-core also cotransports with dextran , which also indicates vesicle association . Interestingly , HCV core has been shown to localize with early and late endosomal markers during egress time points and the release of extracellular virus depended on endosome motility [85] . We have confirmed that a smaller sub-population of TC-core cotraffics with Rab5a-GFP labeled early endosomes ( data not shown ) , however , the interpretation of this data is complicated by the core-rab5A interactions observed during endocytosis [43] . Due to the design of the screen ( excluding genes involved in HCVpp entry or replicon replication ) , it is possible that some genes with multiple roles in the viral life cycle were overlooked . Trafficking of secretory vesicles and TC-core both require intact microtubules ( Figure 7 ) . This is also supported by the observation that the release of infectious extracellular HCV is disrupted by depolymerization of microtubules [55] . We also found genes involved in actin dynamics ( RHOA , GIT1 , WAS ) to play a role in HCV secretion . It is not thought actin dynamics are responsible for the long-range transport we recorded for the TC-core virus , but actin may play a role in the biogenesis of transport vesicles ( reviewed in [86] ) and fusion of secretory vesicles at the plasma membrane . The dynamics of TC-core movements are consistent with vesicular trafficking in the Huh-7 . 5 cells ( Figure S13 ) . HCV particles , especially as lipo-viroparticles , are too large to freely diffuse through the cytoplasm; instead they likely rely on microtubules for long-range transport . Secreted HCV particles may have several associated microtubule motors because TC-core puncta display bidirectional transport . Because the majority of TC-core puncta moving towards the plasma membrane ( plus-end transport ) displayed a velocity curve that could be modeled by a Gaussian distribution , a single class of plus ended motors is most likely involved . Association of a minus-end motor is likely since particles displayed bidirectionality , but we cannot rule out mixed microtubule polarity in our Huh-7 . 5 cells . Transport rates for TC-core puncta are below what has been published for other viruses . Neurotropic herpesviruses display transport kinetics consistent with fast axonal transport ( 2 µm/sec ) , which does not occur in hepatocytes , and vaccinia virus displays slower saltatory movements ( 1-3 µm/sec ) ( reviewed in [87] ) . In our study , we found HCV core to move at rates similar to Vamp-1 and ApoE-associated vesicles in Huh-7 . 5 cells ( Figure S13 ) . Long-range transport to the plasma membrane represented a net plus-end movement that is comprised of small steps along the microtubule . The slow rates of TC-core movement that we recorded can be better resolved with higher spatial and temporal resolutions , as we were only imaging rates of 1 frame per 2 seconds . Previous characterization of HCV JC1 infection found less core localization at lipid droplets and more ER localization than is observed in HCV JFH1 infection [88] . This was interpreted as possibly reflecting differences in the sites of assembly for HCV JC1 and JFH1 . In our experiments , the TC-core from JC1 clearly localizes at lipid droplets , in addition to the ER , Golgi , and other secretory components . The predominant subcellular localization of core that is observed in fixed cell microscopy does not necessarily indicate a site of virion assembly , it simply reflects which stage in core trafficking is rate limiting . For instance , a slightly different interpretation is that JFH1 assembles virus at a lower efficiency than JC1 , therefore more core is at the lipid droplet awaiting completion of virion assembly . Since JC1 virion assembly is more efficient than JFH1 , more core is localized to other subcellular compartments involved in core trafficking , such as the ER . In support of this interpretation , our TC-core virus has a higher amount of lipid droplet localization than the parental JC1 due to slightly less efficient virion assembly . We plan to revisit the trafficking studies in a more relevant polarized hepatocyte cell culture system . Hepatocytes in vivo possess complex architecture that consists of distinct basolateral ( sinusoidal ) and apical ( canalicular ) plasma membrane domains , which are separated by tight junctions . The association of apical membranes from neighboring cells forms bile caniculi . With complex polarity , also comes complex trafficking of proteins to apical and basolateral membranes . Two pathways are used to direct proteins to the apical membrane in hepatocytes , a direct route or through transcytosis after reaching the basolateral membrane . HCV is known to spread via two distinct routes , extra-cellular release and cell-cell spread [89] , [90] . Future studies will characterize the cell-cell spread trafficking pathway and examine whether HCV undergoes selective polarized trafficking to ultimately spread through an extracellular ( basolateral ) or intracellular ( apical ) intermediate . \n",
            "\n",
            "## Materials and Methods\n",
            " Huh-7 . 5 cells were grown in Dulbecco's modified high glucose media ( DMEM; Invitrogen ) supplemented with 10% fetal bovine serum ( FBS; Invitrogen ) , nonessential amino acids ( NEAA , 0 . 1 mM; Gibco ) , and 1% penicillin-streptomycin ( Invitrogen ) . Viral RNA was electroporated into Huh-7 . 5 cells as described previously [43] , [44] . Viral supernatants were collected daily from up to 5 passages of electroporated cells , filtered through a . 22 µm nitrocellulose filter , and kept at 4°C protected from light . pJFHxJ6-CNS2C3 ( WT ) is a HCV genotype 2a infectious clone where core through the first transmembrane domain of NS2 of a JFH-1 backbone was replaced with J6 genotype sequence [91] . A full length ( FLNCCPGCCMEP ) tetracysteine ( TC ) tag [92] was inserted into the HCV core gene after amino acid 3 by amplifying two regions ( 5′ and 3′ of the tag ) and joining the two regions with an ApaLI restriction site proximal to the tag insertion site . The full length TC tag has been shown to enhance binding of biarsenical dyes [92] . The 5′ region was amplified using 5′ AACGAATTCTAATACGACTCACTATAGACC and 5′ AACGTGCACGGTCTACGAGACCTCCCGGGG ( EcoRI and ApaLI sites underlined ) . The 3′ region was amplified using 5′ AACGTGCACCATGAGCACATTTCTCAATTGTTGTCCTGGCTGTTGTATGGAACCTAATCCTAAACCTCAAAGAAAAACC and 5′ AACCGTACG CCAAGATCATGGTAGCCGTGG ( ApaLI and BsiWI sites underlined , TC tag bolded ) . The 5′ and 3′ regions were digested with ApaLI and ligated together to form the full-length core region with the tag inserted . The TC-core fragment was subsequently cloned into JFHxJ6NS23 using the EcoRI and BsiWI sites and the TC tag insertion was confirmed by sequencing . The bicistronic construct was constructed by insertion of a HCV genotype 2a IRES – NS2 fragment into a subgenomic replicon , pSGR-JFH1-neo , containing the encephalomyocarditis virus ( EMCV ) IRES through the HCV replicase genes NS3-NS5B [52] . The IRES-NS2 fragment was PCR amplified by using the primers 5′ACCGAATTCTAATACGACTCACTATAGACCTGCCCCTAATAG and 5′ ACCGTTTAAACTTAAAGGAGCTTCCACCCCTTGGAGGTGTAGCCATCAGCTGG ( EcoRI and PmeI sites are underlined ) . The subsequent fragment was subcloned in the replicon resulting in the bicistronic construct . The NS2 deletion construct was made by two-part subclone . NS2 was deleted by insertion of the HCV genotype 2a IRES-p7 genes into a subgenomic replicon as stated above . The IRES-p7 region was PCR amplified by using the same EcoRI primer as above and 5′ ACCGTTTAAACTTAAGCATAAGCCTGTTGGGGCAATGCTAGGAGCAGTAGGCTA ( PmeI site underlined ) which goes through p7 . The resulting PCR fragment was cloned in the subgenomic replicon stated above . This resulted in the NS2 deletion virus in a bicistronic backbone . The TC-tagged core was introduced by digestion of the TC-core virus with EcoRI and BsiWI to liberate a DNA fragment containing TC-core through part of glycoprotein E1 . Untagged core in the NS2 deletion backbone was replaced with the TC-core fragment using the corresponding EcoRI and BsiWI restriction sites . This resulted in a TC-core NS2 deletion ( ΔNS2 ) construct . The resulting clone was sequenced to verify in frame insertion of the tag and presence of the deletion . Apolipoprotein E was PCR amplified from a human ORF clone , accession number EL733202 ( Open Biosystems ) , using the primers 5′ ACGAATTCATGAAGGTTCTGTGGGCTGC ( EcoRI site is underlined ) and 5′ GTGGATCCCGTGATTGTCGCTGGGCAC ( BamHI site is underlined , bold indicates a 1nt insertion ) . The PCR product was cloned into pEGFP-N2 at the EcoRI and BamHI sites to create ApoE-GFP , and then confirmed by sequencing . Rab11A was PCR amplified from a human ORF clone , accession number CV027643 ( Open Biosystems ) , using the primers 5′ ACCAAGCTTCGATGGGCACCCGCGACGACGAGTACGAC ( HindIII site is underlined ) and 5′ ACCGGTACCTTAGATGTTCTGACAGCACTGCACCTT ( KpnI site is underlined ) . The PCR product was cloned into pmGFP-C1 , resulting in GFP-Rab11A and confirmed by sequencing . VAMP1 ORF was PCR amplified from a human ORF clone , accession number CV029376 ( Open Biosystems ) , using the primers 5′ GCAGATCT ATGTCTGCTCCAGCTCAGCCACC ( BglII site is underlined ) and 5′ GCAAGCTT TCAGCGATACTTACTTACAATAAC ( HindIII site is underlined ) . The resulting PCR product was cloned into pEGFP-C1 using the BglII and HindIII sites to result in GFP-VAMP1 and confirmed by sequencing . WT , TC-core , bicistronic , and ΔNS2 RNAs were transcribed in vitro as described [52] . Huh-7 . 5 cells were electroporated with 2 µg/µl of each viral RNA and plated into 96 well plates . Viral supernatants were collected at indicated times post electroporation and titered by limiting dilution and immunohistochemical staining using an antibody directed to NS5A ( 9E10 ) as described [1] , [93] . For intracellular infectious virus , the cells went through three freeze-thaw cycles prior to titering . For RNA quantitation , cells were washed twice with PBS and lysed in RLT lysis buffer ( Qiagen ) at indicated timepoints . RNA was isolated using the RNAeasy kit ( Qiagen ) . RNA copy number was determined by reverse transcriptase ( RT ) PCR analysis as described previously [43] , [44] using the Platinum qRT-PCR Thermoscript One-Step System ( Applied Biosystems ) . 2 µL of extracted RNA was detected using the following primers and probe: forward 5′ ACTTCATTAGCGGCATCCAATAC; reverse 5′-CGGCACTGAATGCCATCAT; probe 5′-6FAM-CAGGATTGTCAACACTGCCAGGGAACC - ( Iowa Black ) , amplifies from the NS4 gene . PCR conditions were 50°C for 30 minutes , 95°C for 6 minutes , and ( 95°C for 15 seconds followed by 60°C for 1 minute ) x 50 cycles . The siRNAs used are listed in Table S1 . The methods for the primary RNAi screen have been previously described [43] , [44] . Briefly , the primary screen included pools of four siRNAs that target 140 membrane trafficking genes ( Dharmacon , Inc . ) . Genes important for infectious HCV production were subsequently silenced with four individual siRNAs targeting the gene to validate the RNAi results . 1×106 Huh-7 . 5 cells in 0 . 05 ml of PBS pH 7 . 4 were electroporated with 125 picomoles of siRNA for 5 pulses of 770 volts for 99 microseconds with one- second intervals on a BTX 830 electroporator with 96-well attachment . Cells were infected 72 hours after electroporation with a multiplicity of 0 . 5 infectious HCV particles per cell for 6 hours , rinsed with media , then maintained for 2 days at 37°C . 48 hours after infection , the supernatants were collected and analyzed for infectious virus via limiting titer dilution as described previously [93] . Host gene expression knockdown was assessed using the primer – probe sets listed in Table S2 . For visualization of core localization during silencing , cells were silenced with siRNAs followed by infection and immunofluorescence . Briefly , Huh-7 . 5 cells were electroporated ( as above ) with 2 pre-validated RAB11a siRNAs ( Ambion , ID: s16073 and 14940 ) , 2 pre-validated PIK4B siRNAs ( Ambion , ID: 283 and s10543 ) , or irrelevant siRNA and silencing was established for 48 hours . Electroporated cells were infected with HCV then maintained for 2 days , followed by seeding onto coverslips , fixation , and immunofluorescence staining . HCV TC-core infected cells stained with biarsenical dye were fixed in 4% paraformaldehyde for 10 min , permeabilized in 0 . 2% Triton X-100 in PBS for 20 minutes , and blocked with 0 . 1% Tween-20 and 10% goat serum in PBS for 30 min . Cell were washed with PBS plus 0 . 1% Tween-20 ( PBST ) after blocking and between antibody incubations . Primary and secondary antibodies were diluted in PBST . For detection of core , a mouse monoclonal antibody ( #1851 Virostat , Portland , ME ) was used at a dilution of 1∶50 , mouse monoclonal antibody to NS5A ( 9E10 ) was used at a dilution of 1∶1000 , dsRNA antibody ( J2 , English and Scientific Consulting Bt ) was used at 1∶1000 , and a human monoclonal antibody to E2 ( Steve Foung ) was used at 1∶250 . GFP fusion proteins were assessed for correct localization by incubation with antibodies . Anti-Apolipoprotein E ( Abcam ) was used at a dilution of 1∶250 , anti-Vamp1 ( Abcam ) was used at a dilution of 1∶250 , anti-Rab11a ( Invitrogen ) was used at a dilution of 1∶250 , anti-GM130 ( Abcam ) was used at 1∶250 to label the Golgi network , and anti-ApoB was used at a dilution of 1∶250 . Alexa-488 or Alexa-594 conjugated IgG ( Molecular Probes , Eugene , OR ) secondary antibodies were diluted 1∶1000 . Golgi-GFP ( Invitrogen ) was used to label the TGN by the recommended directions . Bodipy 493/503 was used to label neutral lipids ( lipid droplets ) in both fixed and live cell images at a concentration of 20 µg/ml . FlAsH or ReAsH labeling was performed per the instructions provided in the TC-tag detection kit ( Invitrogen ) . At 72 hours post electroporation , cells were washed once with Opti-MEM ( Invitrogen ) and labeled with biarsenical dye ( 1 . 25 µM ) in Opti-MEM . Cells were incubated at 37°C for 30 minutes , then washed two times with 1X BAL ( 2 , 3-dimercapto-1-propanol ) wash buffer ( supplied in the kit , Invitrogen ) supplemented with 500 µM EDT in Opti-MEM for 5 minutes . The wash buffer was removed and the cells were washed one time using Opti-MEM followed by incubation with prewarmed media . Tracking of TC-core in the presence of drug inhibitors of the secretory pathway was performed as follows: TC-core electroporated cells were incubated with DMSO , GolgiPlug containing BFA ( 1 µg/mL , BD Biosciences ) , or PIK93 ( 0 . 5 µM , Tocris ) for 2 hours prior to staining with ReAsh . DMSO or drug was present during time of staining and in the imaging media . Infected cells were incubated with Click-iT RNA Alexa Fluor 488 Imaging Kit ( Invitrogen ) to visualize RNA . Briefly , infected cells were seeded on round coverslips and incubated with Click-iT kit as per manufacturer's instructions in the presence of actinomycin D ( 1 µg/ml ) . Cells were processed for immunofluoresence after Click-iT labeling . All images were acquired with an Olympus DSU spinning disk confocal microscope fitted with a 100×1 . 45 N . A oil-immersion objective . FlAsH labeled core was detected using the EGFP filter set ( ex: 480/25 and em: 525/40 ) , whereas ReAsH labeled core was visualized with the DsRed filter set ( ex: 565/25 and em: 620/60 ) coupled to a Hamamatsu back-thinned EM-CCD high speed/sensitivity camera . Slidebook software was used for image acquisition and processing ( Intelligent Imaging Innovations , Inc , Denver , CO ) . Immunofluorescence imaging of TC-core with viral or host markers was accomplished by acquiring sequential static images with DsRed , EGFP , and 350 filter set sequential exposures . Live cell imaging of TC tagged HCV was performed by growing infected cells on polylysine treated 35 mm glass bottom Fluorodishes ( World Precision Instruments ) . Cells were stained with biarsenical dye as above except imaging media ( DMEM-F12- Invitrogen ) supplemented with 10% fetal bovine serum , 0 . 1 mM nonessential amino acids , 1% penicillin-streptomycin , and 25 mM HEPES was added following the final wash . Imaging chambers were sealed with parafilm before imaging . Cells were maintained on a heated stage set at 37°C . Timelapse imaging of TC-core particles and GFP labeled host proteins was taken by sequential imaging every 2 seconds with 200 ms exposures for each channel , DsRed and GFP respectively . In some cases cells were incubated with transferrin-488 ( 5 µg/mL , Invitrogen ) or phrododextran ( 10 µg/mL , Invitrogen ) prior to imaging as per manufacturer's instructions . Individual core puncta transport velocities and run lengths were calculated by kymograph analysis . Briefly , the multiple kymograph plugin for ImageJ was used to generate kymographs . Runs were defined as uninterrupted diagonal lines and the distance traveled ( length ) and the average velocity ( slope ) were measured . The frequency of TC-core puncta movement was measured by quantifying the number of TC-core puncta displaying a run length greater than 1 µm as a percentage of total cellular TC-core puncta signal using the analyze particles tool in ImageJ per imaging session . Distance from origin plots were generated by using the Manual Tracking plugin for Image J , measuring the distance traveled ( in any direction ) between frames for a respective TC-core puncta . Values were added and plotted against time . Manual Tracking plugin was also used to generate the distance versus time plots . Distance between timepoints was plotted versus time . Prism software was used to plot and determine p-values for replication and TCID50/mL titer curves . The velocity and run length plots were also done using Prism software where the data was modeled to a Gaussian distribution or a decaying exponential .\n",
            "\n",
            "\n"
          ]
        }
      ]
    },
    {
      "cell_type": "code",
      "execution_count": 6,
      "metadata": {
        "colab": {
          "base_uri": "https://localhost:8080/"
        },
        "id": "G_MdYDYv6hJs",
        "outputId": "2b62094a-ddc1-4895-f075-038d3373ba3e"
      },
      "outputs": [
        {
          "output_type": "stream",
          "name": "stdout",
          "text": [
            "Requirement already satisfied: bitsandbytes in /usr/local/lib/python3.10/dist-packages (0.43.0)\n",
            "Requirement already satisfied: torch in /usr/local/lib/python3.10/dist-packages (from bitsandbytes) (2.2.1+cu121)\n",
            "Requirement already satisfied: numpy in /usr/local/lib/python3.10/dist-packages (from bitsandbytes) (1.25.2)\n",
            "Requirement already satisfied: filelock in /usr/local/lib/python3.10/dist-packages (from torch->bitsandbytes) (3.13.3)\n",
            "Requirement already satisfied: typing-extensions>=4.8.0 in /usr/local/lib/python3.10/dist-packages (from torch->bitsandbytes) (4.10.0)\n",
            "Requirement already satisfied: sympy in /usr/local/lib/python3.10/dist-packages (from torch->bitsandbytes) (1.12)\n",
            "Requirement already satisfied: networkx in /usr/local/lib/python3.10/dist-packages (from torch->bitsandbytes) (3.2.1)\n",
            "Requirement already satisfied: jinja2 in /usr/local/lib/python3.10/dist-packages (from torch->bitsandbytes) (3.1.3)\n",
            "Requirement already satisfied: fsspec in /usr/local/lib/python3.10/dist-packages (from torch->bitsandbytes) (2023.6.0)\n",
            "Requirement already satisfied: nvidia-cuda-nvrtc-cu12==12.1.105 in /usr/local/lib/python3.10/dist-packages (from torch->bitsandbytes) (12.1.105)\n",
            "Requirement already satisfied: nvidia-cuda-runtime-cu12==12.1.105 in /usr/local/lib/python3.10/dist-packages (from torch->bitsandbytes) (12.1.105)\n",
            "Requirement already satisfied: nvidia-cuda-cupti-cu12==12.1.105 in /usr/local/lib/python3.10/dist-packages (from torch->bitsandbytes) (12.1.105)\n",
            "Requirement already satisfied: nvidia-cudnn-cu12==8.9.2.26 in /usr/local/lib/python3.10/dist-packages (from torch->bitsandbytes) (8.9.2.26)\n",
            "Requirement already satisfied: nvidia-cublas-cu12==12.1.3.1 in /usr/local/lib/python3.10/dist-packages (from torch->bitsandbytes) (12.1.3.1)\n",
            "Requirement already satisfied: nvidia-cufft-cu12==11.0.2.54 in /usr/local/lib/python3.10/dist-packages (from torch->bitsandbytes) (11.0.2.54)\n",
            "Requirement already satisfied: nvidia-curand-cu12==10.3.2.106 in /usr/local/lib/python3.10/dist-packages (from torch->bitsandbytes) (10.3.2.106)\n",
            "Requirement already satisfied: nvidia-cusolver-cu12==11.4.5.107 in /usr/local/lib/python3.10/dist-packages (from torch->bitsandbytes) (11.4.5.107)\n",
            "Requirement already satisfied: nvidia-cusparse-cu12==12.1.0.106 in /usr/local/lib/python3.10/dist-packages (from torch->bitsandbytes) (12.1.0.106)\n",
            "Requirement already satisfied: nvidia-nccl-cu12==2.19.3 in /usr/local/lib/python3.10/dist-packages (from torch->bitsandbytes) (2.19.3)\n",
            "Requirement already satisfied: nvidia-nvtx-cu12==12.1.105 in /usr/local/lib/python3.10/dist-packages (from torch->bitsandbytes) (12.1.105)\n",
            "Requirement already satisfied: triton==2.2.0 in /usr/local/lib/python3.10/dist-packages (from torch->bitsandbytes) (2.2.0)\n",
            "Requirement already satisfied: nvidia-nvjitlink-cu12 in /usr/local/lib/python3.10/dist-packages (from nvidia-cusolver-cu12==11.4.5.107->torch->bitsandbytes) (12.4.127)\n",
            "Requirement already satisfied: MarkupSafe>=2.0 in /usr/local/lib/python3.10/dist-packages (from jinja2->torch->bitsandbytes) (2.1.5)\n",
            "Requirement already satisfied: mpmath>=0.19 in /usr/local/lib/python3.10/dist-packages (from sympy->torch->bitsandbytes) (1.3.0)\n"
          ]
        }
      ],
      "source": [
        "!pip install bitsandbytes"
      ]
    },
    {
      "cell_type": "code",
      "execution_count": 7,
      "metadata": {
        "colab": {
          "base_uri": "https://localhost:8080/"
        },
        "id": "uZ6989Ej5zl-",
        "outputId": "d76b0567-ce75-477d-993d-a693ca4d302f"
      },
      "outputs": [
        {
          "output_type": "stream",
          "name": "stdout",
          "text": [
            "Requirement already satisfied: transformers in /usr/local/lib/python3.10/dist-packages (4.38.2)\n",
            "Requirement already satisfied: filelock in /usr/local/lib/python3.10/dist-packages (from transformers) (3.13.3)\n",
            "Requirement already satisfied: huggingface-hub<1.0,>=0.19.3 in /usr/local/lib/python3.10/dist-packages (from transformers) (0.20.3)\n",
            "Requirement already satisfied: numpy>=1.17 in /usr/local/lib/python3.10/dist-packages (from transformers) (1.25.2)\n",
            "Requirement already satisfied: packaging>=20.0 in /usr/local/lib/python3.10/dist-packages (from transformers) (24.0)\n",
            "Requirement already satisfied: pyyaml>=5.1 in /usr/local/lib/python3.10/dist-packages (from transformers) (6.0.1)\n",
            "Requirement already satisfied: regex!=2019.12.17 in /usr/local/lib/python3.10/dist-packages (from transformers) (2023.12.25)\n",
            "Requirement already satisfied: requests in /usr/local/lib/python3.10/dist-packages (from transformers) (2.31.0)\n",
            "Requirement already satisfied: tokenizers<0.19,>=0.14 in /usr/local/lib/python3.10/dist-packages (from transformers) (0.15.2)\n",
            "Requirement already satisfied: safetensors>=0.4.1 in /usr/local/lib/python3.10/dist-packages (from transformers) (0.4.2)\n",
            "Requirement already satisfied: tqdm>=4.27 in /usr/local/lib/python3.10/dist-packages (from transformers) (4.66.2)\n",
            "Requirement already satisfied: fsspec>=2023.5.0 in /usr/local/lib/python3.10/dist-packages (from huggingface-hub<1.0,>=0.19.3->transformers) (2023.6.0)\n",
            "Requirement already satisfied: typing-extensions>=3.7.4.3 in /usr/local/lib/python3.10/dist-packages (from huggingface-hub<1.0,>=0.19.3->transformers) (4.10.0)\n",
            "Requirement already satisfied: charset-normalizer<4,>=2 in /usr/local/lib/python3.10/dist-packages (from requests->transformers) (3.3.2)\n",
            "Requirement already satisfied: idna<4,>=2.5 in /usr/local/lib/python3.10/dist-packages (from requests->transformers) (3.6)\n",
            "Requirement already satisfied: urllib3<3,>=1.21.1 in /usr/local/lib/python3.10/dist-packages (from requests->transformers) (2.0.7)\n",
            "Requirement already satisfied: certifi>=2017.4.17 in /usr/local/lib/python3.10/dist-packages (from requests->transformers) (2024.2.2)\n",
            "Requirement already satisfied: accelerate in /usr/local/lib/python3.10/dist-packages (0.29.1)\n",
            "Requirement already satisfied: numpy>=1.17 in /usr/local/lib/python3.10/dist-packages (from accelerate) (1.25.2)\n",
            "Requirement already satisfied: packaging>=20.0 in /usr/local/lib/python3.10/dist-packages (from accelerate) (24.0)\n",
            "Requirement already satisfied: psutil in /usr/local/lib/python3.10/dist-packages (from accelerate) (5.9.5)\n",
            "Requirement already satisfied: pyyaml in /usr/local/lib/python3.10/dist-packages (from accelerate) (6.0.1)\n",
            "Requirement already satisfied: torch>=1.10.0 in /usr/local/lib/python3.10/dist-packages (from accelerate) (2.2.1+cu121)\n",
            "Requirement already satisfied: huggingface-hub in /usr/local/lib/python3.10/dist-packages (from accelerate) (0.20.3)\n",
            "Requirement already satisfied: safetensors>=0.3.1 in /usr/local/lib/python3.10/dist-packages (from accelerate) (0.4.2)\n",
            "Requirement already satisfied: filelock in /usr/local/lib/python3.10/dist-packages (from torch>=1.10.0->accelerate) (3.13.3)\n",
            "Requirement already satisfied: typing-extensions>=4.8.0 in /usr/local/lib/python3.10/dist-packages (from torch>=1.10.0->accelerate) (4.10.0)\n",
            "Requirement already satisfied: sympy in /usr/local/lib/python3.10/dist-packages (from torch>=1.10.0->accelerate) (1.12)\n",
            "Requirement already satisfied: networkx in /usr/local/lib/python3.10/dist-packages (from torch>=1.10.0->accelerate) (3.2.1)\n",
            "Requirement already satisfied: jinja2 in /usr/local/lib/python3.10/dist-packages (from torch>=1.10.0->accelerate) (3.1.3)\n",
            "Requirement already satisfied: fsspec in /usr/local/lib/python3.10/dist-packages (from torch>=1.10.0->accelerate) (2023.6.0)\n",
            "Requirement already satisfied: nvidia-cuda-nvrtc-cu12==12.1.105 in /usr/local/lib/python3.10/dist-packages (from torch>=1.10.0->accelerate) (12.1.105)\n",
            "Requirement already satisfied: nvidia-cuda-runtime-cu12==12.1.105 in /usr/local/lib/python3.10/dist-packages (from torch>=1.10.0->accelerate) (12.1.105)\n",
            "Requirement already satisfied: nvidia-cuda-cupti-cu12==12.1.105 in /usr/local/lib/python3.10/dist-packages (from torch>=1.10.0->accelerate) (12.1.105)\n",
            "Requirement already satisfied: nvidia-cudnn-cu12==8.9.2.26 in /usr/local/lib/python3.10/dist-packages (from torch>=1.10.0->accelerate) (8.9.2.26)\n",
            "Requirement already satisfied: nvidia-cublas-cu12==12.1.3.1 in /usr/local/lib/python3.10/dist-packages (from torch>=1.10.0->accelerate) (12.1.3.1)\n",
            "Requirement already satisfied: nvidia-cufft-cu12==11.0.2.54 in /usr/local/lib/python3.10/dist-packages (from torch>=1.10.0->accelerate) (11.0.2.54)\n",
            "Requirement already satisfied: nvidia-curand-cu12==10.3.2.106 in /usr/local/lib/python3.10/dist-packages (from torch>=1.10.0->accelerate) (10.3.2.106)\n",
            "Requirement already satisfied: nvidia-cusolver-cu12==11.4.5.107 in /usr/local/lib/python3.10/dist-packages (from torch>=1.10.0->accelerate) (11.4.5.107)\n",
            "Requirement already satisfied: nvidia-cusparse-cu12==12.1.0.106 in /usr/local/lib/python3.10/dist-packages (from torch>=1.10.0->accelerate) (12.1.0.106)\n",
            "Requirement already satisfied: nvidia-nccl-cu12==2.19.3 in /usr/local/lib/python3.10/dist-packages (from torch>=1.10.0->accelerate) (2.19.3)\n",
            "Requirement already satisfied: nvidia-nvtx-cu12==12.1.105 in /usr/local/lib/python3.10/dist-packages (from torch>=1.10.0->accelerate) (12.1.105)\n",
            "Requirement already satisfied: triton==2.2.0 in /usr/local/lib/python3.10/dist-packages (from torch>=1.10.0->accelerate) (2.2.0)\n",
            "Requirement already satisfied: nvidia-nvjitlink-cu12 in /usr/local/lib/python3.10/dist-packages (from nvidia-cusolver-cu12==11.4.5.107->torch>=1.10.0->accelerate) (12.4.127)\n",
            "Requirement already satisfied: requests in /usr/local/lib/python3.10/dist-packages (from huggingface-hub->accelerate) (2.31.0)\n",
            "Requirement already satisfied: tqdm>=4.42.1 in /usr/local/lib/python3.10/dist-packages (from huggingface-hub->accelerate) (4.66.2)\n",
            "Requirement already satisfied: MarkupSafe>=2.0 in /usr/local/lib/python3.10/dist-packages (from jinja2->torch>=1.10.0->accelerate) (2.1.5)\n",
            "Requirement already satisfied: charset-normalizer<4,>=2 in /usr/local/lib/python3.10/dist-packages (from requests->huggingface-hub->accelerate) (3.3.2)\n",
            "Requirement already satisfied: idna<4,>=2.5 in /usr/local/lib/python3.10/dist-packages (from requests->huggingface-hub->accelerate) (3.6)\n",
            "Requirement already satisfied: urllib3<3,>=1.21.1 in /usr/local/lib/python3.10/dist-packages (from requests->huggingface-hub->accelerate) (2.0.7)\n",
            "Requirement already satisfied: certifi>=2017.4.17 in /usr/local/lib/python3.10/dist-packages (from requests->huggingface-hub->accelerate) (2024.2.2)\n",
            "Requirement already satisfied: mpmath>=0.19 in /usr/local/lib/python3.10/dist-packages (from sympy->torch>=1.10.0->accelerate) (1.3.0)\n"
          ]
        }
      ],
      "source": [
        "!pip install transformers\n",
        "!pip install accelerate"
      ]
    },
    {
      "cell_type": "code",
      "execution_count": 8,
      "metadata": {
        "colab": {
          "base_uri": "https://localhost:8080/"
        },
        "id": "h_JweV8PA-7L",
        "outputId": "520dfb8e-e66e-4eec-c7b8-b8c3a0f1fd9c"
      },
      "outputs": [
        {
          "output_type": "stream",
          "name": "stdout",
          "text": [
            "Requirement already satisfied: flash_attn in /usr/local/lib/python3.10/dist-packages (2.5.7)\n",
            "Requirement already satisfied: torch in /usr/local/lib/python3.10/dist-packages (from flash_attn) (2.2.1+cu121)\n",
            "Requirement already satisfied: einops in /usr/local/lib/python3.10/dist-packages (from flash_attn) (0.7.0)\n",
            "Requirement already satisfied: packaging in /usr/local/lib/python3.10/dist-packages (from flash_attn) (24.0)\n",
            "Requirement already satisfied: ninja in /usr/local/lib/python3.10/dist-packages (from flash_attn) (1.11.1.1)\n",
            "Requirement already satisfied: filelock in /usr/local/lib/python3.10/dist-packages (from torch->flash_attn) (3.13.3)\n",
            "Requirement already satisfied: typing-extensions>=4.8.0 in /usr/local/lib/python3.10/dist-packages (from torch->flash_attn) (4.10.0)\n",
            "Requirement already satisfied: sympy in /usr/local/lib/python3.10/dist-packages (from torch->flash_attn) (1.12)\n",
            "Requirement already satisfied: networkx in /usr/local/lib/python3.10/dist-packages (from torch->flash_attn) (3.2.1)\n",
            "Requirement already satisfied: jinja2 in /usr/local/lib/python3.10/dist-packages (from torch->flash_attn) (3.1.3)\n",
            "Requirement already satisfied: fsspec in /usr/local/lib/python3.10/dist-packages (from torch->flash_attn) (2023.6.0)\n",
            "Requirement already satisfied: nvidia-cuda-nvrtc-cu12==12.1.105 in /usr/local/lib/python3.10/dist-packages (from torch->flash_attn) (12.1.105)\n",
            "Requirement already satisfied: nvidia-cuda-runtime-cu12==12.1.105 in /usr/local/lib/python3.10/dist-packages (from torch->flash_attn) (12.1.105)\n",
            "Requirement already satisfied: nvidia-cuda-cupti-cu12==12.1.105 in /usr/local/lib/python3.10/dist-packages (from torch->flash_attn) (12.1.105)\n",
            "Requirement already satisfied: nvidia-cudnn-cu12==8.9.2.26 in /usr/local/lib/python3.10/dist-packages (from torch->flash_attn) (8.9.2.26)\n",
            "Requirement already satisfied: nvidia-cublas-cu12==12.1.3.1 in /usr/local/lib/python3.10/dist-packages (from torch->flash_attn) (12.1.3.1)\n",
            "Requirement already satisfied: nvidia-cufft-cu12==11.0.2.54 in /usr/local/lib/python3.10/dist-packages (from torch->flash_attn) (11.0.2.54)\n",
            "Requirement already satisfied: nvidia-curand-cu12==10.3.2.106 in /usr/local/lib/python3.10/dist-packages (from torch->flash_attn) (10.3.2.106)\n",
            "Requirement already satisfied: nvidia-cusolver-cu12==11.4.5.107 in /usr/local/lib/python3.10/dist-packages (from torch->flash_attn) (11.4.5.107)\n",
            "Requirement already satisfied: nvidia-cusparse-cu12==12.1.0.106 in /usr/local/lib/python3.10/dist-packages (from torch->flash_attn) (12.1.0.106)\n",
            "Requirement already satisfied: nvidia-nccl-cu12==2.19.3 in /usr/local/lib/python3.10/dist-packages (from torch->flash_attn) (2.19.3)\n",
            "Requirement already satisfied: nvidia-nvtx-cu12==12.1.105 in /usr/local/lib/python3.10/dist-packages (from torch->flash_attn) (12.1.105)\n",
            "Requirement already satisfied: triton==2.2.0 in /usr/local/lib/python3.10/dist-packages (from torch->flash_attn) (2.2.0)\n",
            "Requirement already satisfied: nvidia-nvjitlink-cu12 in /usr/local/lib/python3.10/dist-packages (from nvidia-cusolver-cu12==11.4.5.107->torch->flash_attn) (12.4.127)\n",
            "Requirement already satisfied: MarkupSafe>=2.0 in /usr/local/lib/python3.10/dist-packages (from jinja2->torch->flash_attn) (2.1.5)\n",
            "Requirement already satisfied: mpmath>=0.19 in /usr/local/lib/python3.10/dist-packages (from sympy->torch->flash_attn) (1.3.0)\n"
          ]
        }
      ],
      "source": [
        "!pip install  flash_attn"
      ]
    },
    {
      "cell_type": "code",
      "execution_count": 9,
      "metadata": {
        "colab": {
          "base_uri": "https://localhost:8080/",
          "height": 105,
          "referenced_widgets": [
            "22f5b3ca278d4e4db740a970da2a5406",
            "ea4936c4deef4a70877a8c3bc1fa8f5a",
            "b3ddf69b27a943159a6164e6c4508450",
            "eac16269ddac4825998b5762bc132d58",
            "582c89b35e034c7ab5a467226e41ad37",
            "f4b674e2095e47e1b347d5ea0a24221c",
            "1aa305d7c82146c9a62d2cded067efe0",
            "7edd33fbd9fb4fcba1ecb304b064c371",
            "a8b9413446724edba045043c7010cfe4",
            "61483ca309304f8f86a901e9879a5ab4",
            "341a8455c26348d2a43525c95d8013d5"
          ]
        },
        "id": "7xEVPBEK29sD",
        "outputId": "30b8e584-0cfd-4d0f-b052-2fda3d580c32"
      },
      "outputs": [
        {
          "output_type": "stream",
          "name": "stderr",
          "text": [
            "The `load_in_4bit` and `load_in_8bit` arguments are deprecated and will be removed in the future versions. Please, pass a `BitsAndBytesConfig` object in `quantization_config` argument instead.\n",
            "The model was loaded with use_flash_attention_2=True, which is deprecated and may be removed in a future release. Please use `attn_implementation=\"flash_attention_2\"` instead.\n"
          ]
        },
        {
          "output_type": "display_data",
          "data": {
            "text/plain": [
              "Loading checkpoint shards:   0%|          | 0/19 [00:00<?, ?it/s]"
            ],
            "application/vnd.jupyter.widget-view+json": {
              "version_major": 2,
              "version_minor": 0,
              "model_id": "22f5b3ca278d4e4db740a970da2a5406"
            }
          },
          "metadata": {}
        }
      ],
      "source": [
        "# load Mixtral 8x7B, 4-bit\n",
        "import torch\n",
        "from transformers import AutoModelForCausalLM, AutoTokenizer\n",
        "\n",
        "model_id = \"mistralai/Mixtral-8x7B-Instruct-v0.1\" # this probably works on A100\n",
        "tokenizer = AutoTokenizer.from_pretrained(model_id)\n",
        "\n",
        "# the following WORKS with V100, and T4 but very slow without 4_bit\n",
        "# model = AutoModelForCausalLM.from_pretrained(model_id,\n",
        "#                                              load_in_4bit=True,\n",
        "#                                              device_map=\"auto\")\n",
        "\n",
        "model = AutoModelForCausalLM.from_pretrained(model_id,\n",
        "                                             load_in_4bit=True,\n",
        "                                             torch_dtype=torch.float16,\n",
        "                                             use_flash_attention_2=True,\n",
        "                                             device_map=\"auto\")  # flash attention\n",
        "\n"
      ]
    },
    {
      "cell_type": "code",
      "execution_count": 10,
      "metadata": {
        "colab": {
          "base_uri": "https://localhost:8080/"
        },
        "id": "Xvy2LzBz_2Yz",
        "outputId": "8bfc67c7-de3e-4c15-f19e-3d1486c55d75"
      },
      "outputs": [
        {
          "output_type": "stream",
          "name": "stderr",
          "text": [
            "The attention mask and the pad token id were not set. As a consequence, you may observe unexpected behavior. Please pass your input's `attention_mask` to obtain reliable results.\n",
            "Setting `pad_token_id` to `eos_token_id`:2 for open-end generation.\n",
            "/usr/local/lib/python3.10/dist-packages/bitsandbytes/nn/modules.py:391: UserWarning: Input type into Linear4bit is torch.float16, but bnb_4bit_compute_dtype=torch.float32 (default). This will lead to slow inference or training speed.\n",
            "  warnings.warn('Input type into Linear4bit is torch.float16, but bnb_4bit_compute_dtype=torch.float32 (default). This will lead to slow inference or training speed.')\n",
            "/usr/local/lib/python3.10/dist-packages/bitsandbytes/nn/modules.py:388: UserWarning: Input type into Linear4bit is torch.float16, but bnb_4bit_compute_dtype=torch.float32 (default). This will lead to slow inference.\n",
            "  warnings.warn('Input type into Linear4bit is torch.float16, but bnb_4bit_compute_dtype=torch.float32 (default). This will lead to slow inference.')\n"
          ]
        },
        {
          "output_type": "stream",
          "name": "stdout",
          "text": [
            "[INST] What is the capital city of British Columbia? Answer in 1 sentence [/INST] The capital city of British Columbia, a province in Canada, is Victoria.\n"
          ]
        }
      ],
      "source": [
        "# test if the model works correctly\n",
        "messages = [\n",
        "    {\"role\": \"user\", \"content\": \"What is the capital city of British Columbia? Answer in 1 sentence\"},\n",
        "]\n",
        "\n",
        "input_ids = tokenizer.apply_chat_template(messages, return_tensors=\"pt\").to(\"cuda\")\n",
        "\n",
        "outputs = model.generate(input_ids, max_new_tokens=1000)\n",
        "print(tokenizer.decode(outputs[0], skip_special_tokens=True))"
      ]
    },
    {
      "cell_type": "code",
      "source": [
        "# filter out the text between [INST] ... [/INST]\n",
        "# text = tokenizer.decode(outputs[0], skip_special_tokens=True)\n",
        "s = \"[INST] What is the capital city of British Columbia? Answer in 1 sentence [/INST] The capital city of British Columbia, a province in Canada, is Victoria.\"\n",
        "id = s.find('[/INST]') + len('[/INST]')\n",
        "result = s[id:]\n",
        "print(result)"
      ],
      "metadata": {
        "colab": {
          "base_uri": "https://localhost:8080/"
        },
        "id": "9y3V4zNHt4Ns",
        "outputId": "09c9ee43-bfb8-442b-9758-2562f32141bc"
      },
      "execution_count": 11,
      "outputs": [
        {
          "output_type": "stream",
          "name": "stdout",
          "text": [
            " The capital city of British Columbia, a province in Canada, is Victoria.\n"
          ]
        }
      ]
    },
    {
      "cell_type": "code",
      "source": [
        "# test with new prompt\n",
        "# max_char = 20000\n",
        "# prompt = f\"Simplify and summarize in minimum 250 to maximum 500 words, combine answer into 1 paragraph, keep important factual details. Also include key facts in 1-5 concise sentences: {s[:max_char]}\"\n",
        "# prompt = f\"Simplify and summarize in 200 to 300 words:  {s[:max_char]}\"\n",
        "\n",
        "# def summarize(article, max_char=20000):\n",
        "def summarize(article, max_char=-1):\n",
        "  \"\"\"\n",
        "    summarize the article text, with\n",
        "  \"\"\"\n",
        "  print(\"Processing text =\", article[:100])\n",
        "  print(\"---------------\")\n",
        "  lay_summary_example = \"Over 90% of adults around the world are infected with the Epstein-Barr virus . Like other closely related viruses , such as those that cause chicken pox and cold sores , an infection lasts for the rest of the person’s life , although the virus generally remains in a latent or dormant state . However , under certain conditions the latent viruses can cause cancers to develop; in fact , it is estimated that such infections are responsible for nearly 2% of all cancer deaths worldwide . One way that healthy human cells prevent cancer is by triggering their own death in a process called apoptosis . The Epstein-Barr virus can block apoptosis , therefore making the cells more likely to become cancerous . Previous research identified one protein in the Epstein-Barr virus that promotes cancer by preventing infected cells from dying as normal . However , even in the absence of this protein , Epstein-Barr virus-infected cells remain resistant to apoptosis . This suggests that the virus has another way of blocking cell death . Price et al . have now used a technique that stresses living cells in a way that reveals which proteins prevent apoptosis to study human cells infected with the Epstein-Barr virus . This revealed that soon after infection , the virus could force the human cell to produce MCL-1 , a protein that prevents cell death . Later , the Epstein-Barr virus enlisted a second human protein called BFL-1 , which makes the infected cell further resistant to apoptosis . Price et al . discovered that a protein in the Epstein-Barr virus called EBNA3A controls the production of the MCL-1 and BFL-1 proteins . In the future , developing therapies that target these proteins may lead to new treatments for cancers caused by the Epstein-Barr virus . Such treatments would be likely to have fewer side effects for patients than traditional chemotherapies .\"\n",
        "  prompt = f\"The following text is from a medical research paper, which contains medical terms. The section headings have ## tag before it. Pay special attention to 'Abstract', 'Introduction' and 'Conclusion' sections. Simplify and summarize in minimum 250 to maximum 500 words, combine answer into 1 paragraph, keeping important facts. One good example of lay summary is '{lay_summary_example}'. Now do a lay summary on this text: {article[:max_char]}\"\n",
        "  messages = [\n",
        "      {\"role\": \"user\", \"content\": prompt},\n",
        "  ]\n",
        "\n",
        "  input_ids = tokenizer.apply_chat_template(messages, return_tensors=\"pt\").to(\"cuda\")\n",
        "\n",
        "  outputs = model.generate(input_ids, max_new_tokens=1000)\n",
        "  # print(tokenizer.decode(outputs[0], skip_special_tokens=True))\n",
        "  output_text = tokenizer.decode(outputs[0], skip_special_tokens=True)\n",
        "  id = output_text.find('[/INST]') + len('[/INST]')\n",
        "  result = output_text[id:]\n",
        "\n",
        "  return result\n"
      ],
      "metadata": {
        "id": "4JrdcfSQJs55"
      },
      "execution_count": 21,
      "outputs": []
    },
    {
      "cell_type": "code",
      "source": [
        "# test function\n",
        "text = build_text_with_headings(item)\n",
        "print(\"--------------\")\n",
        "print(\"Summary =\\n\", summarize(text))"
      ],
      "metadata": {
        "colab": {
          "base_uri": "https://localhost:8080/"
        },
        "id": "eU7Q-RcOvo4i",
        "outputId": "ed1873ee-42ad-40c9-f582-ce8cd705d767"
      },
      "execution_count": 22,
      "outputs": [
        {
          "output_type": "stream",
          "name": "stderr",
          "text": [
            "The attention mask and the pad token id were not set. As a consequence, you may observe unexpected behavior. Please pass your input's `attention_mask` to obtain reliable results.\n",
            "Setting `pad_token_id` to `eos_token_id`:2 for open-end generation.\n"
          ]
        },
        {
          "output_type": "stream",
          "name": "stdout",
          "text": [
            "--------------\n",
            "Processing text = ## Abstract\n",
            "The current model of hepatitis C virus ( HCV ) production involves the assembly of virio\n",
            "---------------\n",
            "Summary =\n",
            "  Hepatitis C virus (HCV) is a member of the Flaviviridae family that causes chronic liver infections in humans. The virus has a single-stranded positive RNA genome that encodes for structural and non-structural proteins. The structural proteins include core and the glycoproteins E1 and E2, while the non-structural proteins include p7, NS2, NS3, NS4A, NS4B, NS5A, and NS5B. The virus infects hepatocytes in the liver and uses several host factors for entry, replication, and egress.\n",
            "\n",
            "A recent study combined RNA interference (RNAi) analysis and live cell imaging to understand the cellular requirements and mechanisms of HCV egress. The RNAi analysis identified multiple components of the secretory pathway, including ER to Golgi trafficking, lipid and protein kinases, and the recycling endosome, that are required for HCV egress. The study also constructed an infectious HCV with a tetracysteine (TC) tag insertion in core (TC-core) to monitor the dynamics of HCV core trafficking in association with its cellular cofactors. The results showed that TC-core traffics to the cell periphery along microtubules and co-traffics with components of the recycling endosome. Silencing of the recycling endosome component Rab11a results in the accumulation of HCV core at the Golgi.\n",
            "\n",
            "The study also investigated the dynamics of HCV core trafficking in Huh-7.5 cells by fusing a TC tag in frame following amino acid three of the structural protein core. The TC-core virus replicates comparably to wild type, with a mild impairment of infectious virus production. ReAsH treatment of TC-core infected cells does not impair infectious virus production. The localization of HCV E2 relative to TC-core was analyzed, and the results showed that E2 expressed from the TC-core virus had the expected reticular pattern and was also found on a subset of cytoplasmic core puncta. Some TC-core structures that were positive for E2 were found in the cell periphery, suggesting they may represent intracellular assembled viral particles.\n",
            "\n",
            "In summary, the study identified numerous host cofactors required for infectious HCV secretion and presented dynamic studies of HCV core trafficking in infected cells. The results support a model wherein HCV is infectious upon envelopment at the ER and exits the cell via the secretory pathway. The study also showed that TC-core traffics to the cell periphery along microtubules and co-traffics with components of the recycling endosome. The findings provide new insights into the egress of HCV and may lead to the development of new therapies for HCV infection.\n"
          ]
        }
      ]
    },
    {
      "cell_type": "code",
      "source": [
        "# create empty column\n",
        "df[\"mixtral_summary\"] = df[\"article\"].apply(lambda x:\"\")\n",
        "df.head()\n",
        "\n",
        "n = len(df)\n",
        "max_row = 50 # for dev. Set to n for full set\n",
        "\n",
        "for i in range(max_row):\n",
        "  print(\"Processing item i =\", i)\n",
        "  item = df.iloc[i]\n",
        "  text = build_text_with_headings(item)\n",
        "  summary = summarize(text)\n",
        "  print(\"Summary =\", summary[:200])\n",
        "  # df.at[i, \"llm_templates\"] = parsed_item\n",
        "  df.at[i, \"mixtral_summary\"] = summary\n",
        "  print(\"------------------------\")"
      ],
      "metadata": {
        "colab": {
          "base_uri": "https://localhost:8080/"
        },
        "id": "-iZFJbdKv3nO",
        "outputId": "42046818-c490-4431-f446-67cd5f60bfa4"
      },
      "execution_count": 23,
      "outputs": [
        {
          "output_type": "stream",
          "name": "stderr",
          "text": [
            "The attention mask and the pad token id were not set. As a consequence, you may observe unexpected behavior. Please pass your input's `attention_mask` to obtain reliable results.\n",
            "Setting `pad_token_id` to `eos_token_id`:2 for open-end generation.\n"
          ]
        },
        {
          "output_type": "stream",
          "name": "stdout",
          "text": [
            "Processing item i = 0\n",
            "Processing text = ## Abstract\n",
            "Fleas can transmit Yersinia pestis by two mechanisms , early-phase transmission ( EPT ) \n",
            "---------------\n"
          ]
        },
        {
          "output_type": "stream",
          "name": "stderr",
          "text": [
            "The attention mask and the pad token id were not set. As a consequence, you may observe unexpected behavior. Please pass your input's `attention_mask` to obtain reliable results.\n",
            "Setting `pad_token_id` to `eos_token_id`:2 for open-end generation.\n"
          ]
        },
        {
          "output_type": "stream",
          "name": "stdout",
          "text": [
            "Summary =  Fleas can transmit the bacteria Yersinia pestis, which causes plague, through two methods: early-phase transmission (EPT) and biofilm-dependent transmission (BDT). EPT occurs when fleas feed on an in\n",
            "------------------------\n",
            "Processing item i = 1\n",
            "Processing text = ## Abstract\n",
            "Endogenous retroviruses ( ERVs ) are remnants of ancient retroviral infections of the ho\n",
            "---------------\n"
          ]
        },
        {
          "output_type": "stream",
          "name": "stderr",
          "text": [
            "The attention mask and the pad token id were not set. As a consequence, you may observe unexpected behavior. Please pass your input's `attention_mask` to obtain reliable results.\n",
            "Setting `pad_token_id` to `eos_token_id`:2 for open-end generation.\n"
          ]
        },
        {
          "output_type": "stream",
          "name": "stdout",
          "text": [
            "Summary =  This research paper studies the coevolution of endogenous and exogenous retroviruses in sheep. The researchers isolated and characterized 27 endogenous retroviruses (ERVs) in the sheep genome, which \n",
            "------------------------\n",
            "Processing item i = 2\n",
            "Processing text = ## Abstract\n",
            "The Drosophila embryonic gonad is assembled from two distinct cell types , the Primordia\n",
            "---------------\n"
          ]
        },
        {
          "output_type": "stream",
          "name": "stderr",
          "text": [
            "The attention mask and the pad token id were not set. As a consequence, you may observe unexpected behavior. Please pass your input's `attention_mask` to obtain reliable results.\n",
            "Setting `pad_token_id` to `eos_token_id`:2 for open-end generation.\n"
          ]
        },
        {
          "output_type": "stream",
          "name": "stdout",
          "text": [
            "Summary =  The Drosophila embryonic gonad is formed from two types of cells, Primordial Germ Cells (PGCs) and Somatic Gonadal Precursor cells (SGPs). The PGCs form at the posterior of the blastoderm stage embry\n",
            "------------------------\n",
            "Processing item i = 3\n",
            "Processing text = ## Abstract\n",
            "Recently , we presented a study of adult neurogenesis in a simplified hippocampal memory\n",
            "---------------\n"
          ]
        },
        {
          "output_type": "stream",
          "name": "stderr",
          "text": [
            "The attention mask and the pad token id were not set. As a consequence, you may observe unexpected behavior. Please pass your input's `attention_mask` to obtain reliable results.\n",
            "Setting `pad_token_id` to `eos_token_id`:2 for open-end generation.\n"
          ]
        },
        {
          "output_type": "stream",
          "name": "stdout",
          "text": [
            "Summary =  The research presents a study of adult neurogenesis in a simplified hippocampal memory model. The model is extended to include realistic, spatially driven input firing patterns in the form of grid ce\n",
            "------------------------\n",
            "Processing item i = 4\n",
            "Processing text = ## Abstract\n",
            "Understanding the transcriptional regulation of pluripotent cells is of fundamental inte\n",
            "---------------\n"
          ]
        },
        {
          "output_type": "stream",
          "name": "stderr",
          "text": [
            "The attention mask and the pad token id were not set. As a consequence, you may observe unexpected behavior. Please pass your input's `attention_mask` to obtain reliable results.\n",
            "Setting `pad_token_id` to `eos_token_id`:2 for open-end generation.\n"
          ]
        },
        {
          "output_type": "stream",
          "name": "stdout",
          "text": [
            "Summary =  This research paper analyzes the transcriptional profiles of mouse embryonic stem (ES) cells and primordial germ cells to identify genes upregulated in pluripotent cells. A novel computational algori\n",
            "------------------------\n",
            "Processing item i = 5\n",
            "Processing text = ## Abstract\n",
            "The current model of hepatitis C virus ( HCV ) production involves the assembly of virio\n",
            "---------------\n"
          ]
        },
        {
          "output_type": "stream",
          "name": "stderr",
          "text": [
            "The attention mask and the pad token id were not set. As a consequence, you may observe unexpected behavior. Please pass your input's `attention_mask` to obtain reliable results.\n",
            "Setting `pad_token_id` to `eos_token_id`:2 for open-end generation.\n"
          ]
        },
        {
          "output_type": "stream",
          "name": "stdout",
          "text": [
            "Summary =  Hepatitis C virus (HCV) is a member of the Flaviviridae family that causes chronic liver infections in humans. The virus has a single-stranded positive RNA genome that encodes for structural and non-\n",
            "------------------------\n",
            "Processing item i = 6\n",
            "Processing text = ## Abstract\n",
            "Secondary amphiphilicity is inherent to the secondary structural elements of proteins . \n",
            "---------------\n"
          ]
        },
        {
          "output_type": "stream",
          "name": "stderr",
          "text": [
            "The attention mask and the pad token id were not set. As a consequence, you may observe unexpected behavior. Please pass your input's `attention_mask` to obtain reliable results.\n",
            "Setting `pad_token_id` to `eos_token_id`:2 for open-end generation.\n"
          ]
        },
        {
          "output_type": "stream",
          "name": "stdout",
          "text": [
            "Summary =  This research paper uses molecular dynamics simulations to study the conformational behavior of two synthetic peptides, LK and EALA, with built-in secondary amphiphilicity. The study finds that these\n",
            "------------------------\n",
            "Processing item i = 7\n",
            "Processing text = ## Abstract\n",
            "Herein , we studied a virulent isolate of the leading bacterial pathogen Streptococcus p\n",
            "---------------\n"
          ]
        },
        {
          "output_type": "stream",
          "name": "stderr",
          "text": [
            "The attention mask and the pad token id were not set. As a consequence, you may observe unexpected behavior. Please pass your input's `attention_mask` to obtain reliable results.\n",
            "Setting `pad_token_id` to `eos_token_id`:2 for open-end generation.\n"
          ]
        },
        {
          "output_type": "stream",
          "name": "stdout",
          "text": [
            "Summary =  This research uses an infant mouse model to study the bacterial pathogen Streptococcus pneumoniae, also known as the pneumococcus, and its interaction with the influenza A virus (IAV). The researcher\n",
            "------------------------\n",
            "Processing item i = 8\n",
            "Processing text = ## Abstract\n",
            "HIV is known to spread efficiently both in a cell-free state and from cell to cell , how\n",
            "---------------\n"
          ]
        },
        {
          "output_type": "stream",
          "name": "stderr",
          "text": [
            "The attention mask and the pad token id were not set. As a consequence, you may observe unexpected behavior. Please pass your input's `attention_mask` to obtain reliable results.\n",
            "Setting `pad_token_id` to `eos_token_id`:2 for open-end generation.\n"
          ]
        },
        {
          "output_type": "stream",
          "name": "stdout",
          "text": [
            "Summary =  HIV can spread efficiently from cell to cell through direct contact between infected and uninfected cells, and this mode of transmission may be important for the virus to maintain infection in vivo. \n",
            "------------------------\n",
            "Processing item i = 9\n",
            "Processing text = ## Abstract\n",
            "An increasing number of genetic variants have been identified for many complex diseases \n",
            "---------------\n"
          ]
        },
        {
          "output_type": "stream",
          "name": "stderr",
          "text": [
            "The attention mask and the pad token id were not set. As a consequence, you may observe unexpected behavior. Please pass your input's `attention_mask` to obtain reliable results.\n",
            "Setting `pad_token_id` to `eos_token_id`:2 for open-end generation.\n"
          ]
        },
        {
          "output_type": "stream",
          "name": "stdout",
          "text": [
            "Summary =  This research paper discusses the use of genomic profiles for risk prediction of complex diseases. The authors propose a new statistical framework that connects various predictive indices and demonst\n",
            "------------------------\n",
            "Processing item i = 10\n",
            "Processing text = ## Abstract\n",
            "The Saccharomyces cerevisae RAD3 gene is the homolog of human XPD , an essential gene en\n",
            "---------------\n"
          ]
        },
        {
          "output_type": "stream",
          "name": "stderr",
          "text": [
            "The attention mask and the pad token id were not set. As a consequence, you may observe unexpected behavior. Please pass your input's `attention_mask` to obtain reliable results.\n",
            "Setting `pad_token_id` to `eos_token_id`:2 for open-end generation.\n"
          ]
        },
        {
          "output_type": "stream",
          "name": "stdout",
          "text": [
            "Summary =  The Saccharomyces cerevisae RAD3 gene is the equivalent of the human XPD gene, which is involved in both nucleotide excision repair (NER) and transcription. Some mutant RAD3 alleles, such as rad3-101\n",
            "------------------------\n",
            "Processing item i = 11\n",
            "Processing text = ## Abstract\n",
            "A budget proposal to stop the U . S . Centers for Disease Control and Prevention ( CDC )\n",
            "---------------\n"
          ]
        },
        {
          "output_type": "stream",
          "name": "stderr",
          "text": [
            "The attention mask and the pad token id were not set. As a consequence, you may observe unexpected behavior. Please pass your input's `attention_mask` to obtain reliable results.\n",
            "Setting `pad_token_id` to `eos_token_id`:2 for open-end generation.\n"
          ]
        },
        {
          "output_type": "stream",
          "name": "stdout",
          "text": [
            "Summary =  The proposed budget cut to the US Centers for Disease Control and Prevention (CDC) for surveillance and research of mosquito-borne diseases, such as dengue and West Nile virus, could have serious con\n",
            "------------------------\n",
            "Processing item i = 12\n",
            "Processing text = ## Abstract\n",
            "Insulator or enhancer-blocking elements are proposed to play an important role in the re\n",
            "---------------\n"
          ]
        },
        {
          "output_type": "stream",
          "name": "stderr",
          "text": [
            "The attention mask and the pad token id were not set. As a consequence, you may observe unexpected behavior. Please pass your input's `attention_mask` to obtain reliable results.\n",
            "Setting `pad_token_id` to `eos_token_id`:2 for open-end generation.\n"
          ]
        },
        {
          "output_type": "stream",
          "name": "stdout",
          "text": [
            "Summary =  The research paper uses the chromatin immunopurification (ChIP) method to identify the binding sites of the CTCF protein in the Drosophila genome. The researchers used a CTCF-specific antibody to imm\n",
            "------------------------\n",
            "Processing item i = 13\n",
            "Processing text = ## Abstract\n",
            "Ebolaviruses , highly lethal zoonotic pathogens , possess longer genomes than most other\n",
            "---------------\n"
          ]
        },
        {
          "output_type": "stream",
          "name": "stderr",
          "text": [
            "The attention mask and the pad token id were not set. As a consequence, you may observe unexpected behavior. Please pass your input's `attention_mask` to obtain reliable results.\n",
            "Setting `pad_token_id` to `eos_token_id`:2 for open-end generation.\n"
          ]
        },
        {
          "output_type": "stream",
          "name": "stdout",
          "text": [
            "Summary =  Ebolaviruses are deadly viruses that cause lethal hemorrhagic fever in humans and are a concern as potential bioterrorism agents. There are currently no approved treatments for these infections. The \n",
            "------------------------\n",
            "Processing item i = 14\n",
            "Processing text = ## Abstract\n",
            "Studies of the furious and paralytic forms of canine rabies at the early stage of diseas\n",
            "---------------\n"
          ]
        },
        {
          "output_type": "stream",
          "name": "stderr",
          "text": [
            "The attention mask and the pad token id were not set. As a consequence, you may observe unexpected behavior. Please pass your input's `attention_mask` to obtain reliable results.\n",
            "Setting `pad_token_id` to `eos_token_id`:2 for open-end generation.\n"
          ]
        },
        {
          "output_type": "stream",
          "name": "stdout",
          "text": [
            "Summary =  Rabies is a deadly virus that attacks the nervous system and is usually transmitted through the bite of an infected animal. The disease has two clinical forms: furious and paralytic. In a study of na\n",
            "------------------------\n",
            "Processing item i = 15\n",
            "Processing text = ## Abstract\n",
            "Replication fork integrity , which is essential for the maintenance of genome stability \n",
            "---------------\n"
          ]
        },
        {
          "output_type": "stream",
          "name": "stderr",
          "text": [
            "The attention mask and the pad token id were not set. As a consequence, you may observe unexpected behavior. Please pass your input's `attention_mask` to obtain reliable results.\n",
            "Setting `pad_token_id` to `eos_token_id`:2 for open-end generation.\n"
          ]
        },
        {
          "output_type": "stream",
          "name": "stdout",
          "text": [
            "Summary =  The research paper is about the role of 14-3-3 proteins in maintaining genome stability during DNA replication. When DNA replication is stressed, 14-3-3 proteins help to prevent chromosome breaks and\n",
            "------------------------\n",
            "Processing item i = 16\n",
            "Processing text = ## Abstract\n",
            "Polyarthritis and rash caused by Sindbis virus ( SINV ) , was first recognised in northe\n",
            "---------------\n"
          ]
        },
        {
          "output_type": "stream",
          "name": "stderr",
          "text": [
            "The attention mask and the pad token id were not set. As a consequence, you may observe unexpected behavior. Please pass your input's `attention_mask` to obtain reliable results.\n",
            "Setting `pad_token_id` to `eos_token_id`:2 for open-end generation.\n"
          ]
        },
        {
          "output_type": "stream",
          "name": "stdout",
          "text": [
            "Summary =  Sindbis virus (SINV) is a mosquito-borne virus that causes polyarthritis and rash, known as Ockelbo disease in Sweden and Pogosta disease in Finland. It is mainly found in tropical and sub-tropical c\n",
            "------------------------\n",
            "Processing item i = 17\n",
            "Processing text = ## Abstract\n",
            "With the post-genomic era came a dramatic increase in high-throughput technologies , of \n",
            "---------------\n"
          ]
        },
        {
          "output_type": "stream",
          "name": "stderr",
          "text": [
            "The attention mask and the pad token id were not set. As a consequence, you may observe unexpected behavior. Please pass your input's `attention_mask` to obtain reliable results.\n",
            "Setting `pad_token_id` to `eos_token_id`:2 for open-end generation.\n"
          ]
        },
        {
          "output_type": "stream",
          "name": "stdout",
          "text": [
            "Summary =  This research uses the lab worm Caenorhabditis elegans to study how native soil nematodes interact with their environment. The researchers isolated bacteria from grassland prairie soils and used C. e\n",
            "------------------------\n",
            "Processing item i = 18\n",
            "Processing text = ## Abstract\n",
            "Centromeres are the attachment points between the genome and the cytoskeleton: centromer\n",
            "---------------\n"
          ]
        },
        {
          "output_type": "stream",
          "name": "stderr",
          "text": [
            "The attention mask and the pad token id were not set. As a consequence, you may observe unexpected behavior. Please pass your input's `attention_mask` to obtain reliable results.\n",
            "Setting `pad_token_id` to `eos_token_id`:2 for open-end generation.\n"
          ]
        },
        {
          "output_type": "stream",
          "name": "stdout",
          "text": [
            "Summary =  The research paper is about the epigenetic marking system in centromeres, the attachment points between the genome and the cytoskeleton. The DNA sequence of centromeres has little role in perpetuatin\n",
            "------------------------\n",
            "Processing item i = 19\n",
            "Processing text = ## Abstract\n",
            "Humans are a diploid species that inherit one set of chromosomes paternally and one homo\n",
            "---------------\n"
          ]
        },
        {
          "output_type": "stream",
          "name": "stderr",
          "text": [
            "The attention mask and the pad token id were not set. As a consequence, you may observe unexpected behavior. Please pass your input's `attention_mask` to obtain reliable results.\n",
            "Setting `pad_token_id` to `eos_token_id`:2 for open-end generation.\n"
          ]
        },
        {
          "output_type": "stream",
          "name": "stdout",
          "text": [
            "Summary =  The text is a research paper about phasing human genomes, which is the process of determining the unique nucleotide content of each of the two chromosomes in the 23 pairs that make up a human genome.\n",
            "------------------------\n",
            "Processing item i = 20\n",
            "Processing text = ## Abstract\n",
            "In contrast to HIV infection in humans and SIV in macaques , SIV infection of natural ho\n",
            "---------------\n"
          ]
        },
        {
          "output_type": "stream",
          "name": "stderr",
          "text": [
            "The attention mask and the pad token id were not set. As a consequence, you may observe unexpected behavior. Please pass your input's `attention_mask` to obtain reliable results.\n",
            "Setting `pad_token_id` to `eos_token_id`:2 for open-end generation.\n"
          ]
        },
        {
          "output_type": "stream",
          "name": "stdout",
          "text": [
            "Summary =  Sooty mangabeys (SM) are natural hosts of the simian immunodeficiency virus (SIV) that doesn't cause disease in them. A study found that 8% of SM have a mutation in the CCR5 gene, which encodes a pro\n",
            "------------------------\n",
            "Processing item i = 21\n",
            "Processing text = ## Abstract\n",
            "Individuals choose their mates so as to maximize reproductive success , and one importan\n",
            "---------------\n"
          ]
        },
        {
          "output_type": "stream",
          "name": "stderr",
          "text": [
            "The attention mask and the pad token id were not set. As a consequence, you may observe unexpected behavior. Please pass your input's `attention_mask` to obtain reliable results.\n",
            "Setting `pad_token_id` to `eos_token_id`:2 for open-end generation.\n"
          ]
        },
        {
          "output_type": "stream",
          "name": "stdout",
          "text": [
            "Summary =  In this study, researchers investigated the link between insulin signaling, reproduction, and attractiveness in fruit flies. They found that global activation of insulin signaling increases attractiv\n",
            "------------------------\n",
            "Processing item i = 22\n",
            "Processing text = ## Abstract\n",
            "Breast cancers that are “triple-negative” for the clinical markers ESR1 , PGR , and HER2\n",
            "---------------\n"
          ]
        },
        {
          "output_type": "stream",
          "name": "stderr",
          "text": [
            "The attention mask and the pad token id were not set. As a consequence, you may observe unexpected behavior. Please pass your input's `attention_mask` to obtain reliable results.\n",
            "Setting `pad_token_id` to `eos_token_id`:2 for open-end generation.\n"
          ]
        },
        {
          "output_type": "stream",
          "name": "stdout",
          "text": [
            "Summary =  This research paper discusses the connection between breast cancer and the inactivation of three tumor suppressor pathways: Rb, p53, and BRCA1. The researchers created a mouse model with combined ina\n",
            "------------------------\n",
            "Processing item i = 23\n",
            "Processing text = ## Abstract\n",
            "Pathogen-associated secretion systems translocate numerous effector proteins into eukary\n",
            "---------------\n"
          ]
        },
        {
          "output_type": "stream",
          "name": "stderr",
          "text": [
            "The attention mask and the pad token id were not set. As a consequence, you may observe unexpected behavior. Please pass your input's `attention_mask` to obtain reliable results.\n",
            "Setting `pad_token_id` to `eos_token_id`:2 for open-end generation.\n"
          ]
        },
        {
          "output_type": "stream",
          "name": "stdout",
          "text": [
            "Summary =  Legionella pneumophila, a bacterium that causes a severe pneumonia called Legionnaires' disease, uses a type IV secretion system to inject effector proteins into host cells. One of these effectors, L\n",
            "------------------------\n",
            "Processing item i = 24\n",
            "Processing text = ## Abstract\n",
            "The inference of regulatory interactions and quantitative models of gene regulation from\n",
            "---------------\n"
          ]
        },
        {
          "output_type": "stream",
          "name": "stderr",
          "text": [
            "The attention mask and the pad token id were not set. As a consequence, you may observe unexpected behavior. Please pass your input's `attention_mask` to obtain reliable results.\n",
            "Setting `pad_token_id` to `eos_token_id`:2 for open-end generation.\n"
          ]
        },
        {
          "output_type": "stream",
          "name": "stdout",
          "text": [
            "Summary =  This research paper uses time-series transcriptomics data to study the FliA-FlgM module of the E. coli motility network. The paper measures the activity of genes involved in this module in real time \n",
            "------------------------\n",
            "Processing item i = 25\n",
            "Processing text = ## Abstract\n",
            "Soil-transmitted helminth ( STH ) infections ( i . e . , Ascaris lumbricoides , hookworm\n",
            "---------------\n"
          ]
        },
        {
          "output_type": "stream",
          "name": "stderr",
          "text": [
            "The attention mask and the pad token id were not set. As a consequence, you may observe unexpected behavior. Please pass your input's `attention_mask` to obtain reliable results.\n",
            "Setting `pad_token_id` to `eos_token_id`:2 for open-end generation.\n"
          ]
        },
        {
          "output_type": "stream",
          "name": "stdout",
          "text": [
            "Summary =  Soil-transmitted helminth (STH) infections, such as Ascaris lumbricoides, hookworm, and Trichuris trichiura, affect more than a billion people worldwide. These infections are more common in developin\n",
            "------------------------\n",
            "Processing item i = 26\n",
            "Processing text = ## Abstract\n",
            "Prompt post-exposure prophylaxis ( PEP ) is essential in preventing the fatal onset of d\n",
            "---------------\n"
          ]
        },
        {
          "output_type": "stream",
          "name": "stderr",
          "text": [
            "The attention mask and the pad token id were not set. As a consequence, you may observe unexpected behavior. Please pass your input's `attention_mask` to obtain reliable results.\n",
            "Setting `pad_token_id` to `eos_token_id`:2 for open-end generation.\n"
          ]
        },
        {
          "output_type": "stream",
          "name": "stdout",
          "text": [
            "Summary =  Rabies is a fatal disease that can be prevented through prompt and appropriate post-exposure prophylaxis (PEP). However, in many low-income countries, life-saving rabies vaccines are not always avail\n",
            "------------------------\n",
            "Processing item i = 27\n",
            "Processing text = ## Abstract\n",
            "Uganda has active foci of both chronic and acute HAT with the acute zoonotic form of dis\n",
            "---------------\n"
          ]
        },
        {
          "output_type": "stream",
          "name": "stderr",
          "text": [
            "The attention mask and the pad token id were not set. As a consequence, you may observe unexpected behavior. Please pass your input's `attention_mask` to obtain reliable results.\n",
            "Setting `pad_token_id` to `eos_token_id`:2 for open-end generation.\n"
          ]
        },
        {
          "output_type": "stream",
          "name": "stdout",
          "text": [
            "Summary =  In Uganda, there are active foci of both chronic and acute Human African Trypanosomiasis (HAT), a deadly disease spread by the tsetse fly. The acute form of the disease, caused by T. b. rhodesiense, \n",
            "------------------------\n",
            "Processing item i = 28\n",
            "Processing text = ## Abstract\n",
            "Dietary restriction ( DR ) extends lifespan in various species and also slows the onset \n",
            "---------------\n"
          ]
        },
        {
          "output_type": "stream",
          "name": "stderr",
          "text": [
            "The attention mask and the pad token id were not set. As a consequence, you may observe unexpected behavior. Please pass your input's `attention_mask` to obtain reliable results.\n",
            "Setting `pad_token_id` to `eos_token_id`:2 for open-end generation.\n"
          ]
        },
        {
          "output_type": "stream",
          "name": "stdout",
          "text": [
            "Summary =  Dietary restriction (DR) can extend lifespan in various species and delay age-related diseases. The TOR pathway is essential for longevity phenotypes resulting from DR in flies, yeast, and worms. TOR\n",
            "------------------------\n",
            "Processing item i = 29\n",
            "Processing text = ## Abstract\n",
            "The unique capability of acetogens to ferment a broad range of substrates renders them i\n",
            "---------------\n"
          ]
        },
        {
          "output_type": "stream",
          "name": "stderr",
          "text": [
            "The attention mask and the pad token id were not set. As a consequence, you may observe unexpected behavior. Please pass your input's `attention_mask` to obtain reliable results.\n",
            "Setting `pad_token_id` to `eos_token_id`:2 for open-end generation.\n"
          ]
        },
        {
          "output_type": "stream",
          "name": "stdout",
          "text": [
            "Summary =  Acetogens are ideal for sustainable bioproduction due to their ability to grow on H2, CO2, or syngas. However, advanced design strategies for acetogens are limited by incomplete knowledge of their ph\n",
            "------------------------\n",
            "Processing item i = 30\n",
            "Processing text = ## Abstract\n",
            "Arabidopsis thaliana cryptochrome 2 ( CRY2 ) mediates light control of flowering time . \n",
            "---------------\n"
          ]
        },
        {
          "output_type": "stream",
          "name": "stderr",
          "text": [
            "The attention mask and the pad token id were not set. As a consequence, you may observe unexpected behavior. Please pass your input's `attention_mask` to obtain reliable results.\n",
            "Setting `pad_token_id` to `eos_token_id`:2 for open-end generation.\n"
          ]
        },
        {
          "output_type": "stream",
          "name": "stdout",
          "text": [
            "Summary =  Arabidopsis thaliana cryptochrome 2 (CRY2) regulates flowering time by mediating the light control of flowering time. CRY2 interacts with CIB1 (CRY2-interacting bHLH 1) in response to blue light to a\n",
            "------------------------\n",
            "Processing item i = 31\n",
            "Processing text = ## Abstract\n",
            "Enteric bacterial pathogens cause food borne disease , which constitutes an enormous eco\n",
            "---------------\n"
          ]
        },
        {
          "output_type": "stream",
          "name": "stderr",
          "text": [
            "The attention mask and the pad token id were not set. As a consequence, you may observe unexpected behavior. Please pass your input's `attention_mask` to obtain reliable results.\n",
            "Setting `pad_token_id` to `eos_token_id`:2 for open-end generation.\n"
          ]
        },
        {
          "output_type": "stream",
          "name": "stdout",
          "text": [
            "Summary =  Enterohemorrhagic Escherichia coli (EHEC) causes severe diarrhea and potentially fatal kidney disease in humans. EHEC and other enteric pathogens use a type III secretion system (T3SS) to inject viru\n",
            "------------------------\n",
            "Processing item i = 32\n",
            "Processing text = ## Abstract\n",
            "High-altitude hypoxia ( reduced inspired oxygen tension due to decreased barometric pres\n",
            "---------------\n"
          ]
        },
        {
          "output_type": "stream",
          "name": "stderr",
          "text": [
            "The attention mask and the pad token id were not set. As a consequence, you may observe unexpected behavior. Please pass your input's `attention_mask` to obtain reliable results.\n",
            "Setting `pad_token_id` to `eos_token_id`:2 for open-end generation.\n"
          ]
        },
        {
          "output_type": "stream",
          "name": "stdout",
          "text": [
            "Summary =  High-altitude hypoxia, caused by decreased barometric pressure and oxygen tension, poses significant physiological challenges to human populations living at high altitudes, such as the Andean Altipla\n",
            "------------------------\n",
            "Processing item i = 33\n",
            "Processing text = ## Abstract\n",
            "Machupo virus ( MACV ) , a New World arenavirus , is the etiological agent of Bolivian h\n",
            "---------------\n"
          ]
        },
        {
          "output_type": "stream",
          "name": "stderr",
          "text": [
            "The attention mask and the pad token id were not set. As a consequence, you may observe unexpected behavior. Please pass your input's `attention_mask` to obtain reliable results.\n",
            "Setting `pad_token_id` to `eos_token_id`:2 for open-end generation.\n"
          ]
        },
        {
          "output_type": "stream",
          "name": "stdout",
          "text": [
            "Summary =  The Machupo virus (MACV) is a New World arenavirus that causes Bolivian hemorrhagic fever (BHF), a disease with similar symptoms to Argentine hemorrhagic fever (AHF) caused by Junin virus (JUNV). Bot\n",
            "------------------------\n",
            "Processing item i = 34\n",
            "Processing text = ## Abstract\n",
            "Serological tests for IgM and IgG are routinely used in clinical laboratories for the ra\n",
            "---------------\n"
          ]
        },
        {
          "output_type": "stream",
          "name": "stderr",
          "text": [
            "The attention mask and the pad token id were not set. As a consequence, you may observe unexpected behavior. Please pass your input's `attention_mask` to obtain reliable results.\n",
            "Setting `pad_token_id` to `eos_token_id`:2 for open-end generation.\n"
          ]
        },
        {
          "output_type": "stream",
          "name": "stdout",
          "text": [
            "Summary =  Dengue is a significant public health threat, with 50 to 100 million cases per year and 3 billion people at risk. It is caused by the dengue virus, which has four serotypes (DENV1-4). The virus is tr\n",
            "------------------------\n",
            "Processing item i = 35\n",
            "Processing text = ## Abstract\n",
            "Toll/interleukin-1 receptor ( TIR ) domains in Toll-like receptors are essential for ini\n",
            "---------------\n"
          ]
        },
        {
          "output_type": "stream",
          "name": "stderr",
          "text": [
            "The attention mask and the pad token id were not set. As a consequence, you may observe unexpected behavior. Please pass your input's `attention_mask` to obtain reliable results.\n",
            "Setting `pad_token_id` to `eos_token_id`:2 for open-end generation.\n"
          ]
        },
        {
          "output_type": "stream",
          "name": "stdout",
          "text": [
            "Summary =  The text is a medical research paper about the Toll-like receptors (TLRs) and their role in the innate immune system. TLRs are part of the Toll-like receptor/interleukin-1 receptor (TLR/IL-1R) superf\n",
            "------------------------\n",
            "Processing item i = 36\n",
            "Processing text = ## Abstract\n",
            "Protein modifications play a major role for most biological processes in living organism\n",
            "---------------\n"
          ]
        },
        {
          "output_type": "stream",
          "name": "stderr",
          "text": [
            "The attention mask and the pad token id were not set. As a consequence, you may observe unexpected behavior. Please pass your input's `attention_mask` to obtain reliable results.\n",
            "Setting `pad_token_id` to `eos_token_id`:2 for open-end generation.\n"
          ]
        },
        {
          "output_type": "stream",
          "name": "stdout",
          "text": [
            "Summary =  This research paper analyzes the N-terminal peptides from proteins extracted from Drosophila Kc167 cells to understand the biological function of N-terminal acetylation. The study finds that N-termin\n",
            "------------------------\n",
            "Processing item i = 37\n",
            "Processing text = ## Abstract\n",
            "Exosomes can transfer genetic materials between cells . Their roles in viral infections \n",
            "---------------\n"
          ]
        },
        {
          "output_type": "stream",
          "name": "stderr",
          "text": [
            "The attention mask and the pad token id were not set. As a consequence, you may observe unexpected behavior. Please pass your input's `attention_mask` to obtain reliable results.\n",
            "Setting `pad_token_id` to `eos_token_id`:2 for open-end generation.\n"
          ]
        },
        {
          "output_type": "stream",
          "name": "stdout",
          "text": [
            "Summary =  Enterovirus 71 (EV71) is a non-enveloped virus that causes hand-foot-and-mouth disease, and can sometimes lead to severe complications such as brain inflammation and lung congestion. A recent study f\n",
            "------------------------\n",
            "Processing item i = 38\n",
            "Processing text = ## Abstract\n",
            "According to recent experimental evidence , the interaction between chromatin loops , wh\n",
            "---------------\n"
          ]
        },
        {
          "output_type": "stream",
          "name": "stderr",
          "text": [
            "The attention mask and the pad token id were not set. As a consequence, you may observe unexpected behavior. Please pass your input's `attention_mask` to obtain reliable results.\n",
            "Setting `pad_token_id` to `eos_token_id`:2 for open-end generation.\n"
          ]
        },
        {
          "output_type": "stream",
          "name": "stdout",
          "text": [
            "Summary =  The text is about a research paper on the role of chromatin loops in gene expression. Chromatin loops are formed when regulatory elements, such as enhancers and promoters, interact with each other. T\n",
            "------------------------\n",
            "Processing item i = 39\n",
            "Processing text = ## Abstract\n",
            "Predicting the dynamic behavior of a large network from that of the composing modules is\n",
            "---------------\n"
          ]
        },
        {
          "output_type": "stream",
          "name": "stderr",
          "text": [
            "The attention mask and the pad token id were not set. As a consequence, you may observe unexpected behavior. Please pass your input's `attention_mask` to obtain reliable results.\n",
            "Setting `pad_token_id` to `eos_token_id`:2 for open-end generation.\n"
          ]
        },
        {
          "output_type": "stream",
          "name": "stdout",
          "text": [
            "Summary =  This text is a medical research paper about the behavior of gene transcription networks and how they are affected by retroactivity. Retroactivity is a phenomenon where the connection of a module to o\n",
            "------------------------\n",
            "Processing item i = 40\n",
            "Processing text = ## Abstract\n",
            "The 5-year survival of non-small cell lung cancer patients can be as low as 1% in advanc\n",
            "---------------\n"
          ]
        },
        {
          "output_type": "stream",
          "name": "stderr",
          "text": [
            "The attention mask and the pad token id were not set. As a consequence, you may observe unexpected behavior. Please pass your input's `attention_mask` to obtain reliable results.\n",
            "Setting `pad_token_id` to `eos_token_id`:2 for open-end generation.\n"
          ]
        },
        {
          "output_type": "stream",
          "name": "stdout",
          "text": [
            "Summary =  The text is about a research paper on the use of a mechanistic model to estimate the cell killing efficacy of chemotherapy for non-small cell lung cancer (NSCLC) patients. The model takes into accoun\n",
            "------------------------\n",
            "Processing item i = 41\n",
            "Processing text = ## Abstract\n",
            "The mechanisms and treatment of psychomotor retardation , which includes motor and cogni\n",
            "---------------\n"
          ]
        },
        {
          "output_type": "stream",
          "name": "stderr",
          "text": [
            "The attention mask and the pad token id were not set. As a consequence, you may observe unexpected behavior. Please pass your input's `attention_mask` to obtain reliable results.\n",
            "Setting `pad_token_id` to `eos_token_id`:2 for open-end generation.\n"
          ]
        },
        {
          "output_type": "stream",
          "name": "stdout",
          "text": [
            "Summary =  The Allan-Herndon-Dudley syndrome (AHDS) is a genetic disorder that affects brain development and results in severe psychomotor retardation. It is caused by mutations in the monocarboxylate transport\n",
            "------------------------\n",
            "Processing item i = 42\n",
            "Processing text = ## Abstract\n",
            "Natural selection drives populations towards higher fitness , but crossing fitness valle\n",
            "---------------\n"
          ]
        },
        {
          "output_type": "stream",
          "name": "stderr",
          "text": [
            "The attention mask and the pad token id were not set. As a consequence, you may observe unexpected behavior. Please pass your input's `attention_mask` to obtain reliable results.\n",
            "Setting `pad_token_id` to `eos_token_id`:2 for open-end generation.\n"
          ]
        },
        {
          "output_type": "stream",
          "name": "stdout",
          "text": [
            "Summary =  This research investigates the impact of population subdivision on the time it takes for a population to cross a fitness valley or plateau in a rugged fitness landscape. The researchers use a simple \n",
            "------------------------\n",
            "Processing item i = 43\n",
            "Processing text = ## Abstract\n",
            "The nuclear pore complex ( NPC ) regulates molecular traffic across the nuclear envelope\n",
            "---------------\n"
          ]
        },
        {
          "output_type": "stream",
          "name": "stderr",
          "text": [
            "The attention mask and the pad token id were not set. As a consequence, you may observe unexpected behavior. Please pass your input's `attention_mask` to obtain reliable results.\n",
            "Setting `pad_token_id` to `eos_token_id`:2 for open-end generation.\n"
          ]
        },
        {
          "output_type": "stream",
          "name": "stdout",
          "text": [
            "Summary =  The nuclear pore complex (NPC) is a crucial structure in the cell that regulates the transport of molecules across the nuclear envelope. Though the NPC's structure is highly conserved across species,\n",
            "------------------------\n",
            "Processing item i = 44\n",
            "Processing text = ## Abstract\n",
            "Staphylococcus aureus is an opportunistic pathogen that colonizes the skin and mucosal s\n",
            "---------------\n"
          ]
        },
        {
          "output_type": "stream",
          "name": "stderr",
          "text": [
            "The attention mask and the pad token id were not set. As a consequence, you may observe unexpected behavior. Please pass your input's `attention_mask` to obtain reliable results.\n",
            "Setting `pad_token_id` to `eos_token_id`:2 for open-end generation.\n"
          ]
        },
        {
          "output_type": "stream",
          "name": "stdout",
          "text": [
            "Summary =  Staphylococcus aureus is a bacterium that can cause various diseases, and it forms biofilms that are resistant to host immune responses and chemotherapies. Biofilms are made up of proteins, polysacch\n",
            "------------------------\n",
            "Processing item i = 45\n",
            "Processing text = ## Abstract\n",
            "The Type II Secretion System ( T2SS ) is a molecular machine that drives the secretion o\n",
            "---------------\n"
          ]
        },
        {
          "output_type": "stream",
          "name": "stderr",
          "text": [
            "The attention mask and the pad token id were not set. As a consequence, you may observe unexpected behavior. Please pass your input's `attention_mask` to obtain reliable results.\n",
            "Setting `pad_token_id` to `eos_token_id`:2 for open-end generation.\n"
          ]
        },
        {
          "output_type": "stream",
          "name": "stdout",
          "text": [
            "Summary =  The Type II Secretion System (T2SS) is a molecular machine used by certain bacteria to secrete proteins through their outer membrane. It consists of three main forms, each with a different sequence o\n",
            "------------------------\n",
            "Processing item i = 46\n",
            "Processing text = ## Abstract\n",
            "Burkholderia pseudomallei is a mostly saprophytic bacterium , but can infect humans wher\n",
            "---------------\n"
          ]
        },
        {
          "output_type": "stream",
          "name": "stderr",
          "text": [
            "The attention mask and the pad token id were not set. As a consequence, you may observe unexpected behavior. Please pass your input's `attention_mask` to obtain reliable results.\n",
            "Setting `pad_token_id` to `eos_token_id`:2 for open-end generation.\n"
          ]
        },
        {
          "output_type": "stream",
          "name": "stdout",
          "text": [
            "Summary =  Burkholderia pseudomallei is a bacterium that causes melioidosis, a serious disease with high mortality rates even with proper diagnosis and treatment. The bacterium is considered an emerging pathoge\n",
            "------------------------\n",
            "Processing item i = 47\n",
            "Processing text = ## Abstract\n",
            "Offspring of Schistosoma mansoni-infected women in schistosomiasis-endemic areas may be \n",
            "---------------\n"
          ]
        },
        {
          "output_type": "stream",
          "name": "stderr",
          "text": [
            "The attention mask and the pad token id were not set. As a consequence, you may observe unexpected behavior. Please pass your input's `attention_mask` to obtain reliable results.\n",
            "Setting `pad_token_id` to `eos_token_id`:2 for open-end generation.\n"
          ]
        },
        {
          "output_type": "stream",
          "name": "stdout",
          "text": [
            "Summary =  Schistosomiasis is a parasitic infection that can affect pregnant women and their unborn children. A study in Uganda examined the effects of praziquantel treatment of Schistosoma mansoni during pregn\n",
            "------------------------\n",
            "Processing item i = 48\n",
            "Processing text = ## Abstract\n",
            "Hox proteins play fundamental roles in controlling morphogenetic diversity along the ant\n",
            "---------------\n"
          ]
        },
        {
          "output_type": "stream",
          "name": "stderr",
          "text": [
            "The attention mask and the pad token id were not set. As a consequence, you may observe unexpected behavior. Please pass your input's `attention_mask` to obtain reliable results.\n",
            "Setting `pad_token_id` to `eos_token_id`:2 for open-end generation.\n"
          ]
        },
        {
          "output_type": "stream",
          "name": "stdout",
          "text": [
            "Summary =  The research paper is about the regulation of the cell death gene, reaper (rpr), by the Hox protein, Deformed (Dfd), in Drosophila. The researchers found that Dfd regulates rpr expression in a highly\n",
            "------------------------\n",
            "Processing item i = 49\n",
            "Processing text = ## Abstract\n",
            "The antiproliferative response to anticancer treatment is the result of concurrent respo\n",
            "---------------\n",
            "Summary =  This research uses time-lapse live cell microscopy and flow cytometry to study how cancer cells respond to X-ray treatment. The researchers built a computational model to simulate the process of prol\n",
            "------------------------\n"
          ]
        }
      ]
    },
    {
      "cell_type": "code",
      "source": [
        "# write output\n",
        "# filename = \"./data/eLife_val_output.csv\"\n",
        "filename = \"./data/plos_val_output.csv\"\n",
        "\n",
        "df.to_csv(filename,\n",
        "          index=False)"
      ],
      "metadata": {
        "id": "MNPtzjwFytIm"
      },
      "execution_count": 24,
      "outputs": []
    },
    {
      "cell_type": "code",
      "source": [
        "# write txt file\n",
        "filename_txt = \"./data/plos.txt\"\n",
        "\n",
        "# clean text -> 1 paragraph\n",
        "df[\"txt_summary\"] = df[\"mixtral_summary\"].apply(lambda text: (text\n",
        "                                                              .replace(\"\\n\", \"\")\n",
        "                                                              .strip('\"')\n",
        "                                                              .strip()\n",
        "                                                              ))\n",
        "\n",
        "df[\"txt_summary\"].to_csv(filename_txt,\n",
        "                         index=False,\n",
        "                         header=False,\n",
        "                         sep=\"\\n\"\n",
        "\n",
        "                         )"
      ],
      "metadata": {
        "id": "9jU6nXFnc2XX"
      },
      "execution_count": 30,
      "outputs": []
    }
  ],
  "metadata": {
    "accelerator": "GPU",
    "colab": {
      "gpuType": "A100",
      "machine_shape": "hm",
      "provenance": []
    },
    "kernelspec": {
      "display_name": "Python 3",
      "name": "python3"
    },
    "language_info": {
      "codemirror_mode": {
        "name": "ipython",
        "version": 3
      },
      "file_extension": ".py",
      "mimetype": "text/x-python",
      "name": "python",
      "nbconvert_exporter": "python",
      "pygments_lexer": "ipython3",
      "version": "3.11.8"
    },
    "widgets": {
      "application/vnd.jupyter.widget-state+json": {
        "22f5b3ca278d4e4db740a970da2a5406": {
          "model_module": "@jupyter-widgets/controls",
          "model_name": "HBoxModel",
          "model_module_version": "1.5.0",
          "state": {
            "_dom_classes": [],
            "_model_module": "@jupyter-widgets/controls",
            "_model_module_version": "1.5.0",
            "_model_name": "HBoxModel",
            "_view_count": null,
            "_view_module": "@jupyter-widgets/controls",
            "_view_module_version": "1.5.0",
            "_view_name": "HBoxView",
            "box_style": "",
            "children": [
              "IPY_MODEL_ea4936c4deef4a70877a8c3bc1fa8f5a",
              "IPY_MODEL_b3ddf69b27a943159a6164e6c4508450",
              "IPY_MODEL_eac16269ddac4825998b5762bc132d58"
            ],
            "layout": "IPY_MODEL_582c89b35e034c7ab5a467226e41ad37"
          }
        },
        "ea4936c4deef4a70877a8c3bc1fa8f5a": {
          "model_module": "@jupyter-widgets/controls",
          "model_name": "HTMLModel",
          "model_module_version": "1.5.0",
          "state": {
            "_dom_classes": [],
            "_model_module": "@jupyter-widgets/controls",
            "_model_module_version": "1.5.0",
            "_model_name": "HTMLModel",
            "_view_count": null,
            "_view_module": "@jupyter-widgets/controls",
            "_view_module_version": "1.5.0",
            "_view_name": "HTMLView",
            "description": "",
            "description_tooltip": null,
            "layout": "IPY_MODEL_f4b674e2095e47e1b347d5ea0a24221c",
            "placeholder": "​",
            "style": "IPY_MODEL_1aa305d7c82146c9a62d2cded067efe0",
            "value": "Loading checkpoint shards: 100%"
          }
        },
        "b3ddf69b27a943159a6164e6c4508450": {
          "model_module": "@jupyter-widgets/controls",
          "model_name": "FloatProgressModel",
          "model_module_version": "1.5.0",
          "state": {
            "_dom_classes": [],
            "_model_module": "@jupyter-widgets/controls",
            "_model_module_version": "1.5.0",
            "_model_name": "FloatProgressModel",
            "_view_count": null,
            "_view_module": "@jupyter-widgets/controls",
            "_view_module_version": "1.5.0",
            "_view_name": "ProgressView",
            "bar_style": "success",
            "description": "",
            "description_tooltip": null,
            "layout": "IPY_MODEL_7edd33fbd9fb4fcba1ecb304b064c371",
            "max": 19,
            "min": 0,
            "orientation": "horizontal",
            "style": "IPY_MODEL_a8b9413446724edba045043c7010cfe4",
            "value": 19
          }
        },
        "eac16269ddac4825998b5762bc132d58": {
          "model_module": "@jupyter-widgets/controls",
          "model_name": "HTMLModel",
          "model_module_version": "1.5.0",
          "state": {
            "_dom_classes": [],
            "_model_module": "@jupyter-widgets/controls",
            "_model_module_version": "1.5.0",
            "_model_name": "HTMLModel",
            "_view_count": null,
            "_view_module": "@jupyter-widgets/controls",
            "_view_module_version": "1.5.0",
            "_view_name": "HTMLView",
            "description": "",
            "description_tooltip": null,
            "layout": "IPY_MODEL_61483ca309304f8f86a901e9879a5ab4",
            "placeholder": "​",
            "style": "IPY_MODEL_341a8455c26348d2a43525c95d8013d5",
            "value": " 19/19 [05:39&lt;00:00, 16.81s/it]"
          }
        },
        "582c89b35e034c7ab5a467226e41ad37": {
          "model_module": "@jupyter-widgets/base",
          "model_name": "LayoutModel",
          "model_module_version": "1.2.0",
          "state": {
            "_model_module": "@jupyter-widgets/base",
            "_model_module_version": "1.2.0",
            "_model_name": "LayoutModel",
            "_view_count": null,
            "_view_module": "@jupyter-widgets/base",
            "_view_module_version": "1.2.0",
            "_view_name": "LayoutView",
            "align_content": null,
            "align_items": null,
            "align_self": null,
            "border": null,
            "bottom": null,
            "display": null,
            "flex": null,
            "flex_flow": null,
            "grid_area": null,
            "grid_auto_columns": null,
            "grid_auto_flow": null,
            "grid_auto_rows": null,
            "grid_column": null,
            "grid_gap": null,
            "grid_row": null,
            "grid_template_areas": null,
            "grid_template_columns": null,
            "grid_template_rows": null,
            "height": null,
            "justify_content": null,
            "justify_items": null,
            "left": null,
            "margin": null,
            "max_height": null,
            "max_width": null,
            "min_height": null,
            "min_width": null,
            "object_fit": null,
            "object_position": null,
            "order": null,
            "overflow": null,
            "overflow_x": null,
            "overflow_y": null,
            "padding": null,
            "right": null,
            "top": null,
            "visibility": null,
            "width": null
          }
        },
        "f4b674e2095e47e1b347d5ea0a24221c": {
          "model_module": "@jupyter-widgets/base",
          "model_name": "LayoutModel",
          "model_module_version": "1.2.0",
          "state": {
            "_model_module": "@jupyter-widgets/base",
            "_model_module_version": "1.2.0",
            "_model_name": "LayoutModel",
            "_view_count": null,
            "_view_module": "@jupyter-widgets/base",
            "_view_module_version": "1.2.0",
            "_view_name": "LayoutView",
            "align_content": null,
            "align_items": null,
            "align_self": null,
            "border": null,
            "bottom": null,
            "display": null,
            "flex": null,
            "flex_flow": null,
            "grid_area": null,
            "grid_auto_columns": null,
            "grid_auto_flow": null,
            "grid_auto_rows": null,
            "grid_column": null,
            "grid_gap": null,
            "grid_row": null,
            "grid_template_areas": null,
            "grid_template_columns": null,
            "grid_template_rows": null,
            "height": null,
            "justify_content": null,
            "justify_items": null,
            "left": null,
            "margin": null,
            "max_height": null,
            "max_width": null,
            "min_height": null,
            "min_width": null,
            "object_fit": null,
            "object_position": null,
            "order": null,
            "overflow": null,
            "overflow_x": null,
            "overflow_y": null,
            "padding": null,
            "right": null,
            "top": null,
            "visibility": null,
            "width": null
          }
        },
        "1aa305d7c82146c9a62d2cded067efe0": {
          "model_module": "@jupyter-widgets/controls",
          "model_name": "DescriptionStyleModel",
          "model_module_version": "1.5.0",
          "state": {
            "_model_module": "@jupyter-widgets/controls",
            "_model_module_version": "1.5.0",
            "_model_name": "DescriptionStyleModel",
            "_view_count": null,
            "_view_module": "@jupyter-widgets/base",
            "_view_module_version": "1.2.0",
            "_view_name": "StyleView",
            "description_width": ""
          }
        },
        "7edd33fbd9fb4fcba1ecb304b064c371": {
          "model_module": "@jupyter-widgets/base",
          "model_name": "LayoutModel",
          "model_module_version": "1.2.0",
          "state": {
            "_model_module": "@jupyter-widgets/base",
            "_model_module_version": "1.2.0",
            "_model_name": "LayoutModel",
            "_view_count": null,
            "_view_module": "@jupyter-widgets/base",
            "_view_module_version": "1.2.0",
            "_view_name": "LayoutView",
            "align_content": null,
            "align_items": null,
            "align_self": null,
            "border": null,
            "bottom": null,
            "display": null,
            "flex": null,
            "flex_flow": null,
            "grid_area": null,
            "grid_auto_columns": null,
            "grid_auto_flow": null,
            "grid_auto_rows": null,
            "grid_column": null,
            "grid_gap": null,
            "grid_row": null,
            "grid_template_areas": null,
            "grid_template_columns": null,
            "grid_template_rows": null,
            "height": null,
            "justify_content": null,
            "justify_items": null,
            "left": null,
            "margin": null,
            "max_height": null,
            "max_width": null,
            "min_height": null,
            "min_width": null,
            "object_fit": null,
            "object_position": null,
            "order": null,
            "overflow": null,
            "overflow_x": null,
            "overflow_y": null,
            "padding": null,
            "right": null,
            "top": null,
            "visibility": null,
            "width": null
          }
        },
        "a8b9413446724edba045043c7010cfe4": {
          "model_module": "@jupyter-widgets/controls",
          "model_name": "ProgressStyleModel",
          "model_module_version": "1.5.0",
          "state": {
            "_model_module": "@jupyter-widgets/controls",
            "_model_module_version": "1.5.0",
            "_model_name": "ProgressStyleModel",
            "_view_count": null,
            "_view_module": "@jupyter-widgets/base",
            "_view_module_version": "1.2.0",
            "_view_name": "StyleView",
            "bar_color": null,
            "description_width": ""
          }
        },
        "61483ca309304f8f86a901e9879a5ab4": {
          "model_module": "@jupyter-widgets/base",
          "model_name": "LayoutModel",
          "model_module_version": "1.2.0",
          "state": {
            "_model_module": "@jupyter-widgets/base",
            "_model_module_version": "1.2.0",
            "_model_name": "LayoutModel",
            "_view_count": null,
            "_view_module": "@jupyter-widgets/base",
            "_view_module_version": "1.2.0",
            "_view_name": "LayoutView",
            "align_content": null,
            "align_items": null,
            "align_self": null,
            "border": null,
            "bottom": null,
            "display": null,
            "flex": null,
            "flex_flow": null,
            "grid_area": null,
            "grid_auto_columns": null,
            "grid_auto_flow": null,
            "grid_auto_rows": null,
            "grid_column": null,
            "grid_gap": null,
            "grid_row": null,
            "grid_template_areas": null,
            "grid_template_columns": null,
            "grid_template_rows": null,
            "height": null,
            "justify_content": null,
            "justify_items": null,
            "left": null,
            "margin": null,
            "max_height": null,
            "max_width": null,
            "min_height": null,
            "min_width": null,
            "object_fit": null,
            "object_position": null,
            "order": null,
            "overflow": null,
            "overflow_x": null,
            "overflow_y": null,
            "padding": null,
            "right": null,
            "top": null,
            "visibility": null,
            "width": null
          }
        },
        "341a8455c26348d2a43525c95d8013d5": {
          "model_module": "@jupyter-widgets/controls",
          "model_name": "DescriptionStyleModel",
          "model_module_version": "1.5.0",
          "state": {
            "_model_module": "@jupyter-widgets/controls",
            "_model_module_version": "1.5.0",
            "_model_name": "DescriptionStyleModel",
            "_view_count": null,
            "_view_module": "@jupyter-widgets/base",
            "_view_module_version": "1.2.0",
            "_view_name": "StyleView",
            "description_width": ""
          }
        }
      }
    }
  },
  "nbformat": 4,
  "nbformat_minor": 0
}