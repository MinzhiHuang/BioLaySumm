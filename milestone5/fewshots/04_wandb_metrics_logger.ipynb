{
 "cells": [
  {
   "cell_type": "markdown",
   "id": "2726d66d-2042-4487-9df1-4cc4c37d9340",
   "metadata": {},
   "source": [
    "# Weights and Biases Logger"
   ]
  },
  {
   "cell_type": "markdown",
   "id": "da52c9d6-f40b-4d6f-b08a-8a8f2b609cb7",
   "metadata": {},
   "source": [
    "This notebook logs the evaluation metrics of dev set and test set on every model."
   ]
  },
  {
   "cell_type": "code",
   "execution_count": 1,
   "id": "5d2a1998-477f-4aa3-a363-a6424719f86c",
   "metadata": {},
   "outputs": [
    {
     "name": "stderr",
     "output_type": "stream",
     "text": [
      "c:\\Users\\Cheyanne\\miniconda3\\Lib\\site-packages\\numpy\\_distributor_init.py:30: UserWarning: loaded more than 1 DLL from .libs:\n",
      "c:\\Users\\Cheyanne\\miniconda3\\Lib\\site-packages\\numpy\\.libs\\libopenblas.FB5AE2TYXYH2IJRDKGDGQ3XBKLKTF43H.gfortran-win_amd64.dll\n",
      "c:\\Users\\Cheyanne\\miniconda3\\Lib\\site-packages\\numpy\\.libs\\libopenblas64__v0.3.23-246-g3d31191b-gcc_10_3_0.dll\n",
      "  warnings.warn(\"loaded more than 1 DLL from .libs:\"\n"
     ]
    }
   ],
   "source": [
    "import pandas as pd\n",
    "import wandb\n",
    "from configparser import ConfigParser"
   ]
  },
  {
   "cell_type": "markdown",
   "id": "a3cd2aca-c4c0-4b2d-ab91-b61a59fe7a24",
   "metadata": {},
   "source": [
    ".cfg file is a config file that store your personal api key\n",
    "The format inside the file looks like this:\n",
    "```\n",
    "[<YOUR_API_KEY_NAME>]\n",
    "auth_key: <HERE_IS_YOUR_API_KEY>\n",
    "```\n",
    ".gitignore is set on .cfg"
   ]
  },
  {
   "cell_type": "code",
   "execution_count": 2,
   "id": "cad0fe0a-b298-480d-ab64-c695a140d139",
   "metadata": {},
   "outputs": [],
   "source": [
    "parser = ConfigParser()\n",
    "_ = parser.read(\"../../../notebook.cfg\")\n",
    "wandb_api_auth_key = parser.get(\"wandb_api_key\", \"auth_key\")"
   ]
  },
  {
   "cell_type": "code",
   "execution_count": 3,
   "id": "3506cc42-3991-41f8-b73b-b3eee898614d",
   "metadata": {},
   "outputs": [
    {
     "name": "stderr",
     "output_type": "stream",
     "text": [
      "Failed to detect the name of this notebook, you can set it manually with the WANDB_NOTEBOOK_NAME environment variable to enable code saving.\n",
      "\u001b[34m\u001b[1mwandb\u001b[0m: Currently logged in as: \u001b[33mcheyannelam\u001b[0m. Use \u001b[1m`wandb login --relogin`\u001b[0m to force relogin\n",
      "\u001b[34m\u001b[1mwandb\u001b[0m: \u001b[33mWARNING\u001b[0m If you're specifying your api key in code, ensure this code is not shared publicly.\n",
      "\u001b[34m\u001b[1mwandb\u001b[0m: \u001b[33mWARNING\u001b[0m Consider setting the WANDB_API_KEY environment variable, or running `wandb login` from the command line.\n",
      "\u001b[34m\u001b[1mwandb\u001b[0m: Appending key for api.wandb.ai to your netrc file: C:\\Users\\Cheyanne\\.netrc\n"
     ]
    },
    {
     "data": {
      "text/plain": [
       "True"
      ]
     },
     "execution_count": 3,
     "metadata": {},
     "output_type": "execute_result"
    }
   ],
   "source": [
    "wandb.login(key=wandb_api_auth_key)"
   ]
  },
  {
   "cell_type": "markdown",
   "id": "954524a1-7b35-4a26-bd27-65bc331b26e8",
   "metadata": {},
   "source": [
    "# Validation set"
   ]
  },
  {
   "cell_type": "code",
   "execution_count": 4,
   "id": "1ed594a0",
   "metadata": {},
   "outputs": [],
   "source": [
    "# Initialize WandB\n",
    "def wandb_log_eval_metrics(file, data_src, sample_portion, name, tags, job_type='eval', project='BioLaySumm2024', entity='bossy_beaver'):\n",
    "    run_config = {'data_src':data_src, 'sample_portion':sample_portion}\n",
    "    run = wandb.init(project=PROJECT_NAME, entity=ENTITY, \n",
    "                     job_type=job_type, tags=tags, name=name)\n",
    "    \n",
    "    # Open the file in read mode\n",
    "    with open(PATH_TO_VAL_METRICS + \"/\" + file, 'r') as file:\n",
    "        \n",
    "        lines = file.readlines()\n",
    "    \n",
    "    # Create an empty dictionary to store the metrics\n",
    "    metrics = {}\n",
    "    \n",
    "    # Iterate over each line\n",
    "    for line in lines:\n",
    "        # Split the line into key and value using ':' as the delimiter\n",
    "        key, value = line.strip().split(': ')\n",
    "        # Store the key-value pair in the dictionary\n",
    "        metrics[key] = float(value)\n",
    "    print(metrics)\n",
    "    \n",
    "    # Log metrics to WandB\n",
    "    run.log(metrics)\n",
    "    \n",
    "    # Finish WandB run\n",
    "    run.finish()"
   ]
  },
  {
   "cell_type": "code",
   "execution_count": 8,
   "id": "05e153f5-7818-455c-a488-93a9a9919122",
   "metadata": {},
   "outputs": [],
   "source": [
    "model_name = 'biomistral' #'mistral7b_awq'\n",
    "data_type = 'mini_dev' #'test' #\n",
    "method = '3shots' #3, 1\n",
    "withtag = 'notag' #withtag' # \n",
    "\n",
    "PROJECT_NAME = 'BioLaySumm2024'# wandb project name\n",
    "ENTITY = 'bossy_beaver' #change to your wandb team name\n",
    "if withtag == 'notag':\n",
    "    tag_name = ''\n",
    "else:\n",
    "    tag_name = '_'+withtag\n",
    "\n",
    "if data_type == 'mini_dev':\n",
    "    data_name = 'val_mini'\n",
    "else:\n",
    "    data_name = data_type\n",
    "PATH_TO_VAL_METRICS = f'./{model_name}/{method}_with200to300words{tag_name}/{data_name}'\n",
    "VAL_METRICS_FILES = ['elife_scores.txt', 'plos_scores.txt', 'scores.txt']\n",
    "\n",
    "SAMPLE_PORTION = 0.1 if data_type == 'mini_dev' else 1"
   ]
  },
  {
   "cell_type": "code",
   "execution_count": 9,
   "id": "c28dc2f0-699e-42c9-b3be-5709ec52d8ab",
   "metadata": {},
   "outputs": [],
   "source": [
    "# For example we can use these parameters to define our metrics\n",
    "# file = 'elife_scores.txt'\n",
    "# data_src = 'eLife_dev'\n",
    "# sample_portion = 0.1\n",
    "# name = 'dummy_baseline'\n",
    "# tags = ['baseline']"
   ]
  },
  {
   "cell_type": "code",
   "execution_count": 10,
   "id": "35650cd6-50f2-4bc5-b90f-8527ccf01b48",
   "metadata": {},
   "outputs": [
    {
     "data": {
      "text/html": [
       "wandb version 0.16.6 is available!  To upgrade, please run:\n",
       " $ pip install wandb --upgrade"
      ],
      "text/plain": [
       "<IPython.core.display.HTML object>"
      ]
     },
     "metadata": {},
     "output_type": "display_data"
    },
    {
     "data": {
      "text/html": [
       "Tracking run with wandb version 0.16.3"
      ],
      "text/plain": [
       "<IPython.core.display.HTML object>"
      ]
     },
     "metadata": {},
     "output_type": "display_data"
    },
    {
     "data": {
      "text/html": [
       "Run data is saved locally in <code>c:\\Users\\Cheyanne\\ubc\\sem2\\colx531_translation\\COLX_531_bossy_beaver\\milestone5\\fewshots\\wandb\\run-20240416_111128-pjtywfds</code>"
      ],
      "text/plain": [
       "<IPython.core.display.HTML object>"
      ]
     },
     "metadata": {},
     "output_type": "display_data"
    },
    {
     "data": {
      "text/html": [
       "Syncing run <strong><a href='https://wandb.ai/bossy_beaver/BioLaySumm2024/runs/pjtywfds' target=\"_blank\">plos_biomistral_3shots_notag_mini_dev</a></strong> to <a href='https://wandb.ai/bossy_beaver/BioLaySumm2024' target=\"_blank\">Weights & Biases</a> (<a href='https://wandb.me/run' target=\"_blank\">docs</a>)<br/>"
      ],
      "text/plain": [
       "<IPython.core.display.HTML object>"
      ]
     },
     "metadata": {},
     "output_type": "display_data"
    },
    {
     "data": {
      "text/html": [
       " View project at <a href='https://wandb.ai/bossy_beaver/BioLaySumm2024' target=\"_blank\">https://wandb.ai/bossy_beaver/BioLaySumm2024</a>"
      ],
      "text/plain": [
       "<IPython.core.display.HTML object>"
      ]
     },
     "metadata": {},
     "output_type": "display_data"
    },
    {
     "data": {
      "text/html": [
       " View run at <a href='https://wandb.ai/bossy_beaver/BioLaySumm2024/runs/pjtywfds' target=\"_blank\">https://wandb.ai/bossy_beaver/BioLaySumm2024/runs/pjtywfds</a>"
      ],
      "text/plain": [
       "<IPython.core.display.HTML object>"
      ]
     },
     "metadata": {},
     "output_type": "display_data"
    },
    {
     "name": "stdout",
     "output_type": "stream",
     "text": [
      "{'ROUGE1': 0.32027959070350637, 'ROUGE2': 0.09184691865968388, 'ROUGEL': 0.29541749140308293, 'BERTScore': 0.8321343038393103, 'FKGL': 14.853623188405798, 'DCRS': 9.642246376811595, 'CLI': 14.535289855072465, 'LENS': 43.83759635231857, 'AlignScore': 0.6364608373276998, 'SummaC': 0.5903487106164297}\n"
     ]
    },
    {
     "data": {
      "application/vnd.jupyter.widget-view+json": {
       "model_id": "0a23de55c9f041a099a76061a138bab0",
       "version_major": 2,
       "version_minor": 0
      },
      "text/plain": [
       "VBox(children=(Label(value='0.001 MB of 0.001 MB uploaded\\r'), FloatProgress(value=1.0, max=1.0)))"
      ]
     },
     "metadata": {},
     "output_type": "display_data"
    },
    {
     "data": {
      "text/html": [
       "<style>\n",
       "    table.wandb td:nth-child(1) { padding: 0 10px; text-align: left ; width: auto;} td:nth-child(2) {text-align: left ; width: 100%}\n",
       "    .wandb-row { display: flex; flex-direction: row; flex-wrap: wrap; justify-content: flex-start; width: 100% }\n",
       "    .wandb-col { display: flex; flex-direction: column; flex-basis: 100%; flex: 1; padding: 10px; }\n",
       "    </style>\n",
       "<div class=\"wandb-row\"><div class=\"wandb-col\"><h3>Run history:</h3><br/><table class=\"wandb\"><tr><td>AlignScore</td><td>▁</td></tr><tr><td>BERTScore</td><td>▁</td></tr><tr><td>CLI</td><td>▁</td></tr><tr><td>DCRS</td><td>▁</td></tr><tr><td>FKGL</td><td>▁</td></tr><tr><td>LENS</td><td>▁</td></tr><tr><td>ROUGE1</td><td>▁</td></tr><tr><td>ROUGE2</td><td>▁</td></tr><tr><td>ROUGEL</td><td>▁</td></tr><tr><td>SummaC</td><td>▁</td></tr></table><br/></div><div class=\"wandb-col\"><h3>Run summary:</h3><br/><table class=\"wandb\"><tr><td>AlignScore</td><td>0.63646</td></tr><tr><td>BERTScore</td><td>0.83213</td></tr><tr><td>CLI</td><td>14.53529</td></tr><tr><td>DCRS</td><td>9.64225</td></tr><tr><td>FKGL</td><td>14.85362</td></tr><tr><td>LENS</td><td>43.8376</td></tr><tr><td>ROUGE1</td><td>0.32028</td></tr><tr><td>ROUGE2</td><td>0.09185</td></tr><tr><td>ROUGEL</td><td>0.29542</td></tr><tr><td>SummaC</td><td>0.59035</td></tr></table><br/></div></div>"
      ],
      "text/plain": [
       "<IPython.core.display.HTML object>"
      ]
     },
     "metadata": {},
     "output_type": "display_data"
    },
    {
     "data": {
      "text/html": [
       " View run <strong style=\"color:#cdcd00\">plos_biomistral_3shots_notag_mini_dev</strong> at: <a href='https://wandb.ai/bossy_beaver/BioLaySumm2024/runs/pjtywfds' target=\"_blank\">https://wandb.ai/bossy_beaver/BioLaySumm2024/runs/pjtywfds</a><br/>Synced 6 W&B file(s), 0 media file(s), 0 artifact file(s) and 0 other file(s)"
      ],
      "text/plain": [
       "<IPython.core.display.HTML object>"
      ]
     },
     "metadata": {},
     "output_type": "display_data"
    },
    {
     "data": {
      "text/html": [
       "Find logs at: <code>.\\wandb\\run-20240416_111128-pjtywfds\\logs</code>"
      ],
      "text/plain": [
       "<IPython.core.display.HTML object>"
      ]
     },
     "metadata": {},
     "output_type": "display_data"
    },
    {
     "data": {
      "application/vnd.jupyter.widget-view+json": {
       "model_id": "c2051a7a6bcc4b2eac6e8c02baef1553",
       "version_major": 2,
       "version_minor": 0
      },
      "text/plain": [
       "VBox(children=(Label(value='Waiting for wandb.init()...\\r'), FloatProgress(value=0.011111111111111112, max=1.0…"
      ]
     },
     "metadata": {},
     "output_type": "display_data"
    },
    {
     "data": {
      "text/html": [
       "wandb version 0.16.6 is available!  To upgrade, please run:\n",
       " $ pip install wandb --upgrade"
      ],
      "text/plain": [
       "<IPython.core.display.HTML object>"
      ]
     },
     "metadata": {},
     "output_type": "display_data"
    },
    {
     "data": {
      "text/html": [
       "Tracking run with wandb version 0.16.3"
      ],
      "text/plain": [
       "<IPython.core.display.HTML object>"
      ]
     },
     "metadata": {},
     "output_type": "display_data"
    },
    {
     "data": {
      "text/html": [
       "Run data is saved locally in <code>c:\\Users\\Cheyanne\\ubc\\sem2\\colx531_translation\\COLX_531_bossy_beaver\\milestone5\\fewshots\\wandb\\run-20240416_111207-u5u4rdb3</code>"
      ],
      "text/plain": [
       "<IPython.core.display.HTML object>"
      ]
     },
     "metadata": {},
     "output_type": "display_data"
    },
    {
     "data": {
      "text/html": [
       "Syncing run <strong><a href='https://wandb.ai/bossy_beaver/BioLaySumm2024/runs/u5u4rdb3' target=\"_blank\">combined_biomistral_3shots_notag_mini_dev</a></strong> to <a href='https://wandb.ai/bossy_beaver/BioLaySumm2024' target=\"_blank\">Weights & Biases</a> (<a href='https://wandb.me/run' target=\"_blank\">docs</a>)<br/>"
      ],
      "text/plain": [
       "<IPython.core.display.HTML object>"
      ]
     },
     "metadata": {},
     "output_type": "display_data"
    },
    {
     "data": {
      "text/html": [
       " View project at <a href='https://wandb.ai/bossy_beaver/BioLaySumm2024' target=\"_blank\">https://wandb.ai/bossy_beaver/BioLaySumm2024</a>"
      ],
      "text/plain": [
       "<IPython.core.display.HTML object>"
      ]
     },
     "metadata": {},
     "output_type": "display_data"
    },
    {
     "data": {
      "text/html": [
       " View run at <a href='https://wandb.ai/bossy_beaver/BioLaySumm2024/runs/u5u4rdb3' target=\"_blank\">https://wandb.ai/bossy_beaver/BioLaySumm2024/runs/u5u4rdb3</a>"
      ],
      "text/plain": [
       "<IPython.core.display.HTML object>"
      ]
     },
     "metadata": {},
     "output_type": "display_data"
    },
    {
     "name": "stdout",
     "output_type": "stream",
     "text": [
      "{'ROUGE1': 0.30190527232905584, 'ROUGE2': 0.06967799728775645, 'ROUGEL': 0.28020369463424355, 'BERTScore': 0.826048294649176, 'FKGL': 14.4768115942029, 'DCRS': 9.779873188405798, 'CLI': 14.783686594202898, 'LENS': 49.78068605668234, 'AlignScore': 0.6334309402745271, 'SummaC': 0.5879519823938608}\n"
     ]
    },
    {
     "data": {
      "application/vnd.jupyter.widget-view+json": {
       "model_id": "c8ee953ee86c4a69b4362db27c92babc",
       "version_major": 2,
       "version_minor": 0
      },
      "text/plain": [
       "VBox(children=(Label(value='0.001 MB of 0.001 MB uploaded\\r'), FloatProgress(value=1.0, max=1.0)))"
      ]
     },
     "metadata": {},
     "output_type": "display_data"
    },
    {
     "data": {
      "text/html": [
       "<style>\n",
       "    table.wandb td:nth-child(1) { padding: 0 10px; text-align: left ; width: auto;} td:nth-child(2) {text-align: left ; width: 100%}\n",
       "    .wandb-row { display: flex; flex-direction: row; flex-wrap: wrap; justify-content: flex-start; width: 100% }\n",
       "    .wandb-col { display: flex; flex-direction: column; flex-basis: 100%; flex: 1; padding: 10px; }\n",
       "    </style>\n",
       "<div class=\"wandb-row\"><div class=\"wandb-col\"><h3>Run history:</h3><br/><table class=\"wandb\"><tr><td>AlignScore</td><td>▁</td></tr><tr><td>BERTScore</td><td>▁</td></tr><tr><td>CLI</td><td>▁</td></tr><tr><td>DCRS</td><td>▁</td></tr><tr><td>FKGL</td><td>▁</td></tr><tr><td>LENS</td><td>▁</td></tr><tr><td>ROUGE1</td><td>▁</td></tr><tr><td>ROUGE2</td><td>▁</td></tr><tr><td>ROUGEL</td><td>▁</td></tr><tr><td>SummaC</td><td>▁</td></tr></table><br/></div><div class=\"wandb-col\"><h3>Run summary:</h3><br/><table class=\"wandb\"><tr><td>AlignScore</td><td>0.63343</td></tr><tr><td>BERTScore</td><td>0.82605</td></tr><tr><td>CLI</td><td>14.78369</td></tr><tr><td>DCRS</td><td>9.77987</td></tr><tr><td>FKGL</td><td>14.47681</td></tr><tr><td>LENS</td><td>49.78069</td></tr><tr><td>ROUGE1</td><td>0.30191</td></tr><tr><td>ROUGE2</td><td>0.06968</td></tr><tr><td>ROUGEL</td><td>0.2802</td></tr><tr><td>SummaC</td><td>0.58795</td></tr></table><br/></div></div>"
      ],
      "text/plain": [
       "<IPython.core.display.HTML object>"
      ]
     },
     "metadata": {},
     "output_type": "display_data"
    },
    {
     "data": {
      "text/html": [
       " View run <strong style=\"color:#cdcd00\">combined_biomistral_3shots_notag_mini_dev</strong> at: <a href='https://wandb.ai/bossy_beaver/BioLaySumm2024/runs/u5u4rdb3' target=\"_blank\">https://wandb.ai/bossy_beaver/BioLaySumm2024/runs/u5u4rdb3</a><br/>Synced 6 W&B file(s), 0 media file(s), 0 artifact file(s) and 0 other file(s)"
      ],
      "text/plain": [
       "<IPython.core.display.HTML object>"
      ]
     },
     "metadata": {},
     "output_type": "display_data"
    },
    {
     "data": {
      "text/html": [
       "Find logs at: <code>.\\wandb\\run-20240416_111207-u5u4rdb3\\logs</code>"
      ],
      "text/plain": [
       "<IPython.core.display.HTML object>"
      ]
     },
     "metadata": {},
     "output_type": "display_data"
    }
   ],
   "source": [
    "# eLife dummy baseline on 10% dev set\n",
    "wandb_log_eval_metrics(file='elife_scores.txt', data_src=f\"eLife_{data_type.split('_')[-1]}\", sample_portion=SAMPLE_PORTION, \n",
    "#                       name=f'elife_{model_name}_{method}_{withtag}_{data_type}', tags=[model_name.replace('_', ''), data_type.replace('_', ''), method.replace('_', ''), withtag, 'elife'])\n",
    "# PLOS dummy baseline on 10% dev set\n",
    "wandb_log_eval_metrics(file='plos_scores.txt', data_src=f\"PLOS_{data_type.split('_')[-1]}\", sample_portion=SAMPLE_PORTION, \n",
    "                       name=f'plos_{model_name}_{method}_{withtag}_{data_type}', tags=[model_name.replace('_', ''), data_type.replace('_', ''), method.replace('_', ''), withtag, 'plos'])\n",
    "# Combined dummy baseline on 10% dev set\n",
    "wandb_log_eval_metrics(file='scores.txt', data_src=f\"combined_{data_type.split('_')[-1]}\", sample_portion=SAMPLE_PORTION, \n",
    "                       name=f'combined_{model_name}_{method}_{withtag}_{data_type}', tags=[model_name.replace('_', ''), data_type.replace('_', ''), method.replace('_', ''), withtag, 'combined'])"
   ]
  },
  {
   "cell_type": "markdown",
   "id": "31c2e11f-d863-4519-af98-3bc47ec67c67",
   "metadata": {},
   "source": [
    "# Test Set"
   ]
  },
  {
   "cell_type": "code",
   "execution_count": 25,
   "id": "46495332-82d0-43e4-8b15-076d8bbb3d5e",
   "metadata": {},
   "outputs": [],
   "source": [
    "PATH_TO_VAL_METRICS = './scoring_result'\n",
    "TEST_METRICS_FILES = ['elife_scores.txt', 'plos_scores.txt', 'scores.txt']"
   ]
  },
  {
   "cell_type": "code",
   "execution_count": 27,
   "id": "2aeaf294-c7a7-4d19-a9e4-ed526cf3d87c",
   "metadata": {},
   "outputs": [
    {
     "data": {
      "text/html": [
       "wandb version 0.16.4 is available!  To upgrade, please run:\n",
       " $ pip install wandb --upgrade"
      ],
      "text/plain": [
       "<IPython.core.display.HTML object>"
      ]
     },
     "metadata": {},
     "output_type": "display_data"
    },
    {
     "data": {
      "text/html": [
       "Tracking run with wandb version 0.16.3"
      ],
      "text/plain": [
       "<IPython.core.display.HTML object>"
      ]
     },
     "metadata": {},
     "output_type": "display_data"
    },
    {
     "data": {
      "text/html": [
       "Run data is saved locally in <code>/Users/haydenchiu/MDS-CL/BioLaySumm2024/COLX_531_bossy_beaver/milestone2/wandb/run-20240316_181600-a4kjesen</code>"
      ],
      "text/plain": [
       "<IPython.core.display.HTML object>"
      ]
     },
     "metadata": {},
     "output_type": "display_data"
    },
    {
     "data": {
      "text/html": [
       "Syncing run <strong><a href='https://wandb.ai/bossy_beaver/BioLaySumm2024/runs/a4kjesen' target=\"_blank\">elife_dummy_baseline_test</a></strong> to <a href='https://wandb.ai/bossy_beaver/BioLaySumm2024' target=\"_blank\">Weights & Biases</a> (<a href='https://wandb.me/run' target=\"_blank\">docs</a>)<br/>"
      ],
      "text/plain": [
       "<IPython.core.display.HTML object>"
      ]
     },
     "metadata": {},
     "output_type": "display_data"
    },
    {
     "data": {
      "text/html": [
       " View project at <a href='https://wandb.ai/bossy_beaver/BioLaySumm2024' target=\"_blank\">https://wandb.ai/bossy_beaver/BioLaySumm2024</a>"
      ],
      "text/plain": [
       "<IPython.core.display.HTML object>"
      ]
     },
     "metadata": {},
     "output_type": "display_data"
    },
    {
     "data": {
      "text/html": [
       " View run at <a href='https://wandb.ai/bossy_beaver/BioLaySumm2024/runs/a4kjesen' target=\"_blank\">https://wandb.ai/bossy_beaver/BioLaySumm2024/runs/a4kjesen</a>"
      ],
      "text/plain": [
       "<IPython.core.display.HTML object>"
      ]
     },
     "metadata": {},
     "output_type": "display_data"
    },
    {
     "name": "stdout",
     "output_type": "stream",
     "text": [
      "{'ROUGE1': 0.3089138993381871, 'ROUGE2': 0.06957613212293816, 'ROUGEL': 0.2813751343330106, 'BERTScore': 0.8407322109585077, 'FKGL': 15.080985915492958, 'DCRS': 11.753802816901409, 'CLI': 17.258943661971827, 'LENS': 30.24145106148018, 'AlignScore': 0.9781640558175637, 'SummaC': 0.9402011343291108}\n"
     ]
    },
    {
     "data": {
      "application/vnd.jupyter.widget-view+json": {
       "model_id": "",
       "version_major": 2,
       "version_minor": 0
      },
      "text/plain": [
       "VBox(children=(Label(value='0.001 MB of 0.001 MB uploaded\\r'), FloatProgress(value=1.0, max=1.0)))"
      ]
     },
     "metadata": {},
     "output_type": "display_data"
    },
    {
     "data": {
      "text/html": [
       "<style>\n",
       "    table.wandb td:nth-child(1) { padding: 0 10px; text-align: left ; width: auto;} td:nth-child(2) {text-align: left ; width: 100%}\n",
       "    .wandb-row { display: flex; flex-direction: row; flex-wrap: wrap; justify-content: flex-start; width: 100% }\n",
       "    .wandb-col { display: flex; flex-direction: column; flex-basis: 100%; flex: 1; padding: 10px; }\n",
       "    </style>\n",
       "<div class=\"wandb-row\"><div class=\"wandb-col\"><h3>Run history:</h3><br/><table class=\"wandb\"><tr><td>AlignScore</td><td>▁</td></tr><tr><td>BERTScore</td><td>▁</td></tr><tr><td>CLI</td><td>▁</td></tr><tr><td>DCRS</td><td>▁</td></tr><tr><td>FKGL</td><td>▁</td></tr><tr><td>LENS</td><td>▁</td></tr><tr><td>ROUGE1</td><td>▁</td></tr><tr><td>ROUGE2</td><td>▁</td></tr><tr><td>ROUGEL</td><td>▁</td></tr><tr><td>SummaC</td><td>▁</td></tr></table><br/></div><div class=\"wandb-col\"><h3>Run summary:</h3><br/><table class=\"wandb\"><tr><td>AlignScore</td><td>0.97816</td></tr><tr><td>BERTScore</td><td>0.84073</td></tr><tr><td>CLI</td><td>17.25894</td></tr><tr><td>DCRS</td><td>11.7538</td></tr><tr><td>FKGL</td><td>15.08099</td></tr><tr><td>LENS</td><td>30.24145</td></tr><tr><td>ROUGE1</td><td>0.30891</td></tr><tr><td>ROUGE2</td><td>0.06958</td></tr><tr><td>ROUGEL</td><td>0.28138</td></tr><tr><td>SummaC</td><td>0.9402</td></tr></table><br/></div></div>"
      ],
      "text/plain": [
       "<IPython.core.display.HTML object>"
      ]
     },
     "metadata": {},
     "output_type": "display_data"
    },
    {
     "data": {
      "text/html": [
       " View run <strong style=\"color:#cdcd00\">elife_dummy_baseline_test</strong> at: <a href='https://wandb.ai/bossy_beaver/BioLaySumm2024/runs/a4kjesen' target=\"_blank\">https://wandb.ai/bossy_beaver/BioLaySumm2024/runs/a4kjesen</a><br/> View job at <a href='https://wandb.ai/bossy_beaver/BioLaySumm2024/jobs/QXJ0aWZhY3RDb2xsZWN0aW9uOjE0OTU3NTEzNA==/version_details/v0' target=\"_blank\">https://wandb.ai/bossy_beaver/BioLaySumm2024/jobs/QXJ0aWZhY3RDb2xsZWN0aW9uOjE0OTU3NTEzNA==/version_details/v0</a><br/>Synced 6 W&B file(s), 0 media file(s), 0 artifact file(s) and 0 other file(s)"
      ],
      "text/plain": [
       "<IPython.core.display.HTML object>"
      ]
     },
     "metadata": {},
     "output_type": "display_data"
    },
    {
     "data": {
      "text/html": [
       "Find logs at: <code>./wandb/run-20240316_181600-a4kjesen/logs</code>"
      ],
      "text/plain": [
       "<IPython.core.display.HTML object>"
      ]
     },
     "metadata": {},
     "output_type": "display_data"
    }
   ],
   "source": [
    "# elife dummy baseline on test set\n",
    "wandb_log_eval_metrics(file='elife_scores.txt', data_src='eLife_test', sample_portion=1, \n",
    "                       name='elife_dummy_baseline_test', tags=['baseline', 'test'])"
   ]
  },
  {
   "cell_type": "code",
   "execution_count": 28,
   "id": "5b0dccf5-4198-4790-adaa-03bab3f0d91f",
   "metadata": {},
   "outputs": [
    {
     "data": {
      "text/html": [
       "wandb version 0.16.4 is available!  To upgrade, please run:\n",
       " $ pip install wandb --upgrade"
      ],
      "text/plain": [
       "<IPython.core.display.HTML object>"
      ]
     },
     "metadata": {},
     "output_type": "display_data"
    },
    {
     "data": {
      "text/html": [
       "Tracking run with wandb version 0.16.3"
      ],
      "text/plain": [
       "<IPython.core.display.HTML object>"
      ]
     },
     "metadata": {},
     "output_type": "display_data"
    },
    {
     "data": {
      "text/html": [
       "Run data is saved locally in <code>/Users/haydenchiu/MDS-CL/BioLaySumm2024/COLX_531_bossy_beaver/milestone2/wandb/run-20240316_181649-bdffic27</code>"
      ],
      "text/plain": [
       "<IPython.core.display.HTML object>"
      ]
     },
     "metadata": {},
     "output_type": "display_data"
    },
    {
     "data": {
      "text/html": [
       "Syncing run <strong><a href='https://wandb.ai/bossy_beaver/BioLaySumm2024/runs/bdffic27' target=\"_blank\">plos_dummy_baseline_test</a></strong> to <a href='https://wandb.ai/bossy_beaver/BioLaySumm2024' target=\"_blank\">Weights & Biases</a> (<a href='https://wandb.me/run' target=\"_blank\">docs</a>)<br/>"
      ],
      "text/plain": [
       "<IPython.core.display.HTML object>"
      ]
     },
     "metadata": {},
     "output_type": "display_data"
    },
    {
     "data": {
      "text/html": [
       " View project at <a href='https://wandb.ai/bossy_beaver/BioLaySumm2024' target=\"_blank\">https://wandb.ai/bossy_beaver/BioLaySumm2024</a>"
      ],
      "text/plain": [
       "<IPython.core.display.HTML object>"
      ]
     },
     "metadata": {},
     "output_type": "display_data"
    },
    {
     "data": {
      "text/html": [
       " View run at <a href='https://wandb.ai/bossy_beaver/BioLaySumm2024/runs/bdffic27' target=\"_blank\">https://wandb.ai/bossy_beaver/BioLaySumm2024/runs/bdffic27</a>"
      ],
      "text/plain": [
       "<IPython.core.display.HTML object>"
      ]
     },
     "metadata": {},
     "output_type": "display_data"
    },
    {
     "name": "stdout",
     "output_type": "stream",
     "text": [
      "{'ROUGE1': 0.461164102179743, 'ROUGE2': 0.16057957580294918, 'ROUGEL': 0.4178593622680423, 'BERTScore': 0.8693121696861696, 'FKGL': 14.751408450704227, 'DCRS': 11.793098591549297, 'CLI': 16.704154929577463, 'LENS': 35.30267832931986, 'AlignScore': 0.9772088964220503, 'SummaC': 0.9488216630170043}\n"
     ]
    },
    {
     "data": {
      "application/vnd.jupyter.widget-view+json": {
       "model_id": "",
       "version_major": 2,
       "version_minor": 0
      },
      "text/plain": [
       "VBox(children=(Label(value='0.001 MB of 0.001 MB uploaded\\r'), FloatProgress(value=1.0, max=1.0)))"
      ]
     },
     "metadata": {},
     "output_type": "display_data"
    },
    {
     "data": {
      "text/html": [
       "<style>\n",
       "    table.wandb td:nth-child(1) { padding: 0 10px; text-align: left ; width: auto;} td:nth-child(2) {text-align: left ; width: 100%}\n",
       "    .wandb-row { display: flex; flex-direction: row; flex-wrap: wrap; justify-content: flex-start; width: 100% }\n",
       "    .wandb-col { display: flex; flex-direction: column; flex-basis: 100%; flex: 1; padding: 10px; }\n",
       "    </style>\n",
       "<div class=\"wandb-row\"><div class=\"wandb-col\"><h3>Run history:</h3><br/><table class=\"wandb\"><tr><td>AlignScore</td><td>▁</td></tr><tr><td>BERTScore</td><td>▁</td></tr><tr><td>CLI</td><td>▁</td></tr><tr><td>DCRS</td><td>▁</td></tr><tr><td>FKGL</td><td>▁</td></tr><tr><td>LENS</td><td>▁</td></tr><tr><td>ROUGE1</td><td>▁</td></tr><tr><td>ROUGE2</td><td>▁</td></tr><tr><td>ROUGEL</td><td>▁</td></tr><tr><td>SummaC</td><td>▁</td></tr></table><br/></div><div class=\"wandb-col\"><h3>Run summary:</h3><br/><table class=\"wandb\"><tr><td>AlignScore</td><td>0.97721</td></tr><tr><td>BERTScore</td><td>0.86931</td></tr><tr><td>CLI</td><td>16.70415</td></tr><tr><td>DCRS</td><td>11.7931</td></tr><tr><td>FKGL</td><td>14.75141</td></tr><tr><td>LENS</td><td>35.30268</td></tr><tr><td>ROUGE1</td><td>0.46116</td></tr><tr><td>ROUGE2</td><td>0.16058</td></tr><tr><td>ROUGEL</td><td>0.41786</td></tr><tr><td>SummaC</td><td>0.94882</td></tr></table><br/></div></div>"
      ],
      "text/plain": [
       "<IPython.core.display.HTML object>"
      ]
     },
     "metadata": {},
     "output_type": "display_data"
    },
    {
     "data": {
      "text/html": [
       " View run <strong style=\"color:#cdcd00\">plos_dummy_baseline_test</strong> at: <a href='https://wandb.ai/bossy_beaver/BioLaySumm2024/runs/bdffic27' target=\"_blank\">https://wandb.ai/bossy_beaver/BioLaySumm2024/runs/bdffic27</a><br/> View job at <a href='https://wandb.ai/bossy_beaver/BioLaySumm2024/jobs/QXJ0aWZhY3RDb2xsZWN0aW9uOjE0OTU3NTEzNA==/version_details/v0' target=\"_blank\">https://wandb.ai/bossy_beaver/BioLaySumm2024/jobs/QXJ0aWZhY3RDb2xsZWN0aW9uOjE0OTU3NTEzNA==/version_details/v0</a><br/>Synced 6 W&B file(s), 0 media file(s), 0 artifact file(s) and 0 other file(s)"
      ],
      "text/plain": [
       "<IPython.core.display.HTML object>"
      ]
     },
     "metadata": {},
     "output_type": "display_data"
    },
    {
     "data": {
      "text/html": [
       "Find logs at: <code>./wandb/run-20240316_181649-bdffic27/logs</code>"
      ],
      "text/plain": [
       "<IPython.core.display.HTML object>"
      ]
     },
     "metadata": {},
     "output_type": "display_data"
    }
   ],
   "source": [
    "# PLOS dummy baseline on test set\n",
    "wandb_log_eval_metrics(file='plos_scores.txt', data_src='PLOS_test', sample_portion=1, \n",
    "                       name='plos_dummy_baseline_test', tags=['baseline', 'test'])"
   ]
  },
  {
   "cell_type": "code",
   "execution_count": 29,
   "id": "fdb92749-83f8-479b-be72-3c48fe74fb2c",
   "metadata": {},
   "outputs": [
    {
     "data": {
      "text/html": [
       "wandb version 0.16.4 is available!  To upgrade, please run:\n",
       " $ pip install wandb --upgrade"
      ],
      "text/plain": [
       "<IPython.core.display.HTML object>"
      ]
     },
     "metadata": {},
     "output_type": "display_data"
    },
    {
     "data": {
      "text/html": [
       "Tracking run with wandb version 0.16.3"
      ],
      "text/plain": [
       "<IPython.core.display.HTML object>"
      ]
     },
     "metadata": {},
     "output_type": "display_data"
    },
    {
     "data": {
      "text/html": [
       "Run data is saved locally in <code>/Users/haydenchiu/MDS-CL/BioLaySumm2024/COLX_531_bossy_beaver/milestone2/wandb/run-20240316_181727-shde10wi</code>"
      ],
      "text/plain": [
       "<IPython.core.display.HTML object>"
      ]
     },
     "metadata": {},
     "output_type": "display_data"
    },
    {
     "data": {
      "text/html": [
       "Syncing run <strong><a href='https://wandb.ai/bossy_beaver/BioLaySumm2024/runs/shde10wi' target=\"_blank\">dummy_baseline_test</a></strong> to <a href='https://wandb.ai/bossy_beaver/BioLaySumm2024' target=\"_blank\">Weights & Biases</a> (<a href='https://wandb.me/run' target=\"_blank\">docs</a>)<br/>"
      ],
      "text/plain": [
       "<IPython.core.display.HTML object>"
      ]
     },
     "metadata": {},
     "output_type": "display_data"
    },
    {
     "data": {
      "text/html": [
       " View project at <a href='https://wandb.ai/bossy_beaver/BioLaySumm2024' target=\"_blank\">https://wandb.ai/bossy_beaver/BioLaySumm2024</a>"
      ],
      "text/plain": [
       "<IPython.core.display.HTML object>"
      ]
     },
     "metadata": {},
     "output_type": "display_data"
    },
    {
     "data": {
      "text/html": [
       " View run at <a href='https://wandb.ai/bossy_beaver/BioLaySumm2024/runs/shde10wi' target=\"_blank\">https://wandb.ai/bossy_beaver/BioLaySumm2024/runs/shde10wi</a>"
      ],
      "text/plain": [
       "<IPython.core.display.HTML object>"
      ]
     },
     "metadata": {},
     "output_type": "display_data"
    },
    {
     "name": "stdout",
     "output_type": "stream",
     "text": [
      "{'ROUGE1': 0.385039000758965, 'ROUGE2': 0.11507785396294368, 'ROUGEL': 0.34961724830052643, 'BERTScore': 0.8550221903223387, 'FKGL': 14.916197183098593, 'DCRS': 11.773450704225354, 'CLI': 16.981549295774645, 'LENS': 32.77206469540002, 'AlignScore': 0.977686476119807, 'SummaC': 0.9445113986730576}\n"
     ]
    },
    {
     "data": {
      "application/vnd.jupyter.widget-view+json": {
       "model_id": "",
       "version_major": 2,
       "version_minor": 0
      },
      "text/plain": [
       "VBox(children=(Label(value='0.001 MB of 0.001 MB uploaded\\r'), FloatProgress(value=1.0, max=1.0)))"
      ]
     },
     "metadata": {},
     "output_type": "display_data"
    },
    {
     "data": {
      "text/html": [
       "<style>\n",
       "    table.wandb td:nth-child(1) { padding: 0 10px; text-align: left ; width: auto;} td:nth-child(2) {text-align: left ; width: 100%}\n",
       "    .wandb-row { display: flex; flex-direction: row; flex-wrap: wrap; justify-content: flex-start; width: 100% }\n",
       "    .wandb-col { display: flex; flex-direction: column; flex-basis: 100%; flex: 1; padding: 10px; }\n",
       "    </style>\n",
       "<div class=\"wandb-row\"><div class=\"wandb-col\"><h3>Run history:</h3><br/><table class=\"wandb\"><tr><td>AlignScore</td><td>▁</td></tr><tr><td>BERTScore</td><td>▁</td></tr><tr><td>CLI</td><td>▁</td></tr><tr><td>DCRS</td><td>▁</td></tr><tr><td>FKGL</td><td>▁</td></tr><tr><td>LENS</td><td>▁</td></tr><tr><td>ROUGE1</td><td>▁</td></tr><tr><td>ROUGE2</td><td>▁</td></tr><tr><td>ROUGEL</td><td>▁</td></tr><tr><td>SummaC</td><td>▁</td></tr></table><br/></div><div class=\"wandb-col\"><h3>Run summary:</h3><br/><table class=\"wandb\"><tr><td>AlignScore</td><td>0.97769</td></tr><tr><td>BERTScore</td><td>0.85502</td></tr><tr><td>CLI</td><td>16.98155</td></tr><tr><td>DCRS</td><td>11.77345</td></tr><tr><td>FKGL</td><td>14.9162</td></tr><tr><td>LENS</td><td>32.77206</td></tr><tr><td>ROUGE1</td><td>0.38504</td></tr><tr><td>ROUGE2</td><td>0.11508</td></tr><tr><td>ROUGEL</td><td>0.34962</td></tr><tr><td>SummaC</td><td>0.94451</td></tr></table><br/></div></div>"
      ],
      "text/plain": [
       "<IPython.core.display.HTML object>"
      ]
     },
     "metadata": {},
     "output_type": "display_data"
    },
    {
     "data": {
      "text/html": [
       " View run <strong style=\"color:#cdcd00\">dummy_baseline_test</strong> at: <a href='https://wandb.ai/bossy_beaver/BioLaySumm2024/runs/shde10wi' target=\"_blank\">https://wandb.ai/bossy_beaver/BioLaySumm2024/runs/shde10wi</a><br/> View job at <a href='https://wandb.ai/bossy_beaver/BioLaySumm2024/jobs/QXJ0aWZhY3RDb2xsZWN0aW9uOjE0OTU3NTEzNA==/version_details/v0' target=\"_blank\">https://wandb.ai/bossy_beaver/BioLaySumm2024/jobs/QXJ0aWZhY3RDb2xsZWN0aW9uOjE0OTU3NTEzNA==/version_details/v0</a><br/>Synced 6 W&B file(s), 0 media file(s), 0 artifact file(s) and 0 other file(s)"
      ],
      "text/plain": [
       "<IPython.core.display.HTML object>"
      ]
     },
     "metadata": {},
     "output_type": "display_data"
    },
    {
     "data": {
      "text/html": [
       "Find logs at: <code>./wandb/run-20240316_181727-shde10wi/logs</code>"
      ],
      "text/plain": [
       "<IPython.core.display.HTML object>"
      ]
     },
     "metadata": {},
     "output_type": "display_data"
    }
   ],
   "source": [
    "# Combined dummy baseline on test set\n",
    "wandb_log_eval_metrics(file='scores.txt', data_src='combined_test', sample_portion=1, \n",
    "                       name='dummy_baseline_test', tags=['baseline', 'combined', 'test'])"
   ]
  },
  {
   "cell_type": "code",
   "execution_count": null,
   "id": "71fb7611-1114-44ce-b9ad-2bd3f3cf42b1",
   "metadata": {},
   "outputs": [],
   "source": []
  }
 ],
 "metadata": {
  "kernelspec": {
   "display_name": "base",
   "language": "python",
   "name": "python3"
  },
  "language_info": {
   "codemirror_mode": {
    "name": "ipython",
    "version": 3
   },
   "file_extension": ".py",
   "mimetype": "text/x-python",
   "name": "python",
   "nbconvert_exporter": "python",
   "pygments_lexer": "ipython3",
   "version": "3.11.4"
  }
 },
 "nbformat": 4,
 "nbformat_minor": 5
}
