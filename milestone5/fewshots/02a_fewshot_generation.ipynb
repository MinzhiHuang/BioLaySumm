{
  "nbformat": 4,
  "nbformat_minor": 0,
  "metadata": {
    "colab": {
      "provenance": [],
      "machine_shape": "hm",
      "gpuType": "A100"
    },
    "kernelspec": {
      "name": "python3",
      "display_name": "Python 3"
    },
    "language_info": {
      "name": "python"
    },
    "accelerator": "GPU",
    "widgets": {
      "application/vnd.jupyter.widget-state+json": {
        "d19dcc7423884cf3943adca6f6e07cb7": {
          "model_module": "@jupyter-widgets/controls",
          "model_name": "HBoxModel",
          "model_module_version": "1.5.0",
          "state": {
            "_dom_classes": [],
            "_model_module": "@jupyter-widgets/controls",
            "_model_module_version": "1.5.0",
            "_model_name": "HBoxModel",
            "_view_count": null,
            "_view_module": "@jupyter-widgets/controls",
            "_view_module_version": "1.5.0",
            "_view_name": "HBoxView",
            "box_style": "",
            "children": [
              "IPY_MODEL_f7291d25cf80467187cdbfb3ce7205e8",
              "IPY_MODEL_9163992d5e51439a85c659af5d75ba41",
              "IPY_MODEL_9f60aba75c5b4157889f1d853b40438f"
            ],
            "layout": "IPY_MODEL_35b25388ad1b45b888b41e445959eeb8"
          }
        },
        "f7291d25cf80467187cdbfb3ce7205e8": {
          "model_module": "@jupyter-widgets/controls",
          "model_name": "HTMLModel",
          "model_module_version": "1.5.0",
          "state": {
            "_dom_classes": [],
            "_model_module": "@jupyter-widgets/controls",
            "_model_module_version": "1.5.0",
            "_model_name": "HTMLModel",
            "_view_count": null,
            "_view_module": "@jupyter-widgets/controls",
            "_view_module_version": "1.5.0",
            "_view_name": "HTMLView",
            "description": "",
            "description_tooltip": null,
            "layout": "IPY_MODEL_7e82f6ecc63a4fb19a2b980eef7ba6dc",
            "placeholder": "​",
            "style": "IPY_MODEL_9c2daae2198948419c14d226962147ea",
            "value": "config.json: 100%"
          }
        },
        "9163992d5e51439a85c659af5d75ba41": {
          "model_module": "@jupyter-widgets/controls",
          "model_name": "FloatProgressModel",
          "model_module_version": "1.5.0",
          "state": {
            "_dom_classes": [],
            "_model_module": "@jupyter-widgets/controls",
            "_model_module_version": "1.5.0",
            "_model_name": "FloatProgressModel",
            "_view_count": null,
            "_view_module": "@jupyter-widgets/controls",
            "_view_module_version": "1.5.0",
            "_view_name": "ProgressView",
            "bar_style": "success",
            "description": "",
            "description_tooltip": null,
            "layout": "IPY_MODEL_0c36bbbf1e5647fcba8e53b3d4ea5b03",
            "max": 904,
            "min": 0,
            "orientation": "horizontal",
            "style": "IPY_MODEL_d351e324aa3f4053a641b5db3a1f1a19",
            "value": 904
          }
        },
        "9f60aba75c5b4157889f1d853b40438f": {
          "model_module": "@jupyter-widgets/controls",
          "model_name": "HTMLModel",
          "model_module_version": "1.5.0",
          "state": {
            "_dom_classes": [],
            "_model_module": "@jupyter-widgets/controls",
            "_model_module_version": "1.5.0",
            "_model_name": "HTMLModel",
            "_view_count": null,
            "_view_module": "@jupyter-widgets/controls",
            "_view_module_version": "1.5.0",
            "_view_name": "HTMLView",
            "description": "",
            "description_tooltip": null,
            "layout": "IPY_MODEL_b9cbd4d4c278444194b3d98646717500",
            "placeholder": "​",
            "style": "IPY_MODEL_b5c9955939ce4babbbe279be8e070040",
            "value": " 904/904 [00:00&lt;00:00, 54.8kB/s]"
          }
        },
        "35b25388ad1b45b888b41e445959eeb8": {
          "model_module": "@jupyter-widgets/base",
          "model_name": "LayoutModel",
          "model_module_version": "1.2.0",
          "state": {
            "_model_module": "@jupyter-widgets/base",
            "_model_module_version": "1.2.0",
            "_model_name": "LayoutModel",
            "_view_count": null,
            "_view_module": "@jupyter-widgets/base",
            "_view_module_version": "1.2.0",
            "_view_name": "LayoutView",
            "align_content": null,
            "align_items": null,
            "align_self": null,
            "border": null,
            "bottom": null,
            "display": null,
            "flex": null,
            "flex_flow": null,
            "grid_area": null,
            "grid_auto_columns": null,
            "grid_auto_flow": null,
            "grid_auto_rows": null,
            "grid_column": null,
            "grid_gap": null,
            "grid_row": null,
            "grid_template_areas": null,
            "grid_template_columns": null,
            "grid_template_rows": null,
            "height": null,
            "justify_content": null,
            "justify_items": null,
            "left": null,
            "margin": null,
            "max_height": null,
            "max_width": null,
            "min_height": null,
            "min_width": null,
            "object_fit": null,
            "object_position": null,
            "order": null,
            "overflow": null,
            "overflow_x": null,
            "overflow_y": null,
            "padding": null,
            "right": null,
            "top": null,
            "visibility": null,
            "width": null
          }
        },
        "7e82f6ecc63a4fb19a2b980eef7ba6dc": {
          "model_module": "@jupyter-widgets/base",
          "model_name": "LayoutModel",
          "model_module_version": "1.2.0",
          "state": {
            "_model_module": "@jupyter-widgets/base",
            "_model_module_version": "1.2.0",
            "_model_name": "LayoutModel",
            "_view_count": null,
            "_view_module": "@jupyter-widgets/base",
            "_view_module_version": "1.2.0",
            "_view_name": "LayoutView",
            "align_content": null,
            "align_items": null,
            "align_self": null,
            "border": null,
            "bottom": null,
            "display": null,
            "flex": null,
            "flex_flow": null,
            "grid_area": null,
            "grid_auto_columns": null,
            "grid_auto_flow": null,
            "grid_auto_rows": null,
            "grid_column": null,
            "grid_gap": null,
            "grid_row": null,
            "grid_template_areas": null,
            "grid_template_columns": null,
            "grid_template_rows": null,
            "height": null,
            "justify_content": null,
            "justify_items": null,
            "left": null,
            "margin": null,
            "max_height": null,
            "max_width": null,
            "min_height": null,
            "min_width": null,
            "object_fit": null,
            "object_position": null,
            "order": null,
            "overflow": null,
            "overflow_x": null,
            "overflow_y": null,
            "padding": null,
            "right": null,
            "top": null,
            "visibility": null,
            "width": null
          }
        },
        "9c2daae2198948419c14d226962147ea": {
          "model_module": "@jupyter-widgets/controls",
          "model_name": "DescriptionStyleModel",
          "model_module_version": "1.5.0",
          "state": {
            "_model_module": "@jupyter-widgets/controls",
            "_model_module_version": "1.5.0",
            "_model_name": "DescriptionStyleModel",
            "_view_count": null,
            "_view_module": "@jupyter-widgets/base",
            "_view_module_version": "1.2.0",
            "_view_name": "StyleView",
            "description_width": ""
          }
        },
        "0c36bbbf1e5647fcba8e53b3d4ea5b03": {
          "model_module": "@jupyter-widgets/base",
          "model_name": "LayoutModel",
          "model_module_version": "1.2.0",
          "state": {
            "_model_module": "@jupyter-widgets/base",
            "_model_module_version": "1.2.0",
            "_model_name": "LayoutModel",
            "_view_count": null,
            "_view_module": "@jupyter-widgets/base",
            "_view_module_version": "1.2.0",
            "_view_name": "LayoutView",
            "align_content": null,
            "align_items": null,
            "align_self": null,
            "border": null,
            "bottom": null,
            "display": null,
            "flex": null,
            "flex_flow": null,
            "grid_area": null,
            "grid_auto_columns": null,
            "grid_auto_flow": null,
            "grid_auto_rows": null,
            "grid_column": null,
            "grid_gap": null,
            "grid_row": null,
            "grid_template_areas": null,
            "grid_template_columns": null,
            "grid_template_rows": null,
            "height": null,
            "justify_content": null,
            "justify_items": null,
            "left": null,
            "margin": null,
            "max_height": null,
            "max_width": null,
            "min_height": null,
            "min_width": null,
            "object_fit": null,
            "object_position": null,
            "order": null,
            "overflow": null,
            "overflow_x": null,
            "overflow_y": null,
            "padding": null,
            "right": null,
            "top": null,
            "visibility": null,
            "width": null
          }
        },
        "d351e324aa3f4053a641b5db3a1f1a19": {
          "model_module": "@jupyter-widgets/controls",
          "model_name": "ProgressStyleModel",
          "model_module_version": "1.5.0",
          "state": {
            "_model_module": "@jupyter-widgets/controls",
            "_model_module_version": "1.5.0",
            "_model_name": "ProgressStyleModel",
            "_view_count": null,
            "_view_module": "@jupyter-widgets/base",
            "_view_module_version": "1.2.0",
            "_view_name": "StyleView",
            "bar_color": null,
            "description_width": ""
          }
        },
        "b9cbd4d4c278444194b3d98646717500": {
          "model_module": "@jupyter-widgets/base",
          "model_name": "LayoutModel",
          "model_module_version": "1.2.0",
          "state": {
            "_model_module": "@jupyter-widgets/base",
            "_model_module_version": "1.2.0",
            "_model_name": "LayoutModel",
            "_view_count": null,
            "_view_module": "@jupyter-widgets/base",
            "_view_module_version": "1.2.0",
            "_view_name": "LayoutView",
            "align_content": null,
            "align_items": null,
            "align_self": null,
            "border": null,
            "bottom": null,
            "display": null,
            "flex": null,
            "flex_flow": null,
            "grid_area": null,
            "grid_auto_columns": null,
            "grid_auto_flow": null,
            "grid_auto_rows": null,
            "grid_column": null,
            "grid_gap": null,
            "grid_row": null,
            "grid_template_areas": null,
            "grid_template_columns": null,
            "grid_template_rows": null,
            "height": null,
            "justify_content": null,
            "justify_items": null,
            "left": null,
            "margin": null,
            "max_height": null,
            "max_width": null,
            "min_height": null,
            "min_width": null,
            "object_fit": null,
            "object_position": null,
            "order": null,
            "overflow": null,
            "overflow_x": null,
            "overflow_y": null,
            "padding": null,
            "right": null,
            "top": null,
            "visibility": null,
            "width": null
          }
        },
        "b5c9955939ce4babbbe279be8e070040": {
          "model_module": "@jupyter-widgets/controls",
          "model_name": "DescriptionStyleModel",
          "model_module_version": "1.5.0",
          "state": {
            "_model_module": "@jupyter-widgets/controls",
            "_model_module_version": "1.5.0",
            "_model_name": "DescriptionStyleModel",
            "_view_count": null,
            "_view_module": "@jupyter-widgets/base",
            "_view_module_version": "1.2.0",
            "_view_name": "StyleView",
            "description_width": ""
          }
        },
        "5b28416b6605466999710c726ed31e08": {
          "model_module": "@jupyter-widgets/controls",
          "model_name": "HBoxModel",
          "model_module_version": "1.5.0",
          "state": {
            "_dom_classes": [],
            "_model_module": "@jupyter-widgets/controls",
            "_model_module_version": "1.5.0",
            "_model_name": "HBoxModel",
            "_view_count": null,
            "_view_module": "@jupyter-widgets/controls",
            "_view_module_version": "1.5.0",
            "_view_name": "HBoxView",
            "box_style": "",
            "children": [
              "IPY_MODEL_8fc5e06d1d364070ace9d35962cb4151",
              "IPY_MODEL_5998659c23d64f91a99177036bb99a0b",
              "IPY_MODEL_1bd8845ce9184f228ae721d229a46ae0"
            ],
            "layout": "IPY_MODEL_eca3755645df4a128e8f5a4f5b427f12"
          }
        },
        "8fc5e06d1d364070ace9d35962cb4151": {
          "model_module": "@jupyter-widgets/controls",
          "model_name": "HTMLModel",
          "model_module_version": "1.5.0",
          "state": {
            "_dom_classes": [],
            "_model_module": "@jupyter-widgets/controls",
            "_model_module_version": "1.5.0",
            "_model_name": "HTMLModel",
            "_view_count": null,
            "_view_module": "@jupyter-widgets/controls",
            "_view_module_version": "1.5.0",
            "_view_name": "HTMLView",
            "description": "",
            "description_tooltip": null,
            "layout": "IPY_MODEL_a41064df277f437f8d9f1d8eaade3c1f",
            "placeholder": "​",
            "style": "IPY_MODEL_47915f099efd44fb9b31d39b93fa10f7",
            "value": "tokenizer_config.json: 100%"
          }
        },
        "5998659c23d64f91a99177036bb99a0b": {
          "model_module": "@jupyter-widgets/controls",
          "model_name": "FloatProgressModel",
          "model_module_version": "1.5.0",
          "state": {
            "_dom_classes": [],
            "_model_module": "@jupyter-widgets/controls",
            "_model_module_version": "1.5.0",
            "_model_name": "FloatProgressModel",
            "_view_count": null,
            "_view_module": "@jupyter-widgets/controls",
            "_view_module_version": "1.5.0",
            "_view_name": "ProgressView",
            "bar_style": "success",
            "description": "",
            "description_tooltip": null,
            "layout": "IPY_MODEL_6abea4502c334205b7cf2abe98316b80",
            "max": 1460,
            "min": 0,
            "orientation": "horizontal",
            "style": "IPY_MODEL_2b63f91010e74d1ba4c5c82b1d5b97de",
            "value": 1460
          }
        },
        "1bd8845ce9184f228ae721d229a46ae0": {
          "model_module": "@jupyter-widgets/controls",
          "model_name": "HTMLModel",
          "model_module_version": "1.5.0",
          "state": {
            "_dom_classes": [],
            "_model_module": "@jupyter-widgets/controls",
            "_model_module_version": "1.5.0",
            "_model_name": "HTMLModel",
            "_view_count": null,
            "_view_module": "@jupyter-widgets/controls",
            "_view_module_version": "1.5.0",
            "_view_name": "HTMLView",
            "description": "",
            "description_tooltip": null,
            "layout": "IPY_MODEL_70d0feb73be24a2aa90fdc21d0df252e",
            "placeholder": "​",
            "style": "IPY_MODEL_83cadd889a1d4fd2bf8b43a229a93ab3",
            "value": " 1.46k/1.46k [00:00&lt;00:00, 125kB/s]"
          }
        },
        "eca3755645df4a128e8f5a4f5b427f12": {
          "model_module": "@jupyter-widgets/base",
          "model_name": "LayoutModel",
          "model_module_version": "1.2.0",
          "state": {
            "_model_module": "@jupyter-widgets/base",
            "_model_module_version": "1.2.0",
            "_model_name": "LayoutModel",
            "_view_count": null,
            "_view_module": "@jupyter-widgets/base",
            "_view_module_version": "1.2.0",
            "_view_name": "LayoutView",
            "align_content": null,
            "align_items": null,
            "align_self": null,
            "border": null,
            "bottom": null,
            "display": null,
            "flex": null,
            "flex_flow": null,
            "grid_area": null,
            "grid_auto_columns": null,
            "grid_auto_flow": null,
            "grid_auto_rows": null,
            "grid_column": null,
            "grid_gap": null,
            "grid_row": null,
            "grid_template_areas": null,
            "grid_template_columns": null,
            "grid_template_rows": null,
            "height": null,
            "justify_content": null,
            "justify_items": null,
            "left": null,
            "margin": null,
            "max_height": null,
            "max_width": null,
            "min_height": null,
            "min_width": null,
            "object_fit": null,
            "object_position": null,
            "order": null,
            "overflow": null,
            "overflow_x": null,
            "overflow_y": null,
            "padding": null,
            "right": null,
            "top": null,
            "visibility": null,
            "width": null
          }
        },
        "a41064df277f437f8d9f1d8eaade3c1f": {
          "model_module": "@jupyter-widgets/base",
          "model_name": "LayoutModel",
          "model_module_version": "1.2.0",
          "state": {
            "_model_module": "@jupyter-widgets/base",
            "_model_module_version": "1.2.0",
            "_model_name": "LayoutModel",
            "_view_count": null,
            "_view_module": "@jupyter-widgets/base",
            "_view_module_version": "1.2.0",
            "_view_name": "LayoutView",
            "align_content": null,
            "align_items": null,
            "align_self": null,
            "border": null,
            "bottom": null,
            "display": null,
            "flex": null,
            "flex_flow": null,
            "grid_area": null,
            "grid_auto_columns": null,
            "grid_auto_flow": null,
            "grid_auto_rows": null,
            "grid_column": null,
            "grid_gap": null,
            "grid_row": null,
            "grid_template_areas": null,
            "grid_template_columns": null,
            "grid_template_rows": null,
            "height": null,
            "justify_content": null,
            "justify_items": null,
            "left": null,
            "margin": null,
            "max_height": null,
            "max_width": null,
            "min_height": null,
            "min_width": null,
            "object_fit": null,
            "object_position": null,
            "order": null,
            "overflow": null,
            "overflow_x": null,
            "overflow_y": null,
            "padding": null,
            "right": null,
            "top": null,
            "visibility": null,
            "width": null
          }
        },
        "47915f099efd44fb9b31d39b93fa10f7": {
          "model_module": "@jupyter-widgets/controls",
          "model_name": "DescriptionStyleModel",
          "model_module_version": "1.5.0",
          "state": {
            "_model_module": "@jupyter-widgets/controls",
            "_model_module_version": "1.5.0",
            "_model_name": "DescriptionStyleModel",
            "_view_count": null,
            "_view_module": "@jupyter-widgets/base",
            "_view_module_version": "1.2.0",
            "_view_name": "StyleView",
            "description_width": ""
          }
        },
        "6abea4502c334205b7cf2abe98316b80": {
          "model_module": "@jupyter-widgets/base",
          "model_name": "LayoutModel",
          "model_module_version": "1.2.0",
          "state": {
            "_model_module": "@jupyter-widgets/base",
            "_model_module_version": "1.2.0",
            "_model_name": "LayoutModel",
            "_view_count": null,
            "_view_module": "@jupyter-widgets/base",
            "_view_module_version": "1.2.0",
            "_view_name": "LayoutView",
            "align_content": null,
            "align_items": null,
            "align_self": null,
            "border": null,
            "bottom": null,
            "display": null,
            "flex": null,
            "flex_flow": null,
            "grid_area": null,
            "grid_auto_columns": null,
            "grid_auto_flow": null,
            "grid_auto_rows": null,
            "grid_column": null,
            "grid_gap": null,
            "grid_row": null,
            "grid_template_areas": null,
            "grid_template_columns": null,
            "grid_template_rows": null,
            "height": null,
            "justify_content": null,
            "justify_items": null,
            "left": null,
            "margin": null,
            "max_height": null,
            "max_width": null,
            "min_height": null,
            "min_width": null,
            "object_fit": null,
            "object_position": null,
            "order": null,
            "overflow": null,
            "overflow_x": null,
            "overflow_y": null,
            "padding": null,
            "right": null,
            "top": null,
            "visibility": null,
            "width": null
          }
        },
        "2b63f91010e74d1ba4c5c82b1d5b97de": {
          "model_module": "@jupyter-widgets/controls",
          "model_name": "ProgressStyleModel",
          "model_module_version": "1.5.0",
          "state": {
            "_model_module": "@jupyter-widgets/controls",
            "_model_module_version": "1.5.0",
            "_model_name": "ProgressStyleModel",
            "_view_count": null,
            "_view_module": "@jupyter-widgets/base",
            "_view_module_version": "1.2.0",
            "_view_name": "StyleView",
            "bar_color": null,
            "description_width": ""
          }
        },
        "70d0feb73be24a2aa90fdc21d0df252e": {
          "model_module": "@jupyter-widgets/base",
          "model_name": "LayoutModel",
          "model_module_version": "1.2.0",
          "state": {
            "_model_module": "@jupyter-widgets/base",
            "_model_module_version": "1.2.0",
            "_model_name": "LayoutModel",
            "_view_count": null,
            "_view_module": "@jupyter-widgets/base",
            "_view_module_version": "1.2.0",
            "_view_name": "LayoutView",
            "align_content": null,
            "align_items": null,
            "align_self": null,
            "border": null,
            "bottom": null,
            "display": null,
            "flex": null,
            "flex_flow": null,
            "grid_area": null,
            "grid_auto_columns": null,
            "grid_auto_flow": null,
            "grid_auto_rows": null,
            "grid_column": null,
            "grid_gap": null,
            "grid_row": null,
            "grid_template_areas": null,
            "grid_template_columns": null,
            "grid_template_rows": null,
            "height": null,
            "justify_content": null,
            "justify_items": null,
            "left": null,
            "margin": null,
            "max_height": null,
            "max_width": null,
            "min_height": null,
            "min_width": null,
            "object_fit": null,
            "object_position": null,
            "order": null,
            "overflow": null,
            "overflow_x": null,
            "overflow_y": null,
            "padding": null,
            "right": null,
            "top": null,
            "visibility": null,
            "width": null
          }
        },
        "83cadd889a1d4fd2bf8b43a229a93ab3": {
          "model_module": "@jupyter-widgets/controls",
          "model_name": "DescriptionStyleModel",
          "model_module_version": "1.5.0",
          "state": {
            "_model_module": "@jupyter-widgets/controls",
            "_model_module_version": "1.5.0",
            "_model_name": "DescriptionStyleModel",
            "_view_count": null,
            "_view_module": "@jupyter-widgets/base",
            "_view_module_version": "1.2.0",
            "_view_name": "StyleView",
            "description_width": ""
          }
        },
        "6d3964b2f2f54a1687bb4523255a5890": {
          "model_module": "@jupyter-widgets/controls",
          "model_name": "HBoxModel",
          "model_module_version": "1.5.0",
          "state": {
            "_dom_classes": [],
            "_model_module": "@jupyter-widgets/controls",
            "_model_module_version": "1.5.0",
            "_model_name": "HBoxModel",
            "_view_count": null,
            "_view_module": "@jupyter-widgets/controls",
            "_view_module_version": "1.5.0",
            "_view_name": "HBoxView",
            "box_style": "",
            "children": [
              "IPY_MODEL_ccdb663e834c4507b705364ec7a983cd",
              "IPY_MODEL_77f9ba6f2d3345449d9a1c24c32c2b82",
              "IPY_MODEL_c1dad2fcccb64c548c2139d59a765f8f"
            ],
            "layout": "IPY_MODEL_6ae7244ba72d43c4bb6f1477d8e95cb5"
          }
        },
        "ccdb663e834c4507b705364ec7a983cd": {
          "model_module": "@jupyter-widgets/controls",
          "model_name": "HTMLModel",
          "model_module_version": "1.5.0",
          "state": {
            "_dom_classes": [],
            "_model_module": "@jupyter-widgets/controls",
            "_model_module_version": "1.5.0",
            "_model_name": "HTMLModel",
            "_view_count": null,
            "_view_module": "@jupyter-widgets/controls",
            "_view_module_version": "1.5.0",
            "_view_name": "HTMLView",
            "description": "",
            "description_tooltip": null,
            "layout": "IPY_MODEL_7f245d5f49634bab959396344dfa7270",
            "placeholder": "​",
            "style": "IPY_MODEL_01457d8605ef48c4b806afa17ac66139",
            "value": "tokenizer.model: 100%"
          }
        },
        "77f9ba6f2d3345449d9a1c24c32c2b82": {
          "model_module": "@jupyter-widgets/controls",
          "model_name": "FloatProgressModel",
          "model_module_version": "1.5.0",
          "state": {
            "_dom_classes": [],
            "_model_module": "@jupyter-widgets/controls",
            "_model_module_version": "1.5.0",
            "_model_name": "FloatProgressModel",
            "_view_count": null,
            "_view_module": "@jupyter-widgets/controls",
            "_view_module_version": "1.5.0",
            "_view_name": "ProgressView",
            "bar_style": "success",
            "description": "",
            "description_tooltip": null,
            "layout": "IPY_MODEL_9dc453512ac1429cb56faf6b44d1de21",
            "max": 493443,
            "min": 0,
            "orientation": "horizontal",
            "style": "IPY_MODEL_2aca78b5efa24138b58fd3f778c6f700",
            "value": 493443
          }
        },
        "c1dad2fcccb64c548c2139d59a765f8f": {
          "model_module": "@jupyter-widgets/controls",
          "model_name": "HTMLModel",
          "model_module_version": "1.5.0",
          "state": {
            "_dom_classes": [],
            "_model_module": "@jupyter-widgets/controls",
            "_model_module_version": "1.5.0",
            "_model_name": "HTMLModel",
            "_view_count": null,
            "_view_module": "@jupyter-widgets/controls",
            "_view_module_version": "1.5.0",
            "_view_name": "HTMLView",
            "description": "",
            "description_tooltip": null,
            "layout": "IPY_MODEL_807ab30e419e4c89bbe919fabdf13c61",
            "placeholder": "​",
            "style": "IPY_MODEL_ca5cc855174f4d659a2ae362db0988e1",
            "value": " 493k/493k [00:00&lt;00:00, 25.8MB/s]"
          }
        },
        "6ae7244ba72d43c4bb6f1477d8e95cb5": {
          "model_module": "@jupyter-widgets/base",
          "model_name": "LayoutModel",
          "model_module_version": "1.2.0",
          "state": {
            "_model_module": "@jupyter-widgets/base",
            "_model_module_version": "1.2.0",
            "_model_name": "LayoutModel",
            "_view_count": null,
            "_view_module": "@jupyter-widgets/base",
            "_view_module_version": "1.2.0",
            "_view_name": "LayoutView",
            "align_content": null,
            "align_items": null,
            "align_self": null,
            "border": null,
            "bottom": null,
            "display": null,
            "flex": null,
            "flex_flow": null,
            "grid_area": null,
            "grid_auto_columns": null,
            "grid_auto_flow": null,
            "grid_auto_rows": null,
            "grid_column": null,
            "grid_gap": null,
            "grid_row": null,
            "grid_template_areas": null,
            "grid_template_columns": null,
            "grid_template_rows": null,
            "height": null,
            "justify_content": null,
            "justify_items": null,
            "left": null,
            "margin": null,
            "max_height": null,
            "max_width": null,
            "min_height": null,
            "min_width": null,
            "object_fit": null,
            "object_position": null,
            "order": null,
            "overflow": null,
            "overflow_x": null,
            "overflow_y": null,
            "padding": null,
            "right": null,
            "top": null,
            "visibility": null,
            "width": null
          }
        },
        "7f245d5f49634bab959396344dfa7270": {
          "model_module": "@jupyter-widgets/base",
          "model_name": "LayoutModel",
          "model_module_version": "1.2.0",
          "state": {
            "_model_module": "@jupyter-widgets/base",
            "_model_module_version": "1.2.0",
            "_model_name": "LayoutModel",
            "_view_count": null,
            "_view_module": "@jupyter-widgets/base",
            "_view_module_version": "1.2.0",
            "_view_name": "LayoutView",
            "align_content": null,
            "align_items": null,
            "align_self": null,
            "border": null,
            "bottom": null,
            "display": null,
            "flex": null,
            "flex_flow": null,
            "grid_area": null,
            "grid_auto_columns": null,
            "grid_auto_flow": null,
            "grid_auto_rows": null,
            "grid_column": null,
            "grid_gap": null,
            "grid_row": null,
            "grid_template_areas": null,
            "grid_template_columns": null,
            "grid_template_rows": null,
            "height": null,
            "justify_content": null,
            "justify_items": null,
            "left": null,
            "margin": null,
            "max_height": null,
            "max_width": null,
            "min_height": null,
            "min_width": null,
            "object_fit": null,
            "object_position": null,
            "order": null,
            "overflow": null,
            "overflow_x": null,
            "overflow_y": null,
            "padding": null,
            "right": null,
            "top": null,
            "visibility": null,
            "width": null
          }
        },
        "01457d8605ef48c4b806afa17ac66139": {
          "model_module": "@jupyter-widgets/controls",
          "model_name": "DescriptionStyleModel",
          "model_module_version": "1.5.0",
          "state": {
            "_model_module": "@jupyter-widgets/controls",
            "_model_module_version": "1.5.0",
            "_model_name": "DescriptionStyleModel",
            "_view_count": null,
            "_view_module": "@jupyter-widgets/base",
            "_view_module_version": "1.2.0",
            "_view_name": "StyleView",
            "description_width": ""
          }
        },
        "9dc453512ac1429cb56faf6b44d1de21": {
          "model_module": "@jupyter-widgets/base",
          "model_name": "LayoutModel",
          "model_module_version": "1.2.0",
          "state": {
            "_model_module": "@jupyter-widgets/base",
            "_model_module_version": "1.2.0",
            "_model_name": "LayoutModel",
            "_view_count": null,
            "_view_module": "@jupyter-widgets/base",
            "_view_module_version": "1.2.0",
            "_view_name": "LayoutView",
            "align_content": null,
            "align_items": null,
            "align_self": null,
            "border": null,
            "bottom": null,
            "display": null,
            "flex": null,
            "flex_flow": null,
            "grid_area": null,
            "grid_auto_columns": null,
            "grid_auto_flow": null,
            "grid_auto_rows": null,
            "grid_column": null,
            "grid_gap": null,
            "grid_row": null,
            "grid_template_areas": null,
            "grid_template_columns": null,
            "grid_template_rows": null,
            "height": null,
            "justify_content": null,
            "justify_items": null,
            "left": null,
            "margin": null,
            "max_height": null,
            "max_width": null,
            "min_height": null,
            "min_width": null,
            "object_fit": null,
            "object_position": null,
            "order": null,
            "overflow": null,
            "overflow_x": null,
            "overflow_y": null,
            "padding": null,
            "right": null,
            "top": null,
            "visibility": null,
            "width": null
          }
        },
        "2aca78b5efa24138b58fd3f778c6f700": {
          "model_module": "@jupyter-widgets/controls",
          "model_name": "ProgressStyleModel",
          "model_module_version": "1.5.0",
          "state": {
            "_model_module": "@jupyter-widgets/controls",
            "_model_module_version": "1.5.0",
            "_model_name": "ProgressStyleModel",
            "_view_count": null,
            "_view_module": "@jupyter-widgets/base",
            "_view_module_version": "1.2.0",
            "_view_name": "StyleView",
            "bar_color": null,
            "description_width": ""
          }
        },
        "807ab30e419e4c89bbe919fabdf13c61": {
          "model_module": "@jupyter-widgets/base",
          "model_name": "LayoutModel",
          "model_module_version": "1.2.0",
          "state": {
            "_model_module": "@jupyter-widgets/base",
            "_model_module_version": "1.2.0",
            "_model_name": "LayoutModel",
            "_view_count": null,
            "_view_module": "@jupyter-widgets/base",
            "_view_module_version": "1.2.0",
            "_view_name": "LayoutView",
            "align_content": null,
            "align_items": null,
            "align_self": null,
            "border": null,
            "bottom": null,
            "display": null,
            "flex": null,
            "flex_flow": null,
            "grid_area": null,
            "grid_auto_columns": null,
            "grid_auto_flow": null,
            "grid_auto_rows": null,
            "grid_column": null,
            "grid_gap": null,
            "grid_row": null,
            "grid_template_areas": null,
            "grid_template_columns": null,
            "grid_template_rows": null,
            "height": null,
            "justify_content": null,
            "justify_items": null,
            "left": null,
            "margin": null,
            "max_height": null,
            "max_width": null,
            "min_height": null,
            "min_width": null,
            "object_fit": null,
            "object_position": null,
            "order": null,
            "overflow": null,
            "overflow_x": null,
            "overflow_y": null,
            "padding": null,
            "right": null,
            "top": null,
            "visibility": null,
            "width": null
          }
        },
        "ca5cc855174f4d659a2ae362db0988e1": {
          "model_module": "@jupyter-widgets/controls",
          "model_name": "DescriptionStyleModel",
          "model_module_version": "1.5.0",
          "state": {
            "_model_module": "@jupyter-widgets/controls",
            "_model_module_version": "1.5.0",
            "_model_name": "DescriptionStyleModel",
            "_view_count": null,
            "_view_module": "@jupyter-widgets/base",
            "_view_module_version": "1.2.0",
            "_view_name": "StyleView",
            "description_width": ""
          }
        },
        "252f9e0a2a7d4b9cbf38fbe0499a42e2": {
          "model_module": "@jupyter-widgets/controls",
          "model_name": "HBoxModel",
          "model_module_version": "1.5.0",
          "state": {
            "_dom_classes": [],
            "_model_module": "@jupyter-widgets/controls",
            "_model_module_version": "1.5.0",
            "_model_name": "HBoxModel",
            "_view_count": null,
            "_view_module": "@jupyter-widgets/controls",
            "_view_module_version": "1.5.0",
            "_view_name": "HBoxView",
            "box_style": "",
            "children": [
              "IPY_MODEL_6eb694a46f724f6a903387b185651662",
              "IPY_MODEL_353c5f5e0ce548f79da41f54de441dcf",
              "IPY_MODEL_a57882fcc9014f8db438365f34e2ec5d"
            ],
            "layout": "IPY_MODEL_fcbc582ac00c48f98241298369979573"
          }
        },
        "6eb694a46f724f6a903387b185651662": {
          "model_module": "@jupyter-widgets/controls",
          "model_name": "HTMLModel",
          "model_module_version": "1.5.0",
          "state": {
            "_dom_classes": [],
            "_model_module": "@jupyter-widgets/controls",
            "_model_module_version": "1.5.0",
            "_model_name": "HTMLModel",
            "_view_count": null,
            "_view_module": "@jupyter-widgets/controls",
            "_view_module_version": "1.5.0",
            "_view_name": "HTMLView",
            "description": "",
            "description_tooltip": null,
            "layout": "IPY_MODEL_09dd1ab637e048d5a793240a7ac496ef",
            "placeholder": "​",
            "style": "IPY_MODEL_9ab2385e45d94ac88062a2c1775b0920",
            "value": "tokenizer.json: 100%"
          }
        },
        "353c5f5e0ce548f79da41f54de441dcf": {
          "model_module": "@jupyter-widgets/controls",
          "model_name": "FloatProgressModel",
          "model_module_version": "1.5.0",
          "state": {
            "_dom_classes": [],
            "_model_module": "@jupyter-widgets/controls",
            "_model_module_version": "1.5.0",
            "_model_name": "FloatProgressModel",
            "_view_count": null,
            "_view_module": "@jupyter-widgets/controls",
            "_view_module_version": "1.5.0",
            "_view_name": "ProgressView",
            "bar_style": "success",
            "description": "",
            "description_tooltip": null,
            "layout": "IPY_MODEL_869c0481457c48759ee71deb84ed9cf4",
            "max": 1795303,
            "min": 0,
            "orientation": "horizontal",
            "style": "IPY_MODEL_21f229aa95fa4125a9116a233397d878",
            "value": 1795303
          }
        },
        "a57882fcc9014f8db438365f34e2ec5d": {
          "model_module": "@jupyter-widgets/controls",
          "model_name": "HTMLModel",
          "model_module_version": "1.5.0",
          "state": {
            "_dom_classes": [],
            "_model_module": "@jupyter-widgets/controls",
            "_model_module_version": "1.5.0",
            "_model_name": "HTMLModel",
            "_view_count": null,
            "_view_module": "@jupyter-widgets/controls",
            "_view_module_version": "1.5.0",
            "_view_name": "HTMLView",
            "description": "",
            "description_tooltip": null,
            "layout": "IPY_MODEL_d4edfe882b2d48578a6048cf86d5ce75",
            "placeholder": "​",
            "style": "IPY_MODEL_0ada6ed35fbf4bb9aa0d83cd5e38aea1",
            "value": " 1.80M/1.80M [00:00&lt;00:00, 6.60MB/s]"
          }
        },
        "fcbc582ac00c48f98241298369979573": {
          "model_module": "@jupyter-widgets/base",
          "model_name": "LayoutModel",
          "model_module_version": "1.2.0",
          "state": {
            "_model_module": "@jupyter-widgets/base",
            "_model_module_version": "1.2.0",
            "_model_name": "LayoutModel",
            "_view_count": null,
            "_view_module": "@jupyter-widgets/base",
            "_view_module_version": "1.2.0",
            "_view_name": "LayoutView",
            "align_content": null,
            "align_items": null,
            "align_self": null,
            "border": null,
            "bottom": null,
            "display": null,
            "flex": null,
            "flex_flow": null,
            "grid_area": null,
            "grid_auto_columns": null,
            "grid_auto_flow": null,
            "grid_auto_rows": null,
            "grid_column": null,
            "grid_gap": null,
            "grid_row": null,
            "grid_template_areas": null,
            "grid_template_columns": null,
            "grid_template_rows": null,
            "height": null,
            "justify_content": null,
            "justify_items": null,
            "left": null,
            "margin": null,
            "max_height": null,
            "max_width": null,
            "min_height": null,
            "min_width": null,
            "object_fit": null,
            "object_position": null,
            "order": null,
            "overflow": null,
            "overflow_x": null,
            "overflow_y": null,
            "padding": null,
            "right": null,
            "top": null,
            "visibility": null,
            "width": null
          }
        },
        "09dd1ab637e048d5a793240a7ac496ef": {
          "model_module": "@jupyter-widgets/base",
          "model_name": "LayoutModel",
          "model_module_version": "1.2.0",
          "state": {
            "_model_module": "@jupyter-widgets/base",
            "_model_module_version": "1.2.0",
            "_model_name": "LayoutModel",
            "_view_count": null,
            "_view_module": "@jupyter-widgets/base",
            "_view_module_version": "1.2.0",
            "_view_name": "LayoutView",
            "align_content": null,
            "align_items": null,
            "align_self": null,
            "border": null,
            "bottom": null,
            "display": null,
            "flex": null,
            "flex_flow": null,
            "grid_area": null,
            "grid_auto_columns": null,
            "grid_auto_flow": null,
            "grid_auto_rows": null,
            "grid_column": null,
            "grid_gap": null,
            "grid_row": null,
            "grid_template_areas": null,
            "grid_template_columns": null,
            "grid_template_rows": null,
            "height": null,
            "justify_content": null,
            "justify_items": null,
            "left": null,
            "margin": null,
            "max_height": null,
            "max_width": null,
            "min_height": null,
            "min_width": null,
            "object_fit": null,
            "object_position": null,
            "order": null,
            "overflow": null,
            "overflow_x": null,
            "overflow_y": null,
            "padding": null,
            "right": null,
            "top": null,
            "visibility": null,
            "width": null
          }
        },
        "9ab2385e45d94ac88062a2c1775b0920": {
          "model_module": "@jupyter-widgets/controls",
          "model_name": "DescriptionStyleModel",
          "model_module_version": "1.5.0",
          "state": {
            "_model_module": "@jupyter-widgets/controls",
            "_model_module_version": "1.5.0",
            "_model_name": "DescriptionStyleModel",
            "_view_count": null,
            "_view_module": "@jupyter-widgets/base",
            "_view_module_version": "1.2.0",
            "_view_name": "StyleView",
            "description_width": ""
          }
        },
        "869c0481457c48759ee71deb84ed9cf4": {
          "model_module": "@jupyter-widgets/base",
          "model_name": "LayoutModel",
          "model_module_version": "1.2.0",
          "state": {
            "_model_module": "@jupyter-widgets/base",
            "_model_module_version": "1.2.0",
            "_model_name": "LayoutModel",
            "_view_count": null,
            "_view_module": "@jupyter-widgets/base",
            "_view_module_version": "1.2.0",
            "_view_name": "LayoutView",
            "align_content": null,
            "align_items": null,
            "align_self": null,
            "border": null,
            "bottom": null,
            "display": null,
            "flex": null,
            "flex_flow": null,
            "grid_area": null,
            "grid_auto_columns": null,
            "grid_auto_flow": null,
            "grid_auto_rows": null,
            "grid_column": null,
            "grid_gap": null,
            "grid_row": null,
            "grid_template_areas": null,
            "grid_template_columns": null,
            "grid_template_rows": null,
            "height": null,
            "justify_content": null,
            "justify_items": null,
            "left": null,
            "margin": null,
            "max_height": null,
            "max_width": null,
            "min_height": null,
            "min_width": null,
            "object_fit": null,
            "object_position": null,
            "order": null,
            "overflow": null,
            "overflow_x": null,
            "overflow_y": null,
            "padding": null,
            "right": null,
            "top": null,
            "visibility": null,
            "width": null
          }
        },
        "21f229aa95fa4125a9116a233397d878": {
          "model_module": "@jupyter-widgets/controls",
          "model_name": "ProgressStyleModel",
          "model_module_version": "1.5.0",
          "state": {
            "_model_module": "@jupyter-widgets/controls",
            "_model_module_version": "1.5.0",
            "_model_name": "ProgressStyleModel",
            "_view_count": null,
            "_view_module": "@jupyter-widgets/base",
            "_view_module_version": "1.2.0",
            "_view_name": "StyleView",
            "bar_color": null,
            "description_width": ""
          }
        },
        "d4edfe882b2d48578a6048cf86d5ce75": {
          "model_module": "@jupyter-widgets/base",
          "model_name": "LayoutModel",
          "model_module_version": "1.2.0",
          "state": {
            "_model_module": "@jupyter-widgets/base",
            "_model_module_version": "1.2.0",
            "_model_name": "LayoutModel",
            "_view_count": null,
            "_view_module": "@jupyter-widgets/base",
            "_view_module_version": "1.2.0",
            "_view_name": "LayoutView",
            "align_content": null,
            "align_items": null,
            "align_self": null,
            "border": null,
            "bottom": null,
            "display": null,
            "flex": null,
            "flex_flow": null,
            "grid_area": null,
            "grid_auto_columns": null,
            "grid_auto_flow": null,
            "grid_auto_rows": null,
            "grid_column": null,
            "grid_gap": null,
            "grid_row": null,
            "grid_template_areas": null,
            "grid_template_columns": null,
            "grid_template_rows": null,
            "height": null,
            "justify_content": null,
            "justify_items": null,
            "left": null,
            "margin": null,
            "max_height": null,
            "max_width": null,
            "min_height": null,
            "min_width": null,
            "object_fit": null,
            "object_position": null,
            "order": null,
            "overflow": null,
            "overflow_x": null,
            "overflow_y": null,
            "padding": null,
            "right": null,
            "top": null,
            "visibility": null,
            "width": null
          }
        },
        "0ada6ed35fbf4bb9aa0d83cd5e38aea1": {
          "model_module": "@jupyter-widgets/controls",
          "model_name": "DescriptionStyleModel",
          "model_module_version": "1.5.0",
          "state": {
            "_model_module": "@jupyter-widgets/controls",
            "_model_module_version": "1.5.0",
            "_model_name": "DescriptionStyleModel",
            "_view_count": null,
            "_view_module": "@jupyter-widgets/base",
            "_view_module_version": "1.2.0",
            "_view_name": "StyleView",
            "description_width": ""
          }
        },
        "23504812335b46a191a9cdfda4661f37": {
          "model_module": "@jupyter-widgets/controls",
          "model_name": "HBoxModel",
          "model_module_version": "1.5.0",
          "state": {
            "_dom_classes": [],
            "_model_module": "@jupyter-widgets/controls",
            "_model_module_version": "1.5.0",
            "_model_name": "HBoxModel",
            "_view_count": null,
            "_view_module": "@jupyter-widgets/controls",
            "_view_module_version": "1.5.0",
            "_view_name": "HBoxView",
            "box_style": "",
            "children": [
              "IPY_MODEL_33520d1e05ca4473b5594af9d0166409",
              "IPY_MODEL_e28ec421fe2548de90a6d78a0a331efa",
              "IPY_MODEL_ea84527e0a454d8f90b52696d311ff2d"
            ],
            "layout": "IPY_MODEL_a76efc502e1b4b52b693bad526896c18"
          }
        },
        "33520d1e05ca4473b5594af9d0166409": {
          "model_module": "@jupyter-widgets/controls",
          "model_name": "HTMLModel",
          "model_module_version": "1.5.0",
          "state": {
            "_dom_classes": [],
            "_model_module": "@jupyter-widgets/controls",
            "_model_module_version": "1.5.0",
            "_model_name": "HTMLModel",
            "_view_count": null,
            "_view_module": "@jupyter-widgets/controls",
            "_view_module_version": "1.5.0",
            "_view_name": "HTMLView",
            "description": "",
            "description_tooltip": null,
            "layout": "IPY_MODEL_99f30f92534e4ed6a2b892b82db78237",
            "placeholder": "​",
            "style": "IPY_MODEL_098a9bc4bb214d4d91eee6c806c32c5d",
            "value": "special_tokens_map.json: 100%"
          }
        },
        "e28ec421fe2548de90a6d78a0a331efa": {
          "model_module": "@jupyter-widgets/controls",
          "model_name": "FloatProgressModel",
          "model_module_version": "1.5.0",
          "state": {
            "_dom_classes": [],
            "_model_module": "@jupyter-widgets/controls",
            "_model_module_version": "1.5.0",
            "_model_name": "FloatProgressModel",
            "_view_count": null,
            "_view_module": "@jupyter-widgets/controls",
            "_view_module_version": "1.5.0",
            "_view_name": "ProgressView",
            "bar_style": "success",
            "description": "",
            "description_tooltip": null,
            "layout": "IPY_MODEL_ea0aa28f27394677a7438433e52ffcb3",
            "max": 72,
            "min": 0,
            "orientation": "horizontal",
            "style": "IPY_MODEL_1cd712c5a7cd43bebc6f34938ec9436e",
            "value": 72
          }
        },
        "ea84527e0a454d8f90b52696d311ff2d": {
          "model_module": "@jupyter-widgets/controls",
          "model_name": "HTMLModel",
          "model_module_version": "1.5.0",
          "state": {
            "_dom_classes": [],
            "_model_module": "@jupyter-widgets/controls",
            "_model_module_version": "1.5.0",
            "_model_name": "HTMLModel",
            "_view_count": null,
            "_view_module": "@jupyter-widgets/controls",
            "_view_module_version": "1.5.0",
            "_view_name": "HTMLView",
            "description": "",
            "description_tooltip": null,
            "layout": "IPY_MODEL_e9606ee328f5413388ae425755e16f58",
            "placeholder": "​",
            "style": "IPY_MODEL_926eca075cf34b86a82660ec7c309a83",
            "value": " 72.0/72.0 [00:00&lt;00:00, 6.23kB/s]"
          }
        },
        "a76efc502e1b4b52b693bad526896c18": {
          "model_module": "@jupyter-widgets/base",
          "model_name": "LayoutModel",
          "model_module_version": "1.2.0",
          "state": {
            "_model_module": "@jupyter-widgets/base",
            "_model_module_version": "1.2.0",
            "_model_name": "LayoutModel",
            "_view_count": null,
            "_view_module": "@jupyter-widgets/base",
            "_view_module_version": "1.2.0",
            "_view_name": "LayoutView",
            "align_content": null,
            "align_items": null,
            "align_self": null,
            "border": null,
            "bottom": null,
            "display": null,
            "flex": null,
            "flex_flow": null,
            "grid_area": null,
            "grid_auto_columns": null,
            "grid_auto_flow": null,
            "grid_auto_rows": null,
            "grid_column": null,
            "grid_gap": null,
            "grid_row": null,
            "grid_template_areas": null,
            "grid_template_columns": null,
            "grid_template_rows": null,
            "height": null,
            "justify_content": null,
            "justify_items": null,
            "left": null,
            "margin": null,
            "max_height": null,
            "max_width": null,
            "min_height": null,
            "min_width": null,
            "object_fit": null,
            "object_position": null,
            "order": null,
            "overflow": null,
            "overflow_x": null,
            "overflow_y": null,
            "padding": null,
            "right": null,
            "top": null,
            "visibility": null,
            "width": null
          }
        },
        "99f30f92534e4ed6a2b892b82db78237": {
          "model_module": "@jupyter-widgets/base",
          "model_name": "LayoutModel",
          "model_module_version": "1.2.0",
          "state": {
            "_model_module": "@jupyter-widgets/base",
            "_model_module_version": "1.2.0",
            "_model_name": "LayoutModel",
            "_view_count": null,
            "_view_module": "@jupyter-widgets/base",
            "_view_module_version": "1.2.0",
            "_view_name": "LayoutView",
            "align_content": null,
            "align_items": null,
            "align_self": null,
            "border": null,
            "bottom": null,
            "display": null,
            "flex": null,
            "flex_flow": null,
            "grid_area": null,
            "grid_auto_columns": null,
            "grid_auto_flow": null,
            "grid_auto_rows": null,
            "grid_column": null,
            "grid_gap": null,
            "grid_row": null,
            "grid_template_areas": null,
            "grid_template_columns": null,
            "grid_template_rows": null,
            "height": null,
            "justify_content": null,
            "justify_items": null,
            "left": null,
            "margin": null,
            "max_height": null,
            "max_width": null,
            "min_height": null,
            "min_width": null,
            "object_fit": null,
            "object_position": null,
            "order": null,
            "overflow": null,
            "overflow_x": null,
            "overflow_y": null,
            "padding": null,
            "right": null,
            "top": null,
            "visibility": null,
            "width": null
          }
        },
        "098a9bc4bb214d4d91eee6c806c32c5d": {
          "model_module": "@jupyter-widgets/controls",
          "model_name": "DescriptionStyleModel",
          "model_module_version": "1.5.0",
          "state": {
            "_model_module": "@jupyter-widgets/controls",
            "_model_module_version": "1.5.0",
            "_model_name": "DescriptionStyleModel",
            "_view_count": null,
            "_view_module": "@jupyter-widgets/base",
            "_view_module_version": "1.2.0",
            "_view_name": "StyleView",
            "description_width": ""
          }
        },
        "ea0aa28f27394677a7438433e52ffcb3": {
          "model_module": "@jupyter-widgets/base",
          "model_name": "LayoutModel",
          "model_module_version": "1.2.0",
          "state": {
            "_model_module": "@jupyter-widgets/base",
            "_model_module_version": "1.2.0",
            "_model_name": "LayoutModel",
            "_view_count": null,
            "_view_module": "@jupyter-widgets/base",
            "_view_module_version": "1.2.0",
            "_view_name": "LayoutView",
            "align_content": null,
            "align_items": null,
            "align_self": null,
            "border": null,
            "bottom": null,
            "display": null,
            "flex": null,
            "flex_flow": null,
            "grid_area": null,
            "grid_auto_columns": null,
            "grid_auto_flow": null,
            "grid_auto_rows": null,
            "grid_column": null,
            "grid_gap": null,
            "grid_row": null,
            "grid_template_areas": null,
            "grid_template_columns": null,
            "grid_template_rows": null,
            "height": null,
            "justify_content": null,
            "justify_items": null,
            "left": null,
            "margin": null,
            "max_height": null,
            "max_width": null,
            "min_height": null,
            "min_width": null,
            "object_fit": null,
            "object_position": null,
            "order": null,
            "overflow": null,
            "overflow_x": null,
            "overflow_y": null,
            "padding": null,
            "right": null,
            "top": null,
            "visibility": null,
            "width": null
          }
        },
        "1cd712c5a7cd43bebc6f34938ec9436e": {
          "model_module": "@jupyter-widgets/controls",
          "model_name": "ProgressStyleModel",
          "model_module_version": "1.5.0",
          "state": {
            "_model_module": "@jupyter-widgets/controls",
            "_model_module_version": "1.5.0",
            "_model_name": "ProgressStyleModel",
            "_view_count": null,
            "_view_module": "@jupyter-widgets/base",
            "_view_module_version": "1.2.0",
            "_view_name": "StyleView",
            "bar_color": null,
            "description_width": ""
          }
        },
        "e9606ee328f5413388ae425755e16f58": {
          "model_module": "@jupyter-widgets/base",
          "model_name": "LayoutModel",
          "model_module_version": "1.2.0",
          "state": {
            "_model_module": "@jupyter-widgets/base",
            "_model_module_version": "1.2.0",
            "_model_name": "LayoutModel",
            "_view_count": null,
            "_view_module": "@jupyter-widgets/base",
            "_view_module_version": "1.2.0",
            "_view_name": "LayoutView",
            "align_content": null,
            "align_items": null,
            "align_self": null,
            "border": null,
            "bottom": null,
            "display": null,
            "flex": null,
            "flex_flow": null,
            "grid_area": null,
            "grid_auto_columns": null,
            "grid_auto_flow": null,
            "grid_auto_rows": null,
            "grid_column": null,
            "grid_gap": null,
            "grid_row": null,
            "grid_template_areas": null,
            "grid_template_columns": null,
            "grid_template_rows": null,
            "height": null,
            "justify_content": null,
            "justify_items": null,
            "left": null,
            "margin": null,
            "max_height": null,
            "max_width": null,
            "min_height": null,
            "min_width": null,
            "object_fit": null,
            "object_position": null,
            "order": null,
            "overflow": null,
            "overflow_x": null,
            "overflow_y": null,
            "padding": null,
            "right": null,
            "top": null,
            "visibility": null,
            "width": null
          }
        },
        "926eca075cf34b86a82660ec7c309a83": {
          "model_module": "@jupyter-widgets/controls",
          "model_name": "DescriptionStyleModel",
          "model_module_version": "1.5.0",
          "state": {
            "_model_module": "@jupyter-widgets/controls",
            "_model_module_version": "1.5.0",
            "_model_name": "DescriptionStyleModel",
            "_view_count": null,
            "_view_module": "@jupyter-widgets/base",
            "_view_module_version": "1.2.0",
            "_view_name": "StyleView",
            "description_width": ""
          }
        },
        "324b6c56cf904aedb4eb5d120f7fbf7b": {
          "model_module": "@jupyter-widgets/controls",
          "model_name": "HBoxModel",
          "model_module_version": "1.5.0",
          "state": {
            "_dom_classes": [],
            "_model_module": "@jupyter-widgets/controls",
            "_model_module_version": "1.5.0",
            "_model_name": "HBoxModel",
            "_view_count": null,
            "_view_module": "@jupyter-widgets/controls",
            "_view_module_version": "1.5.0",
            "_view_name": "HBoxView",
            "box_style": "",
            "children": [
              "IPY_MODEL_d9b6de97aa25486fab2286b38da662f2",
              "IPY_MODEL_9c58c224e5d84d1f8ce3579fda53a738",
              "IPY_MODEL_2abbcab7f6bd423a86712d2278b1d107"
            ],
            "layout": "IPY_MODEL_9ca89e68bf8a4f7aa6a7db73e489a6f1"
          }
        },
        "d9b6de97aa25486fab2286b38da662f2": {
          "model_module": "@jupyter-widgets/controls",
          "model_name": "HTMLModel",
          "model_module_version": "1.5.0",
          "state": {
            "_dom_classes": [],
            "_model_module": "@jupyter-widgets/controls",
            "_model_module_version": "1.5.0",
            "_model_name": "HTMLModel",
            "_view_count": null,
            "_view_module": "@jupyter-widgets/controls",
            "_view_module_version": "1.5.0",
            "_view_name": "HTMLView",
            "description": "",
            "description_tooltip": null,
            "layout": "IPY_MODEL_927b7a0ace6a41c8928ddad4bab39b54",
            "placeholder": "​",
            "style": "IPY_MODEL_51369003372146c68448f81a06212acd",
            "value": "model.safetensors: 100%"
          }
        },
        "9c58c224e5d84d1f8ce3579fda53a738": {
          "model_module": "@jupyter-widgets/controls",
          "model_name": "FloatProgressModel",
          "model_module_version": "1.5.0",
          "state": {
            "_dom_classes": [],
            "_model_module": "@jupyter-widgets/controls",
            "_model_module_version": "1.5.0",
            "_model_name": "FloatProgressModel",
            "_view_count": null,
            "_view_module": "@jupyter-widgets/controls",
            "_view_module_version": "1.5.0",
            "_view_name": "ProgressView",
            "bar_style": "success",
            "description": "",
            "description_tooltip": null,
            "layout": "IPY_MODEL_0f7fc65622ae426c973a0b30d965cb42",
            "max": 4150880232,
            "min": 0,
            "orientation": "horizontal",
            "style": "IPY_MODEL_e57079a6cdad4decbdab428cec5f0e77",
            "value": 4150880232
          }
        },
        "2abbcab7f6bd423a86712d2278b1d107": {
          "model_module": "@jupyter-widgets/controls",
          "model_name": "HTMLModel",
          "model_module_version": "1.5.0",
          "state": {
            "_dom_classes": [],
            "_model_module": "@jupyter-widgets/controls",
            "_model_module_version": "1.5.0",
            "_model_name": "HTMLModel",
            "_view_count": null,
            "_view_module": "@jupyter-widgets/controls",
            "_view_module_version": "1.5.0",
            "_view_name": "HTMLView",
            "description": "",
            "description_tooltip": null,
            "layout": "IPY_MODEL_3a6ab85936984ebb9439e938eea181d4",
            "placeholder": "​",
            "style": "IPY_MODEL_37e1197ad668411793ad7311287cb941",
            "value": " 4.15G/4.15G [04:03&lt;00:00, 11.3MB/s]"
          }
        },
        "9ca89e68bf8a4f7aa6a7db73e489a6f1": {
          "model_module": "@jupyter-widgets/base",
          "model_name": "LayoutModel",
          "model_module_version": "1.2.0",
          "state": {
            "_model_module": "@jupyter-widgets/base",
            "_model_module_version": "1.2.0",
            "_model_name": "LayoutModel",
            "_view_count": null,
            "_view_module": "@jupyter-widgets/base",
            "_view_module_version": "1.2.0",
            "_view_name": "LayoutView",
            "align_content": null,
            "align_items": null,
            "align_self": null,
            "border": null,
            "bottom": null,
            "display": null,
            "flex": null,
            "flex_flow": null,
            "grid_area": null,
            "grid_auto_columns": null,
            "grid_auto_flow": null,
            "grid_auto_rows": null,
            "grid_column": null,
            "grid_gap": null,
            "grid_row": null,
            "grid_template_areas": null,
            "grid_template_columns": null,
            "grid_template_rows": null,
            "height": null,
            "justify_content": null,
            "justify_items": null,
            "left": null,
            "margin": null,
            "max_height": null,
            "max_width": null,
            "min_height": null,
            "min_width": null,
            "object_fit": null,
            "object_position": null,
            "order": null,
            "overflow": null,
            "overflow_x": null,
            "overflow_y": null,
            "padding": null,
            "right": null,
            "top": null,
            "visibility": null,
            "width": null
          }
        },
        "927b7a0ace6a41c8928ddad4bab39b54": {
          "model_module": "@jupyter-widgets/base",
          "model_name": "LayoutModel",
          "model_module_version": "1.2.0",
          "state": {
            "_model_module": "@jupyter-widgets/base",
            "_model_module_version": "1.2.0",
            "_model_name": "LayoutModel",
            "_view_count": null,
            "_view_module": "@jupyter-widgets/base",
            "_view_module_version": "1.2.0",
            "_view_name": "LayoutView",
            "align_content": null,
            "align_items": null,
            "align_self": null,
            "border": null,
            "bottom": null,
            "display": null,
            "flex": null,
            "flex_flow": null,
            "grid_area": null,
            "grid_auto_columns": null,
            "grid_auto_flow": null,
            "grid_auto_rows": null,
            "grid_column": null,
            "grid_gap": null,
            "grid_row": null,
            "grid_template_areas": null,
            "grid_template_columns": null,
            "grid_template_rows": null,
            "height": null,
            "justify_content": null,
            "justify_items": null,
            "left": null,
            "margin": null,
            "max_height": null,
            "max_width": null,
            "min_height": null,
            "min_width": null,
            "object_fit": null,
            "object_position": null,
            "order": null,
            "overflow": null,
            "overflow_x": null,
            "overflow_y": null,
            "padding": null,
            "right": null,
            "top": null,
            "visibility": null,
            "width": null
          }
        },
        "51369003372146c68448f81a06212acd": {
          "model_module": "@jupyter-widgets/controls",
          "model_name": "DescriptionStyleModel",
          "model_module_version": "1.5.0",
          "state": {
            "_model_module": "@jupyter-widgets/controls",
            "_model_module_version": "1.5.0",
            "_model_name": "DescriptionStyleModel",
            "_view_count": null,
            "_view_module": "@jupyter-widgets/base",
            "_view_module_version": "1.2.0",
            "_view_name": "StyleView",
            "description_width": ""
          }
        },
        "0f7fc65622ae426c973a0b30d965cb42": {
          "model_module": "@jupyter-widgets/base",
          "model_name": "LayoutModel",
          "model_module_version": "1.2.0",
          "state": {
            "_model_module": "@jupyter-widgets/base",
            "_model_module_version": "1.2.0",
            "_model_name": "LayoutModel",
            "_view_count": null,
            "_view_module": "@jupyter-widgets/base",
            "_view_module_version": "1.2.0",
            "_view_name": "LayoutView",
            "align_content": null,
            "align_items": null,
            "align_self": null,
            "border": null,
            "bottom": null,
            "display": null,
            "flex": null,
            "flex_flow": null,
            "grid_area": null,
            "grid_auto_columns": null,
            "grid_auto_flow": null,
            "grid_auto_rows": null,
            "grid_column": null,
            "grid_gap": null,
            "grid_row": null,
            "grid_template_areas": null,
            "grid_template_columns": null,
            "grid_template_rows": null,
            "height": null,
            "justify_content": null,
            "justify_items": null,
            "left": null,
            "margin": null,
            "max_height": null,
            "max_width": null,
            "min_height": null,
            "min_width": null,
            "object_fit": null,
            "object_position": null,
            "order": null,
            "overflow": null,
            "overflow_x": null,
            "overflow_y": null,
            "padding": null,
            "right": null,
            "top": null,
            "visibility": null,
            "width": null
          }
        },
        "e57079a6cdad4decbdab428cec5f0e77": {
          "model_module": "@jupyter-widgets/controls",
          "model_name": "ProgressStyleModel",
          "model_module_version": "1.5.0",
          "state": {
            "_model_module": "@jupyter-widgets/controls",
            "_model_module_version": "1.5.0",
            "_model_name": "ProgressStyleModel",
            "_view_count": null,
            "_view_module": "@jupyter-widgets/base",
            "_view_module_version": "1.2.0",
            "_view_name": "StyleView",
            "bar_color": null,
            "description_width": ""
          }
        },
        "3a6ab85936984ebb9439e938eea181d4": {
          "model_module": "@jupyter-widgets/base",
          "model_name": "LayoutModel",
          "model_module_version": "1.2.0",
          "state": {
            "_model_module": "@jupyter-widgets/base",
            "_model_module_version": "1.2.0",
            "_model_name": "LayoutModel",
            "_view_count": null,
            "_view_module": "@jupyter-widgets/base",
            "_view_module_version": "1.2.0",
            "_view_name": "LayoutView",
            "align_content": null,
            "align_items": null,
            "align_self": null,
            "border": null,
            "bottom": null,
            "display": null,
            "flex": null,
            "flex_flow": null,
            "grid_area": null,
            "grid_auto_columns": null,
            "grid_auto_flow": null,
            "grid_auto_rows": null,
            "grid_column": null,
            "grid_gap": null,
            "grid_row": null,
            "grid_template_areas": null,
            "grid_template_columns": null,
            "grid_template_rows": null,
            "height": null,
            "justify_content": null,
            "justify_items": null,
            "left": null,
            "margin": null,
            "max_height": null,
            "max_width": null,
            "min_height": null,
            "min_width": null,
            "object_fit": null,
            "object_position": null,
            "order": null,
            "overflow": null,
            "overflow_x": null,
            "overflow_y": null,
            "padding": null,
            "right": null,
            "top": null,
            "visibility": null,
            "width": null
          }
        },
        "37e1197ad668411793ad7311287cb941": {
          "model_module": "@jupyter-widgets/controls",
          "model_name": "DescriptionStyleModel",
          "model_module_version": "1.5.0",
          "state": {
            "_model_module": "@jupyter-widgets/controls",
            "_model_module_version": "1.5.0",
            "_model_name": "DescriptionStyleModel",
            "_view_count": null,
            "_view_module": "@jupyter-widgets/base",
            "_view_module_version": "1.2.0",
            "_view_name": "StyleView",
            "description_width": ""
          }
        }
      }
    }
  },
  "cells": [
    {
      "cell_type": "markdown",
      "source": [
        "## Install packages"
      ],
      "metadata": {
        "id": "WcbTnJBx6_XI"
      }
    },
    {
      "cell_type": "code",
      "execution_count": 1,
      "metadata": {
        "id": "iiL7E_756sak",
        "colab": {
          "base_uri": "https://localhost:8080/"
        },
        "outputId": "e2daa3bd-4ec5-4524-ce8e-c1c658bcc088"
      },
      "outputs": [
        {
          "output_type": "stream",
          "name": "stdout",
          "text": [
            "Collecting vllm==0.3.3\n",
            "  Downloading vllm-0.3.3-cp310-cp310-manylinux1_x86_64.whl (44.3 MB)\n",
            "\u001b[2K     \u001b[90m━━━━━━━━━━━━━━━━━━━━━━━━━━━━━━━━━━━━━━━━\u001b[0m \u001b[32m44.3/44.3 MB\u001b[0m \u001b[31m32.5 MB/s\u001b[0m eta \u001b[36m0:00:00\u001b[0m\n",
            "\u001b[?25hCollecting ninja (from vllm==0.3.3)\n",
            "  Downloading ninja-1.11.1.1-py2.py3-none-manylinux1_x86_64.manylinux_2_5_x86_64.whl (307 kB)\n",
            "\u001b[2K     \u001b[90m━━━━━━━━━━━━━━━━━━━━━━━━━━━━━━━━━━━━━━━━\u001b[0m \u001b[32m307.2/307.2 kB\u001b[0m \u001b[31m26.9 MB/s\u001b[0m eta \u001b[36m0:00:00\u001b[0m\n",
            "\u001b[?25hRequirement already satisfied: psutil in /usr/local/lib/python3.10/dist-packages (from vllm==0.3.3) (5.9.5)\n",
            "Collecting ray>=2.9 (from vllm==0.3.3)\n",
            "  Downloading ray-2.10.0-cp310-cp310-manylinux2014_x86_64.whl (65.1 MB)\n",
            "\u001b[2K     \u001b[90m━━━━━━━━━━━━━━━━━━━━━━━━━━━━━━━━━━━━━━━━\u001b[0m \u001b[32m65.1/65.1 MB\u001b[0m \u001b[31m23.6 MB/s\u001b[0m eta \u001b[36m0:00:00\u001b[0m\n",
            "\u001b[?25hRequirement already satisfied: sentencepiece in /usr/local/lib/python3.10/dist-packages (from vllm==0.3.3) (0.1.99)\n",
            "Requirement already satisfied: numpy in /usr/local/lib/python3.10/dist-packages (from vllm==0.3.3) (1.25.2)\n",
            "Collecting torch==2.1.2 (from vllm==0.3.3)\n",
            "  Downloading torch-2.1.2-cp310-cp310-manylinux1_x86_64.whl (670.2 MB)\n",
            "\u001b[2K     \u001b[90m━━━━━━━━━━━━━━━━━━━━━━━━━━━━━━━━━━━━━━━━\u001b[0m \u001b[32m670.2/670.2 MB\u001b[0m \u001b[31m1.7 MB/s\u001b[0m eta \u001b[36m0:00:00\u001b[0m\n",
            "\u001b[?25hRequirement already satisfied: transformers>=4.38.0 in /usr/local/lib/python3.10/dist-packages (from vllm==0.3.3) (4.38.2)\n",
            "Collecting xformers==0.0.23.post1 (from vllm==0.3.3)\n",
            "  Downloading xformers-0.0.23.post1-cp310-cp310-manylinux2014_x86_64.whl (213.0 MB)\n",
            "\u001b[2K     \u001b[90m━━━━━━━━━━━━━━━━━━━━━━━━━━━━━━━━━━━━━━━━\u001b[0m \u001b[32m213.0/213.0 MB\u001b[0m \u001b[31m5.6 MB/s\u001b[0m eta \u001b[36m0:00:00\u001b[0m\n",
            "\u001b[?25hCollecting fastapi (from vllm==0.3.3)\n",
            "  Downloading fastapi-0.110.1-py3-none-any.whl (91 kB)\n",
            "\u001b[2K     \u001b[90m━━━━━━━━━━━━━━━━━━━━━━━━━━━━━━━━━━━━━━━━\u001b[0m \u001b[32m91.9/91.9 kB\u001b[0m \u001b[31m13.8 MB/s\u001b[0m eta \u001b[36m0:00:00\u001b[0m\n",
            "\u001b[?25hCollecting uvicorn[standard] (from vllm==0.3.3)\n",
            "  Downloading uvicorn-0.29.0-py3-none-any.whl (60 kB)\n",
            "\u001b[2K     \u001b[90m━━━━━━━━━━━━━━━━━━━━━━━━━━━━━━━━━━━━━━━━\u001b[0m \u001b[32m60.8/60.8 kB\u001b[0m \u001b[31m9.6 MB/s\u001b[0m eta \u001b[36m0:00:00\u001b[0m\n",
            "\u001b[?25hRequirement already satisfied: pydantic>=2.0 in /usr/local/lib/python3.10/dist-packages (from vllm==0.3.3) (2.6.4)\n",
            "Requirement already satisfied: prometheus-client>=0.18.0 in /usr/local/lib/python3.10/dist-packages (from vllm==0.3.3) (0.20.0)\n",
            "Collecting pynvml==11.5.0 (from vllm==0.3.3)\n",
            "  Downloading pynvml-11.5.0-py3-none-any.whl (53 kB)\n",
            "\u001b[2K     \u001b[90m━━━━━━━━━━━━━━━━━━━━━━━━━━━━━━━━━━━━━━━━\u001b[0m \u001b[32m53.1/53.1 kB\u001b[0m \u001b[31m8.6 MB/s\u001b[0m eta \u001b[36m0:00:00\u001b[0m\n",
            "\u001b[?25hRequirement already satisfied: triton>=2.1.0 in /usr/local/lib/python3.10/dist-packages (from vllm==0.3.3) (2.2.0)\n",
            "Collecting outlines>=0.0.27 (from vllm==0.3.3)\n",
            "  Downloading outlines-0.0.37-py3-none-any.whl (83 kB)\n",
            "\u001b[2K     \u001b[90m━━━━━━━━━━━━━━━━━━━━━━━━━━━━━━━━━━━━━━━━\u001b[0m \u001b[32m83.6/83.6 kB\u001b[0m \u001b[31m13.4 MB/s\u001b[0m eta \u001b[36m0:00:00\u001b[0m\n",
            "\u001b[?25hCollecting cupy-cuda12x==12.1.0 (from vllm==0.3.3)\n",
            "  Downloading cupy_cuda12x-12.1.0-cp310-cp310-manylinux2014_x86_64.whl (83.0 MB)\n",
            "\u001b[2K     \u001b[90m━━━━━━━━━━━━━━━━━━━━━━━━━━━━━━━━━━━━━━━━\u001b[0m \u001b[32m83.0/83.0 MB\u001b[0m \u001b[31m19.9 MB/s\u001b[0m eta \u001b[36m0:00:00\u001b[0m\n",
            "\u001b[?25hRequirement already satisfied: fastrlock>=0.5 in /usr/local/lib/python3.10/dist-packages (from cupy-cuda12x==12.1.0->vllm==0.3.3) (0.8.2)\n",
            "Requirement already satisfied: filelock in /usr/local/lib/python3.10/dist-packages (from torch==2.1.2->vllm==0.3.3) (3.13.3)\n",
            "Requirement already satisfied: typing-extensions in /usr/local/lib/python3.10/dist-packages (from torch==2.1.2->vllm==0.3.3) (4.10.0)\n",
            "Requirement already satisfied: sympy in /usr/local/lib/python3.10/dist-packages (from torch==2.1.2->vllm==0.3.3) (1.12)\n",
            "Requirement already satisfied: networkx in /usr/local/lib/python3.10/dist-packages (from torch==2.1.2->vllm==0.3.3) (3.2.1)\n",
            "Requirement already satisfied: jinja2 in /usr/local/lib/python3.10/dist-packages (from torch==2.1.2->vllm==0.3.3) (3.1.3)\n",
            "Requirement already satisfied: fsspec in /usr/local/lib/python3.10/dist-packages (from torch==2.1.2->vllm==0.3.3) (2023.6.0)\n",
            "Collecting nvidia-cuda-nvrtc-cu12==12.1.105 (from torch==2.1.2->vllm==0.3.3)\n",
            "  Using cached nvidia_cuda_nvrtc_cu12-12.1.105-py3-none-manylinux1_x86_64.whl (23.7 MB)\n",
            "Collecting nvidia-cuda-runtime-cu12==12.1.105 (from torch==2.1.2->vllm==0.3.3)\n",
            "  Using cached nvidia_cuda_runtime_cu12-12.1.105-py3-none-manylinux1_x86_64.whl (823 kB)\n",
            "Collecting nvidia-cuda-cupti-cu12==12.1.105 (from torch==2.1.2->vllm==0.3.3)\n",
            "  Using cached nvidia_cuda_cupti_cu12-12.1.105-py3-none-manylinux1_x86_64.whl (14.1 MB)\n",
            "Collecting nvidia-cudnn-cu12==8.9.2.26 (from torch==2.1.2->vllm==0.3.3)\n",
            "  Using cached nvidia_cudnn_cu12-8.9.2.26-py3-none-manylinux1_x86_64.whl (731.7 MB)\n",
            "Collecting nvidia-cublas-cu12==12.1.3.1 (from torch==2.1.2->vllm==0.3.3)\n",
            "  Using cached nvidia_cublas_cu12-12.1.3.1-py3-none-manylinux1_x86_64.whl (410.6 MB)\n",
            "Collecting nvidia-cufft-cu12==11.0.2.54 (from torch==2.1.2->vllm==0.3.3)\n",
            "  Using cached nvidia_cufft_cu12-11.0.2.54-py3-none-manylinux1_x86_64.whl (121.6 MB)\n",
            "Collecting nvidia-curand-cu12==10.3.2.106 (from torch==2.1.2->vllm==0.3.3)\n",
            "  Using cached nvidia_curand_cu12-10.3.2.106-py3-none-manylinux1_x86_64.whl (56.5 MB)\n",
            "Collecting nvidia-cusolver-cu12==11.4.5.107 (from torch==2.1.2->vllm==0.3.3)\n",
            "  Using cached nvidia_cusolver_cu12-11.4.5.107-py3-none-manylinux1_x86_64.whl (124.2 MB)\n",
            "Collecting nvidia-cusparse-cu12==12.1.0.106 (from torch==2.1.2->vllm==0.3.3)\n",
            "  Using cached nvidia_cusparse_cu12-12.1.0.106-py3-none-manylinux1_x86_64.whl (196.0 MB)\n",
            "Collecting nvidia-nccl-cu12==2.18.1 (from torch==2.1.2->vllm==0.3.3)\n",
            "  Downloading nvidia_nccl_cu12-2.18.1-py3-none-manylinux1_x86_64.whl (209.8 MB)\n",
            "\u001b[2K     \u001b[90m━━━━━━━━━━━━━━━━━━━━━━━━━━━━━━━━━━━━━━━━\u001b[0m \u001b[32m209.8/209.8 MB\u001b[0m \u001b[31m2.5 MB/s\u001b[0m eta \u001b[36m0:00:00\u001b[0m\n",
            "\u001b[?25hCollecting nvidia-nvtx-cu12==12.1.105 (from torch==2.1.2->vllm==0.3.3)\n",
            "  Using cached nvidia_nvtx_cu12-12.1.105-py3-none-manylinux1_x86_64.whl (99 kB)\n",
            "Collecting triton>=2.1.0 (from vllm==0.3.3)\n",
            "  Downloading triton-2.1.0-0-cp310-cp310-manylinux2014_x86_64.manylinux_2_17_x86_64.whl (89.2 MB)\n",
            "\u001b[2K     \u001b[90m━━━━━━━━━━━━━━━━━━━━━━━━━━━━━━━━━━━━━━━━\u001b[0m \u001b[32m89.2/89.2 MB\u001b[0m \u001b[31m18.1 MB/s\u001b[0m eta \u001b[36m0:00:00\u001b[0m\n",
            "\u001b[?25hCollecting nvidia-nvjitlink-cu12 (from nvidia-cusolver-cu12==11.4.5.107->torch==2.1.2->vllm==0.3.3)\n",
            "  Using cached nvidia_nvjitlink_cu12-12.4.127-py3-none-manylinux2014_x86_64.whl (21.1 MB)\n",
            "Collecting interegular (from outlines>=0.0.27->vllm==0.3.3)\n",
            "  Downloading interegular-0.3.3-py37-none-any.whl (23 kB)\n",
            "Collecting lark (from outlines>=0.0.27->vllm==0.3.3)\n",
            "  Downloading lark-1.1.9-py3-none-any.whl (111 kB)\n",
            "\u001b[2K     \u001b[90m━━━━━━━━━━━━━━━━━━━━━━━━━━━━━━━━━━━━━━━━\u001b[0m \u001b[32m111.7/111.7 kB\u001b[0m \u001b[31m17.9 MB/s\u001b[0m eta \u001b[36m0:00:00\u001b[0m\n",
            "\u001b[?25hRequirement already satisfied: nest-asyncio in /usr/local/lib/python3.10/dist-packages (from outlines>=0.0.27->vllm==0.3.3) (1.6.0)\n",
            "Requirement already satisfied: cloudpickle in /usr/local/lib/python3.10/dist-packages (from outlines>=0.0.27->vllm==0.3.3) (2.2.1)\n",
            "Collecting diskcache (from outlines>=0.0.27->vllm==0.3.3)\n",
            "  Downloading diskcache-5.6.3-py3-none-any.whl (45 kB)\n",
            "\u001b[2K     \u001b[90m━━━━━━━━━━━━━━━━━━━━━━━━━━━━━━━━━━━━━━━━\u001b[0m \u001b[32m45.5/45.5 kB\u001b[0m \u001b[31m7.1 MB/s\u001b[0m eta \u001b[36m0:00:00\u001b[0m\n",
            "\u001b[?25hRequirement already satisfied: scipy in /usr/local/lib/python3.10/dist-packages (from outlines>=0.0.27->vllm==0.3.3) (1.11.4)\n",
            "Requirement already satisfied: numba in /usr/local/lib/python3.10/dist-packages (from outlines>=0.0.27->vllm==0.3.3) (0.58.1)\n",
            "Requirement already satisfied: joblib in /usr/local/lib/python3.10/dist-packages (from outlines>=0.0.27->vllm==0.3.3) (1.3.2)\n",
            "Requirement already satisfied: referencing in /usr/local/lib/python3.10/dist-packages (from outlines>=0.0.27->vllm==0.3.3) (0.34.0)\n",
            "Requirement already satisfied: jsonschema in /usr/local/lib/python3.10/dist-packages (from outlines>=0.0.27->vllm==0.3.3) (4.19.2)\n",
            "Requirement already satisfied: requests in /usr/local/lib/python3.10/dist-packages (from outlines>=0.0.27->vllm==0.3.3) (2.31.0)\n",
            "Requirement already satisfied: annotated-types>=0.4.0 in /usr/local/lib/python3.10/dist-packages (from pydantic>=2.0->vllm==0.3.3) (0.6.0)\n",
            "Requirement already satisfied: pydantic-core==2.16.3 in /usr/local/lib/python3.10/dist-packages (from pydantic>=2.0->vllm==0.3.3) (2.16.3)\n",
            "Requirement already satisfied: click>=7.0 in /usr/local/lib/python3.10/dist-packages (from ray>=2.9->vllm==0.3.3) (8.1.7)\n",
            "Requirement already satisfied: msgpack<2.0.0,>=1.0.0 in /usr/local/lib/python3.10/dist-packages (from ray>=2.9->vllm==0.3.3) (1.0.8)\n",
            "Requirement already satisfied: packaging in /usr/local/lib/python3.10/dist-packages (from ray>=2.9->vllm==0.3.3) (24.0)\n",
            "Requirement already satisfied: protobuf!=3.19.5,>=3.15.3 in /usr/local/lib/python3.10/dist-packages (from ray>=2.9->vllm==0.3.3) (3.20.3)\n",
            "Requirement already satisfied: pyyaml in /usr/local/lib/python3.10/dist-packages (from ray>=2.9->vllm==0.3.3) (6.0.1)\n",
            "Requirement already satisfied: aiosignal in /usr/local/lib/python3.10/dist-packages (from ray>=2.9->vllm==0.3.3) (1.3.1)\n",
            "Requirement already satisfied: frozenlist in /usr/local/lib/python3.10/dist-packages (from ray>=2.9->vllm==0.3.3) (1.4.1)\n",
            "Requirement already satisfied: huggingface-hub<1.0,>=0.19.3 in /usr/local/lib/python3.10/dist-packages (from transformers>=4.38.0->vllm==0.3.3) (0.20.3)\n",
            "Requirement already satisfied: regex!=2019.12.17 in /usr/local/lib/python3.10/dist-packages (from transformers>=4.38.0->vllm==0.3.3) (2023.12.25)\n",
            "Requirement already satisfied: tokenizers<0.19,>=0.14 in /usr/local/lib/python3.10/dist-packages (from transformers>=4.38.0->vllm==0.3.3) (0.15.2)\n",
            "Requirement already satisfied: safetensors>=0.4.1 in /usr/local/lib/python3.10/dist-packages (from transformers>=4.38.0->vllm==0.3.3) (0.4.2)\n",
            "Requirement already satisfied: tqdm>=4.27 in /usr/local/lib/python3.10/dist-packages (from transformers>=4.38.0->vllm==0.3.3) (4.66.2)\n",
            "Collecting starlette<0.38.0,>=0.37.2 (from fastapi->vllm==0.3.3)\n",
            "  Downloading starlette-0.37.2-py3-none-any.whl (71 kB)\n",
            "\u001b[2K     \u001b[90m━━━━━━━━━━━━━━━━━━━━━━━━━━━━━━━━━━━━━━━━\u001b[0m \u001b[32m71.9/71.9 kB\u001b[0m \u001b[31m10.9 MB/s\u001b[0m eta \u001b[36m0:00:00\u001b[0m\n",
            "\u001b[?25hCollecting h11>=0.8 (from uvicorn[standard]->vllm==0.3.3)\n",
            "  Downloading h11-0.14.0-py3-none-any.whl (58 kB)\n",
            "\u001b[2K     \u001b[90m━━━━━━━━━━━━━━━━━━━━━━━━━━━━━━━━━━━━━━━━\u001b[0m \u001b[32m58.3/58.3 kB\u001b[0m \u001b[31m8.7 MB/s\u001b[0m eta \u001b[36m0:00:00\u001b[0m\n",
            "\u001b[?25hCollecting httptools>=0.5.0 (from uvicorn[standard]->vllm==0.3.3)\n",
            "  Downloading httptools-0.6.1-cp310-cp310-manylinux_2_5_x86_64.manylinux1_x86_64.manylinux_2_17_x86_64.manylinux2014_x86_64.whl (341 kB)\n",
            "\u001b[2K     \u001b[90m━━━━━━━━━━━━━━━━━━━━━━━━━━━━━━━━━━━━━━━━\u001b[0m \u001b[32m341.4/341.4 kB\u001b[0m \u001b[31m41.2 MB/s\u001b[0m eta \u001b[36m0:00:00\u001b[0m\n",
            "\u001b[?25hCollecting python-dotenv>=0.13 (from uvicorn[standard]->vllm==0.3.3)\n",
            "  Downloading python_dotenv-1.0.1-py3-none-any.whl (19 kB)\n",
            "Collecting uvloop!=0.15.0,!=0.15.1,>=0.14.0 (from uvicorn[standard]->vllm==0.3.3)\n",
            "  Downloading uvloop-0.19.0-cp310-cp310-manylinux_2_17_x86_64.manylinux2014_x86_64.whl (3.4 MB)\n",
            "\u001b[2K     \u001b[90m━━━━━━━━━━━━━━━━━━━━━━━━━━━━━━━━━━━━━━━━\u001b[0m \u001b[32m3.4/3.4 MB\u001b[0m \u001b[31m93.5 MB/s\u001b[0m eta \u001b[36m0:00:00\u001b[0m\n",
            "\u001b[?25hCollecting watchfiles>=0.13 (from uvicorn[standard]->vllm==0.3.3)\n",
            "  Downloading watchfiles-0.21.0-cp310-cp310-manylinux_2_17_x86_64.manylinux2014_x86_64.whl (1.3 MB)\n",
            "\u001b[2K     \u001b[90m━━━━━━━━━━━━━━━━━━━━━━━━━━━━━━━━━━━━━━━━\u001b[0m \u001b[32m1.3/1.3 MB\u001b[0m \u001b[31m79.9 MB/s\u001b[0m eta \u001b[36m0:00:00\u001b[0m\n",
            "\u001b[?25hCollecting websockets>=10.4 (from uvicorn[standard]->vllm==0.3.3)\n",
            "  Downloading websockets-12.0-cp310-cp310-manylinux_2_5_x86_64.manylinux1_x86_64.manylinux_2_17_x86_64.manylinux2014_x86_64.whl (130 kB)\n",
            "\u001b[2K     \u001b[90m━━━━━━━━━━━━━━━━━━━━━━━━━━━━━━━━━━━━━━━━\u001b[0m \u001b[32m130.2/130.2 kB\u001b[0m \u001b[31m19.2 MB/s\u001b[0m eta \u001b[36m0:00:00\u001b[0m\n",
            "\u001b[?25hRequirement already satisfied: anyio<5,>=3.4.0 in /usr/local/lib/python3.10/dist-packages (from starlette<0.38.0,>=0.37.2->fastapi->vllm==0.3.3) (3.7.1)\n",
            "Requirement already satisfied: MarkupSafe>=2.0 in /usr/local/lib/python3.10/dist-packages (from jinja2->torch==2.1.2->vllm==0.3.3) (2.1.5)\n",
            "Requirement already satisfied: attrs>=22.2.0 in /usr/local/lib/python3.10/dist-packages (from jsonschema->outlines>=0.0.27->vllm==0.3.3) (23.2.0)\n",
            "Requirement already satisfied: jsonschema-specifications>=2023.03.6 in /usr/local/lib/python3.10/dist-packages (from jsonschema->outlines>=0.0.27->vllm==0.3.3) (2023.12.1)\n",
            "Requirement already satisfied: rpds-py>=0.7.1 in /usr/local/lib/python3.10/dist-packages (from jsonschema->outlines>=0.0.27->vllm==0.3.3) (0.18.0)\n",
            "Requirement already satisfied: llvmlite<0.42,>=0.41.0dev0 in /usr/local/lib/python3.10/dist-packages (from numba->outlines>=0.0.27->vllm==0.3.3) (0.41.1)\n",
            "Requirement already satisfied: charset-normalizer<4,>=2 in /usr/local/lib/python3.10/dist-packages (from requests->outlines>=0.0.27->vllm==0.3.3) (3.3.2)\n",
            "Requirement already satisfied: idna<4,>=2.5 in /usr/local/lib/python3.10/dist-packages (from requests->outlines>=0.0.27->vllm==0.3.3) (3.6)\n",
            "Requirement already satisfied: urllib3<3,>=1.21.1 in /usr/local/lib/python3.10/dist-packages (from requests->outlines>=0.0.27->vllm==0.3.3) (2.0.7)\n",
            "Requirement already satisfied: certifi>=2017.4.17 in /usr/local/lib/python3.10/dist-packages (from requests->outlines>=0.0.27->vllm==0.3.3) (2024.2.2)\n",
            "Requirement already satisfied: mpmath>=0.19 in /usr/local/lib/python3.10/dist-packages (from sympy->torch==2.1.2->vllm==0.3.3) (1.3.0)\n",
            "Requirement already satisfied: sniffio>=1.1 in /usr/local/lib/python3.10/dist-packages (from anyio<5,>=3.4.0->starlette<0.38.0,>=0.37.2->fastapi->vllm==0.3.3) (1.3.1)\n",
            "Requirement already satisfied: exceptiongroup in /usr/local/lib/python3.10/dist-packages (from anyio<5,>=3.4.0->starlette<0.38.0,>=0.37.2->fastapi->vllm==0.3.3) (1.2.0)\n",
            "Installing collected packages: ninja, websockets, uvloop, triton, python-dotenv, pynvml, nvidia-nvtx-cu12, nvidia-nvjitlink-cu12, nvidia-nccl-cu12, nvidia-curand-cu12, nvidia-cufft-cu12, nvidia-cuda-runtime-cu12, nvidia-cuda-nvrtc-cu12, nvidia-cuda-cupti-cu12, nvidia-cublas-cu12, lark, interegular, httptools, h11, diskcache, cupy-cuda12x, watchfiles, uvicorn, starlette, nvidia-cusparse-cu12, nvidia-cudnn-cu12, nvidia-cusolver-cu12, fastapi, torch, ray, xformers, outlines, vllm\n",
            "  Attempting uninstall: triton\n",
            "    Found existing installation: triton 2.2.0\n",
            "    Uninstalling triton-2.2.0:\n",
            "      Successfully uninstalled triton-2.2.0\n",
            "  Attempting uninstall: cupy-cuda12x\n",
            "    Found existing installation: cupy-cuda12x 12.2.0\n",
            "    Uninstalling cupy-cuda12x-12.2.0:\n",
            "      Successfully uninstalled cupy-cuda12x-12.2.0\n",
            "  Attempting uninstall: torch\n",
            "    Found existing installation: torch 2.2.1+cu121\n",
            "    Uninstalling torch-2.2.1+cu121:\n",
            "      Successfully uninstalled torch-2.2.1+cu121\n",
            "\u001b[31mERROR: pip's dependency resolver does not currently take into account all the packages that are installed. This behaviour is the source of the following dependency conflicts.\n",
            "torchaudio 2.2.1+cu121 requires torch==2.2.1, but you have torch 2.1.2 which is incompatible.\n",
            "torchtext 0.17.1 requires torch==2.2.1, but you have torch 2.1.2 which is incompatible.\n",
            "torchvision 0.17.1+cu121 requires torch==2.2.1, but you have torch 2.1.2 which is incompatible.\u001b[0m\u001b[31m\n",
            "\u001b[0mSuccessfully installed cupy-cuda12x-12.1.0 diskcache-5.6.3 fastapi-0.110.1 h11-0.14.0 httptools-0.6.1 interegular-0.3.3 lark-1.1.9 ninja-1.11.1.1 nvidia-cublas-cu12-12.1.3.1 nvidia-cuda-cupti-cu12-12.1.105 nvidia-cuda-nvrtc-cu12-12.1.105 nvidia-cuda-runtime-cu12-12.1.105 nvidia-cudnn-cu12-8.9.2.26 nvidia-cufft-cu12-11.0.2.54 nvidia-curand-cu12-10.3.2.106 nvidia-cusolver-cu12-11.4.5.107 nvidia-cusparse-cu12-12.1.0.106 nvidia-nccl-cu12-2.18.1 nvidia-nvjitlink-cu12-12.4.127 nvidia-nvtx-cu12-12.1.105 outlines-0.0.37 pynvml-11.5.0 python-dotenv-1.0.1 ray-2.10.0 starlette-0.37.2 torch-2.1.2 triton-2.1.0 uvicorn-0.29.0 uvloop-0.19.0 vllm-0.3.3 watchfiles-0.21.0 websockets-12.0 xformers-0.0.23.post1\n",
            "Collecting flash-attn\n",
            "  Downloading flash_attn-2.5.7.tar.gz (2.5 MB)\n",
            "\u001b[2K     \u001b[90m━━━━━━━━━━━━━━━━━━━━━━━━━━━━━━━━━━━━━━━━\u001b[0m \u001b[32m2.5/2.5 MB\u001b[0m \u001b[31m36.5 MB/s\u001b[0m eta \u001b[36m0:00:00\u001b[0m\n",
            "\u001b[?25h  Preparing metadata (setup.py) ... \u001b[?25l\u001b[?25hdone\n",
            "Requirement already satisfied: torch in /usr/local/lib/python3.10/dist-packages (from flash-attn) (2.1.2)\n",
            "Collecting einops (from flash-attn)\n",
            "  Downloading einops-0.7.0-py3-none-any.whl (44 kB)\n",
            "\u001b[2K     \u001b[90m━━━━━━━━━━━━━━━━━━━━━━━━━━━━━━━━━━━━━━━━\u001b[0m \u001b[32m44.6/44.6 kB\u001b[0m \u001b[31m6.3 MB/s\u001b[0m eta \u001b[36m0:00:00\u001b[0m\n",
            "\u001b[?25hRequirement already satisfied: packaging in /usr/local/lib/python3.10/dist-packages (from flash-attn) (24.0)\n",
            "Requirement already satisfied: ninja in /usr/local/lib/python3.10/dist-packages (from flash-attn) (1.11.1.1)\n",
            "Requirement already satisfied: filelock in /usr/local/lib/python3.10/dist-packages (from torch->flash-attn) (3.13.3)\n",
            "Requirement already satisfied: typing-extensions in /usr/local/lib/python3.10/dist-packages (from torch->flash-attn) (4.10.0)\n",
            "Requirement already satisfied: sympy in /usr/local/lib/python3.10/dist-packages (from torch->flash-attn) (1.12)\n",
            "Requirement already satisfied: networkx in /usr/local/lib/python3.10/dist-packages (from torch->flash-attn) (3.2.1)\n",
            "Requirement already satisfied: jinja2 in /usr/local/lib/python3.10/dist-packages (from torch->flash-attn) (3.1.3)\n",
            "Requirement already satisfied: fsspec in /usr/local/lib/python3.10/dist-packages (from torch->flash-attn) (2023.6.0)\n",
            "Requirement already satisfied: nvidia-cuda-nvrtc-cu12==12.1.105 in /usr/local/lib/python3.10/dist-packages (from torch->flash-attn) (12.1.105)\n",
            "Requirement already satisfied: nvidia-cuda-runtime-cu12==12.1.105 in /usr/local/lib/python3.10/dist-packages (from torch->flash-attn) (12.1.105)\n",
            "Requirement already satisfied: nvidia-cuda-cupti-cu12==12.1.105 in /usr/local/lib/python3.10/dist-packages (from torch->flash-attn) (12.1.105)\n",
            "Requirement already satisfied: nvidia-cudnn-cu12==8.9.2.26 in /usr/local/lib/python3.10/dist-packages (from torch->flash-attn) (8.9.2.26)\n",
            "Requirement already satisfied: nvidia-cublas-cu12==12.1.3.1 in /usr/local/lib/python3.10/dist-packages (from torch->flash-attn) (12.1.3.1)\n",
            "Requirement already satisfied: nvidia-cufft-cu12==11.0.2.54 in /usr/local/lib/python3.10/dist-packages (from torch->flash-attn) (11.0.2.54)\n",
            "Requirement already satisfied: nvidia-curand-cu12==10.3.2.106 in /usr/local/lib/python3.10/dist-packages (from torch->flash-attn) (10.3.2.106)\n",
            "Requirement already satisfied: nvidia-cusolver-cu12==11.4.5.107 in /usr/local/lib/python3.10/dist-packages (from torch->flash-attn) (11.4.5.107)\n",
            "Requirement already satisfied: nvidia-cusparse-cu12==12.1.0.106 in /usr/local/lib/python3.10/dist-packages (from torch->flash-attn) (12.1.0.106)\n",
            "Requirement already satisfied: nvidia-nccl-cu12==2.18.1 in /usr/local/lib/python3.10/dist-packages (from torch->flash-attn) (2.18.1)\n",
            "Requirement already satisfied: nvidia-nvtx-cu12==12.1.105 in /usr/local/lib/python3.10/dist-packages (from torch->flash-attn) (12.1.105)\n",
            "Requirement already satisfied: triton==2.1.0 in /usr/local/lib/python3.10/dist-packages (from torch->flash-attn) (2.1.0)\n",
            "Requirement already satisfied: nvidia-nvjitlink-cu12 in /usr/local/lib/python3.10/dist-packages (from nvidia-cusolver-cu12==11.4.5.107->torch->flash-attn) (12.4.127)\n",
            "Requirement already satisfied: MarkupSafe>=2.0 in /usr/local/lib/python3.10/dist-packages (from jinja2->torch->flash-attn) (2.1.5)\n",
            "Requirement already satisfied: mpmath>=0.19 in /usr/local/lib/python3.10/dist-packages (from sympy->torch->flash-attn) (1.3.0)\n",
            "Building wheels for collected packages: flash-attn\n",
            "  Building wheel for flash-attn (setup.py) ... \u001b[?25l\u001b[?25hdone\n",
            "  Created wheel for flash-attn: filename=flash_attn-2.5.7-cp310-cp310-linux_x86_64.whl size=120616631 sha256=d3a5f535b169b2969d859ee6bb6d8dabe3b30c687f926da42787683a5f6f15f6\n",
            "  Stored in directory: /root/.cache/pip/wheels/13/96/ed/bcac89c56b606421f99b45b16a94db5d0f2b6b4eaf8bac4d01\n",
            "Successfully built flash-attn\n",
            "Installing collected packages: einops, flash-attn\n",
            "Successfully installed einops-0.7.0 flash-attn-2.5.7\n"
          ]
        }
      ],
      "source": [
        "#! pip install vllm\n",
        "!pip install vllm==0.3.3\n",
        "!pip install flash-attn\n",
        "\n",
        "from vllm import LLM\n",
        "from vllm import SamplingParams\n",
        "import pandas as pd"
      ]
    },
    {
      "cell_type": "markdown",
      "source": [
        "## Load model"
      ],
      "metadata": {
        "id": "tqweylNJ7SlF"
      }
    },
    {
      "cell_type": "code",
      "source": [
        "# llm = LLM(model='mistralai/Mistral-7B-Instruct-v0.1')\n",
        "llm = LLM(model='TheBloke/Mistral-7B-Instruct-v0.2-AWQ')"
      ],
      "metadata": {
        "id": "57CBmsAt7LeB",
        "colab": {
          "base_uri": "https://localhost:8080/",
          "height": 350,
          "referenced_widgets": [
            "d19dcc7423884cf3943adca6f6e07cb7",
            "f7291d25cf80467187cdbfb3ce7205e8",
            "9163992d5e51439a85c659af5d75ba41",
            "9f60aba75c5b4157889f1d853b40438f",
            "35b25388ad1b45b888b41e445959eeb8",
            "7e82f6ecc63a4fb19a2b980eef7ba6dc",
            "9c2daae2198948419c14d226962147ea",
            "0c36bbbf1e5647fcba8e53b3d4ea5b03",
            "d351e324aa3f4053a641b5db3a1f1a19",
            "b9cbd4d4c278444194b3d98646717500",
            "b5c9955939ce4babbbe279be8e070040",
            "5b28416b6605466999710c726ed31e08",
            "8fc5e06d1d364070ace9d35962cb4151",
            "5998659c23d64f91a99177036bb99a0b",
            "1bd8845ce9184f228ae721d229a46ae0",
            "eca3755645df4a128e8f5a4f5b427f12",
            "a41064df277f437f8d9f1d8eaade3c1f",
            "47915f099efd44fb9b31d39b93fa10f7",
            "6abea4502c334205b7cf2abe98316b80",
            "2b63f91010e74d1ba4c5c82b1d5b97de",
            "70d0feb73be24a2aa90fdc21d0df252e",
            "83cadd889a1d4fd2bf8b43a229a93ab3",
            "6d3964b2f2f54a1687bb4523255a5890",
            "ccdb663e834c4507b705364ec7a983cd",
            "77f9ba6f2d3345449d9a1c24c32c2b82",
            "c1dad2fcccb64c548c2139d59a765f8f",
            "6ae7244ba72d43c4bb6f1477d8e95cb5",
            "7f245d5f49634bab959396344dfa7270",
            "01457d8605ef48c4b806afa17ac66139",
            "9dc453512ac1429cb56faf6b44d1de21",
            "2aca78b5efa24138b58fd3f778c6f700",
            "807ab30e419e4c89bbe919fabdf13c61",
            "ca5cc855174f4d659a2ae362db0988e1",
            "252f9e0a2a7d4b9cbf38fbe0499a42e2",
            "6eb694a46f724f6a903387b185651662",
            "353c5f5e0ce548f79da41f54de441dcf",
            "a57882fcc9014f8db438365f34e2ec5d",
            "fcbc582ac00c48f98241298369979573",
            "09dd1ab637e048d5a793240a7ac496ef",
            "9ab2385e45d94ac88062a2c1775b0920",
            "869c0481457c48759ee71deb84ed9cf4",
            "21f229aa95fa4125a9116a233397d878",
            "d4edfe882b2d48578a6048cf86d5ce75",
            "0ada6ed35fbf4bb9aa0d83cd5e38aea1",
            "23504812335b46a191a9cdfda4661f37",
            "33520d1e05ca4473b5594af9d0166409",
            "e28ec421fe2548de90a6d78a0a331efa",
            "ea84527e0a454d8f90b52696d311ff2d",
            "a76efc502e1b4b52b693bad526896c18",
            "99f30f92534e4ed6a2b892b82db78237",
            "098a9bc4bb214d4d91eee6c806c32c5d",
            "ea0aa28f27394677a7438433e52ffcb3",
            "1cd712c5a7cd43bebc6f34938ec9436e",
            "e9606ee328f5413388ae425755e16f58",
            "926eca075cf34b86a82660ec7c309a83",
            "324b6c56cf904aedb4eb5d120f7fbf7b",
            "d9b6de97aa25486fab2286b38da662f2",
            "9c58c224e5d84d1f8ce3579fda53a738",
            "2abbcab7f6bd423a86712d2278b1d107",
            "9ca89e68bf8a4f7aa6a7db73e489a6f1",
            "927b7a0ace6a41c8928ddad4bab39b54",
            "51369003372146c68448f81a06212acd",
            "0f7fc65622ae426c973a0b30d965cb42",
            "e57079a6cdad4decbdab428cec5f0e77",
            "3a6ab85936984ebb9439e938eea181d4",
            "37e1197ad668411793ad7311287cb941"
          ]
        },
        "outputId": "cb7a6b7d-c185-4d0c-d782-2c30ee5435fb"
      },
      "execution_count": 2,
      "outputs": [
        {
          "output_type": "display_data",
          "data": {
            "text/plain": [
              "config.json:   0%|          | 0.00/904 [00:00<?, ?B/s]"
            ],
            "application/vnd.jupyter.widget-view+json": {
              "version_major": 2,
              "version_minor": 0,
              "model_id": "d19dcc7423884cf3943adca6f6e07cb7"
            }
          },
          "metadata": {}
        },
        {
          "output_type": "stream",
          "name": "stdout",
          "text": [
            "WARNING 04-11 05:40:32 config.py:193] awq quantization is not fully optimized yet. The speed can be slower than non-quantized models.\n",
            "INFO 04-11 05:40:32 llm_engine.py:87] Initializing an LLM engine with config: model='TheBloke/Mistral-7B-Instruct-v0.2-AWQ', tokenizer='TheBloke/Mistral-7B-Instruct-v0.2-AWQ', tokenizer_mode=auto, revision=None, tokenizer_revision=None, trust_remote_code=False, dtype=torch.float16, max_seq_len=32768, download_dir=None, load_format=auto, tensor_parallel_size=1, disable_custom_all_reduce=False, quantization=awq, enforce_eager=False, kv_cache_dtype=auto, device_config=cuda, seed=0)\n"
          ]
        },
        {
          "output_type": "display_data",
          "data": {
            "text/plain": [
              "tokenizer_config.json:   0%|          | 0.00/1.46k [00:00<?, ?B/s]"
            ],
            "application/vnd.jupyter.widget-view+json": {
              "version_major": 2,
              "version_minor": 0,
              "model_id": "5b28416b6605466999710c726ed31e08"
            }
          },
          "metadata": {}
        },
        {
          "output_type": "display_data",
          "data": {
            "text/plain": [
              "tokenizer.model:   0%|          | 0.00/493k [00:00<?, ?B/s]"
            ],
            "application/vnd.jupyter.widget-view+json": {
              "version_major": 2,
              "version_minor": 0,
              "model_id": "6d3964b2f2f54a1687bb4523255a5890"
            }
          },
          "metadata": {}
        },
        {
          "output_type": "display_data",
          "data": {
            "text/plain": [
              "tokenizer.json:   0%|          | 0.00/1.80M [00:00<?, ?B/s]"
            ],
            "application/vnd.jupyter.widget-view+json": {
              "version_major": 2,
              "version_minor": 0,
              "model_id": "252f9e0a2a7d4b9cbf38fbe0499a42e2"
            }
          },
          "metadata": {}
        },
        {
          "output_type": "display_data",
          "data": {
            "text/plain": [
              "special_tokens_map.json:   0%|          | 0.00/72.0 [00:00<?, ?B/s]"
            ],
            "application/vnd.jupyter.widget-view+json": {
              "version_major": 2,
              "version_minor": 0,
              "model_id": "23504812335b46a191a9cdfda4661f37"
            }
          },
          "metadata": {}
        },
        {
          "output_type": "stream",
          "name": "stdout",
          "text": [
            "INFO 04-11 05:40:39 weight_utils.py:163] Using model weights format ['*.safetensors']\n"
          ]
        },
        {
          "output_type": "display_data",
          "data": {
            "text/plain": [
              "model.safetensors:   0%|          | 0.00/4.15G [00:00<?, ?B/s]"
            ],
            "application/vnd.jupyter.widget-view+json": {
              "version_major": 2,
              "version_minor": 0,
              "model_id": "324b6c56cf904aedb4eb5d120f7fbf7b"
            }
          },
          "metadata": {}
        },
        {
          "output_type": "stream",
          "name": "stdout",
          "text": [
            "INFO 04-11 05:44:47 llm_engine.py:357] # GPU blocks: 14037, # CPU blocks: 2048\n",
            "INFO 04-11 05:44:50 model_runner.py:684] Capturing the model for CUDA graphs. This may lead to unexpected consequences if the model is not static. To run the model in eager mode, set 'enforce_eager=True' or use '--enforce-eager' in the CLI.\n",
            "INFO 04-11 05:44:50 model_runner.py:688] CUDA graphs can take additional 1~3 GiB memory per GPU. If you are running out of memory, consider decreasing `gpu_memory_utilization` or enforcing eager mode. You can also reduce the `max_num_seqs` as needed to decrease memory usage.\n",
            "INFO 04-11 05:44:57 model_runner.py:756] Graph capturing finished in 8 secs.\n"
          ]
        }
      ]
    },
    {
      "cell_type": "markdown",
      "source": [
        "## Import data from google drive"
      ],
      "metadata": {
        "id": "GHXYcnT17dOE"
      }
    },
    {
      "cell_type": "code",
      "source": [
        "from google.colab import drive\n",
        "drive.mount('/content/drive')"
      ],
      "metadata": {
        "id": "4g7RG3bY7aMu",
        "colab": {
          "base_uri": "https://localhost:8080/"
        },
        "outputId": "5287f32d-eda1-4a91-8d1f-fb7d2f215d6c"
      },
      "execution_count": 3,
      "outputs": [
        {
          "output_type": "stream",
          "name": "stdout",
          "text": [
            "Mounted at /content/drive\n"
          ]
        }
      ]
    },
    {
      "cell_type": "code",
      "source": [
        "proj_path = \"/content/drive/My Drive/ubc/COLX531/\"\n",
        "data_set = \"eLife\" #\"PLOS\" #\n",
        "\n",
        "data_type = \"val_mini\" #\"test\" # \"val\" #\n",
        "model_name = \"mistral_7b_awq\"\n",
        "method = \"abstract_keyword_fewshot\"\n",
        "prompt_name = \"5shots_with200to300words\"\n",
        "\n",
        "write_path = f'{proj_path}{model_name}/{method}/{data_type}/{prompt_name}/'"
      ],
      "metadata": {
        "id": "kKRkjGkk7lwu"
      },
      "execution_count": 88,
      "outputs": []
    },
    {
      "cell_type": "code",
      "source": [
        "print(write_path)"
      ],
      "metadata": {
        "colab": {
          "base_uri": "https://localhost:8080/"
        },
        "id": "Svn_sSwbvFQc",
        "outputId": "0f1790d9-aee6-401f-8a45-000ce82a7351"
      },
      "execution_count": 89,
      "outputs": [
        {
          "output_type": "stream",
          "name": "stdout",
          "text": [
            "/content/drive/My Drive/ubc/COLX531/mistral_7b_awq/abstract_keyword_fewshot/val_mini/5shots_with200to300words/\n"
          ]
        }
      ]
    },
    {
      "cell_type": "code",
      "source": [
        "def loader(path, sections):\n",
        "    with open(path, 'r') as f:\n",
        "        df = pd.read_json(path,\n",
        "                    orient=\"records\",\n",
        "                    lines=True)\n",
        "        return df[sections]"
      ],
      "metadata": {
        "id": "MrZXzVmS_cyE"
      },
      "execution_count": 90,
      "outputs": []
    },
    {
      "cell_type": "code",
      "source": [
        "sections = ['lay_summary', 'abstract', 'introduction', 'keywords']\n",
        "\n",
        "path = f'{proj_path}data/{data_set}_train_mini.jsonl'\n",
        "train_df = loader(path, sections)\n",
        "\n",
        "path = f'{proj_path}data/{data_set}_{data_type}.jsonl'\n",
        "input_df = loader(path, sections)"
      ],
      "metadata": {
        "id": "McS3zwY2CDAf"
      },
      "execution_count": 91,
      "outputs": []
    },
    {
      "cell_type": "code",
      "source": [
        "train_df.iloc[0]"
      ],
      "metadata": {
        "colab": {
          "base_uri": "https://localhost:8080/"
        },
        "id": "ZvAMjwpkY1Ds",
        "outputId": "077041af-0921-44fb-9844-ea5b8427d86f"
      },
      "execution_count": 92,
      "outputs": [
        {
          "output_type": "execute_result",
          "data": {
            "text/plain": [
              "lay_summary     In nature , plant growth is often limited by u...\n",
              "abstract        Plants as sessile organisms can adapt to envir...\n",
              "introduction     Abiotic stress is a major threat to global cr...\n",
              "keywords         [chromosomes and gene expression, plant biology]\n",
              "Name: 0, dtype: object"
            ]
          },
          "metadata": {},
          "execution_count": 92
        }
      ]
    },
    {
      "cell_type": "code",
      "source": [
        "input_df.iloc[0]"
      ],
      "metadata": {
        "colab": {
          "base_uri": "https://localhost:8080/"
        },
        "id": "wQGGcBOZY4M0",
        "outputId": "16f07dc8-096e-46a8-ac13-547dbc4798b8"
      },
      "execution_count": 93,
      "outputs": [
        {
          "output_type": "execute_result",
          "data": {
            "text/plain": [
              "lay_summary     Forgetting is a common experience in our every...\n",
              "abstract        Previous studies tracking AMPA receptor ( AMPA...\n",
              "introduction     A major goal of cellular and molecular neuros...\n",
              "keywords        [structural biology and molecular biophysics, ...\n",
              "Name: 0, dtype: object"
            ]
          },
          "metadata": {},
          "execution_count": 93
        }
      ]
    },
    {
      "cell_type": "code",
      "source": [
        "len(input_df)"
      ],
      "metadata": {
        "colab": {
          "base_uri": "https://localhost:8080/"
        },
        "id": "Tdd6-Cg8jfWS",
        "outputId": "d80aaf14-e450-4f66-c4a1-0cb06b7b956a"
      },
      "execution_count": 94,
      "outputs": [
        {
          "output_type": "execute_result",
          "data": {
            "text/plain": [
              "24"
            ]
          },
          "metadata": {},
          "execution_count": 94
        }
      ]
    },
    {
      "cell_type": "markdown",
      "source": [
        "## Model"
      ],
      "metadata": {
        "id": "9HNraemwD5gI"
      }
    },
    {
      "cell_type": "code",
      "source": [
        "sampling_params = SamplingParams(temperature=0.8, top_p=0.05, max_tokens=1024)"
      ],
      "metadata": {
        "id": "ZQtQ8nXPD9cs"
      },
      "execution_count": 95,
      "outputs": []
    },
    {
      "cell_type": "code",
      "source": [
        "import random\n",
        "random.seed(531)\n",
        "\n",
        "number_of_shot = 5\n",
        "shot_idx = random.sample(train_df.index.tolist(), number_of_shot)\n",
        "shot_df = train_df.iloc[shot_idx]"
      ],
      "metadata": {
        "id": "3LET86oNHQl7"
      },
      "execution_count": 96,
      "outputs": []
    },
    {
      "cell_type": "code",
      "source": [
        "prompt = '[INST] Write a lay summary with 200 to 300 words, put the summary in 1 paragraph. '\n",
        "for idx in shot_idx:\n",
        "    text = f\"Abstract: '{train_df.iloc[idx].abstract}', Introduction: '{train_df.iloc[idx].introduction}', Keyword: '{train_df.iloc[idx].keywords}', Lay Summary: '{train_df.iloc[idx].lay_summary}'; \"\n",
        "    prompt += text\n",
        "\n",
        "prompt += f\"Abstract: '{input_df.iloc[0].abstract}', Introduction: '{input_df.iloc[0].introduction}', Keyword: '{input_df.iloc[0].keywords}', Lay Summary: [/INST]\""
      ],
      "metadata": {
        "id": "qFdMVjWmGtFs"
      },
      "execution_count": 97,
      "outputs": []
    },
    {
      "cell_type": "code",
      "source": [
        "prompt"
      ],
      "metadata": {
        "id": "FZjbvAKpLop1",
        "colab": {
          "base_uri": "https://localhost:8080/",
          "height": 140
        },
        "outputId": "f2ca1bcd-6505-4977-e9a8-aaf8bdc0ba6e"
      },
      "execution_count": 98,
      "outputs": [
        {
          "output_type": "execute_result",
          "data": {
            "text/plain": [
              "\"[INST] Write a lay summary with 200 to 300 words, put the summary in 1 paragraph. Abstract: 'Faced with potential harm , individuals must estimate the probability of threat and initiate an appropriate fear response . In the prevailing view , threat probability estimates are relayed to the ventrolateral periaqueductal gray ( vlPAG ) to organize fear output . A straightforward prediction is that vlPAG single-unit activity reflects fear output , invariant of threat probability . We recorded vlPAG single-unit activity in male , Long Evans rats undergoing fear discrimination . Three 10 s auditory cues predicted unique foot shock probabilities: danger ( p=1 . 00 ) , uncertainty ( p=0 . 375 ) and safety ( p=0 . 00 ) . Fear output was measured by suppression of reward seeking over the entire cue and in one-second cue intervals . Cued fear non-linearly scaled to threat probability and cue-responsive vlPAG single-units scaled their firing on one of two timescales: at onset or ramping toward shock delivery . VlPAG onset activity reflected threat probability , invariant of fear output , while ramping activity reflected both signals with threat probability prioritized . ', Introduction: ' When confronted with potential harm , an estimate of threat probability must be made and followed by an appropriate fear response . The ventrolateral periaqueductal gray ( vlPAG ) has long been implicated in this fear response ( Fanselow , 1993; Kim et al . , 1993; Liebman et al . , 1970; Carrive et al . , 1997; Bandler et al . , 1985; Vianna et al . , 2001; Arico et al . , 2017; Assareh et al . , 2017 ) . In the canonical fear circuit , threat probability estimates ( the stored associative strength of cue and foot shock , for\\xa0example a danger cue in Pavlovian fear conditioning ) originate in amygdalar nuclei ( Duvarci and Pare , 2014; Fanselow and LeDoux , 1999; Davis , 2006; Maren et al . , 2013 ) . Amygdalar threat estimates are sent to the vlPAG , which in turn organizes behavioral components of fear output , most notably freezing ( Perusini and Fanselow , 2015; Tovote et al . , 2015; Dejean et al . , 2015; Koutsikou et al . , 2014; Walker et al . , 1997 ) . While the vlPAG contributes to diverse fear and pain-related processes ( Assareh et al . , 2017; Bellgowan and Helmstetter , 1998; Parsons et al . , 2010; McNally et al . , 2011; Johansen et al . , 2010 ) , the view of the vlPAG as a node for fear output is so prevalent , it is commonly presented in introductory neuroscience textbooks ( Bear et al . , 2016; Carlson and Birkett , 2017 ) . A series of studies have uncovered a vlPAG population showing short-latency increases in firing to a danger cue . This characteristic would be expected of neurons organizing fear output . Yet in these studies , robust relationships between vlPAG single-unit activity and freezing were observed in a minority of neurons ( Tovote et al . , 2016 ) , weakly observed at danger cue onset ( Watson et al . , 2016 ) , or mixed with activity that purely reflected the danger cue ( Ozawa et al . , 2017 ) . At best , freezing only partially accounted for vlPAG activity . If not freezing , then what aspect of fear do vlPAG neurons signal ? Here we test the hypothesis that vlPAG neurons signal threat probability . We drew from learning theory ( Rescorla , 1968 ) to devise a fear discrimination procedure in which three cues predict unique foot shock probabilities: danger ( p=1 . 00 ) , uncertainty ( p=0 . 375 ) and safety ( p=0 . 00 ) . This behavioral approach was essential as previous studies utilized procedures in which a single cue predicted foot shock with certainty ( Tovote et al . , 2016; Watson et al . , 2016; Ozawa et al . , 2017 ) , precluding the ability to observe neural activity reflecting threat probability . We measured fear output using conditioned suppression of reward seeking ( Rescorla , 1968; Bouton and Bolles , 1980 ) over the entire cue and in one-second cue intervals . Using this procedure , we have found that suppression non-linearly scales to shock probability . So while suppression is strong to danger , intermediate to uncertainty and weak to safety; uncertainty produces more suppression than would be expected given its shock probability ( Walker et al . , 2018; Ray et al . , 2018; DiLeo et al . , 2016; Wright et al . , 2015;\\xa0Berg et al . , 2014 ) . Concurrent with fear discrimination , we recorded vlPAG single-unit activity . Indeed , the vlPAG could potentially signal fear output via conditioned suppression of reward seeking ( Arico et al . , 2017 ) , a long-established measure of fear ( Estes and Skinner , 1941 ) that\\xa0correlates with freezing ( Bouton and Bolles , 1980 ) . The non-linear relationship between behavior and shock probability permitted us to determine whether vlPAG single-unit activity was better captured by fear output or threat probability . ', Keyword: '['neuroscience']', Lay Summary: 'The brain is hard-wired to detect and respond to threats . Catching sight of a spider or a snake , or hearing an unfamiliar sound in the house at night , can make you freeze momentarily . Multiple regions of the brain contribute to this process . According to the textbook view of threat detection , the amygdala and prefrontal cortex estimate the size of the threat . They then send this information to an area called the ventrolateral periaqueductal gray ( vlPAG ) . The vlPAG responds by triggering a fear response such as freezing . But some studies suggest that the vlPAG may do more than just trigger a fear response . To test this idea , Wright and McDannald trained rats to associate three different 10-second tones with different probabilities of receiving a mild electric shock to the foot . One of the tones was followed by a foot shock 100% of the time . Another tone was followed by a foot shock 37 . 5% of the time , while the third was never followed by a foot shock . The first tone thus signaled danger , the second uncertainty , and the third safety . Wright and McDannald recorded vlPAG activity as the rats heard each of the tones . The recordings revealed two distinct groups of vlPAG neurons . Both groups responded most to the tone that signaled danger , less to the tone that signaled uncertainty , and least to the tone that signaled safety . However , they responded at different times . One group of neurons was most active at the start of the tone . The activity of this group depended upon the degree of threat , and not upon whether the rat showed a fear response . The second group of neurons increased its activity over the course of each tone . The activity of this group mainly reflected the degree of threat , but also represented the rat's fear response to a lesser extent . The vlPAG thus helps to signal the size of a threat , rather than simply generating a fear response . This distinction is important because people with anxiety disorders tend to overestimate threats , and many treatments for anxiety target the brain regions involved in threat estimation . Future studies should examine how the vlPAG works together with other areas , including the amygdala and the prefrontal cortex , to evaluate threats . Understanding this circuit in full could ultimately lead to better treatments for phobias and anxiety .'; Abstract: 'In a group of 831 participants from the general population in the Human Connectome Project , smokers exhibited low overall functional connectivity , and more specifically of the lateral orbitofrontal cortex which is associated with non-reward mechanisms , the adjacent inferior frontal gyrus , and the precuneus . Participants who drank a high amount had overall increases in resting state functional connectivity , and specific increases in reward-related systems including the medial orbitofrontal cortex and the cingulate cortex . Increased impulsivity was found in smokers , associated with decreased functional connectivity of the non-reward-related lateral orbitofrontal cortex; and increased impulsivity was found in high amount drinkers , associated with increased functional connectivity of the reward-related medial orbitofrontal cortex . The main findings were cross-validated in an independent longitudinal dataset with 1176 participants , IMAGEN . Further , the functional connectivities in 14-year-old non-smokers ( and also in female low-drinkers ) were related to who would smoke or drink at age 19 . An implication is that these differences in brain functional connectivities play a role in smoking and drinking , together with other factors . ', Introduction: ' Recent statistics have shown not only the widespread use of cigarettes and alcohol , but also the co-occurrence of these high risk behaviors . Although dopamine mechanisms in the basal ganglia have been implicated in addiction there is also considerable evidence for cortical , especially prefrontal cortical , involvement ( Ersche et al . , 2011; Goldstein and Volkow , 2011; Ersche et al . , 2012; Ersche et al . , 2013 ) . For example , a voxel-based morphometry ( VBM ) study found that smokers exhibited reduced gray matter volumes and gray matter densities in frontal regions including prefrontal cortex , orbitofrontal cortex , and anterior cingulate gyrus , as compared with non-smokers ( Wang et al . , 2015 ) . Resting state functional connectivity differences involving the prefrontal cortex and insula have also been described in smokers ( Fedota and Stein , 2015; Yuan et al . , 2016; Bi et al . , 2017; Sutherland and Stein , 2018 ) . A functional magnetic resonance imaging ( fMRI ) study found that increased ventromedial prefrontal cortex ( vmPFC ) and anterior cingulate cortex ( ACC ) activation during ‘relaxing’ trials was correlated with high alcohol cue–induced and stress-induced craving in early recovering alcohol-dependent patients ( Seo et al . , 2013 ) . These neuroimaging studies in substance use behaviors suggest that the prefrontal cortex plays a key role in such behaviors . The high levels of comorbidity in using cigarettes and alcohol demonstrated by a wealth of epidemiological and genetic data ( Farrell et al . , 2001; Agrawal and Lynskey , 2006 ) makes it important to consider the neurobiological commonalities and differences associated with these two drugs , especially when they are consumed together . Thus , King et al . ( 2010 ) found that consumption of a moderately intoxicating oral dose of alcohol increased ratings of the desire to smoke , and moreover that alcohol amplified ventral striatum reactivity to appetitive cues associated with smoking in young individuals who tend to use cigarettes in the context of alcohol intoxication . Most studies have used relatively small sample sizes and focused on brain regions rather than brain circuits identified with functional connectivity . Further , common and distinct connectivity features underlying the use of different substances such as nicotine and alcohol have not been fully explored with large numbers of participants ( Zhu et al . , 2017; Sutherland and Stein , 2018 ) . In this study , we examined whole-brain functional connectivity ( i . e . not limited by particular hypotheses and therefore unbiased ) in groups using nicotine , or alcohol , or both , based on a large sample size ( 831 subjects from the Human Connectome Project ( HCP ) ( and cross-validated by another 1176 subjects from the IMAGEN collaboration as described in the Materials\\xa0and\\xa0methods ) with resting-state functional magnetic resonance imaging ( fMRI ) data . The aim was to identify shared and distinct patterns of different\\xa0functional connectivity in smokers and drinkers in a sufficiently large sample to ensure sufficient statistical power to provide robust findings on associations between functional connectivity and smoking and drinking . Moreover , by including assessment of smoking and drinking in the same study , we aimed to provide robust evidence on whether there were differences in functional connectivity in smokers and drinkers . We also investigated aspects of substance use and impulsive behavior that might relate to the changes in neural connectivity , and that might provide information about the causation and aetiology of substance use . ', Keyword: '['neuroscience']', Lay Summary: 'To understand why people become addicted to alcohol or smoking , it is important to look at how the brains of people who use these substances may be different than those who abstain . Many studies show that substance use activates the reward systems in the brain via a chemical called dopamine . Changes or differences in parts of the brain that control decision-making and restraint also have been implicated in substance use . Functional magnetic resonance imaging ( fMRI ) is one tool scientists can use to explore such differences . It can measure how well different parts of the brain are communicating with each other by measuring their activity when a person is at rest . The patterns of activity reveal which parts of the brain are working closely together or have high functional connectivity and which parts are less well connected , or have low functional connectivity . Cheng , Rolls et al . measured the functional connectivity between different parts of the brain in people who smoke and people who drink alcohol . Smokers had a low overall functional connectivity between brain regions . Specifically , they had weaker connections involving two brain regions that help people change or stop a behavior , the lateral orbitofrontal cortex and inferior frontal gyrus . These differences may make people more impulsive and less able to resist smoking . The stimulating effects of nicotine may enhance communication between different parts of the brain , so people also may use it to overcome some underlying communication deficits . Those who drink alcohol had high overall functional connectivity . Reward-related systems , including the medial orbitofrontal cortex and the cingulate cortex , were especially strongly connected . This may make them more sensitive to the rewarding aspects of drinking , or more impulsive . To confirm their results , Cheng , Rolls et al . analyzed fMRI data from another study . These showed that the characteristic differences in brain connectivity were already present in 14-year olds who would go on to drink or smoke at age 19 . This suggests that these functional connectivity differences in the brain make people more likely to smoke or drink .'; Abstract: 'Phototrophic microorganisms adjust photosystem synthesis in response to changes in light intensity and wavelength . A variety of different photoreceptors regulate this process . Purple photosynthetic bacteria synthesize a novel photoreceptor AerR that uses cobalamin ( B12 ) as a blue-light absorbing chromophore to control photosystem synthesis . AerR directly interacts with the redox responding transcription factor CrtJ , affecting CrtJ’s interaction with photosystem promoters . In this study , we show that AerR is translated as two isoforms that differ by 41 amino acids at the amino terminus . The ratio of these isoforms was affected by light and cell growth phase with the long variant predominating during photosynthetic exponential growth and the short variant predominating in dark conditions and/or stationary phase . Pigmentation and transcriptomic analyses show that the short AerR variant represses , while long variant activates , photosynthesis genes . The long form of AerR also activates many genes involved in cellular metabolism and motility . ', Introduction: ' Purple photosynthetic bacteria are an interesting group of diverse bacteria that preferentially synthesizes a photosystem under anaerobic conditions ( Imhoff and Hiraishi , 2015 ) . This is partially due to the fact that photopigments can generate singlet oxygen as a byproduct of light excitation ( Berghoff et al . , 2011; Ziegelhoffer and Donohue , 2009; Pospísil , 2009 ) . Thus , many purple photosynthetic bacteria repress synthesis of their photosystem in response to the presence of oxygen , and in this case , generate energy using respiration ( Crofts et al . , 1983; Swem et al . , 2006; Wu and Bauer , 2010 ) . In species where it has been examined , there is an aerobic repressor called CrtJ ( also called PpsR in some species ) ( Elsen et al . , 2005; Gomelsky and Kaplan , 1995; Penfold and Pemberton , 1991; Ponnampalam et al . , 1995 ) that senses oxygen via oxidation of a Cys present in CrtJ’s DNA binding domain ( Cheng et al . , 2012; Masuda and Bauer , 2002; Masuda et al . , 2002 ) . Initially , it was thought that CrtJ/PpsR only binds and represses photosystem promoters under aerobic conditions ( Elsen et al . , 2005; Ponnampalam et al . , 1995; Cheng et al . , 2012; Masuda and Bauer , 2002; Masuda et al . , 2002 ) . However , a recent study showed that CrtJ is bound to a photosystem promoter ( bchC ) under both aerobic and anaerobic conditions ( Fang and Bauer , 2017 ) . Interestingly , the extent of DNA protection by CrtJ to this promoter is significantly altered in vivo under aerobic verses anaerobic conditions ( Fang and Bauer , 2017 ) . In addition to environmental changes in oxygen tension , phototrophic microorganisms are subjected to daily variations in light intensity and wavelength . To optimize light energy absorption for photosynthesis , and to better adapt their physiology to dark periods , these cells also control photosystem synthesis using various photoreceptors ( Gomelsky and Hoff , 2011; Masuda , 2013 ) . A variety of chromophores such as FMN ( used in Light , Oxygen or Voltage , LOV domain containing proteins ) , FAD ( used in sensors of Blue-Light Using FAD , BLUF domain containing proteins ) , 4-hydroxycinnamic acid ( used in Photoactive Yellow Protein , PYP ) , phytochromobilin ( used in bacteriophytochromes ) and cobalamin ( B12 ) are used as light absorbing chromophores by photoreceptors present in purple bacteria ( Masuda and Bauer , 2002; Gomelsky and Hoff , 2011; Masuda , 2013; Gomelsky and Klug , 2002; Hendriks , 2009; Giraud et al . , 2002; Jiang et al . , 1999; Cheng et al . , 2014; Cheng et al . , 2016 ) . Photoreceptor proteins need to either contain a linked output domain or to interact with other proteins that transmit photoreceptor sensed light signals into physiological changes . In some purple bacteria , photoreceptors can interact with transcription factors to alter the transcription of genes ( Hendriks , 2009 ) . For example , in the purple non-sulfur alpha-proteobacterium Rhodobacter sphaeroides , the interaction of the FAD-binding blue light sensor AppA with the transcription factor PpsR is well studied ( Masuda and Bauer , 2002; Giraud et al . , 2002; Gomelsky and Kaplan , 1997; Metz et al . , 2012 ) . In Rhodopseudomonas palutris , PpsR repression is also regulated via an interaction with a red-light sensing bacteriophytochrome ( Braatsch et al . , 2006; Braatsch et al . , 2007 ) . These light dependent interactions have also been used as optogenetic tools ( Kaberniuk et al . , 2016; Redchuk et al . , 2017 ) . In all sequenced purple photosynthetic bacterial genomes , there is a gene coding for a cobalamin binding photoreceptor called aerR that is located upstream of ppsR/crtJ ( Cheng et al . , 2014; Vermeulen and Bauer , 2015 ) . The discovery that AerR binds cobalamin in a light-dependent manner explained a long-standing observation that this group of bacteria needs cobalamin to undergo synthesis of their photosystem ( Cheng et al . , 2014 ) . However , it remains unknown how AerR and CrtJ coordinate global changes in R . capsulatus physiology in response to changes in redox and light . We have shown that AerR can directly interact with CrtJ both in vivo and in vitro ( Fang and Bauer , 2017 ) and that AerR can affect the DNA binding characteristics of CrtJ at target promoters ( Fang and Bauer , 2017 ) . In this study , we demonstrate that R . capsulatus uses two offset promoters , and an alternative internal Leu start codon , to synthesize long and short isoforms of AerR . We further show that the long AerR variant converts CrtJ into an activator while the short AerR variant converts CrtJ into a repressor of photosystem gene expression . We also show that the long AerR variant coordinates synthesis of photosystem with expression of a large variety of additional genes that affect cellular metabolism and motility . ', Keyword: '['genetics and genomics']', Lay Summary: 'Some bacteria are able to use a process called photosynthesis to convert energy from sunlight into another form of energy they can use to grow . Within the bacteria , structures known as photosystems are responsible for absorbing light and transferring the energy to other molecules . The levels of light surrounding the bacteria continually fluctuate . To optimize the amount of light they absorb for photosynthesis , the bacteria have receptors that detect light and regulate the activities of the genes that produce photosystems . One group of bacteria that carry out photosynthesis are collectively known as purple bacteria . These bacteria contain a light receptor called AerR that interacts with a protein called CrtJ , which can directly bind to and alter the activity of genes involved in photosynthesis . AerR senses light by binding to a molecule called vitamin B12 , which can absorb blue light , but it was not clear how it affects the CrtJ protein . Fang , Yamamoto et al . used biochemical and genetic approaches to study AerR in a purple bacterium known as Rhodobacter capsulatus . The experiments show that R . capsulatus makes two different versions of AerR . The larger version only binds to vitamin B12 that is carrying light energy and stimulates CrtJ to activate genes involved in photosynthesis . On the other hand , the shorter version binds to vitamin B12 in the dark and causes CrtJ to repress genes that produce photosystems . Receptors similar to AerR are found in many bacteria and other single-celled organisms known as Archaea , including in species that do not perform photosynthesis . Therefore , these findings are likely to be useful to researchers studying how bacteria and Archaea sense light in a variety of situations . A next step will be to find out how the different forms of AerR can change the properties of CrtJ .'; Abstract: 'Trade-offs between protein stability and activity can restrict access to evolutionary trajectories , but widespread epistasis may facilitate indirect routes to adaptation . This may be enhanced by natural environmental variation , but in multicellular organisms this process is poorly understood . We investigated a paradoxical trajectory taken during the evolution of tetrapod dim-light vision , where in the rod visual pigment rhodopsin , E122 was fixed 350 million years ago , a residue associated with increased active-state ( MII ) stability but greatly diminished rod photosensitivity . Here , we demonstrate that high MII stability could have likely evolved without E122 , but instead , selection appears to have entrenched E122 in tetrapods via epistatic interactions with nearby coevolving sites . In fishes by contrast , selection may have exploited these epistatic effects to explore alternative trajectories , but via indirect routes with low MII stability . Our results suggest that within tetrapods , E122 and high MII stability cannot be sacrificed—not even for improvements to rod photosensitivity . ', Introduction: ' Nature-inspired strategies are increasingly recruited toward engineering objectives in protein design ( Khersonsky and Fleishman , 2016; Jacobs et al . , 2016; Goldenzweig and Fleishman , 2018 , a central challenge of which is to successfully manipulate backbone structure to modulate stability without introducing undesirable pleiotropic effects on protein activity ( Khersonsky and Fleishman , 2016; Goldenzweig and Fleishman , 2018; Starr and Thornton , 2017; Tokuriki and Tawfik , 2009 ) . Engineering protein stability and activity requires an understanding of a protein’s sequence-function relationship , or landscape ( Pál and Papp , 2017; Wu et al . , 2016; Starr et al . , 2017 ) , where billions of possible pair-wise and third-order interactions can exist between amino acids ( Starr and Thornton , 2017; Storz , 2016 ) , and only a limited number of amino acid combinations will confer the function of interest ( Wu et al . , 2016; Starr et al . , 2017; McMurrough et al . , 2014; Mateu and Fersht , 1999; Tarvin et al . , 2017 ) . To understand the context-dependence of amino acid functional effects ( also known as intramolecular epistasis [Starr et al . , 2017; Storz , 2016; Echave et al . , 2016] ) , approaches such as deep mutational scanning ( Wu et al . , 2016; Starr et al . , 2017; Sailer and Harms , 2017 ) can explore a subset of sequence-function space formed in response to a limited set of artificial selection pressures ( Starr and Thornton , 2017 ) . By contrast , natural protein sequence variation reflects the range of protein function that evolved in response to changing ecological variables ( Starr and Thornton , 2017; Pál and Papp , 2017; Ogbunugafor et al . , 2016 ) , where convergent ‘solutions’ for protein function and stability can be derived through the evolution of alternative protein sequences ( McMurrough et al . , 2014; Mateu and Fersht , 1999; Tarvin et al . , 2017 ) . This suggests that closer examination of natural sequence variation may reveal new blueprints for protein design . The dim-light visual pigment rhodopsin ( RH1/RHO ) is an excellent model for understanding how both ecological variables and biophysical pleiotropy may interact to determine the availability of functional evolutionary solutions for environmental challenges ( Kojima et al . , 2017; Gozem et al . , 2012; Dungan and Chang , 2017; Castiglione et al . , 2018 ) . Spectral tuning mutations that shift the RH1 wavelength of maximum absorbance ( λMAX ) can adapt dim-light vision to a remarkable range of spectral conditions across aquatic and terrestrial visual ecologies ( Hunt et al . , 2001; Hauser and Chang , 2017a; Dungan et al . , 2016 ) . Recently , λMAX was revealed to exist within a complex series of epistasis-mediated trade-offs with the non-spectral functional properties of RH1 long understood as adaptations for dim-light ( Gozem et al . , 2012; Dungan and Chang , 2017; Castiglione et al . , 2017; Hauser et al . , 2017b ) . These include an elevated barrier to spontaneous thermal-activation , which minimizes rod dark noise and is promoted by blue-shifts in λMAX ( Kojima et al . , 2017; Gozem et al . , 2012; Kefalov et al . , 2003; Yue et al . , 2017 ) ; and a slow decay of its light-activated conformation , which we refer to here as metarhodopsin-II ( MII ) for simplicity ( Imai et al . , 1997; Lamb et al . , 2016; Kojima et al . , 2014; Sommer et al . , 2012; Schafer et al . , 2016; Van Eps et al . , 2017 ) . The RH1 MII active conformation is associated with rapid and efficient activation of G-protein transducin ( Gt ) ( Kojima et al . , 2014; Sugawara et al . , 2010 ) , yet the reasons for its long-decay after Gt signaling remain unclear ( Kefalov et al . , 2003; Imai et al . , 1997; Imai et al . , 2007 ) . To sustain vision , all-trans retinal ( atRAL ) chromophore must be released from MII after Gt signaling ( Palczewski , 2006 ) —a process that depends on the conformational stability of the MII-active-state structure ( Schafer et al . , 2016; Schafer and Farrens , 2015 ) . Cone opsins have low MII stability and therefore rapidly release atRAL ( Imai et al . , 1997; Chen et al . , 2012a ) , where it is quickly recycled back into 11-cis retinal ( 11CR ) through the cone visual ( retinoid ) cycle , enabling rapid regeneration of cone pigments for bright-light vision ( Wang and Kefalov , 2011; Tsybovsky and Palczewski , 2015 ) . Rods , in contrast , regenerate thousands of times slower than cones after bright-light exposure ( Mata et al . , 2002 ) . Indeed , rod exposure to bright flashes of light leads to atRAL release that can outpace clearance by visual cycle enzymes ( Sommer et al . , 2014; Rózanowska and Sarna , 2005 ) , thus leading to accumulation ( Saari et al . , 1998; Lee et al . , 2010 ) and light-induced retinopathy through various modes of cellular toxicity involving oxidative stress ( Maeda et al . , 2009; Chen et al . , 2012b ) . Interestingly , recent biochemical evidence suggests MII may play a role in retinal photoprotection by complexing with arrestin after Gt signaling to re-uptake and thus provide a sink for toxic atRAL after rod photobleaching ( Sommer et al . , 2014 ) . This suggests the evolution of rhodopsin’s high conformational selectivity for toxic atRAL may be a functional specialization ( Schafer et al . , 2016; Schafer and Farrens , 2015 ) , which could in turn reflect differences in retinoid metabolism between rods vs . cones ( Wang and Kefalov , 2011; Tsybovsky and Palczewski , 2015; Imai et al . , 2005 ) . Consistent with the overlapping mechanisms of RH1 spectral and non-spectral functions via the highly constrained RH1 structure ( Gozem et al . , 2012; Yue et al . , 2017 ) , this biophysical pleiotropy likely necessitates costly trade-offs between the spectral and non-spectral functions of RH1 in natural systems ( Dungan and Chang , 2017; Luk et al . , 2016 ) . By comparison , directed evolution and synthetic biology approaches have successfully engineered either spectral , or non-spectral aspects of rhodopsin function , but did not address trade-offs arising from shifts in function . It has thus been possible to shift the spectral absorbance of archaea and bacterial rhodopsins close to the limit of the visible spectrum ( Herwig et al . , 2017; McIsaac et al . , 2014 ) , and to engineer tetrapod rhodopsins with high thermal stability ( Xie et al . , 2003 ) , constitutive activation ( Deupi et al . , 2012; Standfuss et al . , 2011 ) , and alternative chromophore-binding sites ( Devine et al . , 2013 ) . However , it has not been investigated whether rod visual pigments with novel combinations of spectral and non-spectral functional properties can be engineered by manipulating the biophysical pleiotropy of RH1 otherwise exploited by natural selection . Site 122 ( Bos taurus RH1 numbering ) is a molecular determinant of both the spectral and non-spectral functional properties of rhodopsin and the cone opsins ( Hunt et al . , 2001; Yue et al . , 2017; Imai et al . , 1997; Imai et al . , 2007; Yokoyama et al . , 1999 ) . Intriguingly , vertebrate visual pigment families show differences in which amino acid variants predominate at this site ( Figure 1A ) , with I122 strongly conserved in the most ancestrally diverging cone opsins such as the long-wave sensitive opsins ( LWS ) ( Lamb et al . , 2007 ) , whereas in the most derived opsin group , the rhodopsins ( RH1 ) , E122 predominates ( Figure 1B , C ) ( Imai et al . , 1997; Lamb et al . , 2007; Imai et al . , 2007; Carleton et al . , 2005 ) . E122 is a key component of an important hydrogen-bonding network with H211 that is known to stabilize the MII active-conformation ( Choe et al . , 2011 ) . This stability increase is so dramatic that E122 is considered a functional determinant distinguishing rhodopsin from cone opsins ( Figure 1B ) ( Imai et al . , 1997; Lamb et al . , 2016; Kojima et al . , 2014 ) . Paradoxically , by conferring this increase in MII stability , the evolution of E122 likely involved a costly fitness trade-off that diminished tetrapod rod photosensitivity ( Yue et al . , 2017 ) , which can affect visual performance in animals ( Kojima et al . , 2017; Aho et al . , 1988 ) . Indeed , it is possible to improve tetrapod rod photoreceptor sensitivity by decreasing rod dark noise in vivo by replacing E122 with a cone opsin amino acid variant ( COV; Figure 1A ) at site 122 , such as Q122 , which predominates in RH2 cone opsins ( Yue et al . , 2017; Lin et al . , 2017 ) . The strict conservation of E122 in all tetrapod rhodopsins ( Figure 1C , Table 1 , Supplementary file 1 ) therefore suggests that during the evolution of tetrapod dim-light vision , natural selection may have prioritized MII stability ( Figure 1B , D ) at the expense of rod sensitivity . This apparent evolutionary trade-off is perplexing given that the low spontaneous thermal activation of rhodopsin ( and therefore rod dark noise ) is a functional hallmark of rhodopsin divergence from the cone opsins ( Kojima et al . , 2017; Gozem et al . , 2012; Kefalov et al . , 2003; Lamb et al . , 2016 ) . Why has tetrapod RH1 been constrained to this paradoxical compromise at site 122 for the last 350 million years ? Interestingly , and in contrast to tetrapod rhodopsins , fish rhodopsins show variation at site 122 , such as in the Coelacanth ( Latimeria chalumnae ) , Lungfish ( Neoceratodus forsteri ) , and deep-sea fish lineages , where COV ( I , Q , M ) and other residues at site 122 ( V , D ) are found ( Figure 1C; Figure 1—figure supplement 1; Tables 1–2 , Supplementary file 2 ) ( Hunt et al . , 2001; Yokoyama et al . , 1999; Carleton et al . , 2005 ) . These substitutions have been shown to blue-shift λMAX by up to\\xa0~10 nm ( Hunt et al . , 2001; Yokoyama et al . , 1999 ) , and may improve dim-light sensitivity in poorly-lit aquatic environments ( Yue et al . , 2017 ) . Strikingly , one of the largest freshwater groups—the Characiphysi ( which includes piranhas , electric eels , and catfishes [Chen et al . , 2013] ) —has the COV I122 residue completely fixed ( Figure 1—figure supplement 1 , Supplementary file 3 ) . In tetrapods by contrast , the red-shifting E122 mutation is strictly maintained , increasing MII stability ( Imai et al . , 1997 ) but greatly decreasing rod sensitivity ( Yue et al . , 2017 ) . Why the strong constraints on high MII stability and E122 are relaxed only within certain aquatic visual ecologies , remains unknown . In light of these ecological patterns , we questioned whether it was possible to synthesize an evolutionary alternative: a tetrapod RH1 that never lost COV at site 122 but still developed high MII stability . We reasoned that relative to tetrapods , the diversity and complexity of fish visual ecologies ( Hunt et al . , 2001; Hauser and Chang , 2017a ) may have allowed selection the opportunity to explore the pleiotropic potential of site 122 through the evolution of novel structural interactions with nearby sites that could compensate for the destabilizing loss of the E122-H211 hydrogen bond . To identify these interactions , our goal was to use analyses of evolutionary rates to predict sites coevolving with site 122 , and to investigate the functional consequences of coevolving sites with experimental site-directed mutagenesis studies . Ultimately , we used our analyses of natural variation as a guide to artificially engineer a tetrapod rhodopsin with increased MII stability , but within a non-E122 sequence background . We demonstrated that this synthetic alternative is possible , even if evolution did not proceed down this mechanistic trajectory toward a dim-light adapted visual pigment . ', Keyword: '['evolutionary biology', 'biochemistry and chemical biology']', Lay Summary: 'People can see in dim light because of cells at the back of the eye known as rods . These cells contain two key components: molecules called retinal , which are bound to proteins called rhodopsin . When light hits a rod cell , it kicks off a cascade of reactions beginning with the retinal molecule changing into an activated shape and ending with a nerve impulse travelling to the brain . The activated form of retinal is toxic , and as long as it remains bound to the rhodopsin protein it will not damage the rod or surrounding cells . The toxic retinal also cannot respond to light . It must be released from the protein and converted back to its original shape to restore dim light vision . As with all proteins , rhodopsin’s structure comprises a chain of building blocks called amino acids . Every land animal with a backbone has the same amino acid at position 122 in its rhodopsin . This amino acid , named E122 , helps to stabilize the activated rhodopsin , slowing the release of the toxic retinal . Yet E122 also makes the rod cells less sensitive , resulting in poorer vision in dim light . In contrast , some fish do not have E122 but rather one of several different amino acids takes its place . What remains unclear is why all land animals have stuck with E122 , and whether there were other options that evolution could have explored to overcome the trade-off between sensitivity and stability . By looking at the make-up of rhodopsins from many animals , Castiglione and Chang found other sites in the protein where the amino acid changed whenever position 122 changed . The amino acids at these so-called “coevolving sites” were then swapped into the version of rhodopsin that is found in cows , which had also been engineered to lack E122 . These changes fully compensated for the destabilizing loss of E122 on activated rhodopsin but without sacrificing its sensitivity to light . Further experiments then confirmed that unless all amino acids were substituted at once , the activated rhodopsin was very unstable . Indeed , it was almost as unstable as mutated rhodopsins found in some human diseases . These findings suggest that , while there was in principle another solution available to land animals , the routes to it were closed off because they all came with an increased risk of eye disease . These findings highlight that rhodopsin likely plays a more important role in protecting humans and many other land animals against eye disease than previously assumed . More knowledge about this protective role may lead to new therapies for these conditions . Also , investigating similar evolutionary trade-offs could help to explain how and why different proteins work the way that they do today .'; Abstract: 'CRISPR-Cas systems provide sequence-specific immunity against phages and mobile genetic elements using CRISPR-associated nucleases guided by short CRISPR RNAs ( crRNAs ) . Type III systems exhibit a robust immune response that can lead to the extinction of a phage population , a feat coordinated by a multi-subunit effector complex that destroys invading DNA and RNA . Here , we demonstrate that a model type III system in Staphylococcus epidermidis relies upon the activities of two degradosome-associated nucleases , PNPase and RNase J2 , to mount a successful defense . Genetic , molecular , and biochemical analyses reveal that PNPase promotes crRNA maturation , and both nucleases are required for efficient clearance of phage-derived nucleic acids . Furthermore , functional assays show that RNase J2 is essential for immunity against diverse mobile genetic elements originating from plasmid and phage . Altogether , our observations reveal the evolution of a critical collaboration between two nucleic acid degrading machines which ensures cell survival when faced with phage attack . ', Introduction: ' Nearly all known archaea and about half of bacteria possess adaptive immune systems composed of clusters of regularly-interspaced short palindromic repeats ( CRISPRs ) and CRISPR-associated ( Cas ) proteins ( Makarova et al . , 2015 ) . CRISPR-Cas systems utilize small CRISPR RNAs ( crRNAs ) to recognize and destroy prokaryotic viruses ( phages ) ( Barrangou et al . , 2007; Brouns et al . , 2008 ) and other mobile genetic elements ( Bikard et al . , 2012; Marraffini and Sontheimer , 2008 ) . The CRISPR-Cas immune response occurs in three steps: adaptation , crRNA biogenesis , and interference ( reviewed in Klompe and Sternberg , 2018 ) . During adaptation , Cas proteins capture short segments of foreign nucleic acids ( 24–40 nucleotides ( nts ) in length ) and integrate them as ‘spacers’ into the CRISPR locus in between repeat sequences of similar lengths ( Mojica et al . , 2005; Yosef et al . , 2012 ) in order to record a molecular memory of past invaders . During crRNA biogenesis , the repeats and spacers are transcribed into a long precursor crRNA , which is subsequently processed to generate mature crRNAs that each contain a single spacer sequence . Mature crRNAs combine with one or more Cas proteins to form an effector complex , which during interference , senses and degrades ‘protospacers’ , invading nucleic acids complementary to the crRNA . Although all CRISPR-Cas systems adhere to this general pathway , they exhibit striking diversity in their cas gene composition and corresponding mechanisms of action . Accordingly , the current classification scheme divides these systems into two classes , six types ( I-VI ) , and dozens of subtypes ( Koonin et al . , 2017; Makarova et al . , 2015 ) . Class one systems ( types I , III , and IV ) encode multi-subunit effector complexes , while Class two systems ( types II , V , and VI ) possess single subunit effectors . Although Class two systems have garnered significant attention over the past decade due to their versatile genetic applications ( Klompe and Sternberg , 2018 ) , Class one systems are more widespread in nature , and of these , type III systems are believed to be the most closely related to the common ancestor from which all other CRISPR types have evolved ( Mohanraju et al . , 2016 ) . Staphylococcus epidermidis RP62a harbors a well-established model type III-A CRISPR-Cas system ( Figure 1A ) , here onward referred to as CRISPR-Cas10 . This system encodes three spacers ( spc ) and nine CRISPR-associated proteins ( Cas and Csm ) that can prevent the transfer of a conjugative plasmid ( Marraffini and Sontheimer , 2010 ) and stave off phage infection ( Maniv et al . , 2016 ) . This system employs an elaborate transcription-dependent mechanism of defense that exerts exquisite spatial and temporal control over the immune response . Defense begins with crRNA biogenesis ( Figure 1B ) , during which the Cas6 endoribonuclease cleaves the precursor crRNA within repeat sequences to generate 71 nt intermediate crRNAs ( Hatoum-Aslan et al . , 2011; Hatoum-Aslan et al . , 2014 ) . These intermediates are subsequently trimmed on their 3’-ends to generate mature species that range in length from 31 to 43 nts ( Hatoum-Aslan et al . , 2013 ) . Mature crRNAs combine with Cas10 , Csm2 , Csm3 , Csm4 , and Csm5 to form the Cas10-Csm effector complex ( Hatoum-Aslan et al . , 2013 ) ( Figure 1C ) . During interference , this complex , in conjunction with the accessory ribonuclease Csm6 , wage a two-pronged attack against foreign DNA and RNA . Interference is triggered by the binding of the crRNA to the targeted transcript ( Goldberg et al . , 2014 ) , an event that leads to the activation of at least three nucleases: Cas10 cleaves the non-template ( coding ) DNA strand ( Samai et al . , 2015 ) , each Csm3 subunit slices RNA within the protospacer region ( Samai et al . , 2015; Staals et al . , 2014; Tamulaitis et al . , 2014 ) , and Csm6 degrades nonspecific transcripts in the vicinity ( Foster et al . , 2018; Jiang et al . , 2016 ) . In related type III-A systems , target RNA binding has also been shown to trigger two additional functions of Cas10: the cleavage of non-specific single-stranded DNA by its HD domain ( Kazlauskiene et al . , 2016; Liu et al . , 2017 ) , and the generation of cyclic oligoadenylates by its Palm polymerase domain ( Kazlauskiene et al . , 2017; Niewoehner et al . , 2017 ) . The cyclic oligoadenylates act as second messengers which bind and further stimulate Csm6 , thus accelerating its activity near the site of foreign nucleic acid detection . The combined activities of the Cas and Csm nucleases , together with the high tolerance for mismatches between the crRNA and protospacer pairing ( Pyenson et al . , 2017 ) , contribute to a particularly powerful immune response that can lead to phage extinction with a single targeting spacer ( Bari et al . , 2017; Pyenson et al . , 2017 ) . The robust protection conferred by type III CRISPR-Cas systems motivated us to pose the question: Do these systems conspire with other cellular pathways to ensure a successful defense ? Indeed , our previous work showed that the Cas10-Csm complex , when expressed in its native S . epidermidis host , co-purifies with several cellular nucleases in trace amounts ( Walker et al . , 2017 ) . Furthermore , in a reconstituted system , Csm5 can bind and stimulate one of these nucleases , PNPase ( polynucleotide phosphorylase ) , a highly-conserved enzyme that is responsible for the processing and degradation of cellular RNAs in bacteria and eukaryotes ( Cameron et al . , 2018 ) . This observation lead us to propose a model wherein PNPase and other non-Cas nucleases are likely responsible for crRNA maturation ( Walker et al . , 2017 ) . However , the extent to which the success of CRISPR-Cas10 defense relies upon the activities of these non-Cas nucleases remains unknown . In bacteria , PNPase can act independently , or associate with other enzymes ( including nucleases and helicases ) to form an RNA degrading machine called the degradosome ( Cameron et al . , 2018 ) . In this study , we posited the hypothesis that PNPase and other degradosome-associated nucleases are essential for CRISPR-Cas10 immunity . To test this , we deleted the genes encoding PNPase and Ribonuclease ( RNase ) J2 , a second degradosome nuclease that co-purifies with the Cas10-Csm complex ( Walker et al . , 2017 ) . The single and double mutants were then assayed for defects in crRNA biogenesis and interference . We discovered that PNPase is indeed required for efficient crRNA maturation , but RNase J2 is not . In contrast , while PNPase appears to be dispensable for CRISPR-Cas10 function , RNase J2 is essential to block the transfer of a conjugative plasmid and defend against two unrelated phages , therefore establishing a general requirement for RNase J2 in CRISPR-Cas10 immunity . We also used quantitative PCR to track the accumulation of nucleic acids during an active phage infection , and found that both PNPase and RNase J2 are required for the efficient clearance of phage-derived DNA and transcripts . It has been well documented by others that RNase J2 promotes cellular RNA degradation by binding and stimulating the ribonuclease activity of its paralog RNase J1 ( Hausmann et al . , 2017; Linder et al . , 2014; Mathy et al . , 2007; Mathy et al . , 2010; Raj et al . , 2018 ) . Here , we show that S . epidermidis RNase J2 also promotes robust DNA degradation through this same mechanism . Altogether , our results support a model for CRISPR-Cas10 immunity in which two steps of the pathway , crRNA biogenesis and interference , rely upon the activities of degradosome-associated nucleases , thus revealing the evolution of a critical collaboration that ensures cell survival when faced with phage infection . ', Keyword: '['microbiology and infectious disease']', Lay Summary: 'Just as humans are susceptible to viruses , bacteria have their own viruses to contend with . These viruses – known as phages – attach to the surface of bacterial cells , inject their genetic material , and use the cells’ enzymes to multiply while destroying their hosts . To defend against a phage attack , bacteria have evolved a variety of immune systems . For example , when a bacterium with an immune system known as CRISPR-Cas encounters a phage , the system creates a ‘memory’ of the invader by capturing a small snippet of the phage’s genetic material . The pieces of phage DNA are copied into small molecules known as CRISPR RNAs , which then combine with one or more Cas proteins to form a group called a Cas complex . This complex patrols the inside of the cell , carrying the CRISPR RNA for comparison , similar to the way a detective uses a fingerprint to identify a criminal . Once a match is found , the Cas proteins chop up the invading genetic material and destroy the phage . There are several different types of CRISPR-Cas systems . Type III systems are among the most widespread in nature and are unique in that they provide a nearly impenetrable barrier to phages attempting to infect bacterial cells . Medical researchers are exploring the use of phages as alternatives to conventional antibiotics and so it is important to find ways to overcome these immune responses in bacteria . However , it remains unclear precisely how Type III CRISPR-Cas systems are able to mount such an effective defense . Chou-Zheng and Hatoum-Aslan used genetic and biochemical approaches to study the Type III CRISPR-Cas system in a bacterium called Staphylococcus epidermidis . The experiments showed that two enzymes called PNPase and RNase J2 played crucial roles in the defense response triggered by the system . PNPase helped to generate CRISPR RNAs and both enzymes were required to help to destroy genetic material from invading phages . Previous studies have shown that PNPase and RNase J2 are part of a machine in bacterial cells that usually degrades damaged genetic material . Therefore , these findings show that the Type III CRISPR-Cas system in S . epidermidis has evolved to coordinate with another pathway to help the bacteria survive attack from phages . CRISPR-Cas immune systems have formed the basis for a variety of technologies that continue to revolutionize genetics and biomedical research . Therefore , along with aiding the search for alternatives to antibiotics , this work may potentially inspire the development of new genetic technologies in the future .'; Abstract: 'Previous studies tracking AMPA receptor ( AMPAR ) diffusion at synapses observed a large mobile extrasynaptic AMPAR pool . Using super-resolution microscopy , we examined how fluorophore size and photostability affected AMPAR trafficking outside of , and within , post-synaptic densities ( PSDs ) from rats . Organic fluorescent dyes ( ≈4 nm ) , quantum dots , either small ( ≈10 nm diameter; sQDs ) or big ( >20 nm; bQDs ) , were coupled to AMPARs via different-sized linkers . We find that >90% of AMPARs labeled with fluorescent dyes or sQDs were diffusing in confined nanodomains in PSDs , which were stable for 15 min or longer . Less than 10% of sQD-AMPARs were extrasynaptic and highly mobile . In contrast , 5–10% of bQD-AMPARs were in PSDs and 90–95% were extrasynaptic as previously observed . Contrary to the hypothesis that AMPAR entry is limited by the occupancy of open PSD ‘slots’ , our findings suggest that AMPARs rapidly enter stable ‘nanodomains’ in PSDs with lifetime >15 min , and do not accumulate in extrasynaptic membranes . ', Introduction: ' A major goal of cellular and molecular neuroscience is to characterize how synapses change during synaptic plasticity , the leading cellular correlate of learning and memory ( Volk et al . , 2015; Huganir and Nicoll , 2013; Kneussel and Hausrat , 2016 ) . The position and dynamics of the two major ionotropic glutamate receptors ( iGluRs ) , α-amino-3-hydroxy-5-methyl-4-isoxazolepropionic acid receptors ( AMPARs ) and N-methyl-D-aspartate receptor ( NMDARs ) , are critical for synaptic strength . AMPARs traffic intracellularly from sites of synthesis and assembly to exocytosis sites near synapses ( Anggono and Huganir , 2012; Henley et al . , 2011; Greger and Esteban , 2007 ) . Despite much elegant work , it is still unclear what mechanisms limit AMPAR entry into and exit out of PSDs ( Malinow and Malenka , 2002 ) ( Park et al . , 2004 ) ( Wang et al . , 2008 ) . The different steps involved in AMPAR trafficking at synapses under constitutive conditions ( no plasticity ) are depicted schematically in Figure 1a . As shown , AMPAR trafficking consists of its exo- and endocytosis at sites on the plasma membrane ( steps 1 and 1’ , respectively ) , diffusion to and from these sites and PSDs ( steps 2 and 2’ ) and entry into and exit from PSDs ( steps 3 and 3’ ) . The positioning of the AMPAR endo- and exocytosis sites with respect to PSDs is uncertain with some evidence for endo- and exocytosis sites within spines relatively close to PSDs ( Kennedy et al . , 2010; Lu et al . , 2007 ) , other evidence that the sites are on dendrite shafts outside of spines ( Yudowski et al . , 2007; Tao-Cheng et al . , 2011 ) , and also that both locations may exist regulated by synaptic plasticity ( Tao-Cheng et al . , 2011 ) . Another complication is that the recycling pathway under constitutive conditions may be different from the pathway with synaptic plasticity ( Zheng et al . , 2015; Henley et al . , 2011 ) . This suggests that different endo- and exocytosis sites may exist under constitutive conditions versus synaptic plasticity . In the last decade , advanced fluorescence microscopic techniques have pioneered work on iGluR dynamics ( Heine et al . , 2008; Groc et al . , 2007; Nair et al . , 2013; MacGillavry et al . , 2013; Kneussel and Hausrat , 2016 ) . Commercial or ‘big’ quantum dots ( bQDs ) with a diameter\\xa0>20 nm were observed ( at least occasionally ) within synaptic clefts of inhibitory synapses by electron microscopy ( Dahan et al . , 2003 ) . bQDs are extremely bright , photostable and their position can be localized to within\\xa0~10 nm in the millisecond time-scale ( Pinaud et al . , 2010 ) . Studies of AMPARs tagged with bQDs led to the conclusion that 50–80% of AMPARs are extrasynaptic and highly mobile ( Groc et al . , 2007; Opazo et al . , 2010 ) . This significant highly mobile pool of extrasynaptic AMPARs has been proposed to exist because of the slow rate that extrasynaptic AMPARs enter PSDs . This slow rate of motion and accumulation of extra-synaptic AMPARs is thought to occur because of the limited availability of ‘slots’ in PSDs ( See Figure 1a , route 3 ) ( Shi et al . , 2001; Opazo et al . , 2012 ) . Slots are defined as placeholders for AMPARs in PSDs ( Malinow et al . , 2000 ) . Once in PSD slots , AMPARs are generally assumed to be immobilized , although Nair et al . observed that AMPARs underwent constrained diffusion in what they defined as ‘nanodomains’ , that\\xa0is sub-synaptic regions where AMPARs are confined to ( Nair et al . , 2013 ) . New slots may become available when AMPARs exit from PSDs ( route 3’ ) or if more slots are created or removed by different forms of synaptic plasticity ( Malinow et al . , 2000; Shi et al . , 2001; Malinow , 2003; Giannone et al . , 2010 ) ( Groc et al . , 2007; Heine et al . , 2008 ) ( Nair et al . , 2013 ) ( Makino and Malinow , 2009 ) ( Opazo et al . , 2012 ) ( Henley and Wilkinson , 2016 ) . The presence of such a large pool of mobile AMPARs on the extrasynaptic surface of dendritic membranes is thought to be an important contributor to the mechanisms that underlie synaptic plasticity such as LTP and could help synapses recover from pair-pulse depression during periods of fast synaptic transmission ( Heine et al . , 2008; Tao-Cheng et al . , 2011 ) . To avoid the potential problem of using large probes , other workers have used single particle tracking ( spt ) of small ( <5 nm ) fluorescent probes permanently ( generally via a linkage protein ) or temporarily bound to an AMPAR . One such technique is called sptPALM ( spt- photoactivated localization microscopy ) where an iGluR is fused with a photoactivatable fluorescent protein ( pa-FP ) ( Manley et al . , 2008 ) . Another technique is called universal points accumulation for imaging in nanoscale topography ( uPAINT ) which measures an organic fluorescent probe that is temporarily bound to the receptor ( Sharonov and Hochstrasser , 2006; Giannone et al . , 2010 ) . However , there are contradictory results using these methods . Using uPAINT , AMPARs were found to be highly mobile ( Giannone et al . , 2010 ) , or stationary ( Nair et al . , 2013 ) . Using sptPALM and FRAP , another fluorescence technique , workers found that AMPARs were highly mobile . However , fluorescent proteins for sptPALM and FRAP are sensitive to both internal and external AMPAR receptors , which may obfuscate the issue ( Nair et al . , 2013; Heine et al . , 2008 ) ( Makino and Malinow , 2009; Ashby et al . , 2006 ) . Determining whether AMPARs or other neurotransmitter receptors are synaptic ( outside PSDs ) or extrasynaptic ( inside PSDs ) has been difficult because of four factors: ( 1 ) Synapses are nanometer in scale below the diffraction limit of visible microscopy; ( 2 ) Most microscopy has been limited to two-dimensions , where in reality , the dimensions are three-dimensional; ( 3 ) Recombinantly tagged imaging probes cannot readily distinguish intracellular vs . cell-surface receptors; ( 4 ) Probe photostability limits the localization precision and the length of image acquisition , particularly for single-molecule studies . Here we use 3-dimensional super-resolution microscopy on cell-surface AMPARs labeled with different-sized fluorescent probes—bQDs ( >20 nm ) , small quantum dots ( sQD ≈10 nm ) ( Cai et al . , 2014 ) or organic fluorophore ( ≈ 4 nm ) in cultured neurons . These probes are highly fluorescent; bQDs are nearly infinitely photostable; sQDs are photostable for several minutes; and selected organic fluorophores can be photostable for\\xa0~1 min . We analyzed the diffusion constants , trajectories , distances from the center of PSDs , changes that occurred over time after transfection , and the role of the extracellular matrix in regulating diffusion . To better resolve PSD dimensions , we used 3-D super-resolution imaging of a PSD protein , Homer1c . We find that\\xa0>\\xa090% of AMPARs labeled with organic fluorescent dyes or sQDs are found in PSDs . Less than 10% of these labeled AMPARs are highly mobile and extrasynaptic . However , when AMPARs are labeled with bQDs , virtually all AMPARs ( 90–95% ) are highly mobile and extrasynaptic , presumably because bQDs are sterically hindered from entry into synaptic clefts . We conclude that mobile AMPARs enter PSDs and do not accumulate in extrasynaptic membranes as previously observed in studies using the AMPARs labeled with bQDs . Our data further suggest that AMPAR entry is not regulated by a limited number of ‘slots’ where AMPARs are bound after entry into PSDs . Instead AMPARs are found to diffuse within surprisingly stable ‘nanodomains’ confining AMPARs to sites within PSDs that may regulate access to presynaptic glutamate release . ', Keyword: '['structural biology and molecular biophysics', 'neuroscience']', Lay Summary: [/INST]\""
            ],
            "application/vnd.google.colaboratory.intrinsic+json": {
              "type": "string"
            }
          },
          "metadata": {},
          "execution_count": 98
        }
      ]
    },
    {
      "cell_type": "code",
      "source": [
        "output = llm.generate(prompt, sampling_params)\n",
        "answer = output[0].outputs[0].text.strip('\\n').replace('\\n', '')+'\\n'"
      ],
      "metadata": {
        "id": "Hh9g4vUiHF_z",
        "colab": {
          "base_uri": "https://localhost:8080/"
        },
        "outputId": "693bb419-06ad-4a31-c1eb-feee60041a82"
      },
      "execution_count": 99,
      "outputs": [
        {
          "output_type": "stream",
          "name": "stderr",
          "text": [
            "Processed prompts: 100%|██████████| 1/1 [00:06<00:00,  6.14s/it]\n"
          ]
        }
      ]
    },
    {
      "cell_type": "code",
      "source": [
        "len(prompt.split())"
      ],
      "metadata": {
        "colab": {
          "base_uri": "https://localhost:8080/"
        },
        "id": "Yqb9JC2KgbcP",
        "outputId": "aea75a74-1e42-42fe-aafa-ecb2c8dfa5e4"
      },
      "execution_count": 100,
      "outputs": [
        {
          "output_type": "execute_result",
          "data": {
            "text/plain": [
              "10299"
            ]
          },
          "metadata": {},
          "execution_count": 100
        }
      ]
    },
    {
      "cell_type": "code",
      "source": [
        "def generate_prompt(train_df, input_df, number_of_shot):\n",
        "    prompts = []\n",
        "    for i in range(len(input_df)):\n",
        "        shot_idx = random.sample(train_df.index.tolist(), number_of_shot)\n",
        "        shot_df = train_df.iloc[shot_idx]\n",
        "        prompt = '[INST] Write a lay summary with 200 to 300 words, put the summary in 1 paragraph. '\n",
        "        for idx in shot_idx:\n",
        "            text = f\"Abstract: '{train_df.iloc[idx].abstract}', Introduction: '{train_df.iloc[idx].introduction}', Keyword: '{train_df.iloc[idx].keywords}', Lay Summary: '{train_df.iloc[idx].lay_summary}'; \"\n",
        "            prompt += text\n",
        "\n",
        "        prompt += f\"Abstract: '{input_df.iloc[i].abstract}', Introduction: '{input_df.iloc[i].introduction}', Keyword: '{input_df.iloc[i].keywords}', Lay Summary: [/INST]\"\n",
        "        prompts.append(prompt)\n",
        "    return prompts"
      ],
      "metadata": {
        "id": "HsNLM_VkZm0M"
      },
      "execution_count": 101,
      "outputs": []
    },
    {
      "cell_type": "code",
      "source": [
        "prompts = generate_prompt(train_df, input_df, number_of_shot)"
      ],
      "metadata": {
        "id": "5tJBo2t_hgd-"
      },
      "execution_count": 102,
      "outputs": []
    },
    {
      "cell_type": "code",
      "source": [
        "len(prompts)"
      ],
      "metadata": {
        "colab": {
          "base_uri": "https://localhost:8080/"
        },
        "id": "bXy3b_sVhomI",
        "outputId": "d44e008e-041f-44d7-bf5a-76387d6ed212"
      },
      "execution_count": 103,
      "outputs": [
        {
          "output_type": "execute_result",
          "data": {
            "text/plain": [
              "24"
            ]
          },
          "metadata": {},
          "execution_count": 103
        }
      ]
    },
    {
      "cell_type": "code",
      "source": [
        "output = llm.generate(prompts, sampling_params)"
      ],
      "metadata": {
        "colab": {
          "base_uri": "https://localhost:8080/"
        },
        "id": "zDuh2u32aUko",
        "outputId": "e11e64be-38fe-41c6-9edd-bd99225fcdd3"
      },
      "execution_count": 104,
      "outputs": [
        {
          "output_type": "stream",
          "name": "stderr",
          "text": [
            "Processed prompts: 100%|██████████| 24/24 [00:54<00:00,  2.29s/it]\n"
          ]
        }
      ]
    },
    {
      "cell_type": "code",
      "source": [
        "print(write_path + data_set.lower() + \".txt\")"
      ],
      "metadata": {
        "colab": {
          "base_uri": "https://localhost:8080/"
        },
        "id": "69EtEZ0bjFXW",
        "outputId": "99438362-250e-4e25-bd85-1b6dca32934a"
      },
      "execution_count": 105,
      "outputs": [
        {
          "output_type": "stream",
          "name": "stdout",
          "text": [
            "/content/drive/My Drive/ubc/COLX531/mistral_7b_awq/abstract_keyword_fewshot/val_mini/5shots_with200to300words/elife.txt\n"
          ]
        }
      ]
    },
    {
      "cell_type": "code",
      "source": [
        "with open(write_path + data_set.lower() + \".txt\", 'w') as f:\n",
        "    for item in output:\n",
        "        f.write(item.outputs[0].text.strip('\\n').replace('\\n', '')+'\\n')"
      ],
      "metadata": {
        "id": "Ga6S0Isaaa-j"
      },
      "execution_count": 106,
      "outputs": []
    },
    {
      "cell_type": "code",
      "source": [],
      "metadata": {
        "id": "sA_zXhNDjUrt"
      },
      "execution_count": 106,
      "outputs": []
    }
  ]
}